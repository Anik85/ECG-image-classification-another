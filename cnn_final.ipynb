{
  "nbformat": 4,
  "nbformat_minor": 0,
  "metadata": {
    "colab": {
      "provenance": [],
      "authorship_tag": "ABX9TyNRb+3ZTXMWbmRl616u213g",
      "include_colab_link": true
    },
    "kernelspec": {
      "name": "python3",
      "display_name": "Python 3"
    },
    "language_info": {
      "name": "python"
    },
    "accelerator": "GPU",
    "gpuClass": "standard"
  },
  "cells": [
    {
      "cell_type": "markdown",
      "metadata": {
        "id": "view-in-github",
        "colab_type": "text"
      },
      "source": [
        "<a href=\"https://colab.research.google.com/github/Anik85/Anik85/blob/main/cnn_final.ipynb\" target=\"_parent\"><img src=\"https://colab.research.google.com/assets/colab-badge.svg\" alt=\"Open In Colab\"/></a>"
      ]
    },
    {
      "cell_type": "code",
      "execution_count": null,
      "metadata": {
        "id": "Sp5R4IM3yuI5"
      },
      "outputs": [],
      "source": [
        "!mkdir -p ~/.kaggle  \n",
        "!cp kaggle.json ~/.kaggle/"
      ]
    },
    {
      "cell_type": "code",
      "source": [
        "!kaggle datasets download -d mohamedeldakrory8/ecg-heart-categorization-dataset-image-version"
      ],
      "metadata": {
        "colab": {
          "base_uri": "https://localhost:8080/"
        },
        "id": "QqJYhGuEzfAt",
        "outputId": "8166887b-b718-4381-fc22-95d915fd8ba9"
      },
      "execution_count": null,
      "outputs": [
        {
          "output_type": "stream",
          "name": "stdout",
          "text": [
            "Warning: Your Kaggle API key is readable by other users on this system! To fix this, you can run 'chmod 600 /root/.kaggle/kaggle.json'\n",
            "Downloading ecg-heart-categorization-dataset-image-version.zip to /content\n",
            "100% 485M/486M [00:28<00:00, 18.7MB/s]\n",
            "100% 486M/486M [00:28<00:00, 18.2MB/s]\n"
          ]
        }
      ]
    },
    {
      "cell_type": "code",
      "source": [
        "import zipfile\n",
        "zip_ref=zipfile.ZipFile('/content/ecg-heart-categorization-dataset-image-version.zip','r')\n",
        "zip_ref.extractall('/content')\n",
        "zip_ref.close()"
      ],
      "metadata": {
        "id": "yzElZWhGze9W"
      },
      "execution_count": null,
      "outputs": []
    },
    {
      "cell_type": "code",
      "source": [
        "!rm /content/ECG-data/train/F/*\n",
        "!rmdir /content/ECG-data/train/F"
      ],
      "metadata": {
        "id": "aaYPg3J9ze6u"
      },
      "execution_count": null,
      "outputs": []
    },
    {
      "cell_type": "code",
      "source": [
        "!rm /content/ECG-data/test/F/*\n",
        "!rmdir /content/ECG-data/test/F"
      ],
      "metadata": {
        "id": "5BAAaQHPzex1"
      },
      "execution_count": null,
      "outputs": []
    },
    {
      "cell_type": "code",
      "source": [
        "import numpy as np\n",
        "import pandas as pd\n",
        "from pathlib import Path\n",
        "import os.path\n",
        "import matplotlib.pyplot as plt\n",
        "import tensorflow as tf\n",
        "from tensorflow.keras.models import Sequential\n",
        "from tensorflow.keras.layers import Convolution2D\n",
        "from tensorflow.keras.layers import MaxPooling2D\n",
        "from tensorflow.keras.layers import Flatten\n",
        "from tensorflow.keras.layers import Dense\n",
        "from tensorflow.keras.layers import Dropout, Activation , BatchNormalization\n",
        "from tensorflow.keras.preprocessing.image import ImageDataGenerator\n",
        "from tensorflow.keras.layers import Dense, Conv2D, MaxPool2D , Flatten\n",
        "from tensorflow.keras.losses import categorical_crossentropy\n",
        "from tensorflow.keras.optimizers import Adam\n",
        "from tensorflow.keras.losses import CategoricalCrossentropy\n",
        "from tensorflow.keras.regularizers import l2\n",
        "from tensorflow.keras.callbacks import ReduceLROnPlateau, EarlyStopping\n",
        "from keras.models import Model\n",
        "from keras.applications.vgg19 import VGG19, preprocess_input\n",
        "from tensorflow.keras.applications.resnet50 import ResNet50, preprocess_input\n",
        "from keras.applications.vgg16 import preprocess_input,VGG16\n",
        "from glob import glob"
      ],
      "metadata": {
        "id": "p8jp7LM7zevo"
      },
      "execution_count": null,
      "outputs": []
    },
    {
      "cell_type": "code",
      "source": [
        "label = {0: \"F\", 1: \"M\",2:\"N\",3:\"Q\",4:\"S\",5:\"V\"}\n",
        "print(label)"
      ],
      "metadata": {
        "id": "FH7rYctNzetR",
        "colab": {
          "base_uri": "https://localhost:8080/"
        },
        "outputId": "5a37101b-aaa2-4854-a200-cc006cf21c8d"
      },
      "execution_count": null,
      "outputs": [
        {
          "output_type": "stream",
          "name": "stdout",
          "text": [
            "{0: 'F', 1: 'M', 2: 'N', 3: 'Q', 4: 'S', 5: 'V'}\n"
          ]
        }
      ]
    },
    {
      "cell_type": "code",
      "source": [
        "labels=list(label.values())\n",
        "labels"
      ],
      "metadata": {
        "id": "yzpBbXX_zeow",
        "colab": {
          "base_uri": "https://localhost:8080/"
        },
        "outputId": "93413ee0-9e1e-4579-8f51-51fedc22de05"
      },
      "execution_count": null,
      "outputs": [
        {
          "output_type": "execute_result",
          "data": {
            "text/plain": [
              "['F', 'M', 'N', 'Q', 'S', 'V']"
            ]
          },
          "metadata": {},
          "execution_count": 4
        }
      ]
    },
    {
      "cell_type": "code",
      "source": [
        "path='/content/ECG-data/train/'\n",
        "Total_sample=0\n",
        "for i in labels:\n",
        "    print(f'Length of :{i}= {len(os.listdir(os.path.join(path,i)))}')\n",
        "    Total_sample+=len(os.listdir(os.path.join(path,i)))\n",
        "print(f'Total Samples:{Total_sample}')"
      ],
      "metadata": {
        "id": "nQI7ECIQzeZ1",
        "colab": {
          "base_uri": "https://localhost:8080/"
        },
        "outputId": "b0ee7cf9-6e62-47bf-8da1-ddaf59856846"
      },
      "execution_count": null,
      "outputs": [
        {
          "output_type": "stream",
          "name": "stdout",
          "text": [
            "Length of :F= 2223\n",
            "Length of :M= 8000\n",
            "Length of :N= 72471\n",
            "Length of :Q= 6431\n",
            "Length of :S= 2223\n",
            "Length of :V= 5788\n",
            "Total Samples:97136\n"
          ]
        }
      ]
    },
    {
      "cell_type": "code",
      "source": [
        "from tqdm import tqdm\n",
        "import skimage\n",
        "import cv2\n",
        "from skimage.io import imread,imshow\n",
        "from skimage import transform\n",
        "img_size=150     # 170x170\n",
        "X=[] \n",
        "Y=[]\n",
        "i=0\n",
        "for idx,img in enumerate(labels):\n",
        "    for img_name in tqdm(os.listdir(path+img)):\n",
        "        if i<1000:\n",
        "            img_file=cv2.imread(path+img+'/'+img_name)\n",
        "            if img_file is not None:\n",
        "                img_file=transform.resize(img_file,(img_size,img_size,3))\n",
        "                X.append(img_file)\n",
        "                Y.append(idx)\n",
        "        else:\n",
        "            break\n",
        "        i=i+1\n",
        "    i=0\n",
        "X=np.asarray(X)\n",
        "Y=np.asarray(Y)"
      ],
      "metadata": {
        "id": "_MeZuemezeXO",
        "colab": {
          "base_uri": "https://localhost:8080/"
        },
        "outputId": "a3070f00-95bb-4b9c-a2b1-2c6ac99c8bae"
      },
      "execution_count": null,
      "outputs": [
        {
          "output_type": "stream",
          "name": "stderr",
          "text": [
            " 45%|████▍     | 1000/2223 [00:14<00:18, 67.53it/s]\n",
            " 12%|█▎        | 1000/8000 [00:15<01:46, 65.77it/s]\n",
            "  0%|          | 102/72471 [00:01<19:46, 61.01it/s]"
          ]
        }
      ]
    },
    {
      "cell_type": "code",
      "source": [
        "from random import randint\n",
        "n = 50  # how many digits we will display\n",
        "plt.figure(figsize=(90,40))\n",
        "for i in range(10,20):\n",
        "    # display original\n",
        "    rn=randint(0,987)\n",
        "    ax = plt.subplot(1, n, i + 1)\n",
        "    plt.imshow(X[rn])\n",
        "    plt.title(labels[Y[rn]])\n",
        "    plt.gray()\n",
        "    ax.get_xaxis().set_visible(False)\n",
        "    ax.get_yaxis().set_visible(False)\n",
        "plt.show()\n",
        "plt.close()"
      ],
      "metadata": {
        "id": "9OctWlqizeUJ"
      },
      "execution_count": null,
      "outputs": []
    },
    {
      "cell_type": "code",
      "source": [
        "from sklearn.model_selection import train_test_split\n",
        "X_train,X_test,Y_train,Y_test=train_test_split(X,Y,test_size=0.2,stratify=Y,random_state=42)"
      ],
      "metadata": {
        "id": "Nsw0NpHWzeL-"
      },
      "execution_count": null,
      "outputs": []
    },
    {
      "cell_type": "code",
      "source": [
        "print('Shapes of Data Split into Train & Test Part')\n",
        "print(f'Training Data->{X_train.shape},{Y_train.shape} Testing Data->{X_test.shape,Y_test.shape}')"
      ],
      "metadata": {
        "colab": {
          "base_uri": "https://localhost:8080/"
        },
        "id": "j0wRltKOzeIe",
        "outputId": "2efaa48e-8e52-484c-9c69-0a7544b547e2"
      },
      "execution_count": null,
      "outputs": [
        {
          "metadata": {
            "tags": null
          },
          "name": "stdout",
          "output_type": "stream",
          "text": [
            "Shapes of Data Split into Train & Test Part\n",
            "Training Data->(4800, 150, 150, 3),(4800,) Testing Data->((1200, 150, 150, 3), (1200,))\n"
          ]
        }
      ]
    },
    {
      "cell_type": "code",
      "source": [
        "from keras.utils.np_utils import to_categorical\n",
        "Y_train=to_categorical(Y_train,num_classes=len(labels))\n",
        "Y_test=to_categorical(Y_test,num_classes=len(labels))"
      ],
      "metadata": {
        "id": "2yjFyjLnzeFn"
      },
      "execution_count": null,
      "outputs": []
    },
    {
      "cell_type": "code",
      "source": [
        "Y_train.shape,Y_test.shape"
      ],
      "metadata": {
        "colab": {
          "base_uri": "https://localhost:8080/"
        },
        "id": "_gosOacNzeCM",
        "outputId": "9adfd795-dfad-4edc-c099-f8351512aa07"
      },
      "execution_count": null,
      "outputs": [
        {
          "data": {
            "text/plain": [
              "((4800, 6), (1200, 6))"
            ]
          },
          "execution_count": 11,
          "metadata": {},
          "output_type": "execute_result"
        }
      ]
    },
    {
      "cell_type": "code",
      "source": [
        "from tensorflow import keras\n",
        "'''model=Sequential()\n",
        "\n",
        "#model.add(Lambda(standardize,input_shape=(28,28,1)))    \n",
        "model.add(Conv2D(filters=64, kernel_size = (3,3), activation=\"relu\", input_shape=(28,28,1)))\n",
        "model.add(Conv2D(filters=64, kernel_size = (3,3), activation=\"relu\"))\n",
        "model.add(MaxPooling2D(pool_size=(2,2)))\n",
        "model.add(BatchNormalization())\n",
        "\n",
        "model.add(Conv2D(filters=128, kernel_size = (3,3), activation=\"relu\"))\n",
        "model.add(Conv2D(filters=128, kernel_size = (3,3), activation=\"relu\"))\n",
        "model.add(MaxPooling2D(pool_size=(2,2)))\n",
        "model.add(BatchNormalization())    \n",
        "\n",
        "model.add(Conv2D(filters=256, kernel_size = (3,3), activation=\"relu\"))\n",
        "model.add(MaxPooling2D(pool_size=(2,2)))\n",
        "model.add(BatchNormalization())\n",
        "    \n",
        "model.add(Flatten())\n",
        "model.add(Dense(512,activation=\"relu\"))\n",
        "    \n",
        "model.add(Dense(10,activation=\"softmax\"))\n",
        "    \n",
        "model.compile(loss=\"categorical_crossentropy\", optimizer=\"adam\", metrics=[\"accuracy\"])'''\n",
        "KerasModel = keras.models.Sequential([#bulid nn\n",
        "        keras.layers.Conv2D(200,kernel_size=(3,3),activation='relu',input_shape=(150,150,3)),\n",
        "        #1 convolutional layer 200filter each filter 3*3 relu  input 100*100*3 rgb\n",
        "        keras.layers.Conv2D(150,kernel_size=(3,3),activation='relu'),\n",
        "       #2 convolutional layer 150filter each filter 3*3 relu\n",
        "        keras.layers.MaxPool2D(4,4),\n",
        "        #3 maxpool layer 4*4\n",
        "        keras.layers.Conv2D(120,kernel_size=(3,3),activation='relu'),\n",
        "        #4 convolutional layer 120filter each filter 3*3 relu\n",
        "        keras.layers.Conv2D(80,kernel_size=(3,3),activation='relu'), \n",
        "        #5 convolutional layer 80filter each filter 3*3 relu\n",
        "        keras.layers.Conv2D(50,kernel_size=(3,3),activation='relu'),\n",
        "        #6 convolutional layer 50filter each filter 3*3 relu\n",
        "        keras.layers.MaxPool2D(4,4),#7 maxpool layer 4*4\n",
        "        keras.layers.Flatten(),  #make the matrix flate\n",
        "        keras.layers.Dense(512,activation='relu') , #hidden layer (120cell)   \n",
        "        keras.layers.Dense(100,activation='relu') , #hidden layer (100cell)\n",
        "        keras.layers.Dense(50,activation='relu') ,  #hidden layer (50cell)      \n",
        "        keras.layers.Dropout(rate=0.5) , \n",
        "        #drop some nuron 50% reduces the number of connections to increase speed and reduces the overfit\n",
        "        keras.layers.Dense(6,activation='softmax') ,  #output layer 6  \n",
        "    ])\n",
        "KerasModel.compile(loss='categorical_crossentropy',optimizer='adam',metrics=['accuracy'])\n",
        "KerasModel.summary()"
      ],
      "metadata": {
        "colab": {
          "base_uri": "https://localhost:8080/"
        },
        "id": "qcqR6IArzd6z",
        "outputId": "2a338c37-8e27-4ff8-a26a-713870de10a1"
      },
      "execution_count": null,
      "outputs": [
        {
          "metadata": {
            "tags": null
          },
          "name": "stdout",
          "output_type": "stream",
          "text": [
            "Model: \"sequential\"\n",
            "_________________________________________________________________\n",
            " Layer (type)                Output Shape              Param #   \n",
            "=================================================================\n",
            " conv2d (Conv2D)             (None, 148, 148, 200)     5600      \n",
            "                                                                 \n",
            " conv2d_1 (Conv2D)           (None, 146, 146, 150)     270150    \n",
            "                                                                 \n",
            " max_pooling2d (MaxPooling2D  (None, 36, 36, 150)      0         \n",
            " )                                                               \n",
            "                                                                 \n",
            " conv2d_2 (Conv2D)           (None, 34, 34, 120)       162120    \n",
            "                                                                 \n",
            " conv2d_3 (Conv2D)           (None, 32, 32, 80)        86480     \n",
            "                                                                 \n",
            " conv2d_4 (Conv2D)           (None, 30, 30, 50)        36050     \n",
            "                                                                 \n",
            " max_pooling2d_1 (MaxPooling  (None, 7, 7, 50)         0         \n",
            " 2D)                                                             \n",
            "                                                                 \n",
            " flatten (Flatten)           (None, 2450)              0         \n",
            "                                                                 \n",
            " dense (Dense)               (None, 512)               1254912   \n",
            "                                                                 \n",
            " dense_1 (Dense)             (None, 100)               51300     \n",
            "                                                                 \n",
            " dense_2 (Dense)             (None, 50)                5050      \n",
            "                                                                 \n",
            " dropout (Dropout)           (None, 50)                0         \n",
            "                                                                 \n",
            " dense_3 (Dense)             (None, 6)                 306       \n",
            "                                                                 \n",
            "=================================================================\n",
            "Total params: 1,871,968\n",
            "Trainable params: 1,871,968\n",
            "Non-trainable params: 0\n",
            "_________________________________________________________________\n"
          ]
        }
      ]
    },
    {
      "cell_type": "code",
      "source": [
        "checkpoint = keras.callbacks.ModelCheckpoint(\n",
        "    filepath='best_model.h5',\n",
        "    save_weights_only=False,\n",
        "    monitor='val_accuracy',\n",
        "    mode='max',\n",
        "    save_best_only=True,\n",
        "    verbose=1)"
      ],
      "metadata": {
        "id": "xrBYZG-dYfQj"
      },
      "execution_count": null,
      "outputs": []
    },
    {
      "cell_type": "code",
      "source": [
        "history=KerasModel.fit(X_train,Y_train,validation_data=(X_test,Y_test),epochs=25,batch_size=32,callbacks=checkpoint,verbose=1)"
      ],
      "metadata": {
        "id": "wZuDU4hHzd3T",
        "colab": {
          "base_uri": "https://localhost:8080/"
        },
        "outputId": "7fcf4b2c-1d5c-4537-e6a9-ef2470dd7340"
      },
      "execution_count": null,
      "outputs": [
        {
          "output_type": "stream",
          "name": "stdout",
          "text": [
            "Epoch 1/25\n",
            "150/150 [==============================] - ETA: 0s - loss: 1.4491 - accuracy: 0.3890\n",
            "Epoch 1: val_accuracy improved from -inf to 0.71833, saving model to best_model.h5\n",
            "150/150 [==============================] - 52s 256ms/step - loss: 1.4491 - accuracy: 0.3890 - val_loss: 0.7423 - val_accuracy: 0.7183\n",
            "Epoch 2/25\n",
            "150/150 [==============================] - ETA: 0s - loss: 0.7865 - accuracy: 0.7160\n",
            "Epoch 2: val_accuracy improved from 0.71833 to 0.78833, saving model to best_model.h5\n",
            "150/150 [==============================] - 37s 249ms/step - loss: 0.7865 - accuracy: 0.7160 - val_loss: 0.5864 - val_accuracy: 0.7883\n",
            "Epoch 3/25\n",
            "150/150 [==============================] - ETA: 0s - loss: 0.5575 - accuracy: 0.8010\n",
            "Epoch 3: val_accuracy improved from 0.78833 to 0.83750, saving model to best_model.h5\n",
            "150/150 [==============================] - 38s 255ms/step - loss: 0.5575 - accuracy: 0.8010 - val_loss: 0.4712 - val_accuracy: 0.8375\n",
            "Epoch 4/25\n",
            "150/150 [==============================] - ETA: 0s - loss: 0.4213 - accuracy: 0.8552\n",
            "Epoch 4: val_accuracy improved from 0.83750 to 0.87917, saving model to best_model.h5\n",
            "150/150 [==============================] - 38s 254ms/step - loss: 0.4213 - accuracy: 0.8552 - val_loss: 0.3466 - val_accuracy: 0.8792\n",
            "Epoch 5/25\n",
            "150/150 [==============================] - ETA: 0s - loss: 0.3441 - accuracy: 0.8817\n",
            "Epoch 5: val_accuracy improved from 0.87917 to 0.88000, saving model to best_model.h5\n",
            "150/150 [==============================] - 38s 255ms/step - loss: 0.3441 - accuracy: 0.8817 - val_loss: 0.3763 - val_accuracy: 0.8800\n",
            "Epoch 6/25\n",
            "150/150 [==============================] - ETA: 0s - loss: 0.2572 - accuracy: 0.9135\n",
            "Epoch 6: val_accuracy improved from 0.88000 to 0.88500, saving model to best_model.h5\n",
            "150/150 [==============================] - 38s 254ms/step - loss: 0.2572 - accuracy: 0.9135 - val_loss: 0.3661 - val_accuracy: 0.8850\n",
            "Epoch 7/25\n",
            "150/150 [==============================] - ETA: 0s - loss: 0.1967 - accuracy: 0.9390\n",
            "Epoch 7: val_accuracy improved from 0.88500 to 0.89500, saving model to best_model.h5\n",
            "150/150 [==============================] - 38s 254ms/step - loss: 0.1967 - accuracy: 0.9390 - val_loss: 0.3719 - val_accuracy: 0.8950\n",
            "Epoch 8/25\n",
            "150/150 [==============================] - ETA: 0s - loss: 0.1696 - accuracy: 0.9427\n",
            "Epoch 8: val_accuracy did not improve from 0.89500\n",
            "150/150 [==============================] - 38s 253ms/step - loss: 0.1696 - accuracy: 0.9427 - val_loss: 0.3514 - val_accuracy: 0.8908\n",
            "Epoch 9/25\n",
            "150/150 [==============================] - ETA: 0s - loss: 0.1198 - accuracy: 0.9592\n",
            "Epoch 9: val_accuracy improved from 0.89500 to 0.90583, saving model to best_model.h5\n",
            "150/150 [==============================] - 38s 254ms/step - loss: 0.1198 - accuracy: 0.9592 - val_loss: 0.3942 - val_accuracy: 0.9058\n",
            "Epoch 10/25\n",
            "150/150 [==============================] - ETA: 0s - loss: 0.1186 - accuracy: 0.9646\n",
            "Epoch 10: val_accuracy did not improve from 0.90583\n",
            "150/150 [==============================] - 38s 252ms/step - loss: 0.1186 - accuracy: 0.9646 - val_loss: 0.4309 - val_accuracy: 0.8958\n",
            "Epoch 11/25\n",
            "150/150 [==============================] - ETA: 0s - loss: 0.0821 - accuracy: 0.9740\n",
            "Epoch 11: val_accuracy did not improve from 0.90583\n",
            "150/150 [==============================] - 38s 253ms/step - loss: 0.0821 - accuracy: 0.9740 - val_loss: 0.4775 - val_accuracy: 0.9000\n",
            "Epoch 12/25\n",
            "150/150 [==============================] - ETA: 0s - loss: 0.0652 - accuracy: 0.9796\n",
            "Epoch 12: val_accuracy did not improve from 0.90583\n",
            "150/150 [==============================] - 38s 253ms/step - loss: 0.0652 - accuracy: 0.9796 - val_loss: 0.4922 - val_accuracy: 0.9000\n",
            "Epoch 13/25\n",
            "150/150 [==============================] - ETA: 0s - loss: 0.0819 - accuracy: 0.9756\n",
            "Epoch 13: val_accuracy did not improve from 0.90583\n",
            "150/150 [==============================] - 38s 253ms/step - loss: 0.0819 - accuracy: 0.9756 - val_loss: 0.4152 - val_accuracy: 0.9058\n",
            "Epoch 14/25\n",
            "150/150 [==============================] - ETA: 0s - loss: 0.0681 - accuracy: 0.9790\n",
            "Epoch 14: val_accuracy improved from 0.90583 to 0.92417, saving model to best_model.h5\n",
            "150/150 [==============================] - 38s 253ms/step - loss: 0.0681 - accuracy: 0.9790 - val_loss: 0.4026 - val_accuracy: 0.9242\n",
            "Epoch 15/25\n",
            "150/150 [==============================] - ETA: 0s - loss: 0.0302 - accuracy: 0.9900\n",
            "Epoch 15: val_accuracy did not improve from 0.92417\n",
            "150/150 [==============================] - 38s 252ms/step - loss: 0.0302 - accuracy: 0.9900 - val_loss: 0.5028 - val_accuracy: 0.9058\n",
            "Epoch 16/25\n",
            "150/150 [==============================] - ETA: 0s - loss: 0.0516 - accuracy: 0.9835\n",
            "Epoch 16: val_accuracy did not improve from 0.92417\n",
            "150/150 [==============================] - 38s 252ms/step - loss: 0.0516 - accuracy: 0.9835 - val_loss: 0.4284 - val_accuracy: 0.9150\n",
            "Epoch 17/25\n",
            "150/150 [==============================] - ETA: 0s - loss: 0.0442 - accuracy: 0.9883\n",
            "Epoch 17: val_accuracy did not improve from 0.92417\n",
            "150/150 [==============================] - 38s 253ms/step - loss: 0.0442 - accuracy: 0.9883 - val_loss: 0.6246 - val_accuracy: 0.9150\n",
            "Epoch 18/25\n",
            "150/150 [==============================] - ETA: 0s - loss: 0.0517 - accuracy: 0.9865\n",
            "Epoch 18: val_accuracy did not improve from 0.92417\n",
            "150/150 [==============================] - 38s 252ms/step - loss: 0.0517 - accuracy: 0.9865 - val_loss: 0.5259 - val_accuracy: 0.9083\n",
            "Epoch 19/25\n",
            "150/150 [==============================] - ETA: 0s - loss: 0.0345 - accuracy: 0.9902\n",
            "Epoch 19: val_accuracy did not improve from 0.92417\n",
            "150/150 [==============================] - 38s 252ms/step - loss: 0.0345 - accuracy: 0.9902 - val_loss: 0.4762 - val_accuracy: 0.9200\n",
            "Epoch 20/25\n",
            "150/150 [==============================] - ETA: 0s - loss: 0.0393 - accuracy: 0.9898\n",
            "Epoch 20: val_accuracy did not improve from 0.92417\n",
            "150/150 [==============================] - 38s 252ms/step - loss: 0.0393 - accuracy: 0.9898 - val_loss: 0.4684 - val_accuracy: 0.9150\n",
            "Epoch 21/25\n",
            "150/150 [==============================] - ETA: 0s - loss: 0.0392 - accuracy: 0.9898\n",
            "Epoch 21: val_accuracy did not improve from 0.92417\n",
            "150/150 [==============================] - 38s 252ms/step - loss: 0.0392 - accuracy: 0.9898 - val_loss: 0.6247 - val_accuracy: 0.9133\n",
            "Epoch 22/25\n",
            "150/150 [==============================] - ETA: 0s - loss: 0.0109 - accuracy: 0.9960\n",
            "Epoch 22: val_accuracy improved from 0.92417 to 0.92833, saving model to best_model.h5\n",
            "150/150 [==============================] - 38s 252ms/step - loss: 0.0109 - accuracy: 0.9960 - val_loss: 0.5690 - val_accuracy: 0.9283\n",
            "Epoch 23/25\n",
            "150/150 [==============================] - ETA: 0s - loss: 0.0112 - accuracy: 0.9960\n",
            "Epoch 23: val_accuracy did not improve from 0.92833\n",
            "150/150 [==============================] - 38s 251ms/step - loss: 0.0112 - accuracy: 0.9960 - val_loss: 0.7357 - val_accuracy: 0.9067\n",
            "Epoch 24/25\n",
            "150/150 [==============================] - ETA: 0s - loss: 0.0557 - accuracy: 0.9860\n",
            "Epoch 24: val_accuracy did not improve from 0.92833\n",
            "150/150 [==============================] - 40s 267ms/step - loss: 0.0557 - accuracy: 0.9860 - val_loss: 0.4088 - val_accuracy: 0.9133\n",
            "Epoch 25/25\n",
            "150/150 [==============================] - ETA: 0s - loss: 0.0395 - accuracy: 0.9898\n",
            "Epoch 25: val_accuracy did not improve from 0.92833\n",
            "150/150 [==============================] - 38s 253ms/step - loss: 0.0395 - accuracy: 0.9898 - val_loss: 0.5834 - val_accuracy: 0.8917\n"
          ]
        }
      ]
    },
    {
      "cell_type": "code",
      "source": [
        "path2='/content/ECG-data/test/'\n",
        "img_size=150\n",
        "x_test=[] \n",
        "y_test=[]\n",
        "i=0\n",
        "for idx,img in enumerate(labels):\n",
        "    for img_name in tqdm(os.listdir(path2+img)):\n",
        "        if i<200:\n",
        "            img_file=cv2.imread(path2+img+'/'+img_name)\n",
        "            if img_file is not None:\n",
        "                img_file=transform.resize(img_file,(img_size,img_size,3))\n",
        "                x_test.append(img_file)\n",
        "                y_test.append(idx)\n",
        "        else:\n",
        "            break\n",
        "        i=i+1\n",
        "    i=0\n",
        "x_test=np.asarray(x_test)\n",
        "y_test=np.asarray(y_test)"
      ],
      "metadata": {
        "id": "ud_S6OiFzdhX",
        "colab": {
          "base_uri": "https://localhost:8080/"
        },
        "outputId": "11c4a4de-7787-4ada-ca28-00c4bcf34a71"
      },
      "execution_count": null,
      "outputs": [
        {
          "output_type": "stream",
          "name": "stderr",
          "text": [
            " 36%|███▌      | 200/556 [00:03<00:06, 54.87it/s]\n",
            "  8%|▊         | 200/2506 [00:04<00:57, 40.41it/s]\n",
            "  1%|          | 200/18118 [00:03<04:29, 66.50it/s]\n",
            " 12%|█▏        | 200/1608 [00:02<00:19, 70.41it/s]\n",
            " 36%|███▌      | 200/556 [00:02<00:05, 67.65it/s]\n",
            " 14%|█▍        | 200/1448 [00:02<00:17, 71.29it/s]\n"
          ]
        }
      ]
    },
    {
      "cell_type": "code",
      "source": [
        "y_test=to_categorical(y_test,num_classes=len(labels))\n",
        "print(KerasModel.evaluate(x_test,y_test))"
      ],
      "metadata": {
        "id": "eY-6BXm-zder",
        "colab": {
          "base_uri": "https://localhost:8080/"
        },
        "outputId": "9026e3f1-6105-46a5-fbe6-54178214cc1d"
      },
      "execution_count": null,
      "outputs": [
        {
          "output_type": "stream",
          "name": "stdout",
          "text": [
            "38/38 [==============================] - 3s 82ms/step - loss: 0.7863 - accuracy: 0.8875\n",
            "[0.7863233685493469, 0.887499988079071]\n"
          ]
        }
      ]
    },
    {
      "cell_type": "code",
      "source": [
        "results = KerasModel.evaluate(x_test,y_test)\n",
        "\n",
        "print(\"Test Loss: {:.5f}\".format(results[0]))\n",
        "print(\"Test Accuracy: {:.2f}%\".format(results[1] * 100))"
      ],
      "metadata": {
        "id": "fGUsWR_Dzdcj",
        "colab": {
          "base_uri": "https://localhost:8080/"
        },
        "outputId": "d71215a4-d76c-435e-d325-12ea65c7db9d"
      },
      "execution_count": null,
      "outputs": [
        {
          "output_type": "stream",
          "name": "stdout",
          "text": [
            "38/38 [==============================] - 3s 82ms/step - loss: 0.7863 - accuracy: 0.8875\n",
            "Test Loss: 0.78632\n",
            "Test Accuracy: 88.75%\n"
          ]
        }
      ]
    },
    {
      "cell_type": "code",
      "source": [
        "from keras.models import load_model\n",
        "best_model=load_model('/content/best_model.h5')\n",
        "results = best_model.evaluate(x_test,y_test, verbose=0)\n",
        "\n",
        "print(\"    Test Loss: {:.5f}\".format(results[0]))\n",
        "print(\"Test Accuracy: {:.2f}%\".format(results[1] * 100))"
      ],
      "metadata": {
        "colab": {
          "base_uri": "https://localhost:8080/"
        },
        "id": "to6hCIY-YoPx",
        "outputId": "cf5a4154-0e2a-4f30-957b-5f89c81b8d28"
      },
      "execution_count": null,
      "outputs": [
        {
          "output_type": "stream",
          "name": "stdout",
          "text": [
            "    Test Loss: 1.04523\n",
            "Test Accuracy: 89.83%\n"
          ]
        }
      ]
    },
    {
      "cell_type": "code",
      "source": [
        "import matplotlib.pyplot as plt\n",
        "\n",
        "plt.plot(history.history['loss'])\n",
        "plt.plot(history.history['val_loss'])\n",
        "plt.legend(['Training', 'Validation'])\n",
        "plt.title('Training and Validation losses')\n",
        "plt.xlabel('epoch')\n",
        "plt.ylabel('loss')\n",
        "     "
      ],
      "metadata": {
        "id": "SPo8vUYRzdah",
        "colab": {
          "base_uri": "https://localhost:8080/",
          "height": 313
        },
        "outputId": "18e2cba9-8aac-41e9-f76e-026c81533191"
      },
      "execution_count": null,
      "outputs": [
        {
          "output_type": "execute_result",
          "data": {
            "text/plain": [
              "Text(0, 0.5, 'loss')"
            ]
          },
          "metadata": {},
          "execution_count": 19
        },
        {
          "output_type": "display_data",
          "data": {
            "text/plain": [
              "<Figure size 432x288 with 1 Axes>"
            ],
            "image/png": "[encoded data removed]"
          },
          "metadata": {
            "needs_background": "light"
          }
        }
      ]
    },
    {
      "cell_type": "code",
      "source": [
        "plt.plot(history.history['accuracy'])\n",
        "plt.plot(history.history['val_accuracy'])\n",
        "plt.legend(['Training', 'Validation'])\n",
        "plt.title('Training and Validation accuracy')\n",
        "plt.xlabel('epoch')\n",
        "plt.ylabel('accuracy')"
      ],
      "metadata": {
        "id": "UcRuEu0RzdYQ",
        "colab": {
          "base_uri": "https://localhost:8080/",
          "height": 313
        },
        "outputId": "7d361346-e5fd-44c3-dcb0-3ab9ffae31c2"
      },
      "execution_count": null,
      "outputs": [
        {
          "output_type": "execute_result",
          "data": {
            "text/plain": [
              "Text(0, 0.5, 'accuracy')"
            ]
          },
          "metadata": {},
          "execution_count": 20
        },
        {
          "output_type": "display_data",
          "data": {
            "text/plain": [
              "<Figure size 432x288 with 1 Axes>"
            ],
            "image/png": "[encoded data removed]"
          },
          "metadata": {
            "needs_background": "light"
          }
        }
      ]
    },
    {
      "cell_type": "code",
      "source": [
        "from sklearn.metrics import confusion_matrix,classification_report\n",
        "import seaborn as sns\n",
        "\n",
        "Y_pred = best_model.predict(x_test)\n",
        "Y_pred_classes = np.argmax(Y_pred,axis = 1) \n",
        "Y_true = np.argmax(y_test,axis = 1) \n",
        "\n",
        "confusion_mtx = confusion_matrix(Y_true, Y_pred_classes) \n",
        "\n",
        "f,ax = plt.subplots(figsize=(8, 8))\n",
        "sns.heatmap(confusion_mtx, annot=True, linewidths=0.01,cmap=\"Oranges\",linecolor=\"gray\", fmt= '.1f',ax=ax)\n",
        "plt.xlabel(\"Predicted Label\")\n",
        "plt.ylabel(\"True Label\")\n",
        "plt.title(\"Confusion Matrix\")\n",
        "plt.show()"
      ],
      "metadata": {
        "id": "8h-pPy9DzdS0",
        "colab": {
          "base_uri": "https://localhost:8080/",
          "height": 531
        },
        "outputId": "33aeef6e-c47a-4dd5-846b-bcd8e942c01f"
      },
      "execution_count": null,
      "outputs": [
        {
          "output_type": "stream",
          "name": "stdout",
          "text": [
            "38/38 [==============================] - 3s 79ms/step\n"
          ]
        },
        {
          "output_type": "display_data",
          "data": {
            "text/plain": [
              "<Figure size 576x576 with 2 Axes>"
            ],
            "image/png": "[encoded data removed]"
          },
          "metadata": {
            "needs_background": "light"
          }
        }
      ]
    },
    {
      "cell_type": "code",
      "source": [
        "print(classification_report(Y_true, Y_pred_classes,labels=np.unique(Y_pred_classes)))"
      ],
      "metadata": {
        "colab": {
          "base_uri": "https://localhost:8080/"
        },
        "id": "sLTT0bI_12NP",
        "outputId": "3fec81d2-2f5a-47f5-aef2-04dc94fe195a"
      },
      "execution_count": null,
      "outputs": [
        {
          "output_type": "stream",
          "name": "stdout",
          "text": [
            "              precision    recall  f1-score   support\n",
            "\n",
            "           0       0.94      0.87      0.90       200\n",
            "           1       0.89      0.88      0.88       200\n",
            "           2       0.80      0.86      0.83       200\n",
            "           3       0.99      0.95      0.97       200\n",
            "           4       0.90      0.90      0.90       200\n",
            "           5       0.89      0.93      0.91       200\n",
            "\n",
            "    accuracy                           0.90      1200\n",
            "   macro avg       0.90      0.90      0.90      1200\n",
            "weighted avg       0.90      0.90      0.90      1200\n",
            "\n"
          ]
        }
      ]
    },
    {
      "cell_type": "code",
      "source": [
        "from tensorflow.keras.preprocessing import image\n",
        "test_image_path = '/content/ECG-data/test/S/144.jpg'\n",
        "test_img = image.load_img(test_image_path, target_size=(150, 150))\n",
        "test_img_arr = image.img_to_array(test_img)/255\n",
        "test_img_input = test_img_arr.reshape((1, test_img_arr.shape[0], test_img_arr.shape[1], test_img_arr.shape[2]))\n",
        "\n",
        "# 2. Make Predictions\n",
        "predicted_label = np.argmax(KerasModel.predict(test_img_input))\n",
        "predicted_beat = labels[predicted_label]\n",
        "plt.figure(figsize=(4, 4))\n",
        "plt.imshow(test_img_arr)\n",
        "plt.title(\"Predicted Label: {}, Actual Label: {}\".format(predicted_beat, 'S'))\n",
        "plt.grid()\n",
        "plt.axis('off')\n",
        "plt.show()"
      ],
      "metadata": {
        "colab": {
          "base_uri": "https://localhost:8080/"
        },
        "id": "2OPPjo8q1_Bs",
        "outputId": "4471df8c-d6d9-48f2-e681-266d9a6b53ea"
      },
      "execution_count": null,
      "outputs": [
        {
          "output_type": "stream",
          "name": "stdout",
          "text": [
            "1/1 [==============================] - 0s 20ms/step\n"
          ]
        },
        {
          "output_type": "display_data",
          "data": {
            "text/plain": [
              "<Figure size 288x288 with 1 Axes>"
            ],
            "image/png": "[encoded data removed]"
          },
          "metadata": {
            "needs_background": "light"
          }
        }
      ]
    },
    {
      "cell_type": "code",
      "source": [],
      "metadata": {
        "id": "0vx4iWQR2Gsh"
      },
      "execution_count": null,
      "outputs": []
    }
  ]
}