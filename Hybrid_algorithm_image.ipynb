{
  "nbformat": 4,
  "nbformat_minor": 0,
  "metadata": {
    "colab": {
      "provenance": []
    },
    "kernelspec": {
      "name": "python3",
      "display_name": "Python 3"
    },
    "language_info": {
      "name": "python"
    },
    "accelerator": "GPU",
    "gpuClass": "standard"
  },
  "cells": [
    {
      "cell_type": "code",
      "execution_count": 4,
      "metadata": {
        "id": "-rl1goyWKiT8"
      },
      "outputs": [],
      "source": [
        "!mkdir -p ~/.kaggle\n",
        "!cp kaggle.json ~/.kaggle/"
      ]
    },
    {
      "cell_type": "code",
      "source": [
        "!kaggle datasets download -d mohamedeldakrory8/ecg-heart-categorization-dataset-image-version"
      ],
      "metadata": {
        "colab": {
          "base_uri": "https://localhost:8080/"
        },
        "id": "OKsRAw7WKmO4",
        "outputId": "0b98b9c3-7eee-4706-c79c-8bc576c52366"
      },
      "execution_count": 5,
      "outputs": [
        {
          "output_type": "stream",
          "name": "stdout",
          "text": [
            "Warning: Your Kaggle API key is readable by other users on this system! To fix this, you can run 'chmod 600 /root/.kaggle/kaggle.json'\n",
            "ecg-heart-categorization-dataset-image-version.zip: Skipping, found more recently modified local copy (use --force to force download)\n"
          ]
        }
      ]
    },
    {
      "cell_type": "code",
      "source": [
        "import zipfile\n",
        "zip_ref=zipfile.ZipFile('/content/ecg-heart-categorization-dataset-image-version.zip','r')\n",
        "zip_ref.extractall('/content')\n",
        "zip_ref.close()"
      ],
      "metadata": {
        "id": "xo5qkBPTKmL3"
      },
      "execution_count": 6,
      "outputs": []
    },
    {
      "cell_type": "code",
      "source": [
        "!rm /content/ECG_Image_data/train/F/*\n",
        "!rmdir /content/ECG_Image_data/train/F"
      ],
      "metadata": {
        "id": "tLwRAKe3KmKF"
      },
      "execution_count": 7,
      "outputs": []
    },
    {
      "cell_type": "code",
      "source": [
        "!rm /content/ECG_Image_data/test/F/*\n",
        "!rmdir /content/ECG_Image_data/test/F"
      ],
      "metadata": {
        "id": "AIOTzAM-KmHX"
      },
      "execution_count": 8,
      "outputs": []
    },
    {
      "cell_type": "code",
      "source": [
        "import numpy as np\n",
        "import pandas as pd\n",
        "from pathlib import Path\n",
        "import os.path\n",
        "import matplotlib.pyplot as plt\n",
        "import tensorflow as tf\n",
        "from tensorflow.keras.models import Sequential\n",
        "from tensorflow.keras.layers import Convolution2D\n",
        "from tensorflow.keras.layers import MaxPooling2D\n",
        "from tensorflow.keras.layers import Flatten\n",
        "from tensorflow.keras.layers import Dense\n",
        "from tensorflow.keras.layers import Dropout, Activation , BatchNormalization\n",
        "from tensorflow.keras.preprocessing.image import ImageDataGenerator\n",
        "from tensorflow.keras.layers import Dense, Conv2D, MaxPool2D , Flatten\n",
        "from tensorflow.keras.losses import categorical_crossentropy\n",
        "from tensorflow.keras.optimizers import Adam\n",
        "from tensorflow.keras.losses import CategoricalCrossentropy\n",
        "from tensorflow.keras.regularizers import l2\n",
        "from tensorflow.keras.callbacks import ReduceLROnPlateau, EarlyStopping\n",
        "from keras.models import Model\n",
        "from keras.applications.vgg19 import VGG19, preprocess_input\n",
        "from tensorflow.keras.applications.resnet50 import ResNet50, preprocess_input\n",
        "from keras.applications.vgg16 import preprocess_input,VGG16\n",
        "from glob import glob\n",
        "from tensorflow.keras.layers import Input, Average"
      ],
      "metadata": {
        "id": "fmj6RbYGKmFK"
      },
      "execution_count": 9,
      "outputs": []
    },
    {
      "cell_type": "code",
      "source": [
        "train_dir = Path('/content/ECG_Image_data/train')\n",
        "test_dir = Path('/content/ECG_Image_data/test')"
      ],
      "metadata": {
        "id": "_woAePtVKl-q"
      },
      "execution_count": 10,
      "outputs": []
    },
    {
      "cell_type": "code",
      "source": [
        "filepaths = list(train_dir.glob(r'**/*.jpg'))\n",
        "labels = list(map(lambda x: os.path.split(os.path.split(x)[0])[1], filepaths))\n",
        "\n",
        "\n",
        "filepaths = pd.Series(filepaths, name='Filepath').astype(str)\n",
        "labels = pd.Series(labels, name='Label')\n",
        "\n",
        "dataframe = pd.concat([filepaths , labels] , axis=1)\n",
        "dataframe"
      ],
      "metadata": {
        "colab": {
          "base_uri": "https://localhost:8080/",
          "height": 424
        },
        "id": "H0TY8GuzKl8W",
        "outputId": "a3a69b28-dce5-4d74-ce44-3e0701e1dbaf"
      },
      "execution_count": 11,
      "outputs": [
        {
          "output_type": "execute_result",
          "data": {
            "text/plain": [
              "                                       Filepath Label\n",
              "0       /content/ECG_Image_data/train/S/128.jpg     S\n",
              "1      /content/ECG_Image_data/train/S/1647.jpg     S\n",
              "2      /content/ECG_Image_data/train/S/1673.jpg     S\n",
              "3       /content/ECG_Image_data/train/S/224.jpg     S\n",
              "4      /content/ECG_Image_data/train/S/1488.jpg     S\n",
              "...                                         ...   ...\n",
              "97131  /content/ECG_Image_data/train/Q/6093.jpg     Q\n",
              "97132  /content/ECG_Image_data/train/Q/3043.jpg     Q\n",
              "97133  /content/ECG_Image_data/train/Q/6024.jpg     Q\n",
              "97134  /content/ECG_Image_data/train/Q/5155.jpg     Q\n",
              "97135  /content/ECG_Image_data/train/Q/3120.jpg     Q\n",
              "\n",
              "[97136 rows x 2 columns]"
            ],
            "text/html": [
              "\n",
              "  <div id=\"df-d859570d-e6d1-4998-b6f4-0d389245fc9b\">\n",
              "    <div class=\"colab-df-container\">\n",
              "      <div>\n",
              "<style scoped>\n",
              "    .dataframe tbody tr th:only-of-type {\n",
              "        vertical-align: middle;\n",
              "    }\n",
              "\n",
              "    .dataframe tbody tr th {\n",
              "        vertical-align: top;\n",
              "    }\n",
              "\n",
              "    .dataframe thead th {\n",
              "        text-align: right;\n",
              "    }\n",
              "</style>\n",
              "<table border=\"1\" class=\"dataframe\">\n",
              "  <thead>\n",
              "    <tr style=\"text-align: right;\">\n",
              "      <th></th>\n",
              "      <th>Filepath</th>\n",
              "      <th>Label</th>\n",
              "    </tr>\n",
              "  </thead>\n",
              "  <tbody>\n",
              "    <tr>\n",
              "      <th>0</th>\n",
              "      <td>/content/ECG_Image_data/train/S/128.jpg</td>\n",
              "      <td>S</td>\n",
              "    </tr>\n",
              "    <tr>\n",
              "      <th>1</th>\n",
              "      <td>/content/ECG_Image_data/train/S/1647.jpg</td>\n",
              "      <td>S</td>\n",
              "    </tr>\n",
              "    <tr>\n",
              "      <th>2</th>\n",
              "      <td>/content/ECG_Image_data/train/S/1673.jpg</td>\n",
              "      <td>S</td>\n",
              "    </tr>\n",
              "    <tr>\n",
              "      <th>3</th>\n",
              "      <td>/content/ECG_Image_data/train/S/224.jpg</td>\n",
              "      <td>S</td>\n",
              "    </tr>\n",
              "    <tr>\n",
              "      <th>4</th>\n",
              "      <td>/content/ECG_Image_data/train/S/1488.jpg</td>\n",
              "      <td>S</td>\n",
              "    </tr>\n",
              "    <tr>\n",
              "      <th>...</th>\n",
              "      <td>...</td>\n",
              "      <td>...</td>\n",
              "    </tr>\n",
              "    <tr>\n",
              "      <th>97131</th>\n",
              "      <td>/content/ECG_Image_data/train/Q/6093.jpg</td>\n",
              "      <td>Q</td>\n",
              "    </tr>\n",
              "    <tr>\n",
              "      <th>97132</th>\n",
              "      <td>/content/ECG_Image_data/train/Q/3043.jpg</td>\n",
              "      <td>Q</td>\n",
              "    </tr>\n",
              "    <tr>\n",
              "      <th>97133</th>\n",
              "      <td>/content/ECG_Image_data/train/Q/6024.jpg</td>\n",
              "      <td>Q</td>\n",
              "    </tr>\n",
              "    <tr>\n",
              "      <th>97134</th>\n",
              "      <td>/content/ECG_Image_data/train/Q/5155.jpg</td>\n",
              "      <td>Q</td>\n",
              "    </tr>\n",
              "    <tr>\n",
              "      <th>97135</th>\n",
              "      <td>/content/ECG_Image_data/train/Q/3120.jpg</td>\n",
              "      <td>Q</td>\n",
              "    </tr>\n",
              "  </tbody>\n",
              "</table>\n",
              "<p>97136 rows × 2 columns</p>\n",
              "</div>\n",
              "      <button class=\"colab-df-convert\" onclick=\"convertToInteractive('df-d859570d-e6d1-4998-b6f4-0d389245fc9b')\"\n",
              "              title=\"Convert this dataframe to an interactive table.\"\n",
              "              style=\"display:none;\">\n",
              "        \n",
              "  <svg xmlns=\"http://www.w3.org/2000/svg\" height=\"24px\"viewBox=\"0 0 24 24\"\n",
              "       width=\"24px\">\n",
              "    <path d=\"M0 0h24v24H0V0z\" fill=\"none\"/>\n",
              "    <path d=\"M18.56 5.44l.94 2.06.94-2.06 2.06-.94-2.06-.94-.94-2.06-.94 2.06-2.06.94zm-11 1L8.5 8.5l.94-2.06 2.06-.94-2.06-.94L8.5 2.5l-.94 2.06-2.06.94zm10 10l.94 2.06.94-2.06 2.06-.94-2.06-.94-.94-2.06-.94 2.06-2.06.94z\"/><path d=\"M17.41 7.96l-1.37-1.37c-.4-.4-.92-.59-1.43-.59-.52 0-1.04.2-1.43.59L10.3 9.45l-7.72 7.72c-.78.78-.78 2.05 0 2.83L4 21.41c.39.39.9.59 1.41.59.51 0 1.02-.2 1.41-.59l7.78-7.78 2.81-2.81c.8-.78.8-2.07 0-2.86zM5.41 20L4 18.59l7.72-7.72 1.47 1.35L5.41 20z\"/>\n",
              "  </svg>\n",
              "      </button>\n",
              "      \n",
              "  <style>\n",
              "    .colab-df-container {\n",
              "      display:flex;\n",
              "      flex-wrap:wrap;\n",
              "      gap: 12px;\n",
              "    }\n",
              "\n",
              "    .colab-df-convert {\n",
              "      background-color: #E8F0FE;\n",
              "      border: none;\n",
              "      border-radius: 50%;\n",
              "      cursor: pointer;\n",
              "      display: none;\n",
              "      fill: #1967D2;\n",
              "      height: 32px;\n",
              "      padding: 0 0 0 0;\n",
              "      width: 32px;\n",
              "    }\n",
              "\n",
              "    .colab-df-convert:hover {\n",
              "      background-color: #E2EBFA;\n",
              "      box-shadow: 0px 1px 2px rgba(60, 64, 67, 0.3), 0px 1px 3px 1px rgba(60, 64, 67, 0.15);\n",
              "      fill: #174EA6;\n",
              "    }\n",
              "\n",
              "    [theme=dark] .colab-df-convert {\n",
              "      background-color: #3B4455;\n",
              "      fill: #D2E3FC;\n",
              "    }\n",
              "\n",
              "    [theme=dark] .colab-df-convert:hover {\n",
              "      background-color: #434B5C;\n",
              "      box-shadow: 0px 1px 3px 1px rgba(0, 0, 0, 0.15);\n",
              "      filter: drop-shadow(0px 1px 2px rgba(0, 0, 0, 0.3));\n",
              "      fill: #FFFFFF;\n",
              "    }\n",
              "  </style>\n",
              "\n",
              "      <script>\n",
              "        const buttonEl =\n",
              "          document.querySelector('#df-d859570d-e6d1-4998-b6f4-0d389245fc9b button.colab-df-convert');\n",
              "        buttonEl.style.display =\n",
              "          google.colab.kernel.accessAllowed ? 'block' : 'none';\n",
              "\n",
              "        async function convertToInteractive(key) {\n",
              "          const element = document.querySelector('#df-d859570d-e6d1-4998-b6f4-0d389245fc9b');\n",
              "          const dataTable =\n",
              "            await google.colab.kernel.invokeFunction('convertToInteractive',\n",
              "                                                     [key], {});\n",
              "          if (!dataTable) return;\n",
              "\n",
              "          const docLinkHtml = 'Like what you see? Visit the ' +\n",
              "            '<a target=\"_blank\" href=https://colab.research.google.com/notebooks/data_table.ipynb>data table notebook</a>'\n",
              "            + ' to learn more about interactive tables.';\n",
              "          element.innerHTML = '';\n",
              "          dataTable['output_type'] = 'display_data';\n",
              "          await google.colab.output.renderOutput(dataTable, element);\n",
              "          const docLink = document.createElement('div');\n",
              "          docLink.innerHTML = docLinkHtml;\n",
              "          element.appendChild(docLink);\n",
              "        }\n",
              "      </script>\n",
              "    </div>\n",
              "  </div>\n",
              "  "
            ]
          },
          "metadata": {},
          "execution_count": 11
        }
      ]
    },
    {
      "cell_type": "code",
      "source": [
        "dataframe['Label'].value_counts()"
      ],
      "metadata": {
        "colab": {
          "base_uri": "https://localhost:8080/"
        },
        "id": "EQ-Xi1qwKl6c",
        "outputId": "833b2d18-717e-48a3-d323-59a20f0b49dd"
      },
      "execution_count": 12,
      "outputs": [
        {
          "output_type": "execute_result",
          "data": {
            "text/plain": [
              "N             72471\n",
              "M              8000\n",
              "Q              6431\n",
              "V              5788\n",
              "S              2223\n",
              "F-resample     2223\n",
              "Name: Label, dtype: int64"
            ]
          },
          "metadata": {},
          "execution_count": 12
        }
      ]
    },
    {
      "cell_type": "code",
      "source": [
        "train_samples = []\n",
        "for category in dataframe['Label'].unique():\n",
        "    train_category = dataframe.query(\"Label == @category\")\n",
        "    train_samples.append(train_category.sample(1600, random_state=1))\n",
        "\n",
        "dataframe_train = pd.concat(train_samples, axis=0).sample(frac=1.0, random_state=1).reset_index(drop=True)\n",
        "dataframe_train['Label'].value_counts()"
      ],
      "metadata": {
        "colab": {
          "base_uri": "https://localhost:8080/"
        },
        "id": "BCAkWb3zKl1x",
        "outputId": "f886f231-e3a4-45fc-cac0-54f95a386d4b"
      },
      "execution_count": 13,
      "outputs": [
        {
          "output_type": "execute_result",
          "data": {
            "text/plain": [
              "Q             1600\n",
              "S             1600\n",
              "V             1600\n",
              "M             1600\n",
              "F-resample    1600\n",
              "N             1600\n",
              "Name: Label, dtype: int64"
            ]
          },
          "metadata": {},
          "execution_count": 13
        }
      ]
    },
    {
      "cell_type": "code",
      "source": [
        "dataframe_train"
      ],
      "metadata": {
        "colab": {
          "base_uri": "https://localhost:8080/",
          "height": 424
        },
        "id": "TmI929ifKlxX",
        "outputId": "fe8b9194-38e4-4580-c48f-48e44997427f"
      },
      "execution_count": 14,
      "outputs": [
        {
          "output_type": "execute_result",
          "data": {
            "text/plain": [
              "                                              Filepath       Label\n",
              "0             /content/ECG_Image_data/train/Q/2058.jpg           Q\n",
              "1              /content/ECG_Image_data/train/S/237.jpg           S\n",
              "2              /content/ECG_Image_data/train/V/647.jpg           V\n",
              "3             /content/ECG_Image_data/train/Q/1293.jpg           Q\n",
              "4             /content/ECG_Image_data/train/S/1832.jpg           S\n",
              "...                                                ...         ...\n",
              "9595          /content/ECG_Image_data/train/M/6627.jpg           M\n",
              "9596  /content/ECG_Image_data/train/F-resample/708.jpg  F-resample\n",
              "9597          /content/ECG_Image_data/train/S/1374.jpg           S\n",
              "9598          /content/ECG_Image_data/train/V/3399.jpg           V\n",
              "9599          /content/ECG_Image_data/train/S/1089.jpg           S\n",
              "\n",
              "[9600 rows x 2 columns]"
            ],
            "text/html": [
              "\n",
              "  <div id=\"df-07680473-8c7f-473e-8921-58ee989d9399\">\n",
              "    <div class=\"colab-df-container\">\n",
              "      <div>\n",
              "<style scoped>\n",
              "    .dataframe tbody tr th:only-of-type {\n",
              "        vertical-align: middle;\n",
              "    }\n",
              "\n",
              "    .dataframe tbody tr th {\n",
              "        vertical-align: top;\n",
              "    }\n",
              "\n",
              "    .dataframe thead th {\n",
              "        text-align: right;\n",
              "    }\n",
              "</style>\n",
              "<table border=\"1\" class=\"dataframe\">\n",
              "  <thead>\n",
              "    <tr style=\"text-align: right;\">\n",
              "      <th></th>\n",
              "      <th>Filepath</th>\n",
              "      <th>Label</th>\n",
              "    </tr>\n",
              "  </thead>\n",
              "  <tbody>\n",
              "    <tr>\n",
              "      <th>0</th>\n",
              "      <td>/content/ECG_Image_data/train/Q/2058.jpg</td>\n",
              "      <td>Q</td>\n",
              "    </tr>\n",
              "    <tr>\n",
              "      <th>1</th>\n",
              "      <td>/content/ECG_Image_data/train/S/237.jpg</td>\n",
              "      <td>S</td>\n",
              "    </tr>\n",
              "    <tr>\n",
              "      <th>2</th>\n",
              "      <td>/content/ECG_Image_data/train/V/647.jpg</td>\n",
              "      <td>V</td>\n",
              "    </tr>\n",
              "    <tr>\n",
              "      <th>3</th>\n",
              "      <td>/content/ECG_Image_data/train/Q/1293.jpg</td>\n",
              "      <td>Q</td>\n",
              "    </tr>\n",
              "    <tr>\n",
              "      <th>4</th>\n",
              "      <td>/content/ECG_Image_data/train/S/1832.jpg</td>\n",
              "      <td>S</td>\n",
              "    </tr>\n",
              "    <tr>\n",
              "      <th>...</th>\n",
              "      <td>...</td>\n",
              "      <td>...</td>\n",
              "    </tr>\n",
              "    <tr>\n",
              "      <th>9595</th>\n",
              "      <td>/content/ECG_Image_data/train/M/6627.jpg</td>\n",
              "      <td>M</td>\n",
              "    </tr>\n",
              "    <tr>\n",
              "      <th>9596</th>\n",
              "      <td>/content/ECG_Image_data/train/F-resample/708.jpg</td>\n",
              "      <td>F-resample</td>\n",
              "    </tr>\n",
              "    <tr>\n",
              "      <th>9597</th>\n",
              "      <td>/content/ECG_Image_data/train/S/1374.jpg</td>\n",
              "      <td>S</td>\n",
              "    </tr>\n",
              "    <tr>\n",
              "      <th>9598</th>\n",
              "      <td>/content/ECG_Image_data/train/V/3399.jpg</td>\n",
              "      <td>V</td>\n",
              "    </tr>\n",
              "    <tr>\n",
              "      <th>9599</th>\n",
              "      <td>/content/ECG_Image_data/train/S/1089.jpg</td>\n",
              "      <td>S</td>\n",
              "    </tr>\n",
              "  </tbody>\n",
              "</table>\n",
              "<p>9600 rows × 2 columns</p>\n",
              "</div>\n",
              "      <button class=\"colab-df-convert\" onclick=\"convertToInteractive('df-07680473-8c7f-473e-8921-58ee989d9399')\"\n",
              "              title=\"Convert this dataframe to an interactive table.\"\n",
              "              style=\"display:none;\">\n",
              "        \n",
              "  <svg xmlns=\"http://www.w3.org/2000/svg\" height=\"24px\"viewBox=\"0 0 24 24\"\n",
              "       width=\"24px\">\n",
              "    <path d=\"M0 0h24v24H0V0z\" fill=\"none\"/>\n",
              "    <path d=\"M18.56 5.44l.94 2.06.94-2.06 2.06-.94-2.06-.94-.94-2.06-.94 2.06-2.06.94zm-11 1L8.5 8.5l.94-2.06 2.06-.94-2.06-.94L8.5 2.5l-.94 2.06-2.06.94zm10 10l.94 2.06.94-2.06 2.06-.94-2.06-.94-.94-2.06-.94 2.06-2.06.94z\"/><path d=\"M17.41 7.96l-1.37-1.37c-.4-.4-.92-.59-1.43-.59-.52 0-1.04.2-1.43.59L10.3 9.45l-7.72 7.72c-.78.78-.78 2.05 0 2.83L4 21.41c.39.39.9.59 1.41.59.51 0 1.02-.2 1.41-.59l7.78-7.78 2.81-2.81c.8-.78.8-2.07 0-2.86zM5.41 20L4 18.59l7.72-7.72 1.47 1.35L5.41 20z\"/>\n",
              "  </svg>\n",
              "      </button>\n",
              "      \n",
              "  <style>\n",
              "    .colab-df-container {\n",
              "      display:flex;\n",
              "      flex-wrap:wrap;\n",
              "      gap: 12px;\n",
              "    }\n",
              "\n",
              "    .colab-df-convert {\n",
              "      background-color: #E8F0FE;\n",
              "      border: none;\n",
              "      border-radius: 50%;\n",
              "      cursor: pointer;\n",
              "      display: none;\n",
              "      fill: #1967D2;\n",
              "      height: 32px;\n",
              "      padding: 0 0 0 0;\n",
              "      width: 32px;\n",
              "    }\n",
              "\n",
              "    .colab-df-convert:hover {\n",
              "      background-color: #E2EBFA;\n",
              "      box-shadow: 0px 1px 2px rgba(60, 64, 67, 0.3), 0px 1px 3px 1px rgba(60, 64, 67, 0.15);\n",
              "      fill: #174EA6;\n",
              "    }\n",
              "\n",
              "    [theme=dark] .colab-df-convert {\n",
              "      background-color: #3B4455;\n",
              "      fill: #D2E3FC;\n",
              "    }\n",
              "\n",
              "    [theme=dark] .colab-df-convert:hover {\n",
              "      background-color: #434B5C;\n",
              "      box-shadow: 0px 1px 3px 1px rgba(0, 0, 0, 0.15);\n",
              "      filter: drop-shadow(0px 1px 2px rgba(0, 0, 0, 0.3));\n",
              "      fill: #FFFFFF;\n",
              "    }\n",
              "  </style>\n",
              "\n",
              "      <script>\n",
              "        const buttonEl =\n",
              "          document.querySelector('#df-07680473-8c7f-473e-8921-58ee989d9399 button.colab-df-convert');\n",
              "        buttonEl.style.display =\n",
              "          google.colab.kernel.accessAllowed ? 'block' : 'none';\n",
              "\n",
              "        async function convertToInteractive(key) {\n",
              "          const element = document.querySelector('#df-07680473-8c7f-473e-8921-58ee989d9399');\n",
              "          const dataTable =\n",
              "            await google.colab.kernel.invokeFunction('convertToInteractive',\n",
              "                                                     [key], {});\n",
              "          if (!dataTable) return;\n",
              "\n",
              "          const docLinkHtml = 'Like what you see? Visit the ' +\n",
              "            '<a target=\"_blank\" href=https://colab.research.google.com/notebooks/data_table.ipynb>data table notebook</a>'\n",
              "            + ' to learn more about interactive tables.';\n",
              "          element.innerHTML = '';\n",
              "          dataTable['output_type'] = 'display_data';\n",
              "          await google.colab.output.renderOutput(dataTable, element);\n",
              "          const docLink = document.createElement('div');\n",
              "          docLink.innerHTML = docLinkHtml;\n",
              "          element.appendChild(docLink);\n",
              "        }\n",
              "      </script>\n",
              "    </div>\n",
              "  </div>\n",
              "  "
            ]
          },
          "metadata": {},
          "execution_count": 14
        }
      ]
    },
    {
      "cell_type": "code",
      "source": [
        "filepaths = list(test_dir.glob(r'**/*.jpg'))\n",
        "labels = list(map(lambda x: os.path.split(os.path.split(x)[0])[1], filepaths))\n",
        "\n",
        "filepaths = pd.Series(filepaths, name='Filepath').astype(str)\n",
        "labels = pd.Series(labels, name='Label')\n",
        "\n",
        "dataframe_test = pd.concat([filepaths , labels] , axis=1)\n",
        "dataframe_test"
      ],
      "metadata": {
        "colab": {
          "base_uri": "https://localhost:8080/",
          "height": 424
        },
        "id": "wHJw87NlKlwI",
        "outputId": "457629df-561c-4dc2-ad5f-1b2de73c4509"
      },
      "execution_count": 15,
      "outputs": [
        {
          "output_type": "execute_result",
          "data": {
            "text/plain": [
              "                                      Filepath Label\n",
              "0       /content/ECG_Image_data/test/S/128.jpg     S\n",
              "1       /content/ECG_Image_data/test/S/224.jpg     S\n",
              "2       /content/ECG_Image_data/test/S/358.jpg     S\n",
              "3        /content/ECG_Image_data/test/S/47.jpg     S\n",
              "4       /content/ECG_Image_data/test/S/323.jpg     S\n",
              "...                                        ...   ...\n",
              "24787   /content/ECG_Image_data/test/Q/154.jpg     Q\n",
              "24788   /content/ECG_Image_data/test/Q/241.jpg     Q\n",
              "24789   /content/ECG_Image_data/test/Q/663.jpg     Q\n",
              "24790   /content/ECG_Image_data/test/Q/742.jpg     Q\n",
              "24791  /content/ECG_Image_data/test/Q/1587.jpg     Q\n",
              "\n",
              "[24792 rows x 2 columns]"
            ],
            "text/html": [
              "\n",
              "  <div id=\"df-bfba5738-1657-427a-a4db-5edec2d92237\">\n",
              "    <div class=\"colab-df-container\">\n",
              "      <div>\n",
              "<style scoped>\n",
              "    .dataframe tbody tr th:only-of-type {\n",
              "        vertical-align: middle;\n",
              "    }\n",
              "\n",
              "    .dataframe tbody tr th {\n",
              "        vertical-align: top;\n",
              "    }\n",
              "\n",
              "    .dataframe thead th {\n",
              "        text-align: right;\n",
              "    }\n",
              "</style>\n",
              "<table border=\"1\" class=\"dataframe\">\n",
              "  <thead>\n",
              "    <tr style=\"text-align: right;\">\n",
              "      <th></th>\n",
              "      <th>Filepath</th>\n",
              "      <th>Label</th>\n",
              "    </tr>\n",
              "  </thead>\n",
              "  <tbody>\n",
              "    <tr>\n",
              "      <th>0</th>\n",
              "      <td>/content/ECG_Image_data/test/S/128.jpg</td>\n",
              "      <td>S</td>\n",
              "    </tr>\n",
              "    <tr>\n",
              "      <th>1</th>\n",
              "      <td>/content/ECG_Image_data/test/S/224.jpg</td>\n",
              "      <td>S</td>\n",
              "    </tr>\n",
              "    <tr>\n",
              "      <th>2</th>\n",
              "      <td>/content/ECG_Image_data/test/S/358.jpg</td>\n",
              "      <td>S</td>\n",
              "    </tr>\n",
              "    <tr>\n",
              "      <th>3</th>\n",
              "      <td>/content/ECG_Image_data/test/S/47.jpg</td>\n",
              "      <td>S</td>\n",
              "    </tr>\n",
              "    <tr>\n",
              "      <th>4</th>\n",
              "      <td>/content/ECG_Image_data/test/S/323.jpg</td>\n",
              "      <td>S</td>\n",
              "    </tr>\n",
              "    <tr>\n",
              "      <th>...</th>\n",
              "      <td>...</td>\n",
              "      <td>...</td>\n",
              "    </tr>\n",
              "    <tr>\n",
              "      <th>24787</th>\n",
              "      <td>/content/ECG_Image_data/test/Q/154.jpg</td>\n",
              "      <td>Q</td>\n",
              "    </tr>\n",
              "    <tr>\n",
              "      <th>24788</th>\n",
              "      <td>/content/ECG_Image_data/test/Q/241.jpg</td>\n",
              "      <td>Q</td>\n",
              "    </tr>\n",
              "    <tr>\n",
              "      <th>24789</th>\n",
              "      <td>/content/ECG_Image_data/test/Q/663.jpg</td>\n",
              "      <td>Q</td>\n",
              "    </tr>\n",
              "    <tr>\n",
              "      <th>24790</th>\n",
              "      <td>/content/ECG_Image_data/test/Q/742.jpg</td>\n",
              "      <td>Q</td>\n",
              "    </tr>\n",
              "    <tr>\n",
              "      <th>24791</th>\n",
              "      <td>/content/ECG_Image_data/test/Q/1587.jpg</td>\n",
              "      <td>Q</td>\n",
              "    </tr>\n",
              "  </tbody>\n",
              "</table>\n",
              "<p>24792 rows × 2 columns</p>\n",
              "</div>\n",
              "      <button class=\"colab-df-convert\" onclick=\"convertToInteractive('df-bfba5738-1657-427a-a4db-5edec2d92237')\"\n",
              "              title=\"Convert this dataframe to an interactive table.\"\n",
              "              style=\"display:none;\">\n",
              "        \n",
              "  <svg xmlns=\"http://www.w3.org/2000/svg\" height=\"24px\"viewBox=\"0 0 24 24\"\n",
              "       width=\"24px\">\n",
              "    <path d=\"M0 0h24v24H0V0z\" fill=\"none\"/>\n",
              "    <path d=\"M18.56 5.44l.94 2.06.94-2.06 2.06-.94-2.06-.94-.94-2.06-.94 2.06-2.06.94zm-11 1L8.5 8.5l.94-2.06 2.06-.94-2.06-.94L8.5 2.5l-.94 2.06-2.06.94zm10 10l.94 2.06.94-2.06 2.06-.94-2.06-.94-.94-2.06-.94 2.06-2.06.94z\"/><path d=\"M17.41 7.96l-1.37-1.37c-.4-.4-.92-.59-1.43-.59-.52 0-1.04.2-1.43.59L10.3 9.45l-7.72 7.72c-.78.78-.78 2.05 0 2.83L4 21.41c.39.39.9.59 1.41.59.51 0 1.02-.2 1.41-.59l7.78-7.78 2.81-2.81c.8-.78.8-2.07 0-2.86zM5.41 20L4 18.59l7.72-7.72 1.47 1.35L5.41 20z\"/>\n",
              "  </svg>\n",
              "      </button>\n",
              "      \n",
              "  <style>\n",
              "    .colab-df-container {\n",
              "      display:flex;\n",
              "      flex-wrap:wrap;\n",
              "      gap: 12px;\n",
              "    }\n",
              "\n",
              "    .colab-df-convert {\n",
              "      background-color: #E8F0FE;\n",
              "      border: none;\n",
              "      border-radius: 50%;\n",
              "      cursor: pointer;\n",
              "      display: none;\n",
              "      fill: #1967D2;\n",
              "      height: 32px;\n",
              "      padding: 0 0 0 0;\n",
              "      width: 32px;\n",
              "    }\n",
              "\n",
              "    .colab-df-convert:hover {\n",
              "      background-color: #E2EBFA;\n",
              "      box-shadow: 0px 1px 2px rgba(60, 64, 67, 0.3), 0px 1px 3px 1px rgba(60, 64, 67, 0.15);\n",
              "      fill: #174EA6;\n",
              "    }\n",
              "\n",
              "    [theme=dark] .colab-df-convert {\n",
              "      background-color: #3B4455;\n",
              "      fill: #D2E3FC;\n",
              "    }\n",
              "\n",
              "    [theme=dark] .colab-df-convert:hover {\n",
              "      background-color: #434B5C;\n",
              "      box-shadow: 0px 1px 3px 1px rgba(0, 0, 0, 0.15);\n",
              "      filter: drop-shadow(0px 1px 2px rgba(0, 0, 0, 0.3));\n",
              "      fill: #FFFFFF;\n",
              "    }\n",
              "  </style>\n",
              "\n",
              "      <script>\n",
              "        const buttonEl =\n",
              "          document.querySelector('#df-bfba5738-1657-427a-a4db-5edec2d92237 button.colab-df-convert');\n",
              "        buttonEl.style.display =\n",
              "          google.colab.kernel.accessAllowed ? 'block' : 'none';\n",
              "\n",
              "        async function convertToInteractive(key) {\n",
              "          const element = document.querySelector('#df-bfba5738-1657-427a-a4db-5edec2d92237');\n",
              "          const dataTable =\n",
              "            await google.colab.kernel.invokeFunction('convertToInteractive',\n",
              "                                                     [key], {});\n",
              "          if (!dataTable) return;\n",
              "\n",
              "          const docLinkHtml = 'Like what you see? Visit the ' +\n",
              "            '<a target=\"_blank\" href=https://colab.research.google.com/notebooks/data_table.ipynb>data table notebook</a>'\n",
              "            + ' to learn more about interactive tables.';\n",
              "          element.innerHTML = '';\n",
              "          dataTable['output_type'] = 'display_data';\n",
              "          await google.colab.output.renderOutput(dataTable, element);\n",
              "          const docLink = document.createElement('div');\n",
              "          docLink.innerHTML = docLinkHtml;\n",
              "          element.appendChild(docLink);\n",
              "        }\n",
              "      </script>\n",
              "    </div>\n",
              "  </div>\n",
              "  "
            ]
          },
          "metadata": {},
          "execution_count": 15
        }
      ]
    },
    {
      "cell_type": "code",
      "source": [
        "dataframe_test['Label'].value_counts()"
      ],
      "metadata": {
        "colab": {
          "base_uri": "https://localhost:8080/"
        },
        "id": "bU-Y7BZGKluK",
        "outputId": "7a58cb39-73e6-4ffa-d236-7ee048586d6a"
      },
      "execution_count": 16,
      "outputs": [
        {
          "output_type": "execute_result",
          "data": {
            "text/plain": [
              "N              18118\n",
              "M               2506\n",
              "Q               1608\n",
              "V               1448\n",
              "S                556\n",
              "F-resampled      556\n",
              "Name: Label, dtype: int64"
            ]
          },
          "metadata": {},
          "execution_count": 16
        }
      ]
    },
    {
      "cell_type": "code",
      "source": [
        "test_samples = []\n",
        "for category in dataframe_test['Label'].unique():\n",
        "    test_category = dataframe_test.query(\"Label == @category\")\n",
        "    test_samples.append(test_category.sample(400, random_state=1))\n",
        "\n",
        "dataframe_test = pd.concat(test_samples, axis=0).sample(frac=1.0, random_state=1).reset_index(drop=True)\n",
        "dataframe_test['Label'].value_counts()"
      ],
      "metadata": {
        "colab": {
          "base_uri": "https://localhost:8080/"
        },
        "id": "pu79tvqDKlrk",
        "outputId": "f32c1411-cbdb-40c8-d0bd-12102dbd21cd"
      },
      "execution_count": 17,
      "outputs": [
        {
          "output_type": "execute_result",
          "data": {
            "text/plain": [
              "V              400\n",
              "M              400\n",
              "Q              400\n",
              "N              400\n",
              "S              400\n",
              "F-resampled    400\n",
              "Name: Label, dtype: int64"
            ]
          },
          "metadata": {},
          "execution_count": 17
        }
      ]
    },
    {
      "cell_type": "code",
      "source": [
        "dataframe_test"
      ],
      "metadata": {
        "colab": {
          "base_uri": "https://localhost:8080/",
          "height": 424
        },
        "id": "I2oJhenlKlpx",
        "outputId": "c167d507-9539-4348-efe8-d8cd5cd209de"
      },
      "execution_count": 18,
      "outputs": [
        {
          "output_type": "execute_result",
          "data": {
            "text/plain": [
              "                                      Filepath Label\n",
              "0      /content/ECG_Image_data/test/V/1218.jpg     V\n",
              "1      /content/ECG_Image_data/test/M/1189.jpg     M\n",
              "2       /content/ECG_Image_data/test/V/206.jpg     V\n",
              "3       /content/ECG_Image_data/test/Q/234.jpg     Q\n",
              "4     /content/ECG_Image_data/test/N/13954.jpg     N\n",
              "...                                        ...   ...\n",
              "2395   /content/ECG_Image_data/test/N/6294.jpg     N\n",
              "2396   /content/ECG_Image_data/test/N/8839.jpg     N\n",
              "2397   /content/ECG_Image_data/test/N/8692.jpg     N\n",
              "2398    /content/ECG_Image_data/test/S/273.jpg     S\n",
              "2399  /content/ECG_Image_data/test/N/13044.jpg     N\n",
              "\n",
              "[2400 rows x 2 columns]"
            ],
            "text/html": [
              "\n",
              "  <div id=\"df-ca862af0-8306-4d94-a21d-768f32a7cb9a\">\n",
              "    <div class=\"colab-df-container\">\n",
              "      <div>\n",
              "<style scoped>\n",
              "    .dataframe tbody tr th:only-of-type {\n",
              "        vertical-align: middle;\n",
              "    }\n",
              "\n",
              "    .dataframe tbody tr th {\n",
              "        vertical-align: top;\n",
              "    }\n",
              "\n",
              "    .dataframe thead th {\n",
              "        text-align: right;\n",
              "    }\n",
              "</style>\n",
              "<table border=\"1\" class=\"dataframe\">\n",
              "  <thead>\n",
              "    <tr style=\"text-align: right;\">\n",
              "      <th></th>\n",
              "      <th>Filepath</th>\n",
              "      <th>Label</th>\n",
              "    </tr>\n",
              "  </thead>\n",
              "  <tbody>\n",
              "    <tr>\n",
              "      <th>0</th>\n",
              "      <td>/content/ECG_Image_data/test/V/1218.jpg</td>\n",
              "      <td>V</td>\n",
              "    </tr>\n",
              "    <tr>\n",
              "      <th>1</th>\n",
              "      <td>/content/ECG_Image_data/test/M/1189.jpg</td>\n",
              "      <td>M</td>\n",
              "    </tr>\n",
              "    <tr>\n",
              "      <th>2</th>\n",
              "      <td>/content/ECG_Image_data/test/V/206.jpg</td>\n",
              "      <td>V</td>\n",
              "    </tr>\n",
              "    <tr>\n",
              "      <th>3</th>\n",
              "      <td>/content/ECG_Image_data/test/Q/234.jpg</td>\n",
              "      <td>Q</td>\n",
              "    </tr>\n",
              "    <tr>\n",
              "      <th>4</th>\n",
              "      <td>/content/ECG_Image_data/test/N/13954.jpg</td>\n",
              "      <td>N</td>\n",
              "    </tr>\n",
              "    <tr>\n",
              "      <th>...</th>\n",
              "      <td>...</td>\n",
              "      <td>...</td>\n",
              "    </tr>\n",
              "    <tr>\n",
              "      <th>2395</th>\n",
              "      <td>/content/ECG_Image_data/test/N/6294.jpg</td>\n",
              "      <td>N</td>\n",
              "    </tr>\n",
              "    <tr>\n",
              "      <th>2396</th>\n",
              "      <td>/content/ECG_Image_data/test/N/8839.jpg</td>\n",
              "      <td>N</td>\n",
              "    </tr>\n",
              "    <tr>\n",
              "      <th>2397</th>\n",
              "      <td>/content/ECG_Image_data/test/N/8692.jpg</td>\n",
              "      <td>N</td>\n",
              "    </tr>\n",
              "    <tr>\n",
              "      <th>2398</th>\n",
              "      <td>/content/ECG_Image_data/test/S/273.jpg</td>\n",
              "      <td>S</td>\n",
              "    </tr>\n",
              "    <tr>\n",
              "      <th>2399</th>\n",
              "      <td>/content/ECG_Image_data/test/N/13044.jpg</td>\n",
              "      <td>N</td>\n",
              "    </tr>\n",
              "  </tbody>\n",
              "</table>\n",
              "<p>2400 rows × 2 columns</p>\n",
              "</div>\n",
              "      <button class=\"colab-df-convert\" onclick=\"convertToInteractive('df-ca862af0-8306-4d94-a21d-768f32a7cb9a')\"\n",
              "              title=\"Convert this dataframe to an interactive table.\"\n",
              "              style=\"display:none;\">\n",
              "        \n",
              "  <svg xmlns=\"http://www.w3.org/2000/svg\" height=\"24px\"viewBox=\"0 0 24 24\"\n",
              "       width=\"24px\">\n",
              "    <path d=\"M0 0h24v24H0V0z\" fill=\"none\"/>\n",
              "    <path d=\"M18.56 5.44l.94 2.06.94-2.06 2.06-.94-2.06-.94-.94-2.06-.94 2.06-2.06.94zm-11 1L8.5 8.5l.94-2.06 2.06-.94-2.06-.94L8.5 2.5l-.94 2.06-2.06.94zm10 10l.94 2.06.94-2.06 2.06-.94-2.06-.94-.94-2.06-.94 2.06-2.06.94z\"/><path d=\"M17.41 7.96l-1.37-1.37c-.4-.4-.92-.59-1.43-.59-.52 0-1.04.2-1.43.59L10.3 9.45l-7.72 7.72c-.78.78-.78 2.05 0 2.83L4 21.41c.39.39.9.59 1.41.59.51 0 1.02-.2 1.41-.59l7.78-7.78 2.81-2.81c.8-.78.8-2.07 0-2.86zM5.41 20L4 18.59l7.72-7.72 1.47 1.35L5.41 20z\"/>\n",
              "  </svg>\n",
              "      </button>\n",
              "      \n",
              "  <style>\n",
              "    .colab-df-container {\n",
              "      display:flex;\n",
              "      flex-wrap:wrap;\n",
              "      gap: 12px;\n",
              "    }\n",
              "\n",
              "    .colab-df-convert {\n",
              "      background-color: #E8F0FE;\n",
              "      border: none;\n",
              "      border-radius: 50%;\n",
              "      cursor: pointer;\n",
              "      display: none;\n",
              "      fill: #1967D2;\n",
              "      height: 32px;\n",
              "      padding: 0 0 0 0;\n",
              "      width: 32px;\n",
              "    }\n",
              "\n",
              "    .colab-df-convert:hover {\n",
              "      background-color: #E2EBFA;\n",
              "      box-shadow: 0px 1px 2px rgba(60, 64, 67, 0.3), 0px 1px 3px 1px rgba(60, 64, 67, 0.15);\n",
              "      fill: #174EA6;\n",
              "    }\n",
              "\n",
              "    [theme=dark] .colab-df-convert {\n",
              "      background-color: #3B4455;\n",
              "      fill: #D2E3FC;\n",
              "    }\n",
              "\n",
              "    [theme=dark] .colab-df-convert:hover {\n",
              "      background-color: #434B5C;\n",
              "      box-shadow: 0px 1px 3px 1px rgba(0, 0, 0, 0.15);\n",
              "      filter: drop-shadow(0px 1px 2px rgba(0, 0, 0, 0.3));\n",
              "      fill: #FFFFFF;\n",
              "    }\n",
              "  </style>\n",
              "\n",
              "      <script>\n",
              "        const buttonEl =\n",
              "          document.querySelector('#df-ca862af0-8306-4d94-a21d-768f32a7cb9a button.colab-df-convert');\n",
              "        buttonEl.style.display =\n",
              "          google.colab.kernel.accessAllowed ? 'block' : 'none';\n",
              "\n",
              "        async function convertToInteractive(key) {\n",
              "          const element = document.querySelector('#df-ca862af0-8306-4d94-a21d-768f32a7cb9a');\n",
              "          const dataTable =\n",
              "            await google.colab.kernel.invokeFunction('convertToInteractive',\n",
              "                                                     [key], {});\n",
              "          if (!dataTable) return;\n",
              "\n",
              "          const docLinkHtml = 'Like what you see? Visit the ' +\n",
              "            '<a target=\"_blank\" href=https://colab.research.google.com/notebooks/data_table.ipynb>data table notebook</a>'\n",
              "            + ' to learn more about interactive tables.';\n",
              "          element.innerHTML = '';\n",
              "          dataTable['output_type'] = 'display_data';\n",
              "          await google.colab.output.renderOutput(dataTable, element);\n",
              "          const docLink = document.createElement('div');\n",
              "          docLink.innerHTML = docLinkHtml;\n",
              "          element.appendChild(docLink);\n",
              "        }\n",
              "      </script>\n",
              "    </div>\n",
              "  </div>\n",
              "  "
            ]
          },
          "metadata": {},
          "execution_count": 18
        }
      ]
    },
    {
      "cell_type": "code",
      "source": [
        "from keras.utils import img_to_array,load_img\n",
        "img = load_img(dataframe_test['Filepath'].values[1])\n",
        "plt.imshow(img)\n",
        "plt.axis(\"on\")\n",
        "plt.show()"
      ],
      "metadata": {
        "colab": {
          "base_uri": "https://localhost:8080/",
          "height": 269
        },
        "id": "SYq6-elcKlnm",
        "outputId": "63897c05-a0d0-4a2a-e25e-c5d84a445e89"
      },
      "execution_count": 19,
      "outputs": [
        {
          "output_type": "display_data",
          "data": {
            "text/plain": [
              "<Figure size 432x288 with 1 Axes>"
            ],
            "image/png": "[encoded data removed]"
          },
          "metadata": {
            "needs_background": "light"
          }
        }
      ]
    },
    {
      "cell_type": "code",
      "source": [
        "array_image = img_to_array(img)\n",
        "print(array_image.shape)"
      ],
      "metadata": {
        "colab": {
          "base_uri": "https://localhost:8080/"
        },
        "id": "X7fm1GuqKllq",
        "outputId": "6affc44f-4ce9-4642-b6b7-9ae463f418a2"
      },
      "execution_count": 20,
      "outputs": [
        {
          "output_type": "stream",
          "name": "stdout",
          "text": [
            "(288, 432, 3)\n"
          ]
        }
      ]
    },
    {
      "cell_type": "code",
      "source": [
        "train_datagen = tf.keras.preprocessing.image.ImageDataGenerator(\n",
        "    #preprocessing_function=tf.keras.applications.vgg16.preprocess_input,\n",
        "    rescale=1./255,\n",
        "    #shear_range = 0.2,\n",
        "    #horizontal_flip=True,\n",
        "    #zoom_range = 0.2,\n",
        "    validation_split=0.25\n",
        "  \n",
        ")\n",
        "\n",
        "test_datagen = tf.keras.preprocessing.image.ImageDataGenerator(\n",
        "    #preprocessing_function=tf.keras.applications.vgg16.preprocess_input,\n",
        "    rescale=1./255\n",
        ")"
      ],
      "metadata": {
        "id": "22TL99zFKljO"
      },
      "execution_count": 21,
      "outputs": []
    },
    {
      "cell_type": "code",
      "source": [
        "train_generator = train_datagen.flow_from_dataframe(\n",
        "    dataframe=dataframe_train,\n",
        "    x_col='Filepath',\n",
        "    y_col='Label',\n",
        "    target_size=(224, 224),\n",
        "    color_mode='rgb',\n",
        "    class_mode='categorical',\n",
        "    batch_size=32,\n",
        "    shuffle=True,\n",
        "    seed=42,\n",
        "    subset='training'\n",
        ")\n",
        "\n",
        "val_generator = train_datagen.flow_from_dataframe(\n",
        "    dataframe=dataframe_train,\n",
        "    x_col='Filepath',\n",
        "    y_col='Label',\n",
        "    target_size=(224, 224),\n",
        "    color_mode='rgb',\n",
        "    class_mode='categorical',\n",
        "    batch_size=32,\n",
        "    shuffle=True,\n",
        "    seed=42,\n",
        "    subset='validation'\n",
        ")\n",
        "test_generator = test_datagen.flow_from_dataframe(\n",
        "    dataframe=dataframe_test,\n",
        "    x_col='Filepath',\n",
        "    y_col='Label',\n",
        "    target_size=(224, 224),\n",
        "    color_mode='rgb',\n",
        "    class_mode='categorical',\n",
        "    batch_size=32,\n",
        "    shuffle=False\n",
        ")"
      ],
      "metadata": {
        "colab": {
          "base_uri": "https://localhost:8080/"
        },
        "id": "cN4-rgx0KlhY",
        "outputId": "1922f607-abd1-4f45-d82f-e21fb6912318"
      },
      "execution_count": 22,
      "outputs": [
        {
          "output_type": "stream",
          "name": "stdout",
          "text": [
            "Found 7200 validated image filenames belonging to 6 classes.\n",
            "Found 2400 validated image filenames belonging to 6 classes.\n",
            "Found 2400 validated image filenames belonging to 6 classes.\n"
          ]
        }
      ]
    },
    {
      "cell_type": "code",
      "source": [
        "test_generator.class_indices"
      ],
      "metadata": {
        "colab": {
          "base_uri": "https://localhost:8080/"
        },
        "id": "URJj_qmUKlfj",
        "outputId": "43bdf243-6b2c-4bc7-bad9-9ae2d2c53fcf"
      },
      "execution_count": 23,
      "outputs": [
        {
          "output_type": "execute_result",
          "data": {
            "text/plain": [
              "{'F-resampled': 0, 'M': 1, 'N': 2, 'Q': 3, 'S': 4, 'V': 5}"
            ]
          },
          "metadata": {},
          "execution_count": 23
        }
      ]
    },
    {
      "cell_type": "code",
      "source": [
        "plt.imshow(test_generator[0][0][3])"
      ],
      "metadata": {
        "colab": {
          "base_uri": "https://localhost:8080/",
          "height": 287
        },
        "id": "8uGTHXz7KlcD",
        "outputId": "90003510-df8c-4990-9e1d-7bceec32eb36"
      },
      "execution_count": 24,
      "outputs": [
        {
          "output_type": "execute_result",
          "data": {
            "text/plain": [
              "<matplotlib.image.AxesImage at 0x7f556f4e5ee0>"
            ]
          },
          "metadata": {},
          "execution_count": 24
        },
        {
          "output_type": "display_data",
          "data": {
            "text/plain": [
              "<Figure size 432x288 with 1 Axes>"
            ],
            "image/png": "[encoded data removed]"
          },
          "metadata": {
            "needs_background": "light"
          }
        }
      ]
    },
    {
      "cell_type": "code",
      "source": [
        "folders=glob('/content/ECG_Image_data/test/*')\n",
        "folders"
      ],
      "metadata": {
        "colab": {
          "base_uri": "https://localhost:8080/"
        },
        "id": "HJxFBH43KlaD",
        "outputId": "a940f548-5c71-4b8d-acd6-7f10259dc881"
      },
      "execution_count": 25,
      "outputs": [
        {
          "output_type": "execute_result",
          "data": {
            "text/plain": [
              "['/content/ECG_Image_data/test/S',\n",
              " '/content/ECG_Image_data/test/M',\n",
              " '/content/ECG_Image_data/test/N',\n",
              " '/content/ECG_Image_data/test/V',\n",
              " '/content/ECG_Image_data/test/F-resampled',\n",
              " '/content/ECG_Image_data/test/Q']"
            ]
          },
          "metadata": {},
          "execution_count": 25
        }
      ]
    },
    {
      "cell_type": "code",
      "source": [
        "IMAGE_SIZE = [224, 224]\n",
        "vgg = VGG16(input_shape=IMAGE_SIZE + [3], weights='imagenet', include_top=False)"
      ],
      "metadata": {
        "colab": {
          "base_uri": "https://localhost:8080/"
        },
        "id": "JXiVmULEKlYO",
        "outputId": "9b34997a-6e42-4515-d526-27e9ebc28634"
      },
      "execution_count": 26,
      "outputs": [
        {
          "output_type": "stream",
          "name": "stdout",
          "text": [
            "Downloading data from https://storage.googleapis.com/tensorflow/keras-applications/vgg16/vgg16_weights_tf_dim_ordering_tf_kernels_notop.h5\n",
            "58889256/58889256 [==============================] - 0s 0us/step\n"
          ]
        }
      ]
    },
    {
      "cell_type": "code",
      "source": [
        "for layer in vgg.layers:\n",
        "  layer.trainable = False"
      ],
      "metadata": {
        "id": "opu1CHgGKlWg"
      },
      "execution_count": 27,
      "outputs": []
    },
    {
      "cell_type": "code",
      "source": [
        "x = Flatten()(vgg.output)"
      ],
      "metadata": {
        "id": "yokXpjEmKlUp"
      },
      "execution_count": 28,
      "outputs": []
    },
    {
      "cell_type": "code",
      "source": [
        "prediction = Dense(len(folders), activation='softmax')(x)"
      ],
      "metadata": {
        "id": "07EWRdZYKlSo"
      },
      "execution_count": 29,
      "outputs": []
    },
    {
      "cell_type": "code",
      "source": [
        "vgg_model = Model(inputs=vgg.input, outputs=prediction)\n",
        "\n",
        "vgg_model.summary()"
      ],
      "metadata": {
        "colab": {
          "base_uri": "https://localhost:8080/"
        },
        "id": "qoBwIhSDKlRB",
        "outputId": "12cf3801-9bde-4537-dd0f-b2592784cd36"
      },
      "execution_count": 30,
      "outputs": [
        {
          "output_type": "stream",
          "name": "stdout",
          "text": [
            "Model: \"model\"\n",
            "_________________________________________________________________\n",
            " Layer (type)                Output Shape              Param #   \n",
            "=================================================================\n",
            " input_1 (InputLayer)        [(None, 224, 224, 3)]     0         \n",
            "                                                                 \n",
            " block1_conv1 (Conv2D)       (None, 224, 224, 64)      1792      \n",
            "                                                                 \n",
            " block1_conv2 (Conv2D)       (None, 224, 224, 64)      36928     \n",
            "                                                                 \n",
            " block1_pool (MaxPooling2D)  (None, 112, 112, 64)      0         \n",
            "                                                                 \n",
            " block2_conv1 (Conv2D)       (None, 112, 112, 128)     73856     \n",
            "                                                                 \n",
            " block2_conv2 (Conv2D)       (None, 112, 112, 128)     147584    \n",
            "                                                                 \n",
            " block2_pool (MaxPooling2D)  (None, 56, 56, 128)       0         \n",
            "                                                                 \n",
            " block3_conv1 (Conv2D)       (None, 56, 56, 256)       295168    \n",
            "                                                                 \n",
            " block3_conv2 (Conv2D)       (None, 56, 56, 256)       590080    \n",
            "                                                                 \n",
            " block3_conv3 (Conv2D)       (None, 56, 56, 256)       590080    \n",
            "                                                                 \n",
            " block3_pool (MaxPooling2D)  (None, 28, 28, 256)       0         \n",
            "                                                                 \n",
            " block4_conv1 (Conv2D)       (None, 28, 28, 512)       1180160   \n",
            "                                                                 \n",
            " block4_conv2 (Conv2D)       (None, 28, 28, 512)       2359808   \n",
            "                                                                 \n",
            " block4_conv3 (Conv2D)       (None, 28, 28, 512)       2359808   \n",
            "                                                                 \n",
            " block4_pool (MaxPooling2D)  (None, 14, 14, 512)       0         \n",
            "                                                                 \n",
            " block5_conv1 (Conv2D)       (None, 14, 14, 512)       2359808   \n",
            "                                                                 \n",
            " block5_conv2 (Conv2D)       (None, 14, 14, 512)       2359808   \n",
            "                                                                 \n",
            " block5_conv3 (Conv2D)       (None, 14, 14, 512)       2359808   \n",
            "                                                                 \n",
            " block5_pool (MaxPooling2D)  (None, 7, 7, 512)         0         \n",
            "                                                                 \n",
            " flatten (Flatten)           (None, 25088)             0         \n",
            "                                                                 \n",
            " dense (Dense)               (None, 6)                 150534    \n",
            "                                                                 \n",
            "=================================================================\n",
            "Total params: 14,865,222\n",
            "Trainable params: 150,534\n",
            "Non-trainable params: 14,714,688\n",
            "_________________________________________________________________\n"
          ]
        }
      ]
    },
    {
      "cell_type": "code",
      "source": [
        "import keras\n",
        "checkpoint = keras.callbacks.ModelCheckpoint(\n",
        "    filepath='best_model.h5',\n",
        "    save_weights_only=False,\n",
        "    monitor='val_accuracy',\n",
        "    mode='max',\n",
        "    save_best_only=True,\n",
        "    verbose=1)"
      ],
      "metadata": {
        "id": "SDb7oaEcKlPO"
      },
      "execution_count": 31,
      "outputs": []
    },
    {
      "cell_type": "code",
      "source": [
        "vgg_model.compile(\n",
        "    optimizer='adam',\n",
        "    loss='categorical_crossentropy',\n",
        "    metrics=['accuracy']\n",
        ")"
      ],
      "metadata": {
        "id": "m5J2jZ8hKlNY"
      },
      "execution_count": 32,
      "outputs": []
    },
    {
      "cell_type": "code",
      "source": [
        "result=vgg_model.fit(\n",
        "    train_generator,\n",
        "    validation_data=val_generator,\n",
        "    epochs=30,\n",
        "    steps_per_epoch=len(train_generator),\n",
        "    validation_steps=len(val_generator),\n",
        "    callbacks=[checkpoint]\n",
        ")"
      ],
      "metadata": {
        "colab": {
          "base_uri": "https://localhost:8080/"
        },
        "id": "rVrzLRkjKlL3",
        "outputId": "f41f73ab-6381-4fd4-d198-1f3ebf20f354"
      },
      "execution_count": 33,
      "outputs": [
        {
          "output_type": "stream",
          "name": "stdout",
          "text": [
            "Epoch 1/30\n",
            "225/225 [==============================] - ETA: 0s - loss: 0.6870 - accuracy: 0.7535\n",
            "Epoch 1: val_accuracy improved from -inf to 0.83042, saving model to best_model.h5\n",
            "225/225 [==============================] - 48s 162ms/step - loss: 0.6870 - accuracy: 0.7535 - val_loss: 0.4811 - val_accuracy: 0.8304\n",
            "Epoch 2/30\n",
            "225/225 [==============================] - ETA: 0s - loss: 0.3906 - accuracy: 0.8601\n",
            "Epoch 2: val_accuracy improved from 0.83042 to 0.84625, saving model to best_model.h5\n",
            "225/225 [==============================] - 36s 162ms/step - loss: 0.3906 - accuracy: 0.8601 - val_loss: 0.4279 - val_accuracy: 0.8462\n",
            "Epoch 3/30\n",
            "225/225 [==============================] - ETA: 0s - loss: 0.3139 - accuracy: 0.8886\n",
            "Epoch 3: val_accuracy improved from 0.84625 to 0.86958, saving model to best_model.h5\n",
            "225/225 [==============================] - 36s 158ms/step - loss: 0.3139 - accuracy: 0.8886 - val_loss: 0.3696 - val_accuracy: 0.8696\n",
            "Epoch 4/30\n",
            "225/225 [==============================] - ETA: 0s - loss: 0.2483 - accuracy: 0.9133\n",
            "Epoch 4: val_accuracy improved from 0.86958 to 0.87417, saving model to best_model.h5\n",
            "225/225 [==============================] - 38s 168ms/step - loss: 0.2483 - accuracy: 0.9133 - val_loss: 0.3629 - val_accuracy: 0.8742\n",
            "Epoch 5/30\n",
            "225/225 [==============================] - ETA: 0s - loss: 0.2358 - accuracy: 0.9150\n",
            "Epoch 5: val_accuracy did not improve from 0.87417\n",
            "225/225 [==============================] - 36s 161ms/step - loss: 0.2358 - accuracy: 0.9150 - val_loss: 0.3867 - val_accuracy: 0.8683\n",
            "Epoch 6/30\n",
            "225/225 [==============================] - ETA: 0s - loss: 0.2215 - accuracy: 0.9231\n",
            "Epoch 6: val_accuracy improved from 0.87417 to 0.88792, saving model to best_model.h5\n",
            "225/225 [==============================] - 37s 162ms/step - loss: 0.2215 - accuracy: 0.9231 - val_loss: 0.3256 - val_accuracy: 0.8879\n",
            "Epoch 7/30\n",
            "225/225 [==============================] - ETA: 0s - loss: 0.2044 - accuracy: 0.9232\n",
            "Epoch 7: val_accuracy did not improve from 0.88792\n",
            "225/225 [==============================] - 36s 160ms/step - loss: 0.2044 - accuracy: 0.9232 - val_loss: 0.4494 - val_accuracy: 0.8500\n",
            "Epoch 8/30\n",
            "225/225 [==============================] - ETA: 0s - loss: 0.1541 - accuracy: 0.9478\n",
            "Epoch 8: val_accuracy improved from 0.88792 to 0.89500, saving model to best_model.h5\n",
            "225/225 [==============================] - 36s 159ms/step - loss: 0.1541 - accuracy: 0.9478 - val_loss: 0.3332 - val_accuracy: 0.8950\n",
            "Epoch 9/30\n",
            "225/225 [==============================] - ETA: 0s - loss: 0.1483 - accuracy: 0.9503\n",
            "Epoch 9: val_accuracy improved from 0.89500 to 0.91333, saving model to best_model.h5\n",
            "225/225 [==============================] - 36s 160ms/step - loss: 0.1483 - accuracy: 0.9503 - val_loss: 0.2576 - val_accuracy: 0.9133\n",
            "Epoch 10/30\n",
            "225/225 [==============================] - ETA: 0s - loss: 0.1488 - accuracy: 0.9499\n",
            "Epoch 10: val_accuracy did not improve from 0.91333\n",
            "225/225 [==============================] - 36s 159ms/step - loss: 0.1488 - accuracy: 0.9499 - val_loss: 0.3649 - val_accuracy: 0.8733\n",
            "Epoch 11/30\n",
            "225/225 [==============================] - ETA: 0s - loss: 0.1374 - accuracy: 0.9518\n",
            "Epoch 11: val_accuracy did not improve from 0.91333\n",
            "225/225 [==============================] - 36s 159ms/step - loss: 0.1374 - accuracy: 0.9518 - val_loss: 0.3542 - val_accuracy: 0.8833\n",
            "Epoch 12/30\n",
            "225/225 [==============================] - ETA: 0s - loss: 0.1264 - accuracy: 0.9569\n",
            "Epoch 12: val_accuracy did not improve from 0.91333\n",
            "225/225 [==============================] - 37s 164ms/step - loss: 0.1264 - accuracy: 0.9569 - val_loss: 0.2934 - val_accuracy: 0.9071\n",
            "Epoch 13/30\n",
            "225/225 [==============================] - ETA: 0s - loss: 0.1144 - accuracy: 0.9638\n",
            "Epoch 13: val_accuracy improved from 0.91333 to 0.91833, saving model to best_model.h5\n",
            "225/225 [==============================] - 36s 159ms/step - loss: 0.1144 - accuracy: 0.9638 - val_loss: 0.2550 - val_accuracy: 0.9183\n",
            "Epoch 14/30\n",
            "225/225 [==============================] - ETA: 0s - loss: 0.0973 - accuracy: 0.9693\n",
            "Epoch 14: val_accuracy did not improve from 0.91833\n",
            "225/225 [==============================] - 36s 159ms/step - loss: 0.0973 - accuracy: 0.9693 - val_loss: 0.3548 - val_accuracy: 0.8921\n",
            "Epoch 15/30\n",
            "225/225 [==============================] - ETA: 0s - loss: 0.0873 - accuracy: 0.9737\n",
            "Epoch 15: val_accuracy did not improve from 0.91833\n",
            "225/225 [==============================] - 36s 159ms/step - loss: 0.0873 - accuracy: 0.9737 - val_loss: 0.2513 - val_accuracy: 0.9175\n",
            "Epoch 16/30\n",
            "225/225 [==============================] - ETA: 0s - loss: 0.1026 - accuracy: 0.9626\n",
            "Epoch 16: val_accuracy did not improve from 0.91833\n",
            "225/225 [==============================] - 36s 162ms/step - loss: 0.1026 - accuracy: 0.9626 - val_loss: 0.3115 - val_accuracy: 0.9062\n",
            "Epoch 17/30\n",
            "225/225 [==============================] - ETA: 0s - loss: 0.0998 - accuracy: 0.9674\n",
            "Epoch 17: val_accuracy did not improve from 0.91833\n",
            "225/225 [==============================] - 36s 160ms/step - loss: 0.0998 - accuracy: 0.9674 - val_loss: 0.2579 - val_accuracy: 0.9167\n",
            "Epoch 18/30\n",
            "225/225 [==============================] - ETA: 0s - loss: 0.0791 - accuracy: 0.9744\n",
            "Epoch 18: val_accuracy did not improve from 0.91833\n",
            "225/225 [==============================] - 36s 159ms/step - loss: 0.0791 - accuracy: 0.9744 - val_loss: 0.2747 - val_accuracy: 0.9125\n",
            "Epoch 19/30\n",
            "225/225 [==============================] - ETA: 0s - loss: 0.0772 - accuracy: 0.9743\n",
            "Epoch 19: val_accuracy did not improve from 0.91833\n",
            "225/225 [==============================] - 37s 162ms/step - loss: 0.0772 - accuracy: 0.9743 - val_loss: 0.2667 - val_accuracy: 0.9129\n",
            "Epoch 20/30\n",
            "225/225 [==============================] - ETA: 0s - loss: 0.0898 - accuracy: 0.9700\n",
            "Epoch 20: val_accuracy did not improve from 0.91833\n",
            "225/225 [==============================] - 37s 163ms/step - loss: 0.0898 - accuracy: 0.9700 - val_loss: 0.3692 - val_accuracy: 0.8917\n",
            "Epoch 21/30\n",
            "225/225 [==============================] - ETA: 0s - loss: 0.0843 - accuracy: 0.9707\n",
            "Epoch 21: val_accuracy did not improve from 0.91833\n",
            "225/225 [==============================] - 36s 161ms/step - loss: 0.0843 - accuracy: 0.9707 - val_loss: 0.3185 - val_accuracy: 0.9058\n",
            "Epoch 22/30\n",
            "225/225 [==============================] - ETA: 0s - loss: 0.0481 - accuracy: 0.9860\n",
            "Epoch 22: val_accuracy improved from 0.91833 to 0.92458, saving model to best_model.h5\n",
            "225/225 [==============================] - 36s 161ms/step - loss: 0.0481 - accuracy: 0.9860 - val_loss: 0.2533 - val_accuracy: 0.9246\n",
            "Epoch 23/30\n",
            "225/225 [==============================] - ETA: 0s - loss: 0.0598 - accuracy: 0.9832\n",
            "Epoch 23: val_accuracy did not improve from 0.92458\n",
            "225/225 [==============================] - 36s 161ms/step - loss: 0.0598 - accuracy: 0.9832 - val_loss: 0.3365 - val_accuracy: 0.8942\n",
            "Epoch 24/30\n",
            "225/225 [==============================] - ETA: 0s - loss: 0.0692 - accuracy: 0.9749\n",
            "Epoch 24: val_accuracy did not improve from 0.92458\n",
            "225/225 [==============================] - 37s 162ms/step - loss: 0.0692 - accuracy: 0.9749 - val_loss: 0.2741 - val_accuracy: 0.9233\n",
            "Epoch 25/30\n",
            "225/225 [==============================] - ETA: 0s - loss: 0.0480 - accuracy: 0.9864\n",
            "Epoch 25: val_accuracy improved from 0.92458 to 0.92583, saving model to best_model.h5\n",
            "225/225 [==============================] - 37s 163ms/step - loss: 0.0480 - accuracy: 0.9864 - val_loss: 0.2595 - val_accuracy: 0.9258\n",
            "Epoch 26/30\n",
            "225/225 [==============================] - ETA: 0s - loss: 0.0411 - accuracy: 0.9896\n",
            "Epoch 26: val_accuracy did not improve from 0.92583\n",
            "225/225 [==============================] - 36s 159ms/step - loss: 0.0411 - accuracy: 0.9896 - val_loss: 0.3112 - val_accuracy: 0.9112\n",
            "Epoch 27/30\n",
            "225/225 [==============================] - ETA: 0s - loss: 0.0583 - accuracy: 0.9807\n",
            "Epoch 27: val_accuracy improved from 0.92583 to 0.92750, saving model to best_model.h5\n",
            "225/225 [==============================] - 36s 161ms/step - loss: 0.0583 - accuracy: 0.9807 - val_loss: 0.2658 - val_accuracy: 0.9275\n",
            "Epoch 28/30\n",
            "225/225 [==============================] - ETA: 0s - loss: 0.0494 - accuracy: 0.9846\n",
            "Epoch 28: val_accuracy did not improve from 0.92750\n",
            "225/225 [==============================] - 36s 161ms/step - loss: 0.0494 - accuracy: 0.9846 - val_loss: 0.2775 - val_accuracy: 0.9254\n",
            "Epoch 29/30\n",
            "225/225 [==============================] - ETA: 0s - loss: 0.0478 - accuracy: 0.9868\n",
            "Epoch 29: val_accuracy did not improve from 0.92750\n",
            "225/225 [==============================] - 36s 160ms/step - loss: 0.0478 - accuracy: 0.9868 - val_loss: 0.3288 - val_accuracy: 0.9125\n",
            "Epoch 30/30\n",
            "225/225 [==============================] - ETA: 0s - loss: 0.0569 - accuracy: 0.9817\n",
            "Epoch 30: val_accuracy improved from 0.92750 to 0.92917, saving model to best_model.h5\n",
            "225/225 [==============================] - 38s 167ms/step - loss: 0.0569 - accuracy: 0.9817 - val_loss: 0.2595 - val_accuracy: 0.9292\n"
          ]
        }
      ]
    },
    {
      "cell_type": "code",
      "source": [
        "vgg_model.save('best.h5')"
      ],
      "metadata": {
        "id": "vdbywbVFKlJl"
      },
      "execution_count": 34,
      "outputs": []
    },
    {
      "cell_type": "code",
      "source": [
        "from keras.models import load_model\n",
        "best_model1=load_model('/content/best.h5')\n",
        "results1 = best_model1.evaluate(test_generator, verbose=0)\n",
        "\n",
        "print(\"    Test Loss: {:.5f}\".format(results1[0]))\n",
        "print(\"Test Accuracy: {:.2f}%\".format(results1[1] * 100))"
      ],
      "metadata": {
        "id": "PSf_hM3tKlFp",
        "colab": {
          "base_uri": "https://localhost:8080/"
        },
        "outputId": "a3f0e162-c08c-4b5f-a29b-2b687545269a"
      },
      "execution_count": 35,
      "outputs": [
        {
          "output_type": "stream",
          "name": "stdout",
          "text": [
            "    Test Loss: 0.33277\n",
            "Test Accuracy: 91.58%\n"
          ]
        }
      ]
    },
    {
      "cell_type": "code",
      "source": [
        "from keras.models import load_model\n",
        "best_model=load_model('/content/best_model.h5')\n",
        "results = best_model.evaluate(test_generator, verbose=0)\n",
        "\n",
        "print(\"    Test Loss: {:.5f}\".format(results[0]))\n",
        "print(\"Test Accuracy: {:.2f}%\".format(results[1] * 100))"
      ],
      "metadata": {
        "id": "Zy8gDr2fKkzn",
        "colab": {
          "base_uri": "https://localhost:8080/"
        },
        "outputId": "97146a13-bf2e-4a73-fcdf-01cbdf77320a"
      },
      "execution_count": 36,
      "outputs": [
        {
          "output_type": "stream",
          "name": "stdout",
          "text": [
            "    Test Loss: 0.33277\n",
            "Test Accuracy: 91.58%\n"
          ]
        }
      ]
    },
    {
      "cell_type": "code",
      "source": [
        "import matplotlib.pyplot as plt\n",
        "\n",
        "plt.plot(result.history['loss'])\n",
        "plt.plot(result.history['val_loss'])\n",
        "plt.legend(['Training', 'Validation'])\n",
        "plt.title('Training and Validation losses')\n",
        "plt.xlabel('epoch')\n",
        "plt.ylabel('loss')"
      ],
      "metadata": {
        "id": "G2mJ5IPfKkw2",
        "colab": {
          "base_uri": "https://localhost:8080/",
          "height": 313
        },
        "outputId": "b41be3ef-13a2-4ec7-9e50-38f554d44679"
      },
      "execution_count": 37,
      "outputs": [
        {
          "output_type": "execute_result",
          "data": {
            "text/plain": [
              "Text(0, 0.5, 'loss')"
            ]
          },
          "metadata": {},
          "execution_count": 37
        },
        {
          "output_type": "display_data",
          "data": {
            "text/plain": [
              "<Figure size 432x288 with 1 Axes>"
            ],
            "image/png": "[encoded data removed]"
          },
          "metadata": {
            "needs_background": "light"
          }
        }
      ]
    },
    {
      "cell_type": "code",
      "source": [
        "plt.plot(result.history['accuracy'])\n",
        "plt.plot(result.history['val_accuracy'])\n",
        "plt.legend(['Training', 'Validation'])\n",
        "plt.title('Training and Validation accuracy')\n",
        "plt.xlabel('epoch')\n",
        "plt.ylabel('accuracy')"
      ],
      "metadata": {
        "id": "aW8dSj2ZKkuP",
        "colab": {
          "base_uri": "https://localhost:8080/",
          "height": 313
        },
        "outputId": "c9341223-9007-4bb3-b2bb-2ea9d7fd7150"
      },
      "execution_count": 38,
      "outputs": [
        {
          "output_type": "execute_result",
          "data": {
            "text/plain": [
              "Text(0, 0.5, 'accuracy')"
            ]
          },
          "metadata": {},
          "execution_count": 38
        },
        {
          "output_type": "display_data",
          "data": {
            "text/plain": [
              "<Figure size 432x288 with 1 Axes>"
            ],
            "image/png": "[encoded data removed]"
          },
          "metadata": {
            "needs_background": "light"
          }
        }
      ]
    },
    {
      "cell_type": "code",
      "source": [
        "y_pred = best_model.predict(test_generator)\n",
        "y_pred"
      ],
      "metadata": {
        "id": "UZOS1EENKkZ9",
        "colab": {
          "base_uri": "https://localhost:8080/"
        },
        "outputId": "fa289397-fa6f-489d-8060-4aa81c8f5934"
      },
      "execution_count": 39,
      "outputs": [
        {
          "output_type": "stream",
          "name": "stdout",
          "text": [
            "75/75 [==============================] - 9s 119ms/step\n"
          ]
        },
        {
          "output_type": "execute_result",
          "data": {
            "text/plain": [
              "array([[1.2400640e-10, 8.7666813e-10, 1.6089533e-06, 3.8288519e-04,\n",
              "        6.2822181e-07, 9.9961483e-01],\n",
              "       [8.1737106e-08, 9.8330450e-01, 1.6483638e-02, 1.9471868e-07,\n",
              "        2.1157073e-04, 1.6017845e-08],\n",
              "       [9.7475735e-05, 2.6091482e-04, 1.8213723e-03, 2.2917614e-07,\n",
              "        8.7171614e-01, 1.2610395e-01],\n",
              "       ...,\n",
              "       [1.9708656e-05, 3.1708470e-03, 9.9653554e-01, 1.0327177e-06,\n",
              "        1.9504240e-04, 7.7782162e-05],\n",
              "       [6.1202571e-10, 3.3015122e-06, 2.4124994e-03, 2.5203495e-09,\n",
              "        9.9758244e-01, 1.7781266e-06],\n",
              "       [6.5326135e-06, 3.1116565e-03, 9.2396551e-01, 6.8570688e-02,\n",
              "        3.2936113e-03, 1.0518965e-03]], dtype=float32)"
            ]
          },
          "metadata": {},
          "execution_count": 39
        }
      ]
    },
    {
      "cell_type": "code",
      "source": [
        "y_pred = np.argmax(y_pred, axis=1)\n",
        "y_pred"
      ],
      "metadata": {
        "id": "odEuxLQkKkXa",
        "colab": {
          "base_uri": "https://localhost:8080/"
        },
        "outputId": "6cd9c4fa-60cb-4dd4-e85f-145d862c2383"
      },
      "execution_count": 40,
      "outputs": [
        {
          "output_type": "execute_result",
          "data": {
            "text/plain": [
              "array([5, 1, 4, ..., 2, 4, 2])"
            ]
          },
          "metadata": {},
          "execution_count": 40
        }
      ]
    },
    {
      "cell_type": "code",
      "source": [
        "from sklearn.metrics import confusion_matrix, classification_report\n",
        "\n",
        "\n",
        "cm = confusion_matrix(test_generator.labels, y_pred)\n",
        "print(cm)\n",
        "print('classification report')\n",
        "print( classification_report(test_generator.labels, y_pred))"
      ],
      "metadata": {
        "id": "_OhStVzvKkWA",
        "colab": {
          "base_uri": "https://localhost:8080/"
        },
        "outputId": "30bca6d5-5d1c-4b9a-dcb3-bef83e2957ac"
      },
      "execution_count": 41,
      "outputs": [
        {
          "output_type": "stream",
          "name": "stdout",
          "text": [
            "[[356   3  13   0   4  24]\n",
            " [  0 371  20   1   6   2]\n",
            " [  2  16 354   7  19   2]\n",
            " [  0   0   1 395   2   2]\n",
            " [  0   6  33   0 351  10]\n",
            " [  8   1   8   1  11 371]]\n",
            "classification report\n",
            "              precision    recall  f1-score   support\n",
            "\n",
            "           0       0.97      0.89      0.93       400\n",
            "           1       0.93      0.93      0.93       400\n",
            "           2       0.83      0.89      0.85       400\n",
            "           3       0.98      0.99      0.98       400\n",
            "           4       0.89      0.88      0.89       400\n",
            "           5       0.90      0.93      0.91       400\n",
            "\n",
            "    accuracy                           0.92      2400\n",
            "   macro avg       0.92      0.92      0.92      2400\n",
            "weighted avg       0.92      0.92      0.92      2400\n",
            "\n"
          ]
        }
      ]
    },
    {
      "cell_type": "code",
      "source": [
        "import seaborn as sns\n",
        "f,ax = plt.subplots(figsize=(8, 8))\n",
        "sns.heatmap(cm, annot=True, linewidths=0.01,cmap=\"Oranges\",linecolor=\"gray\", fmt= '.1f',ax=ax)\n",
        "plt.xlabel(\"Predicted Label\")\n",
        "plt.ylabel(\"True Label\")\n",
        "plt.title(\"Confusion Matrix\")\n",
        "plt.show()"
      ],
      "metadata": {
        "id": "hfXAcVzCKkRv",
        "colab": {
          "base_uri": "https://localhost:8080/",
          "height": 513
        },
        "outputId": "7eb654f1-6a43-4ea6-9b4b-119a1595e2f3"
      },
      "execution_count": 42,
      "outputs": [
        {
          "output_type": "display_data",
          "data": {
            "text/plain": [
              "<Figure size 576x576 with 2 Axes>"
            ],
            "image/png": "[encoded data removed]"
          },
          "metadata": {
            "needs_background": "light"
          }
        }
      ]
    },
    {
      "cell_type": "code",
      "source": [
        "class_map = dict([(v, k) for k, v in train_generator.class_indices.items()])\n",
        "print(class_map)"
      ],
      "metadata": {
        "id": "xGFESb_AKkOU",
        "colab": {
          "base_uri": "https://localhost:8080/"
        },
        "outputId": "0b0042e7-f97e-457b-ae3b-0c7010eda84d"
      },
      "execution_count": 43,
      "outputs": [
        {
          "output_type": "stream",
          "name": "stdout",
          "text": [
            "{0: 'F-resample', 1: 'M', 2: 'N', 3: 'Q', 4: 'S', 5: 'V'}\n"
          ]
        }
      ]
    },
    {
      "cell_type": "code",
      "source": [
        "from tensorflow.keras.models import load_model\n",
        "from tensorflow.keras.preprocessing import image\n",
        "test_image_path = '/content/ECG_Image_data/test/S/115.jpg'\n",
        "\n",
        "def generate_predictions(test_image_path, actual_label):\n",
        "    \n",
        "    # 1. Load and preprocess the image\n",
        "    test_img = image.load_img(test_image_path, target_size=(224, 224))\n",
        "    test_img_arr = image.img_to_array(test_img)/255.0\n",
        "    test_img_input = test_img_arr.reshape((1, test_img_arr.shape[0], test_img_arr.shape[1], test_img_arr.shape[2]))\n",
        "\n",
        "    # 2. Make Predictions\n",
        "    predicted_label = np.argmax(best_model1.predict(test_img_input))\n",
        "    predicted_beat = class_map[predicted_label]\n",
        "    plt.figure(figsize=(4, 4))\n",
        "    plt.imshow(test_img_arr)\n",
        "    plt.title(\"Predicted Label: {}, Actual Label: {}\".format(predicted_beat, actual_label))\n",
        "    plt.grid()\n",
        "    plt.axis('off')\n",
        "    plt.show()\n",
        "\n",
        "# call the function\n",
        "generate_predictions(test_image_path, actual_label='S')"
      ],
      "metadata": {
        "id": "9blBn-XHKkMm",
        "colab": {
          "base_uri": "https://localhost:8080/",
          "height": 282
        },
        "outputId": "8f4ca61c-0462-4671-8185-61b2c0058883"
      },
      "execution_count": 44,
      "outputs": [
        {
          "output_type": "stream",
          "name": "stdout",
          "text": [
            "1/1 [==============================] - 1s 738ms/step\n"
          ]
        },
        {
          "output_type": "display_data",
          "data": {
            "text/plain": [
              "<Figure size 288x288 with 1 Axes>"
            ],
            "image/png": "[encoded data removed]"
          },
          "metadata": {
            "needs_background": "light"
          }
        }
      ]
    },
    {
      "cell_type": "code",
      "source": [
        "IMAGE_SIZE = [224, 224]\n",
        "vgg = VGG19(input_shape=IMAGE_SIZE + [3], weights='imagenet', include_top=False)"
      ],
      "metadata": {
        "colab": {
          "base_uri": "https://localhost:8080/"
        },
        "id": "plwjA8YgxK6R",
        "outputId": "73bf4baf-e62b-43e2-d787-93fafca90b6f"
      },
      "execution_count": 45,
      "outputs": [
        {
          "output_type": "stream",
          "name": "stdout",
          "text": [
            "Downloading data from https://storage.googleapis.com/tensorflow/keras-applications/vgg19/vgg19_weights_tf_dim_ordering_tf_kernels_notop.h5\n",
            "80134624/80134624 [==============================] - 0s 0us/step\n"
          ]
        }
      ]
    },
    {
      "cell_type": "code",
      "source": [
        "for layer in vgg.layers:\n",
        "  layer.trainable = False"
      ],
      "metadata": {
        "id": "cRsX1_qmxK3b"
      },
      "execution_count": 46,
      "outputs": []
    },
    {
      "cell_type": "code",
      "source": [
        "x = Flatten()(vgg.output)"
      ],
      "metadata": {
        "id": "0zx1y_ryxK09"
      },
      "execution_count": 47,
      "outputs": []
    },
    {
      "cell_type": "code",
      "source": [
        "prediction = Dense(len(folders), activation='softmax')(x)"
      ],
      "metadata": {
        "id": "2no4eex6xKyo"
      },
      "execution_count": 48,
      "outputs": []
    },
    {
      "cell_type": "code",
      "source": [
        "vgg_model = Model(inputs=vgg.input, outputs=prediction)\n",
        "\n",
        "vgg_model.summary()"
      ],
      "metadata": {
        "colab": {
          "base_uri": "https://localhost:8080/"
        },
        "id": "okkoppE0xKwH",
        "outputId": "83b6ef51-791a-42fe-e319-48bbb486a75f"
      },
      "execution_count": 49,
      "outputs": [
        {
          "output_type": "stream",
          "name": "stdout",
          "text": [
            "Model: \"model_1\"\n",
            "_________________________________________________________________\n",
            " Layer (type)                Output Shape              Param #   \n",
            "=================================================================\n",
            " input_2 (InputLayer)        [(None, 224, 224, 3)]     0         \n",
            "                                                                 \n",
            " block1_conv1 (Conv2D)       (None, 224, 224, 64)      1792      \n",
            "                                                                 \n",
            " block1_conv2 (Conv2D)       (None, 224, 224, 64)      36928     \n",
            "                                                                 \n",
            " block1_pool (MaxPooling2D)  (None, 112, 112, 64)      0         \n",
            "                                                                 \n",
            " block2_conv1 (Conv2D)       (None, 112, 112, 128)     73856     \n",
            "                                                                 \n",
            " block2_conv2 (Conv2D)       (None, 112, 112, 128)     147584    \n",
            "                                                                 \n",
            " block2_pool (MaxPooling2D)  (None, 56, 56, 128)       0         \n",
            "                                                                 \n",
            " block3_conv1 (Conv2D)       (None, 56, 56, 256)       295168    \n",
            "                                                                 \n",
            " block3_conv2 (Conv2D)       (None, 56, 56, 256)       590080    \n",
            "                                                                 \n",
            " block3_conv3 (Conv2D)       (None, 56, 56, 256)       590080    \n",
            "                                                                 \n",
            " block3_conv4 (Conv2D)       (None, 56, 56, 256)       590080    \n",
            "                                                                 \n",
            " block3_pool (MaxPooling2D)  (None, 28, 28, 256)       0         \n",
            "                                                                 \n",
            " block4_conv1 (Conv2D)       (None, 28, 28, 512)       1180160   \n",
            "                                                                 \n",
            " block4_conv2 (Conv2D)       (None, 28, 28, 512)       2359808   \n",
            "                                                                 \n",
            " block4_conv3 (Conv2D)       (None, 28, 28, 512)       2359808   \n",
            "                                                                 \n",
            " block4_conv4 (Conv2D)       (None, 28, 28, 512)       2359808   \n",
            "                                                                 \n",
            " block4_pool (MaxPooling2D)  (None, 14, 14, 512)       0         \n",
            "                                                                 \n",
            " block5_conv1 (Conv2D)       (None, 14, 14, 512)       2359808   \n",
            "                                                                 \n",
            " block5_conv2 (Conv2D)       (None, 14, 14, 512)       2359808   \n",
            "                                                                 \n",
            " block5_conv3 (Conv2D)       (None, 14, 14, 512)       2359808   \n",
            "                                                                 \n",
            " block5_conv4 (Conv2D)       (None, 14, 14, 512)       2359808   \n",
            "                                                                 \n",
            " block5_pool (MaxPooling2D)  (None, 7, 7, 512)         0         \n",
            "                                                                 \n",
            " flatten_1 (Flatten)         (None, 25088)             0         \n",
            "                                                                 \n",
            " dense_1 (Dense)             (None, 6)                 150534    \n",
            "                                                                 \n",
            "=================================================================\n",
            "Total params: 20,174,918\n",
            "Trainable params: 150,534\n",
            "Non-trainable params: 20,024,384\n",
            "_________________________________________________________________\n"
          ]
        }
      ]
    },
    {
      "cell_type": "code",
      "source": [
        "import keras\n",
        "checkpoint = keras.callbacks.ModelCheckpoint(\n",
        "    filepath='best_model2.h5',\n",
        "    save_weights_only=False,\n",
        "    monitor='val_accuracy',\n",
        "    mode='max',\n",
        "    save_best_only=True,\n",
        "    verbose=1)\n",
        "rp = keras.callbacks.ReduceLROnPlateau(\n",
        "        monitor=\"val_accuracy\",\n",
        "        factor=0.2,\n",
        "        patience=3,\n",
        "        verbose=1,\n",
        "        mode=\"max\",\n",
        "        min_lr=0.00001,\n",
        "     )"
      ],
      "metadata": {
        "id": "RRLJUCVgxKqv"
      },
      "execution_count": 50,
      "outputs": []
    },
    {
      "cell_type": "code",
      "source": [
        "vgg_model.compile(\n",
        "    optimizer='adam',\n",
        "    loss='categorical_crossentropy',\n",
        "    metrics=['accuracy']\n",
        ")"
      ],
      "metadata": {
        "id": "HsOcqXncxUAL"
      },
      "execution_count": 51,
      "outputs": []
    },
    {
      "cell_type": "code",
      "source": [
        "result=vgg_model.fit(\n",
        "    train_generator,\n",
        "    validation_data=val_generator,\n",
        "    epochs=25,\n",
        "    steps_per_epoch=len(train_generator),\n",
        "    validation_steps=len(val_generator),\n",
        "    callbacks=[checkpoint,rp]\n",
        ")"
      ],
      "metadata": {
        "colab": {
          "base_uri": "https://localhost:8080/"
        },
        "id": "Br4gg5mUxT8n",
        "outputId": "b13150e5-bddf-4198-fecf-1a7867591cdf"
      },
      "execution_count": 52,
      "outputs": [
        {
          "output_type": "stream",
          "name": "stdout",
          "text": [
            "Epoch 1/25\n",
            "225/225 [==============================] - ETA: 0s - loss: 0.7833 - accuracy: 0.7196\n",
            "Epoch 1: val_accuracy improved from -inf to 0.80417, saving model to best_model2.h5\n",
            "225/225 [==============================] - 44s 190ms/step - loss: 0.7833 - accuracy: 0.7196 - val_loss: 0.5625 - val_accuracy: 0.8042 - lr: 0.0010\n",
            "Epoch 2/25\n",
            "225/225 [==============================] - ETA: 0s - loss: 0.4596 - accuracy: 0.8322\n",
            "Epoch 2: val_accuracy improved from 0.80417 to 0.83958, saving model to best_model2.h5\n",
            "225/225 [==============================] - 43s 189ms/step - loss: 0.4596 - accuracy: 0.8322 - val_loss: 0.4609 - val_accuracy: 0.8396 - lr: 0.0010\n",
            "Epoch 3/25\n",
            "225/225 [==============================] - ETA: 0s - loss: 0.3768 - accuracy: 0.8637\n",
            "Epoch 3: val_accuracy improved from 0.83958 to 0.86125, saving model to best_model2.h5\n",
            "225/225 [==============================] - 43s 189ms/step - loss: 0.3768 - accuracy: 0.8637 - val_loss: 0.3881 - val_accuracy: 0.8612 - lr: 0.0010\n",
            "Epoch 4/25\n",
            "225/225 [==============================] - ETA: 0s - loss: 0.3036 - accuracy: 0.8900\n",
            "Epoch 4: val_accuracy improved from 0.86125 to 0.88167, saving model to best_model2.h5\n",
            "225/225 [==============================] - 43s 189ms/step - loss: 0.3036 - accuracy: 0.8900 - val_loss: 0.3362 - val_accuracy: 0.8817 - lr: 0.0010\n",
            "Epoch 5/25\n",
            "225/225 [==============================] - ETA: 0s - loss: 0.2664 - accuracy: 0.9043\n",
            "Epoch 5: val_accuracy did not improve from 0.88167\n",
            "225/225 [==============================] - 43s 189ms/step - loss: 0.2664 - accuracy: 0.9043 - val_loss: 0.3958 - val_accuracy: 0.8533 - lr: 0.0010\n",
            "Epoch 6/25\n",
            "225/225 [==============================] - ETA: 0s - loss: 0.2285 - accuracy: 0.9207\n",
            "Epoch 6: val_accuracy did not improve from 0.88167\n",
            "225/225 [==============================] - 42s 187ms/step - loss: 0.2285 - accuracy: 0.9207 - val_loss: 0.4074 - val_accuracy: 0.8521 - lr: 0.0010\n",
            "Epoch 7/25\n",
            "225/225 [==============================] - ETA: 0s - loss: 0.2372 - accuracy: 0.9128\n",
            "Epoch 7: val_accuracy improved from 0.88167 to 0.88667, saving model to best_model2.h5\n",
            "225/225 [==============================] - 52s 233ms/step - loss: 0.2372 - accuracy: 0.9128 - val_loss: 0.3287 - val_accuracy: 0.8867 - lr: 0.0010\n",
            "Epoch 8/25\n",
            "225/225 [==============================] - ETA: 0s - loss: 0.1957 - accuracy: 0.9301\n",
            "Epoch 8: val_accuracy improved from 0.88667 to 0.90708, saving model to best_model2.h5\n",
            "225/225 [==============================] - 53s 234ms/step - loss: 0.1957 - accuracy: 0.9301 - val_loss: 0.2922 - val_accuracy: 0.9071 - lr: 0.0010\n",
            "Epoch 9/25\n",
            "225/225 [==============================] - ETA: 0s - loss: 0.1744 - accuracy: 0.9422\n",
            "Epoch 9: val_accuracy did not improve from 0.90708\n",
            "225/225 [==============================] - 43s 189ms/step - loss: 0.1744 - accuracy: 0.9422 - val_loss: 0.3204 - val_accuracy: 0.8950 - lr: 0.0010\n",
            "Epoch 10/25\n",
            "225/225 [==============================] - ETA: 0s - loss: 0.1543 - accuracy: 0.9482\n",
            "Epoch 10: val_accuracy improved from 0.90708 to 0.91417, saving model to best_model2.h5\n",
            "225/225 [==============================] - 43s 190ms/step - loss: 0.1543 - accuracy: 0.9482 - val_loss: 0.2533 - val_accuracy: 0.9142 - lr: 0.0010\n",
            "Epoch 11/25\n",
            "225/225 [==============================] - ETA: 0s - loss: 0.1539 - accuracy: 0.9490\n",
            "Epoch 11: val_accuracy did not improve from 0.91417\n",
            "225/225 [==============================] - 52s 233ms/step - loss: 0.1539 - accuracy: 0.9490 - val_loss: 0.2771 - val_accuracy: 0.9104 - lr: 0.0010\n",
            "Epoch 12/25\n",
            "225/225 [==============================] - ETA: 0s - loss: 0.1529 - accuracy: 0.9485\n",
            "Epoch 12: val_accuracy did not improve from 0.91417\n",
            "225/225 [==============================] - 53s 234ms/step - loss: 0.1529 - accuracy: 0.9485 - val_loss: 0.3188 - val_accuracy: 0.8904 - lr: 0.0010\n",
            "Epoch 13/25\n",
            "225/225 [==============================] - ETA: 0s - loss: 0.1361 - accuracy: 0.9538\n",
            "Epoch 13: val_accuracy did not improve from 0.91417\n",
            "\n",
            "Epoch 13: ReduceLROnPlateau reducing learning rate to 0.00020000000949949026.\n",
            "225/225 [==============================] - 42s 188ms/step - loss: 0.1361 - accuracy: 0.9538 - val_loss: 0.2970 - val_accuracy: 0.8992 - lr: 0.0010\n",
            "Epoch 14/25\n",
            "225/225 [==============================] - ETA: 0s - loss: 0.0864 - accuracy: 0.9771\n",
            "Epoch 14: val_accuracy improved from 0.91417 to 0.92750, saving model to best_model2.h5\n",
            "225/225 [==============================] - 42s 188ms/step - loss: 0.0864 - accuracy: 0.9771 - val_loss: 0.2362 - val_accuracy: 0.9275 - lr: 2.0000e-04\n",
            "Epoch 15/25\n",
            "225/225 [==============================] - ETA: 0s - loss: 0.0816 - accuracy: 0.9787\n",
            "Epoch 15: val_accuracy improved from 0.92750 to 0.92833, saving model to best_model2.h5\n",
            "225/225 [==============================] - 43s 190ms/step - loss: 0.0816 - accuracy: 0.9787 - val_loss: 0.2394 - val_accuracy: 0.9283 - lr: 2.0000e-04\n",
            "Epoch 16/25\n",
            "225/225 [==============================] - ETA: 0s - loss: 0.0781 - accuracy: 0.9821\n",
            "Epoch 16: val_accuracy did not improve from 0.92833\n",
            "225/225 [==============================] - 42s 187ms/step - loss: 0.0781 - accuracy: 0.9821 - val_loss: 0.2383 - val_accuracy: 0.9233 - lr: 2.0000e-04\n",
            "Epoch 17/25\n",
            "225/225 [==============================] - ETA: 0s - loss: 0.0779 - accuracy: 0.9807\n",
            "Epoch 17: val_accuracy did not improve from 0.92833\n",
            "225/225 [==============================] - 43s 189ms/step - loss: 0.0779 - accuracy: 0.9807 - val_loss: 0.2421 - val_accuracy: 0.9221 - lr: 2.0000e-04\n",
            "Epoch 18/25\n",
            "225/225 [==============================] - ETA: 0s - loss: 0.0782 - accuracy: 0.9822\n",
            "Epoch 18: val_accuracy did not improve from 0.92833\n",
            "\n",
            "Epoch 18: ReduceLROnPlateau reducing learning rate to 4.0000001899898055e-05.\n",
            "225/225 [==============================] - 43s 189ms/step - loss: 0.0782 - accuracy: 0.9822 - val_loss: 0.2342 - val_accuracy: 0.9267 - lr: 2.0000e-04\n",
            "Epoch 19/25\n",
            "225/225 [==============================] - ETA: 0s - loss: 0.0697 - accuracy: 0.9857\n",
            "Epoch 19: val_accuracy did not improve from 0.92833\n",
            "225/225 [==============================] - 44s 194ms/step - loss: 0.0697 - accuracy: 0.9857 - val_loss: 0.2311 - val_accuracy: 0.9275 - lr: 4.0000e-05\n",
            "Epoch 20/25\n",
            "225/225 [==============================] - ETA: 0s - loss: 0.0695 - accuracy: 0.9850\n",
            "Epoch 20: val_accuracy did not improve from 0.92833\n",
            "225/225 [==============================] - 42s 188ms/step - loss: 0.0695 - accuracy: 0.9850 - val_loss: 0.2306 - val_accuracy: 0.9267 - lr: 4.0000e-05\n",
            "Epoch 21/25\n",
            "225/225 [==============================] - ETA: 0s - loss: 0.0696 - accuracy: 0.9858\n",
            "Epoch 21: val_accuracy did not improve from 0.92833\n",
            "\n",
            "Epoch 21: ReduceLROnPlateau reducing learning rate to 1e-05.\n",
            "225/225 [==============================] - 43s 190ms/step - loss: 0.0696 - accuracy: 0.9858 - val_loss: 0.2294 - val_accuracy: 0.9275 - lr: 4.0000e-05\n",
            "Epoch 22/25\n",
            "225/225 [==============================] - ETA: 0s - loss: 0.0674 - accuracy: 0.9864\n",
            "Epoch 22: val_accuracy did not improve from 0.92833\n",
            "225/225 [==============================] - 42s 188ms/step - loss: 0.0674 - accuracy: 0.9864 - val_loss: 0.2306 - val_accuracy: 0.9250 - lr: 1.0000e-05\n",
            "Epoch 23/25\n",
            "225/225 [==============================] - ETA: 0s - loss: 0.0673 - accuracy: 0.9857\n",
            "Epoch 23: val_accuracy did not improve from 0.92833\n",
            "225/225 [==============================] - 43s 189ms/step - loss: 0.0673 - accuracy: 0.9857 - val_loss: 0.2298 - val_accuracy: 0.9271 - lr: 1.0000e-05\n",
            "Epoch 24/25\n",
            "225/225 [==============================] - ETA: 0s - loss: 0.0671 - accuracy: 0.9861\n",
            "Epoch 24: val_accuracy did not improve from 0.92833\n",
            "225/225 [==============================] - 52s 233ms/step - loss: 0.0671 - accuracy: 0.9861 - val_loss: 0.2284 - val_accuracy: 0.9271 - lr: 1.0000e-05\n",
            "Epoch 25/25\n",
            "225/225 [==============================] - ETA: 0s - loss: 0.0672 - accuracy: 0.9862\n",
            "Epoch 25: val_accuracy did not improve from 0.92833\n",
            "225/225 [==============================] - 53s 234ms/step - loss: 0.0672 - accuracy: 0.9862 - val_loss: 0.2285 - val_accuracy: 0.9283 - lr: 1.0000e-05\n"
          ]
        }
      ]
    },
    {
      "cell_type": "code",
      "source": [
        "from keras.models import load_model\n",
        "best_model=load_model('/content/best_model2.h5')\n",
        "results = best_model.evaluate(test_generator, verbose=0)\n",
        "\n",
        "print(\"    Test Loss: {:.5f}\".format(results[0]))\n",
        "print(\"Test Accuracy: {:.2f}%\".format(results[1] * 100))"
      ],
      "metadata": {
        "id": "WKEt7RB5xT1h",
        "colab": {
          "base_uri": "https://localhost:8080/"
        },
        "outputId": "13d4ecfd-9ffe-4ac7-da60-eb832ae11d5b"
      },
      "execution_count": 53,
      "outputs": [
        {
          "output_type": "stream",
          "name": "stdout",
          "text": [
            "    Test Loss: 0.28861\n",
            "Test Accuracy: 90.25%\n"
          ]
        }
      ]
    },
    {
      "cell_type": "code",
      "source": [
        "import matplotlib.pyplot as plt\n",
        "\n",
        "plt.plot(result.history['loss'])\n",
        "plt.plot(result.history['val_loss'])\n",
        "plt.legend(['Training', 'Validation'])\n",
        "plt.title('Training and Validation losses')\n",
        "plt.xlabel('epoch')\n",
        "plt.ylabel('loss')"
      ],
      "metadata": {
        "id": "ARFLwSDax6eN",
        "colab": {
          "base_uri": "https://localhost:8080/",
          "height": 313
        },
        "outputId": "8f1ad0af-2a06-48c4-97f4-e665a81f7da4"
      },
      "execution_count": 54,
      "outputs": [
        {
          "output_type": "execute_result",
          "data": {
            "text/plain": [
              "Text(0, 0.5, 'loss')"
            ]
          },
          "metadata": {},
          "execution_count": 54
        },
        {
          "output_type": "display_data",
          "data": {
            "text/plain": [
              "<Figure size 432x288 with 1 Axes>"
            ],
            "image/png": "[encoded data removed]"
          },
          "metadata": {
            "needs_background": "light"
          }
        }
      ]
    },
    {
      "cell_type": "code",
      "source": [
        "plt.plot(result.history['accuracy'])\n",
        "plt.plot(result.history['val_accuracy'])\n",
        "plt.legend(['Training', 'Validation'])\n",
        "plt.title('Training and Validation accuracy')\n",
        "plt.xlabel('epoch')\n",
        "plt.ylabel('accuracy')"
      ],
      "metadata": {
        "id": "rDUjLeThx6bJ",
        "colab": {
          "base_uri": "https://localhost:8080/",
          "height": 313
        },
        "outputId": "41713ecd-4d8a-43b6-edd6-6dcebe4994b2"
      },
      "execution_count": 55,
      "outputs": [
        {
          "output_type": "execute_result",
          "data": {
            "text/plain": [
              "Text(0, 0.5, 'accuracy')"
            ]
          },
          "metadata": {},
          "execution_count": 55
        },
        {
          "output_type": "display_data",
          "data": {
            "text/plain": [
              "<Figure size 432x288 with 1 Axes>"
            ],
            "image/png": "[encoded data removed]"
          },
          "metadata": {
            "needs_background": "light"
          }
        }
      ]
    },
    {
      "cell_type": "code",
      "source": [
        "y_pred = best_model1.predict(test_generator)\n",
        "y_pred"
      ],
      "metadata": {
        "id": "0-bUlsvOx6Wn",
        "colab": {
          "base_uri": "https://localhost:8080/"
        },
        "outputId": "384a977e-6a71-4f9c-9804-c99f805a70ca"
      },
      "execution_count": 56,
      "outputs": [
        {
          "output_type": "stream",
          "name": "stdout",
          "text": [
            "75/75 [==============================] - 9s 125ms/step\n"
          ]
        },
        {
          "output_type": "execute_result",
          "data": {
            "text/plain": [
              "array([[1.2400640e-10, 8.7666813e-10, 1.6089533e-06, 3.8288519e-04,\n",
              "        6.2822181e-07, 9.9961483e-01],\n",
              "       [8.1737106e-08, 9.8330450e-01, 1.6483638e-02, 1.9471868e-07,\n",
              "        2.1157073e-04, 1.6017845e-08],\n",
              "       [9.7475735e-05, 2.6091482e-04, 1.8213723e-03, 2.2917614e-07,\n",
              "        8.7171614e-01, 1.2610395e-01],\n",
              "       ...,\n",
              "       [1.9708656e-05, 3.1708470e-03, 9.9653554e-01, 1.0327177e-06,\n",
              "        1.9504240e-04, 7.7782162e-05],\n",
              "       [6.1202571e-10, 3.3015122e-06, 2.4124994e-03, 2.5203495e-09,\n",
              "        9.9758244e-01, 1.7781266e-06],\n",
              "       [6.5326135e-06, 3.1116565e-03, 9.2396551e-01, 6.8570688e-02,\n",
              "        3.2936113e-03, 1.0518965e-03]], dtype=float32)"
            ]
          },
          "metadata": {},
          "execution_count": 56
        }
      ]
    },
    {
      "cell_type": "code",
      "source": [
        "y_pred = np.argmax(y_pred, axis=1)\n",
        "y_pred"
      ],
      "metadata": {
        "id": "VKAXNMX6yErS",
        "colab": {
          "base_uri": "https://localhost:8080/"
        },
        "outputId": "7ba547f3-fef9-44ab-afd3-f39161b7e07a"
      },
      "execution_count": 57,
      "outputs": [
        {
          "output_type": "execute_result",
          "data": {
            "text/plain": [
              "array([5, 1, 4, ..., 2, 4, 2])"
            ]
          },
          "metadata": {},
          "execution_count": 57
        }
      ]
    },
    {
      "cell_type": "code",
      "source": [
        "from sklearn.metrics import confusion_matrix, classification_report\n",
        "\n",
        "\n",
        "cm = confusion_matrix(test_generator.labels, y_pred)\n",
        "print(cm)\n",
        "print('classification report')\n",
        "print( classification_report(test_generator.labels, y_pred))"
      ],
      "metadata": {
        "id": "3TJToN8cyEof",
        "colab": {
          "base_uri": "https://localhost:8080/"
        },
        "outputId": "0d9e76ac-8afe-4fec-99bd-1efe5a8585ec"
      },
      "execution_count": 58,
      "outputs": [
        {
          "output_type": "stream",
          "name": "stdout",
          "text": [
            "[[356   3  13   0   4  24]\n",
            " [  0 371  20   1   6   2]\n",
            " [  2  16 354   7  19   2]\n",
            " [  0   0   1 395   2   2]\n",
            " [  0   6  33   0 351  10]\n",
            " [  8   1   8   1  11 371]]\n",
            "classification report\n",
            "              precision    recall  f1-score   support\n",
            "\n",
            "           0       0.97      0.89      0.93       400\n",
            "           1       0.93      0.93      0.93       400\n",
            "           2       0.83      0.89      0.85       400\n",
            "           3       0.98      0.99      0.98       400\n",
            "           4       0.89      0.88      0.89       400\n",
            "           5       0.90      0.93      0.91       400\n",
            "\n",
            "    accuracy                           0.92      2400\n",
            "   macro avg       0.92      0.92      0.92      2400\n",
            "weighted avg       0.92      0.92      0.92      2400\n",
            "\n"
          ]
        }
      ]
    },
    {
      "cell_type": "code",
      "source": [
        "import seaborn as sns\n",
        "f,ax = plt.subplots(figsize=(8, 8))\n",
        "sns.heatmap(cm, annot=True, linewidths=0.01,cmap=\"Oranges\",linecolor=\"gray\", fmt= '.1f',ax=ax)\n",
        "plt.xlabel(\"Predicted Label\")\n",
        "plt.ylabel(\"True Label\")\n",
        "plt.title(\"Confusion Matrix\")\n",
        "plt.show()"
      ],
      "metadata": {
        "id": "cE4wY-ieyEja",
        "colab": {
          "base_uri": "https://localhost:8080/",
          "height": 513
        },
        "outputId": "c7e14a1f-4cda-48d5-ddc5-d588e3efddff"
      },
      "execution_count": 59,
      "outputs": [
        {
          "output_type": "display_data",
          "data": {
            "text/plain": [
              "<Figure size 576x576 with 2 Axes>"
            ],
            "image/png": "[encoded data removed]"
          },
          "metadata": {
            "needs_background": "light"
          }
        }
      ]
    },
    {
      "cell_type": "code",
      "source": [
        "class_map = dict([(v, k) for k, v in train_generator.class_indices.items()])\n",
        "print(class_map)"
      ],
      "metadata": {
        "id": "3suUJQnuzxf2",
        "colab": {
          "base_uri": "https://localhost:8080/"
        },
        "outputId": "83dff525-7830-4084-a66e-3f1720d8b932"
      },
      "execution_count": 60,
      "outputs": [
        {
          "output_type": "stream",
          "name": "stdout",
          "text": [
            "{0: 'F-resample', 1: 'M', 2: 'N', 3: 'Q', 4: 'S', 5: 'V'}\n"
          ]
        }
      ]
    },
    {
      "cell_type": "code",
      "source": [
        "from tensorflow.keras.models import load_model\n",
        "from tensorflow.keras.preprocessing import image\n",
        "test_image_path = '/content/ECG_Image_data/test/S/115.jpg'\n",
        "\n",
        "def generate_predictions(test_image_path, actual_label):\n",
        "    \n",
        "    # 1. Load and preprocess the image\n",
        "    test_img = image.load_img(test_image_path, target_size=(224, 224))\n",
        "    test_img_arr = image.img_to_array(test_img)/255.0\n",
        "    test_img_input = test_img_arr.reshape((1, test_img_arr.shape[0], test_img_arr.shape[1], test_img_arr.shape[2]))\n",
        "\n",
        "    # 2. Make Predictions\n",
        "    predicted_label = np.argmax(best_model1.predict(test_img_input))\n",
        "    predicted_beat = class_map[predicted_label]\n",
        "    plt.figure(figsize=(4, 4))\n",
        "    plt.imshow(test_img_arr)\n",
        "    plt.title(\"Predicted Label: {}, Actual Label: {}\".format(predicted_beat, actual_label))\n",
        "    plt.grid()\n",
        "    plt.axis('off')\n",
        "    plt.show()\n",
        "\n",
        "# call the function\n",
        "generate_predictions(test_image_path, actual_label='S')"
      ],
      "metadata": {
        "id": "kVWrqZwZzxZY",
        "colab": {
          "base_uri": "https://localhost:8080/",
          "height": 282
        },
        "outputId": "26f0bd4a-82d9-4cc0-b713-a6831ecefcfe"
      },
      "execution_count": 61,
      "outputs": [
        {
          "output_type": "stream",
          "name": "stdout",
          "text": [
            "1/1 [==============================] - 0s 24ms/step\n"
          ]
        },
        {
          "output_type": "display_data",
          "data": {
            "text/plain": [
              "<Figure size 288x288 with 1 Axes>"
            ],
            "image/png": "[encoded data removed]"
          },
          "metadata": {
            "needs_background": "light"
          }
        }
      ]
    },
    {
      "cell_type": "code",
      "source": [
        "model1=load_model('best_model.h5')\n",
        "model2=load_model('best_model2.h5')"
      ],
      "metadata": {
        "id": "dvtSNS_IzxOf"
      },
      "execution_count": 62,
      "outputs": []
    },
    {
      "cell_type": "code",
      "source": [
        "model1=Model(inputs=model1.inputs,outputs=model1.outputs,name='VGG16')"
      ],
      "metadata": {
        "id": "cCFfNajOzxLM"
      },
      "execution_count": 63,
      "outputs": []
    },
    {
      "cell_type": "code",
      "source": [
        "model2=Model(inputs=model2.inputs,outputs=model2.outputs,name='VGG19')"
      ],
      "metadata": {
        "id": "ZouD88yj0He6"
      },
      "execution_count": 64,
      "outputs": []
    },
    {
      "cell_type": "code",
      "source": [
        "models=[model1,model2]"
      ],
      "metadata": {
        "id": "5SknO4e90HcQ"
      },
      "execution_count": 65,
      "outputs": []
    },
    {
      "cell_type": "code",
      "source": [
        "model_input=Input(shape=(224,224,3))"
      ],
      "metadata": {
        "id": "Iv8KLbWl0HZK"
      },
      "execution_count": 66,
      "outputs": []
    },
    {
      "cell_type": "code",
      "source": [
        "model_outputs=[model(model_input) for model in models]"
      ],
      "metadata": {
        "id": "bnt6Yc9J0HVz"
      },
      "execution_count": 67,
      "outputs": []
    },
    {
      "cell_type": "code",
      "source": [
        "ensemble_output=Average()(model_outputs)"
      ],
      "metadata": {
        "id": "InDGaVqD0HSk"
      },
      "execution_count": 68,
      "outputs": []
    },
    {
      "cell_type": "code",
      "source": [
        "ensemble_model=Model(inputs=model_input,outputs=ensemble_output,name='ensemble')"
      ],
      "metadata": {
        "id": "Sg8GiCa90vsq"
      },
      "execution_count": 69,
      "outputs": []
    },
    {
      "cell_type": "code",
      "source": [
        "import keras\n",
        "checkpoint = keras.callbacks.ModelCheckpoint(\n",
        "    filepath='best_model3.h5',\n",
        "    save_weights_only=False,\n",
        "    monitor='val_accuracy',\n",
        "    mode='max',\n",
        "    save_best_only=True,\n",
        "    verbose=1)"
      ],
      "metadata": {
        "id": "U-RQavwyO-ch"
      },
      "execution_count": 70,
      "outputs": []
    },
    {
      "cell_type": "code",
      "source": [
        "ensemble_model.compile(optimizer='adam',loss='categorical_crossentropy',metrics=['accuracy'])"
      ],
      "metadata": {
        "id": "zCaZhZ7J0vp5"
      },
      "execution_count": 71,
      "outputs": []
    },
    {
      "cell_type": "code",
      "source": [
        "history=ensemble_model.fit(train_generator,\n",
        "    validation_data=val_generator,\n",
        "    epochs=25,\n",
        "    steps_per_epoch=len(train_generator),\n",
        "    validation_steps=len(val_generator),\n",
        "    callbacks=[checkpoint])"
      ],
      "metadata": {
        "colab": {
          "base_uri": "https://localhost:8080/"
        },
        "id": "65znBhjI0vku",
        "outputId": "e5c2e40d-eeca-464f-d07a-f61f275fd618"
      },
      "execution_count": 72,
      "outputs": [
        {
          "output_type": "stream",
          "name": "stdout",
          "text": [
            "Epoch 1/25\n",
            "225/225 [==============================] - ETA: 0s - loss: 0.0895 - accuracy: 0.9786\n",
            "Epoch 1: val_accuracy improved from -inf to 0.93375, saving model to best_model3.h5\n",
            "225/225 [==============================] - 78s 340ms/step - loss: 0.0895 - accuracy: 0.9786 - val_loss: 0.2374 - val_accuracy: 0.9337\n",
            "Epoch 2/25\n",
            "225/225 [==============================] - ETA: 0s - loss: 0.0850 - accuracy: 0.9785\n",
            "Epoch 2: val_accuracy did not improve from 0.93375\n",
            "225/225 [==============================] - 76s 339ms/step - loss: 0.0850 - accuracy: 0.9785 - val_loss: 0.2623 - val_accuracy: 0.9242\n",
            "Epoch 3/25\n",
            "225/225 [==============================] - ETA: 0s - loss: 0.0689 - accuracy: 0.9828\n",
            "Epoch 3: val_accuracy did not improve from 0.93375\n",
            "225/225 [==============================] - 75s 334ms/step - loss: 0.0689 - accuracy: 0.9828 - val_loss: 0.2410 - val_accuracy: 0.9329\n",
            "Epoch 4/25\n",
            "225/225 [==============================] - ETA: 0s - loss: 0.0833 - accuracy: 0.9787\n",
            "Epoch 4: val_accuracy did not improve from 0.93375\n",
            "225/225 [==============================] - 77s 342ms/step - loss: 0.0833 - accuracy: 0.9787 - val_loss: 0.2563 - val_accuracy: 0.9258\n",
            "Epoch 5/25\n",
            "225/225 [==============================] - ETA: 0s - loss: 0.0668 - accuracy: 0.9846\n",
            "Epoch 5: val_accuracy did not improve from 0.93375\n",
            "225/225 [==============================] - 75s 334ms/step - loss: 0.0668 - accuracy: 0.9846 - val_loss: 0.2520 - val_accuracy: 0.9267\n",
            "Epoch 6/25\n",
            "225/225 [==============================] - ETA: 0s - loss: 0.0718 - accuracy: 0.9826\n",
            "Epoch 6: val_accuracy did not improve from 0.93375\n",
            "225/225 [==============================] - 75s 333ms/step - loss: 0.0718 - accuracy: 0.9826 - val_loss: 0.2902 - val_accuracy: 0.9175\n",
            "Epoch 7/25\n",
            "225/225 [==============================] - ETA: 0s - loss: 0.0609 - accuracy: 0.9846\n",
            "Epoch 7: val_accuracy did not improve from 0.93375\n",
            "225/225 [==============================] - 75s 333ms/step - loss: 0.0609 - accuracy: 0.9846 - val_loss: 0.3014 - val_accuracy: 0.9262\n",
            "Epoch 8/25\n",
            "225/225 [==============================] - ETA: 0s - loss: 0.0611 - accuracy: 0.9879\n",
            "Epoch 8: val_accuracy did not improve from 0.93375\n",
            "225/225 [==============================] - 75s 333ms/step - loss: 0.0611 - accuracy: 0.9879 - val_loss: 0.2561 - val_accuracy: 0.9279\n",
            "Epoch 9/25\n",
            "225/225 [==============================] - ETA: 0s - loss: 0.0592 - accuracy: 0.9865\n",
            "Epoch 9: val_accuracy did not improve from 0.93375\n",
            "225/225 [==============================] - 75s 333ms/step - loss: 0.0592 - accuracy: 0.9865 - val_loss: 0.2581 - val_accuracy: 0.9308\n",
            "Epoch 10/25\n",
            "225/225 [==============================] - ETA: 0s - loss: 0.0560 - accuracy: 0.9854\n",
            "Epoch 10: val_accuracy did not improve from 0.93375\n",
            "225/225 [==============================] - 75s 334ms/step - loss: 0.0560 - accuracy: 0.9854 - val_loss: 0.2355 - val_accuracy: 0.9333\n",
            "Epoch 11/25\n",
            "225/225 [==============================] - ETA: 0s - loss: 0.0662 - accuracy: 0.9815\n",
            "Epoch 11: val_accuracy did not improve from 0.93375\n",
            "225/225 [==============================] - 75s 333ms/step - loss: 0.0662 - accuracy: 0.9815 - val_loss: 0.2658 - val_accuracy: 0.9292\n",
            "Epoch 12/25\n",
            "225/225 [==============================] - ETA: 0s - loss: 0.0422 - accuracy: 0.9917\n",
            "Epoch 12: val_accuracy did not improve from 0.93375\n",
            "225/225 [==============================] - 77s 342ms/step - loss: 0.0422 - accuracy: 0.9917 - val_loss: 0.2485 - val_accuracy: 0.9296\n",
            "Epoch 13/25\n",
            "225/225 [==============================] - ETA: 0s - loss: 0.0491 - accuracy: 0.9887\n",
            "Epoch 13: val_accuracy did not improve from 0.93375\n",
            "225/225 [==============================] - 77s 342ms/step - loss: 0.0491 - accuracy: 0.9887 - val_loss: 0.2698 - val_accuracy: 0.9254\n",
            "Epoch 14/25\n",
            "225/225 [==============================] - ETA: 0s - loss: 0.0410 - accuracy: 0.9925\n",
            "Epoch 14: val_accuracy improved from 0.93375 to 0.93500, saving model to best_model3.h5\n",
            "225/225 [==============================] - 76s 336ms/step - loss: 0.0410 - accuracy: 0.9925 - val_loss: 0.2584 - val_accuracy: 0.9350\n",
            "Epoch 15/25\n",
            "225/225 [==============================] - ETA: 0s - loss: 0.0416 - accuracy: 0.9915\n",
            "Epoch 15: val_accuracy did not improve from 0.93500\n",
            "225/225 [==============================] - 75s 334ms/step - loss: 0.0416 - accuracy: 0.9915 - val_loss: 0.3146 - val_accuracy: 0.9104\n",
            "Epoch 16/25\n",
            "225/225 [==============================] - ETA: 0s - loss: 0.1003 - accuracy: 0.9753\n",
            "Epoch 16: val_accuracy did not improve from 0.93500\n",
            "225/225 [==============================] - 75s 334ms/step - loss: 0.1003 - accuracy: 0.9753 - val_loss: 0.3717 - val_accuracy: 0.8988\n",
            "Epoch 17/25\n",
            "225/225 [==============================] - ETA: 0s - loss: 0.1421 - accuracy: 0.9769\n",
            "Epoch 17: val_accuracy did not improve from 0.93500\n",
            "225/225 [==============================] - 75s 333ms/step - loss: 0.1421 - accuracy: 0.9769 - val_loss: 0.4319 - val_accuracy: 0.9042\n",
            "Epoch 18/25\n",
            "225/225 [==============================] - ETA: 0s - loss: 0.1489 - accuracy: 0.9744\n",
            "Epoch 18: val_accuracy did not improve from 0.93500\n",
            "225/225 [==============================] - 77s 342ms/step - loss: 0.1489 - accuracy: 0.9744 - val_loss: 0.3381 - val_accuracy: 0.9271\n",
            "Epoch 19/25\n",
            "225/225 [==============================] - ETA: 0s - loss: 0.1494 - accuracy: 0.9758\n",
            "Epoch 19: val_accuracy did not improve from 0.93500\n",
            "225/225 [==============================] - 75s 333ms/step - loss: 0.1494 - accuracy: 0.9758 - val_loss: 0.3645 - val_accuracy: 0.9154\n",
            "Epoch 20/25\n",
            "225/225 [==============================] - ETA: 0s - loss: 0.1782 - accuracy: 0.9722\n",
            "Epoch 20: val_accuracy did not improve from 0.93500\n",
            "225/225 [==============================] - 75s 334ms/step - loss: 0.1782 - accuracy: 0.9722 - val_loss: 0.4532 - val_accuracy: 0.9158\n",
            "Epoch 21/25\n",
            "225/225 [==============================] - ETA: 0s - loss: 0.2840 - accuracy: 0.9526\n",
            "Epoch 21: val_accuracy did not improve from 0.93500\n",
            "225/225 [==============================] - 75s 333ms/step - loss: 0.2840 - accuracy: 0.9526 - val_loss: 0.4743 - val_accuracy: 0.8988\n",
            "Epoch 22/25\n",
            "225/225 [==============================] - ETA: 0s - loss: 0.2517 - accuracy: 0.9676\n",
            "Epoch 22: val_accuracy did not improve from 0.93500\n",
            "225/225 [==============================] - 75s 333ms/step - loss: 0.2517 - accuracy: 0.9676 - val_loss: 0.4750 - val_accuracy: 0.9042\n",
            "Epoch 23/25\n",
            "225/225 [==============================] - ETA: 0s - loss: 0.2507 - accuracy: 0.9690\n",
            "Epoch 23: val_accuracy did not improve from 0.93500\n",
            "225/225 [==============================] - 75s 333ms/step - loss: 0.2507 - accuracy: 0.9690 - val_loss: 0.4610 - val_accuracy: 0.9133\n",
            "Epoch 24/25\n",
            "225/225 [==============================] - ETA: 0s - loss: 0.2566 - accuracy: 0.9631\n",
            "Epoch 24: val_accuracy did not improve from 0.93500\n",
            "225/225 [==============================] - 75s 334ms/step - loss: 0.2566 - accuracy: 0.9631 - val_loss: 0.4704 - val_accuracy: 0.9150\n",
            "Epoch 25/25\n",
            "225/225 [==============================] - ETA: 0s - loss: 0.2519 - accuracy: 0.9679\n",
            "Epoch 25: val_accuracy did not improve from 0.93500\n",
            "225/225 [==============================] - 75s 334ms/step - loss: 0.2519 - accuracy: 0.9679 - val_loss: 0.4437 - val_accuracy: 0.9162\n"
          ]
        }
      ]
    },
    {
      "cell_type": "code",
      "source": [
        "from keras.models import load_model\n",
        "results1 = ensemble_model.evaluate(test_generator, verbose=0)\n",
        "\n",
        "print(\"    Test Loss: {:.5f}\".format(results1[0]))\n",
        "print(\"Test Accuracy: {:.2f}%\".format(results1[1] * 100))"
      ],
      "metadata": {
        "id": "3tC7k39IiOPU",
        "colab": {
          "base_uri": "https://localhost:8080/"
        },
        "outputId": "cd43cd1c-5f69-4231-bc89-7c8a12a65674"
      },
      "execution_count": 73,
      "outputs": [
        {
          "output_type": "stream",
          "name": "stdout",
          "text": [
            "    Test Loss: 0.52203\n",
            "Test Accuracy: 90.83%\n"
          ]
        }
      ]
    },
    {
      "cell_type": "code",
      "source": [
        "from keras.models import load_model\n",
        "best_model2=load_model('/content/best_model3.h5')\n",
        "results = best_model2.evaluate(test_generator, verbose=0)\n",
        "\n",
        "print(\"    Test Loss: {:.5f}\".format(results[0]))\n",
        "print(\"Test Accuracy: {:.2f}%\".format(results[1] * 100))"
      ],
      "metadata": {
        "id": "UwOnbv0ZiOMg",
        "colab": {
          "base_uri": "https://localhost:8080/"
        },
        "outputId": "0aa63ee0-712a-4ab6-fc8d-e7216541c977"
      },
      "execution_count": 74,
      "outputs": [
        {
          "output_type": "stream",
          "name": "stdout",
          "text": [
            "    Test Loss: 0.32512\n",
            "Test Accuracy: 92.00%\n"
          ]
        }
      ]
    },
    {
      "cell_type": "code",
      "source": [
        "import matplotlib.pyplot as plt\n",
        "\n",
        "plt.plot(history.history['loss'])\n",
        "plt.plot(history.history['val_loss'])\n",
        "plt.legend(['Training', 'Validation'])\n",
        "plt.title('Training and Validation losses')\n",
        "plt.xlabel('epoch')\n",
        "plt.ylabel('loss')"
      ],
      "metadata": {
        "id": "9vzYjRYyuxeT",
        "colab": {
          "base_uri": "https://localhost:8080/",
          "height": 313
        },
        "outputId": "22979d8a-ddcb-4818-edf0-cefc1b601f16"
      },
      "execution_count": 75,
      "outputs": [
        {
          "output_type": "execute_result",
          "data": {
            "text/plain": [
              "Text(0, 0.5, 'loss')"
            ]
          },
          "metadata": {},
          "execution_count": 75
        },
        {
          "output_type": "display_data",
          "data": {
            "text/plain": [
              "<Figure size 432x288 with 1 Axes>"
            ],
            "image/png": "[encoded data removed]"
          },
          "metadata": {
            "needs_background": "light"
          }
        }
      ]
    },
    {
      "cell_type": "code",
      "source": [
        "plt.plot(history.history['accuracy'])\n",
        "plt.plot(history.history['val_accuracy'])\n",
        "plt.legend(['Training', 'Validation'])\n",
        "plt.title('Training and Validation accuracy')\n",
        "plt.xlabel('epoch')\n",
        "plt.ylabel('accuracy')"
      ],
      "metadata": {
        "id": "CGe4hchQuxXj",
        "colab": {
          "base_uri": "https://localhost:8080/",
          "height": 313
        },
        "outputId": "3ee3b36d-d40b-4efe-97d2-2cb829328cbc"
      },
      "execution_count": 76,
      "outputs": [
        {
          "output_type": "execute_result",
          "data": {
            "text/plain": [
              "Text(0, 0.5, 'accuracy')"
            ]
          },
          "metadata": {},
          "execution_count": 76
        },
        {
          "output_type": "display_data",
          "data": {
            "text/plain": [
              "<Figure size 432x288 with 1 Axes>"
            ],
            "image/png": "[encoded data removed]"
          },
          "metadata": {
            "needs_background": "light"
          }
        }
      ]
    },
    {
      "cell_type": "code",
      "source": [
        "y_pred = best_model2.predict(test_generator)\n",
        "y_pred"
      ],
      "metadata": {
        "id": "ue07beCcuxTk",
        "colab": {
          "base_uri": "https://localhost:8080/"
        },
        "outputId": "1c7fffb5-2bb7-4ce6-d653-856ce39ef285"
      },
      "execution_count": 77,
      "outputs": [
        {
          "output_type": "stream",
          "name": "stdout",
          "text": [
            "75/75 [==============================] - 19s 246ms/step\n"
          ]
        },
        {
          "output_type": "execute_result",
          "data": {
            "text/plain": [
              "array([[3.4549448e-09, 7.6549017e-11, 1.8242567e-07, 3.3447266e-04,\n",
              "        3.3745414e-07, 9.9966490e-01],\n",
              "       [4.3937000e-08, 9.9848497e-01, 1.2748874e-03, 1.1175418e-07,\n",
              "        2.4005072e-04, 4.0798781e-10],\n",
              "       [6.5759820e-04, 2.5886003e-02, 1.1475278e-03, 1.7336772e-05,\n",
              "        5.7513142e-01, 3.9716014e-01],\n",
              "       ...,\n",
              "       [1.3519683e-05, 1.7577845e-03, 9.9771237e-01, 3.2883037e-07,\n",
              "        4.8231526e-04, 3.3654971e-05],\n",
              "       [9.5309932e-12, 2.6845277e-07, 7.2350180e-05, 4.2404494e-10,\n",
              "        9.9992734e-01, 6.8892170e-08],\n",
              "       [1.5750091e-05, 2.6557013e-01, 6.9528735e-01, 1.8823169e-02,\n",
              "        1.8982213e-02, 1.3213420e-03]], dtype=float32)"
            ]
          },
          "metadata": {},
          "execution_count": 77
        }
      ]
    },
    {
      "cell_type": "code",
      "source": [
        "y_pred = np.argmax(y_pred, axis=1)\n",
        "y_pred"
      ],
      "metadata": {
        "id": "1K9QxnqxuxOH",
        "colab": {
          "base_uri": "https://localhost:8080/"
        },
        "outputId": "3b8c60fe-ff02-4bd8-98b3-3640de84d602"
      },
      "execution_count": 78,
      "outputs": [
        {
          "output_type": "execute_result",
          "data": {
            "text/plain": [
              "array([5, 1, 4, ..., 2, 4, 2])"
            ]
          },
          "metadata": {},
          "execution_count": 78
        }
      ]
    },
    {
      "cell_type": "code",
      "source": [
        "from sklearn.metrics import confusion_matrix, classification_report\n",
        "\n",
        "\n",
        "cm = confusion_matrix(test_generator.labels, y_pred)\n",
        "print(cm)\n",
        "print('classification report')\n",
        "print( classification_report(test_generator.labels, y_pred))"
      ],
      "metadata": {
        "id": "AgppD5WNu4NO",
        "colab": {
          "base_uri": "https://localhost:8080/"
        },
        "outputId": "7810fcf8-3db0-4426-ecd2-78d0aef26ea7"
      },
      "execution_count": 79,
      "outputs": [
        {
          "output_type": "stream",
          "name": "stdout",
          "text": [
            "[[372   3   8   0   2  15]\n",
            " [  0 389   5   0   6   0]\n",
            " [  5  36 325   4  29   1]\n",
            " [  0   0   0 397   2   1]\n",
            " [  1  10  22   0 361   6]\n",
            " [ 11   6   6   1  12 364]]\n",
            "classification report\n",
            "              precision    recall  f1-score   support\n",
            "\n",
            "           0       0.96      0.93      0.94       400\n",
            "           1       0.88      0.97      0.92       400\n",
            "           2       0.89      0.81      0.85       400\n",
            "           3       0.99      0.99      0.99       400\n",
            "           4       0.88      0.90      0.89       400\n",
            "           5       0.94      0.91      0.93       400\n",
            "\n",
            "    accuracy                           0.92      2400\n",
            "   macro avg       0.92      0.92      0.92      2400\n",
            "weighted avg       0.92      0.92      0.92      2400\n",
            "\n"
          ]
        }
      ]
    },
    {
      "cell_type": "code",
      "source": [],
      "metadata": {
        "id": "ogRc9fUGu4G4"
      },
      "execution_count": 79,
      "outputs": []
    },
    {
      "cell_type": "code",
      "source": [
        "model3=load_model('best_model5.h5')"
      ],
      "metadata": {
        "id": "9QxMp3JiZe-l"
      },
      "execution_count": null,
      "outputs": []
    },
    {
      "cell_type": "code",
      "source": [
        "model3=Model(inputs=model3.inputs,outputs=model3.outputs,name='CNN')"
      ],
      "metadata": {
        "id": "R-ey36CVZ2gF"
      },
      "execution_count": null,
      "outputs": []
    },
    {
      "cell_type": "code",
      "source": [
        "models=[model1,model3]"
      ],
      "metadata": {
        "id": "iOKGiZe6M3H9"
      },
      "execution_count": null,
      "outputs": []
    },
    {
      "cell_type": "code",
      "source": [
        "preds=[model.predict(test_generator) for model in models]"
      ],
      "metadata": {
        "id": "KrRQhOFpN9aw"
      },
      "execution_count": null,
      "outputs": []
    },
    {
      "cell_type": "code",
      "source": [
        "preds=np.array(preds)"
      ],
      "metadata": {
        "id": "b0GynN2kOCJ5"
      },
      "execution_count": null,
      "outputs": []
    },
    {
      "cell_type": "code",
      "source": [
        "summed=np.sum(preds,axis=0)"
      ],
      "metadata": {
        "id": "OWMjk_3sOL3B"
      },
      "execution_count": null,
      "outputs": []
    },
    {
      "cell_type": "code",
      "source": [
        "ensemble_prediction=np.argmax(summed,axis=1)"
      ],
      "metadata": {
        "id": "hgJQavpdOLzW"
      },
      "execution_count": null,
      "outputs": []
    },
    {
      "cell_type": "code",
      "source": [
        "from sklearn.metrics import accuracy_score\n",
        "ensemble_accuracy=accuracy_score(test_generator.labels,ensemble_prediction)"
      ],
      "metadata": {
        "id": "LGERYde5OPyn"
      },
      "execution_count": null,
      "outputs": []
    },
    {
      "cell_type": "code",
      "source": [
        "print(ensemble_accuracy)"
      ],
      "metadata": {
        "id": "GeGkBXXTORoj"
      },
      "execution_count": null,
      "outputs": []
    },
    {
      "cell_type": "code",
      "source": [
        "print(classification_report(test_generator.labels,ensemble_prediction))"
      ],
      "metadata": {
        "id": "kX6l97R1ORlQ"
      },
      "execution_count": null,
      "outputs": []
    },
    {
      "cell_type": "code",
      "source": [],
      "metadata": {
        "id": "ERcGwij7Om05"
      },
      "execution_count": null,
      "outputs": []
    }
  ]
}