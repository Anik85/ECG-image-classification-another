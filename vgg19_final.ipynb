{
  "nbformat": 4,
  "nbformat_minor": 0,
  "metadata": {
    "colab": {
      "provenance": [],
      "include_colab_link": true
    },
    "kernelspec": {
      "name": "python3",
      "display_name": "Python 3"
    },
    "language_info": {
      "name": "python"
    },
    "accelerator": "GPU",
    "gpuClass": "standard"
  },
  "cells": [
    {
      "cell_type": "markdown",
      "metadata": {
        "id": "view-in-github",
        "colab_type": "text"
      },
      "source": [
        "<a href=\"https://colab.research.google.com/github/Anik85/Anik85/blob/main/vgg19_final.ipynb\" target=\"_parent\"><img src=\"https://colab.research.google.com/assets/colab-badge.svg\" alt=\"Open In Colab\"/></a>"
      ]
    },
    {
      "cell_type": "code",
      "execution_count": null,
      "metadata": {
        "id": "-rl1goyWKiT8"
      },
      "outputs": [],
      "source": [
        "!mkdir -p ~/.kaggle\n",
        "!cp kaggle.json ~/.kaggle/"
      ]
    },
    {
      "cell_type": "code",
      "source": [
        "!kaggle datasets download -d mohamedeldakrory8/ecg-heart-categorization-dataset-image-version"
      ],
      "metadata": {
        "colab": {
          "base_uri": "https://localhost:8080/"
        },
        "id": "OKsRAw7WKmO4",
        "outputId": "259e824e-dcc8-4ab8-9138-d1a035e8b032"
      },
      "execution_count": null,
      "outputs": [
        {
          "output_type": "stream",
          "name": "stdout",
          "text": [
            "Warning: Your Kaggle API key is readable by other users on this system! To fix this, you can run 'chmod 600 /root/.kaggle/kaggle.json'\n",
            "Downloading ecg-heart-categorization-dataset-image-version.zip to /content\n",
            "100% 485M/486M [00:12<00:00, 43.0MB/s]\n",
            "100% 486M/486M [00:12<00:00, 40.4MB/s]\n"
          ]
        }
      ]
    },
    {
      "cell_type": "code",
      "source": [
        "import zipfile\n",
        "zip_ref=zipfile.ZipFile('/content/ecg-heart-categorization-dataset-image-version.zip','r')\n",
        "zip_ref.extractall('/content')\n",
        "zip_ref.close()"
      ],
      "metadata": {
        "id": "xo5qkBPTKmL3"
      },
      "execution_count": null,
      "outputs": []
    },
    {
      "cell_type": "code",
      "source": [
        "!rm /content/ECG_Image_data/train/F/*\n",
        "!rmdir /content/ECG_Image_data/train/F"
      ],
      "metadata": {
        "id": "tLwRAKe3KmKF"
      },
      "execution_count": null,
      "outputs": []
    },
    {
      "cell_type": "code",
      "source": [
        "!rm /content/ECG_Image_data/test/F/*\n",
        "!rmdir /content/ECG_Image_data/test/F"
      ],
      "metadata": {
        "id": "AIOTzAM-KmHX"
      },
      "execution_count": null,
      "outputs": []
    },
    {
      "cell_type": "code",
      "source": [
        "import numpy as np\n",
        "import pandas as pd\n",
        "from pathlib import Path\n",
        "import os.path\n",
        "import matplotlib.pyplot as plt\n",
        "import tensorflow as tf\n",
        "from tensorflow.keras.models import Sequential\n",
        "from tensorflow.keras.layers import Convolution2D\n",
        "from tensorflow.keras.layers import MaxPooling2D\n",
        "from tensorflow.keras.layers import Flatten\n",
        "from tensorflow.keras.layers import Dense\n",
        "from tensorflow.keras.layers import Dropout, Activation , BatchNormalization\n",
        "from tensorflow.keras.preprocessing.image import ImageDataGenerator\n",
        "from tensorflow.keras.layers import Dense, Conv2D, MaxPool2D , Flatten\n",
        "from tensorflow.keras.losses import categorical_crossentropy\n",
        "from tensorflow.keras.optimizers import Adam\n",
        "from tensorflow.keras.losses import CategoricalCrossentropy\n",
        "from tensorflow.keras.regularizers import l2\n",
        "from tensorflow.keras.callbacks import ReduceLROnPlateau, EarlyStopping\n",
        "from keras.models import Model\n",
        "from keras.applications.vgg19 import VGG19, preprocess_input\n",
        "from tensorflow.keras.applications.resnet50 import ResNet50, preprocess_input\n",
        "from keras.applications.vgg16 import preprocess_input,VGG16\n",
        "from glob import glob"
      ],
      "metadata": {
        "id": "fmj6RbYGKmFK"
      },
      "execution_count": null,
      "outputs": []
    },
    {
      "cell_type": "code",
      "source": [
        "train_dir = Path('/content/ECG_Image_data/train')\n",
        "test_dir = Path('/content/ECG_Image_data/test')"
      ],
      "metadata": {
        "id": "_woAePtVKl-q"
      },
      "execution_count": null,
      "outputs": []
    },
    {
      "cell_type": "code",
      "source": [
        "filepaths = list(train_dir.glob(r'**/*.jpg'))\n",
        "labels = list(map(lambda x: os.path.split(os.path.split(x)[0])[1], filepaths))\n",
        "\n",
        "\n",
        "filepaths = pd.Series(filepaths, name='Filepath').astype(str)\n",
        "labels = pd.Series(labels, name='Label')\n",
        "\n",
        "dataframe = pd.concat([filepaths , labels] , axis=1)\n",
        "dataframe"
      ],
      "metadata": {
        "colab": {
          "base_uri": "https://localhost:8080/",
          "height": 424
        },
        "id": "H0TY8GuzKl8W",
        "outputId": "eb4d5e68-eb07-4ff3-858c-9fd7b8c9ae79"
      },
      "execution_count": null,
      "outputs": [
        {
          "output_type": "execute_result",
          "data": {
            "text/plain": [
              "                                        Filepath Label\n",
              "0       /content/ECG_Image_data/train/N/1846.jpg     N\n",
              "1      /content/ECG_Image_data/train/N/22590.jpg     N\n",
              "2      /content/ECG_Image_data/train/N/29074.jpg     N\n",
              "3      /content/ECG_Image_data/train/N/16572.jpg     N\n",
              "4      /content/ECG_Image_data/train/N/72132.jpg     N\n",
              "...                                          ...   ...\n",
              "97131   /content/ECG_Image_data/train/V/3904.jpg     V\n",
              "97132    /content/ECG_Image_data/train/V/280.jpg     V\n",
              "97133   /content/ECG_Image_data/train/V/3312.jpg     V\n",
              "97134   /content/ECG_Image_data/train/V/3437.jpg     V\n",
              "97135   /content/ECG_Image_data/train/V/1408.jpg     V\n",
              "\n",
              "[97136 rows x 2 columns]"
            ],
            "text/html": [
              "\n",
              "  <div id=\"df-6f344a1a-eb2e-46b3-800a-a2be835c718b\">\n",
              "    <div class=\"colab-df-container\">\n",
              "      <div>\n",
              "<style scoped>\n",
              "    .dataframe tbody tr th:only-of-type {\n",
              "        vertical-align: middle;\n",
              "    }\n",
              "\n",
              "    .dataframe tbody tr th {\n",
              "        vertical-align: top;\n",
              "    }\n",
              "\n",
              "    .dataframe thead th {\n",
              "        text-align: right;\n",
              "    }\n",
              "</style>\n",
              "<table border=\"1\" class=\"dataframe\">\n",
              "  <thead>\n",
              "    <tr style=\"text-align: right;\">\n",
              "      <th></th>\n",
              "      <th>Filepath</th>\n",
              "      <th>Label</th>\n",
              "    </tr>\n",
              "  </thead>\n",
              "  <tbody>\n",
              "    <tr>\n",
              "      <th>0</th>\n",
              "      <td>/content/ECG_Image_data/train/N/1846.jpg</td>\n",
              "      <td>N</td>\n",
              "    </tr>\n",
              "    <tr>\n",
              "      <th>1</th>\n",
              "      <td>/content/ECG_Image_data/train/N/22590.jpg</td>\n",
              "      <td>N</td>\n",
              "    </tr>\n",
              "    <tr>\n",
              "      <th>2</th>\n",
              "      <td>/content/ECG_Image_data/train/N/29074.jpg</td>\n",
              "      <td>N</td>\n",
              "    </tr>\n",
              "    <tr>\n",
              "      <th>3</th>\n",
              "      <td>/content/ECG_Image_data/train/N/16572.jpg</td>\n",
              "      <td>N</td>\n",
              "    </tr>\n",
              "    <tr>\n",
              "      <th>4</th>\n",
              "      <td>/content/ECG_Image_data/train/N/72132.jpg</td>\n",
              "      <td>N</td>\n",
              "    </tr>\n",
              "    <tr>\n",
              "      <th>...</th>\n",
              "      <td>...</td>\n",
              "      <td>...</td>\n",
              "    </tr>\n",
              "    <tr>\n",
              "      <th>97131</th>\n",
              "      <td>/content/ECG_Image_data/train/V/3904.jpg</td>\n",
              "      <td>V</td>\n",
              "    </tr>\n",
              "    <tr>\n",
              "      <th>97132</th>\n",
              "      <td>/content/ECG_Image_data/train/V/280.jpg</td>\n",
              "      <td>V</td>\n",
              "    </tr>\n",
              "    <tr>\n",
              "      <th>97133</th>\n",
              "      <td>/content/ECG_Image_data/train/V/3312.jpg</td>\n",
              "      <td>V</td>\n",
              "    </tr>\n",
              "    <tr>\n",
              "      <th>97134</th>\n",
              "      <td>/content/ECG_Image_data/train/V/3437.jpg</td>\n",
              "      <td>V</td>\n",
              "    </tr>\n",
              "    <tr>\n",
              "      <th>97135</th>\n",
              "      <td>/content/ECG_Image_data/train/V/1408.jpg</td>\n",
              "      <td>V</td>\n",
              "    </tr>\n",
              "  </tbody>\n",
              "</table>\n",
              "<p>97136 rows × 2 columns</p>\n",
              "</div>\n",
              "      <button class=\"colab-df-convert\" onclick=\"convertToInteractive('df-6f344a1a-eb2e-46b3-800a-a2be835c718b')\"\n",
              "              title=\"Convert this dataframe to an interactive table.\"\n",
              "              style=\"display:none;\">\n",
              "        \n",
              "  <svg xmlns=\"http://www.w3.org/2000/svg\" height=\"24px\"viewBox=\"0 0 24 24\"\n",
              "       width=\"24px\">\n",
              "    <path d=\"M0 0h24v24H0V0z\" fill=\"none\"/>\n",
              "    <path d=\"M18.56 5.44l.94 2.06.94-2.06 2.06-.94-2.06-.94-.94-2.06-.94 2.06-2.06.94zm-11 1L8.5 8.5l.94-2.06 2.06-.94-2.06-.94L8.5 2.5l-.94 2.06-2.06.94zm10 10l.94 2.06.94-2.06 2.06-.94-2.06-.94-.94-2.06-.94 2.06-2.06.94z\"/><path d=\"M17.41 7.96l-1.37-1.37c-.4-.4-.92-.59-1.43-.59-.52 0-1.04.2-1.43.59L10.3 9.45l-7.72 7.72c-.78.78-.78 2.05 0 2.83L4 21.41c.39.39.9.59 1.41.59.51 0 1.02-.2 1.41-.59l7.78-7.78 2.81-2.81c.8-.78.8-2.07 0-2.86zM5.41 20L4 18.59l7.72-7.72 1.47 1.35L5.41 20z\"/>\n",
              "  </svg>\n",
              "      </button>\n",
              "      \n",
              "  <style>\n",
              "    .colab-df-container {\n",
              "      display:flex;\n",
              "      flex-wrap:wrap;\n",
              "      gap: 12px;\n",
              "    }\n",
              "\n",
              "    .colab-df-convert {\n",
              "      background-color: #E8F0FE;\n",
              "      border: none;\n",
              "      border-radius: 50%;\n",
              "      cursor: pointer;\n",
              "      display: none;\n",
              "      fill: #1967D2;\n",
              "      height: 32px;\n",
              "      padding: 0 0 0 0;\n",
              "      width: 32px;\n",
              "    }\n",
              "\n",
              "    .colab-df-convert:hover {\n",
              "      background-color: #E2EBFA;\n",
              "      box-shadow: 0px 1px 2px rgba(60, 64, 67, 0.3), 0px 1px 3px 1px rgba(60, 64, 67, 0.15);\n",
              "      fill: #174EA6;\n",
              "    }\n",
              "\n",
              "    [theme=dark] .colab-df-convert {\n",
              "      background-color: #3B4455;\n",
              "      fill: #D2E3FC;\n",
              "    }\n",
              "\n",
              "    [theme=dark] .colab-df-convert:hover {\n",
              "      background-color: #434B5C;\n",
              "      box-shadow: 0px 1px 3px 1px rgba(0, 0, 0, 0.15);\n",
              "      filter: drop-shadow(0px 1px 2px rgba(0, 0, 0, 0.3));\n",
              "      fill: #FFFFFF;\n",
              "    }\n",
              "  </style>\n",
              "\n",
              "      <script>\n",
              "        const buttonEl =\n",
              "          document.querySelector('#df-6f344a1a-eb2e-46b3-800a-a2be835c718b button.colab-df-convert');\n",
              "        buttonEl.style.display =\n",
              "          google.colab.kernel.accessAllowed ? 'block' : 'none';\n",
              "\n",
              "        async function convertToInteractive(key) {\n",
              "          const element = document.querySelector('#df-6f344a1a-eb2e-46b3-800a-a2be835c718b');\n",
              "          const dataTable =\n",
              "            await google.colab.kernel.invokeFunction('convertToInteractive',\n",
              "                                                     [key], {});\n",
              "          if (!dataTable) return;\n",
              "\n",
              "          const docLinkHtml = 'Like what you see? Visit the ' +\n",
              "            '<a target=\"_blank\" href=https://colab.research.google.com/notebooks/data_table.ipynb>data table notebook</a>'\n",
              "            + ' to learn more about interactive tables.';\n",
              "          element.innerHTML = '';\n",
              "          dataTable['output_type'] = 'display_data';\n",
              "          await google.colab.output.renderOutput(dataTable, element);\n",
              "          const docLink = document.createElement('div');\n",
              "          docLink.innerHTML = docLinkHtml;\n",
              "          element.appendChild(docLink);\n",
              "        }\n",
              "      </script>\n",
              "    </div>\n",
              "  </div>\n",
              "  "
            ]
          },
          "metadata": {},
          "execution_count": 8
        }
      ]
    },
    {
      "cell_type": "code",
      "source": [
        "dataframe['Label'].value_counts()"
      ],
      "metadata": {
        "colab": {
          "base_uri": "https://localhost:8080/"
        },
        "id": "EQ-Xi1qwKl6c",
        "outputId": "8228e1fb-ad31-48a3-db53-f0d2321c1e7d"
      },
      "execution_count": null,
      "outputs": [
        {
          "output_type": "execute_result",
          "data": {
            "text/plain": [
              "N             72471\n",
              "M              8000\n",
              "Q              6431\n",
              "V              5788\n",
              "S              2223\n",
              "F-resample     2223\n",
              "Name: Label, dtype: int64"
            ]
          },
          "metadata": {},
          "execution_count": 9
        }
      ]
    },
    {
      "cell_type": "code",
      "source": [
        "train_samples = []\n",
        "for category in dataframe['Label'].unique():\n",
        "    train_category = dataframe.query(\"Label == @category\")\n",
        "    train_samples.append(train_category.sample(1600, random_state=1))\n",
        "\n",
        "dataframe_train = pd.concat(train_samples, axis=0).sample(frac=1.0, random_state=1).reset_index(drop=True)\n",
        "dataframe_train['Label'].value_counts()"
      ],
      "metadata": {
        "colab": {
          "base_uri": "https://localhost:8080/"
        },
        "id": "BCAkWb3zKl1x",
        "outputId": "a5cb63b4-89ff-4ee2-f22b-e6dd58b787bf"
      },
      "execution_count": null,
      "outputs": [
        {
          "output_type": "execute_result",
          "data": {
            "text/plain": [
              "V             1600\n",
              "N             1600\n",
              "F-resample    1600\n",
              "S             1600\n",
              "M             1600\n",
              "Q             1600\n",
              "Name: Label, dtype: int64"
            ]
          },
          "metadata": {},
          "execution_count": 10
        }
      ]
    },
    {
      "cell_type": "code",
      "source": [
        "dataframe_train"
      ],
      "metadata": {
        "colab": {
          "base_uri": "https://localhost:8080/",
          "height": 424
        },
        "id": "TmI929ifKlxX",
        "outputId": "c513c81e-4c67-4b53-9803-0f8e61dce716"
      },
      "execution_count": null,
      "outputs": [
        {
          "output_type": "execute_result",
          "data": {
            "text/plain": [
              "                                              Filepath       Label\n",
              "0             /content/ECG_Image_data/train/V/1897.jpg           V\n",
              "1            /content/ECG_Image_data/train/N/10200.jpg           N\n",
              "2     /content/ECG_Image_data/train/F-resample/997.jpg  F-resample\n",
              "3             /content/ECG_Image_data/train/V/3403.jpg           V\n",
              "4            /content/ECG_Image_data/train/N/30554.jpg           N\n",
              "...                                                ...         ...\n",
              "9595           /content/ECG_Image_data/train/S/185.jpg           S\n",
              "9596          /content/ECG_Image_data/train/M/1392.jpg           M\n",
              "9597         /content/ECG_Image_data/train/N/14108.jpg           N\n",
              "9598  /content/ECG_Image_data/train/F-resample/280.jpg  F-resample\n",
              "9599         /content/ECG_Image_data/train/N/65338.jpg           N\n",
              "\n",
              "[9600 rows x 2 columns]"
            ],
            "text/html": [
              "\n",
              "  <div id=\"df-d7865844-16c0-4158-aef1-4c823c9aac9a\">\n",
              "    <div class=\"colab-df-container\">\n",
              "      <div>\n",
              "<style scoped>\n",
              "    .dataframe tbody tr th:only-of-type {\n",
              "        vertical-align: middle;\n",
              "    }\n",
              "\n",
              "    .dataframe tbody tr th {\n",
              "        vertical-align: top;\n",
              "    }\n",
              "\n",
              "    .dataframe thead th {\n",
              "        text-align: right;\n",
              "    }\n",
              "</style>\n",
              "<table border=\"1\" class=\"dataframe\">\n",
              "  <thead>\n",
              "    <tr style=\"text-align: right;\">\n",
              "      <th></th>\n",
              "      <th>Filepath</th>\n",
              "      <th>Label</th>\n",
              "    </tr>\n",
              "  </thead>\n",
              "  <tbody>\n",
              "    <tr>\n",
              "      <th>0</th>\n",
              "      <td>/content/ECG_Image_data/train/V/1897.jpg</td>\n",
              "      <td>V</td>\n",
              "    </tr>\n",
              "    <tr>\n",
              "      <th>1</th>\n",
              "      <td>/content/ECG_Image_data/train/N/10200.jpg</td>\n",
              "      <td>N</td>\n",
              "    </tr>\n",
              "    <tr>\n",
              "      <th>2</th>\n",
              "      <td>/content/ECG_Image_data/train/F-resample/997.jpg</td>\n",
              "      <td>F-resample</td>\n",
              "    </tr>\n",
              "    <tr>\n",
              "      <th>3</th>\n",
              "      <td>/content/ECG_Image_data/train/V/3403.jpg</td>\n",
              "      <td>V</td>\n",
              "    </tr>\n",
              "    <tr>\n",
              "      <th>4</th>\n",
              "      <td>/content/ECG_Image_data/train/N/30554.jpg</td>\n",
              "      <td>N</td>\n",
              "    </tr>\n",
              "    <tr>\n",
              "      <th>...</th>\n",
              "      <td>...</td>\n",
              "      <td>...</td>\n",
              "    </tr>\n",
              "    <tr>\n",
              "      <th>9595</th>\n",
              "      <td>/content/ECG_Image_data/train/S/185.jpg</td>\n",
              "      <td>S</td>\n",
              "    </tr>\n",
              "    <tr>\n",
              "      <th>9596</th>\n",
              "      <td>/content/ECG_Image_data/train/M/1392.jpg</td>\n",
              "      <td>M</td>\n",
              "    </tr>\n",
              "    <tr>\n",
              "      <th>9597</th>\n",
              "      <td>/content/ECG_Image_data/train/N/14108.jpg</td>\n",
              "      <td>N</td>\n",
              "    </tr>\n",
              "    <tr>\n",
              "      <th>9598</th>\n",
              "      <td>/content/ECG_Image_data/train/F-resample/280.jpg</td>\n",
              "      <td>F-resample</td>\n",
              "    </tr>\n",
              "    <tr>\n",
              "      <th>9599</th>\n",
              "      <td>/content/ECG_Image_data/train/N/65338.jpg</td>\n",
              "      <td>N</td>\n",
              "    </tr>\n",
              "  </tbody>\n",
              "</table>\n",
              "<p>9600 rows × 2 columns</p>\n",
              "</div>\n",
              "      <button class=\"colab-df-convert\" onclick=\"convertToInteractive('df-d7865844-16c0-4158-aef1-4c823c9aac9a')\"\n",
              "              title=\"Convert this dataframe to an interactive table.\"\n",
              "              style=\"display:none;\">\n",
              "        \n",
              "  <svg xmlns=\"http://www.w3.org/2000/svg\" height=\"24px\"viewBox=\"0 0 24 24\"\n",
              "       width=\"24px\">\n",
              "    <path d=\"M0 0h24v24H0V0z\" fill=\"none\"/>\n",
              "    <path d=\"M18.56 5.44l.94 2.06.94-2.06 2.06-.94-2.06-.94-.94-2.06-.94 2.06-2.06.94zm-11 1L8.5 8.5l.94-2.06 2.06-.94-2.06-.94L8.5 2.5l-.94 2.06-2.06.94zm10 10l.94 2.06.94-2.06 2.06-.94-2.06-.94-.94-2.06-.94 2.06-2.06.94z\"/><path d=\"M17.41 7.96l-1.37-1.37c-.4-.4-.92-.59-1.43-.59-.52 0-1.04.2-1.43.59L10.3 9.45l-7.72 7.72c-.78.78-.78 2.05 0 2.83L4 21.41c.39.39.9.59 1.41.59.51 0 1.02-.2 1.41-.59l7.78-7.78 2.81-2.81c.8-.78.8-2.07 0-2.86zM5.41 20L4 18.59l7.72-7.72 1.47 1.35L5.41 20z\"/>\n",
              "  </svg>\n",
              "      </button>\n",
              "      \n",
              "  <style>\n",
              "    .colab-df-container {\n",
              "      display:flex;\n",
              "      flex-wrap:wrap;\n",
              "      gap: 12px;\n",
              "    }\n",
              "\n",
              "    .colab-df-convert {\n",
              "      background-color: #E8F0FE;\n",
              "      border: none;\n",
              "      border-radius: 50%;\n",
              "      cursor: pointer;\n",
              "      display: none;\n",
              "      fill: #1967D2;\n",
              "      height: 32px;\n",
              "      padding: 0 0 0 0;\n",
              "      width: 32px;\n",
              "    }\n",
              "\n",
              "    .colab-df-convert:hover {\n",
              "      background-color: #E2EBFA;\n",
              "      box-shadow: 0px 1px 2px rgba(60, 64, 67, 0.3), 0px 1px 3px 1px rgba(60, 64, 67, 0.15);\n",
              "      fill: #174EA6;\n",
              "    }\n",
              "\n",
              "    [theme=dark] .colab-df-convert {\n",
              "      background-color: #3B4455;\n",
              "      fill: #D2E3FC;\n",
              "    }\n",
              "\n",
              "    [theme=dark] .colab-df-convert:hover {\n",
              "      background-color: #434B5C;\n",
              "      box-shadow: 0px 1px 3px 1px rgba(0, 0, 0, 0.15);\n",
              "      filter: drop-shadow(0px 1px 2px rgba(0, 0, 0, 0.3));\n",
              "      fill: #FFFFFF;\n",
              "    }\n",
              "  </style>\n",
              "\n",
              "      <script>\n",
              "        const buttonEl =\n",
              "          document.querySelector('#df-d7865844-16c0-4158-aef1-4c823c9aac9a button.colab-df-convert');\n",
              "        buttonEl.style.display =\n",
              "          google.colab.kernel.accessAllowed ? 'block' : 'none';\n",
              "\n",
              "        async function convertToInteractive(key) {\n",
              "          const element = document.querySelector('#df-d7865844-16c0-4158-aef1-4c823c9aac9a');\n",
              "          const dataTable =\n",
              "            await google.colab.kernel.invokeFunction('convertToInteractive',\n",
              "                                                     [key], {});\n",
              "          if (!dataTable) return;\n",
              "\n",
              "          const docLinkHtml = 'Like what you see? Visit the ' +\n",
              "            '<a target=\"_blank\" href=https://colab.research.google.com/notebooks/data_table.ipynb>data table notebook</a>'\n",
              "            + ' to learn more about interactive tables.';\n",
              "          element.innerHTML = '';\n",
              "          dataTable['output_type'] = 'display_data';\n",
              "          await google.colab.output.renderOutput(dataTable, element);\n",
              "          const docLink = document.createElement('div');\n",
              "          docLink.innerHTML = docLinkHtml;\n",
              "          element.appendChild(docLink);\n",
              "        }\n",
              "      </script>\n",
              "    </div>\n",
              "  </div>\n",
              "  "
            ]
          },
          "metadata": {},
          "execution_count": 11
        }
      ]
    },
    {
      "cell_type": "code",
      "source": [
        "filepaths = list(test_dir.glob(r'**/*.jpg'))\n",
        "labels = list(map(lambda x: os.path.split(os.path.split(x)[0])[1], filepaths))\n",
        "\n",
        "filepaths = pd.Series(filepaths, name='Filepath').astype(str)\n",
        "labels = pd.Series(labels, name='Label')\n",
        "\n",
        "dataframe_test = pd.concat([filepaths , labels] , axis=1)\n",
        "dataframe_test"
      ],
      "metadata": {
        "colab": {
          "base_uri": "https://localhost:8080/",
          "height": 424
        },
        "id": "wHJw87NlKlwI",
        "outputId": "047e363e-2ae8-4477-d479-a725c177263b"
      },
      "execution_count": null,
      "outputs": [
        {
          "output_type": "execute_result",
          "data": {
            "text/plain": [
              "                                       Filepath Label\n",
              "0       /content/ECG_Image_data/test/N/1846.jpg     N\n",
              "1      /content/ECG_Image_data/test/N/16572.jpg     N\n",
              "2      /content/ECG_Image_data/test/N/13080.jpg     N\n",
              "3      /content/ECG_Image_data/test/N/10148.jpg     N\n",
              "4       /content/ECG_Image_data/test/N/9186.jpg     N\n",
              "...                                         ...   ...\n",
              "24787    /content/ECG_Image_data/test/V/286.jpg     V\n",
              "24788    /content/ECG_Image_data/test/V/712.jpg     V\n",
              "24789    /content/ECG_Image_data/test/V/433.jpg     V\n",
              "24790    /content/ECG_Image_data/test/V/280.jpg     V\n",
              "24791   /content/ECG_Image_data/test/V/1408.jpg     V\n",
              "\n",
              "[24792 rows x 2 columns]"
            ],
            "text/html": [
              "\n",
              "  <div id=\"df-6e013896-f94f-4be2-8bb7-864c985a3770\">\n",
              "    <div class=\"colab-df-container\">\n",
              "      <div>\n",
              "<style scoped>\n",
              "    .dataframe tbody tr th:only-of-type {\n",
              "        vertical-align: middle;\n",
              "    }\n",
              "\n",
              "    .dataframe tbody tr th {\n",
              "        vertical-align: top;\n",
              "    }\n",
              "\n",
              "    .dataframe thead th {\n",
              "        text-align: right;\n",
              "    }\n",
              "</style>\n",
              "<table border=\"1\" class=\"dataframe\">\n",
              "  <thead>\n",
              "    <tr style=\"text-align: right;\">\n",
              "      <th></th>\n",
              "      <th>Filepath</th>\n",
              "      <th>Label</th>\n",
              "    </tr>\n",
              "  </thead>\n",
              "  <tbody>\n",
              "    <tr>\n",
              "      <th>0</th>\n",
              "      <td>/content/ECG_Image_data/test/N/1846.jpg</td>\n",
              "      <td>N</td>\n",
              "    </tr>\n",
              "    <tr>\n",
              "      <th>1</th>\n",
              "      <td>/content/ECG_Image_data/test/N/16572.jpg</td>\n",
              "      <td>N</td>\n",
              "    </tr>\n",
              "    <tr>\n",
              "      <th>2</th>\n",
              "      <td>/content/ECG_Image_data/test/N/13080.jpg</td>\n",
              "      <td>N</td>\n",
              "    </tr>\n",
              "    <tr>\n",
              "      <th>3</th>\n",
              "      <td>/content/ECG_Image_data/test/N/10148.jpg</td>\n",
              "      <td>N</td>\n",
              "    </tr>\n",
              "    <tr>\n",
              "      <th>4</th>\n",
              "      <td>/content/ECG_Image_data/test/N/9186.jpg</td>\n",
              "      <td>N</td>\n",
              "    </tr>\n",
              "    <tr>\n",
              "      <th>...</th>\n",
              "      <td>...</td>\n",
              "      <td>...</td>\n",
              "    </tr>\n",
              "    <tr>\n",
              "      <th>24787</th>\n",
              "      <td>/content/ECG_Image_data/test/V/286.jpg</td>\n",
              "      <td>V</td>\n",
              "    </tr>\n",
              "    <tr>\n",
              "      <th>24788</th>\n",
              "      <td>/content/ECG_Image_data/test/V/712.jpg</td>\n",
              "      <td>V</td>\n",
              "    </tr>\n",
              "    <tr>\n",
              "      <th>24789</th>\n",
              "      <td>/content/ECG_Image_data/test/V/433.jpg</td>\n",
              "      <td>V</td>\n",
              "    </tr>\n",
              "    <tr>\n",
              "      <th>24790</th>\n",
              "      <td>/content/ECG_Image_data/test/V/280.jpg</td>\n",
              "      <td>V</td>\n",
              "    </tr>\n",
              "    <tr>\n",
              "      <th>24791</th>\n",
              "      <td>/content/ECG_Image_data/test/V/1408.jpg</td>\n",
              "      <td>V</td>\n",
              "    </tr>\n",
              "  </tbody>\n",
              "</table>\n",
              "<p>24792 rows × 2 columns</p>\n",
              "</div>\n",
              "      <button class=\"colab-df-convert\" onclick=\"convertToInteractive('df-6e013896-f94f-4be2-8bb7-864c985a3770')\"\n",
              "              title=\"Convert this dataframe to an interactive table.\"\n",
              "              style=\"display:none;\">\n",
              "        \n",
              "  <svg xmlns=\"http://www.w3.org/2000/svg\" height=\"24px\"viewBox=\"0 0 24 24\"\n",
              "       width=\"24px\">\n",
              "    <path d=\"M0 0h24v24H0V0z\" fill=\"none\"/>\n",
              "    <path d=\"M18.56 5.44l.94 2.06.94-2.06 2.06-.94-2.06-.94-.94-2.06-.94 2.06-2.06.94zm-11 1L8.5 8.5l.94-2.06 2.06-.94-2.06-.94L8.5 2.5l-.94 2.06-2.06.94zm10 10l.94 2.06.94-2.06 2.06-.94-2.06-.94-.94-2.06-.94 2.06-2.06.94z\"/><path d=\"M17.41 7.96l-1.37-1.37c-.4-.4-.92-.59-1.43-.59-.52 0-1.04.2-1.43.59L10.3 9.45l-7.72 7.72c-.78.78-.78 2.05 0 2.83L4 21.41c.39.39.9.59 1.41.59.51 0 1.02-.2 1.41-.59l7.78-7.78 2.81-2.81c.8-.78.8-2.07 0-2.86zM5.41 20L4 18.59l7.72-7.72 1.47 1.35L5.41 20z\"/>\n",
              "  </svg>\n",
              "      </button>\n",
              "      \n",
              "  <style>\n",
              "    .colab-df-container {\n",
              "      display:flex;\n",
              "      flex-wrap:wrap;\n",
              "      gap: 12px;\n",
              "    }\n",
              "\n",
              "    .colab-df-convert {\n",
              "      background-color: #E8F0FE;\n",
              "      border: none;\n",
              "      border-radius: 50%;\n",
              "      cursor: pointer;\n",
              "      display: none;\n",
              "      fill: #1967D2;\n",
              "      height: 32px;\n",
              "      padding: 0 0 0 0;\n",
              "      width: 32px;\n",
              "    }\n",
              "\n",
              "    .colab-df-convert:hover {\n",
              "      background-color: #E2EBFA;\n",
              "      box-shadow: 0px 1px 2px rgba(60, 64, 67, 0.3), 0px 1px 3px 1px rgba(60, 64, 67, 0.15);\n",
              "      fill: #174EA6;\n",
              "    }\n",
              "\n",
              "    [theme=dark] .colab-df-convert {\n",
              "      background-color: #3B4455;\n",
              "      fill: #D2E3FC;\n",
              "    }\n",
              "\n",
              "    [theme=dark] .colab-df-convert:hover {\n",
              "      background-color: #434B5C;\n",
              "      box-shadow: 0px 1px 3px 1px rgba(0, 0, 0, 0.15);\n",
              "      filter: drop-shadow(0px 1px 2px rgba(0, 0, 0, 0.3));\n",
              "      fill: #FFFFFF;\n",
              "    }\n",
              "  </style>\n",
              "\n",
              "      <script>\n",
              "        const buttonEl =\n",
              "          document.querySelector('#df-6e013896-f94f-4be2-8bb7-864c985a3770 button.colab-df-convert');\n",
              "        buttonEl.style.display =\n",
              "          google.colab.kernel.accessAllowed ? 'block' : 'none';\n",
              "\n",
              "        async function convertToInteractive(key) {\n",
              "          const element = document.querySelector('#df-6e013896-f94f-4be2-8bb7-864c985a3770');\n",
              "          const dataTable =\n",
              "            await google.colab.kernel.invokeFunction('convertToInteractive',\n",
              "                                                     [key], {});\n",
              "          if (!dataTable) return;\n",
              "\n",
              "          const docLinkHtml = 'Like what you see? Visit the ' +\n",
              "            '<a target=\"_blank\" href=https://colab.research.google.com/notebooks/data_table.ipynb>data table notebook</a>'\n",
              "            + ' to learn more about interactive tables.';\n",
              "          element.innerHTML = '';\n",
              "          dataTable['output_type'] = 'display_data';\n",
              "          await google.colab.output.renderOutput(dataTable, element);\n",
              "          const docLink = document.createElement('div');\n",
              "          docLink.innerHTML = docLinkHtml;\n",
              "          element.appendChild(docLink);\n",
              "        }\n",
              "      </script>\n",
              "    </div>\n",
              "  </div>\n",
              "  "
            ]
          },
          "metadata": {},
          "execution_count": 12
        }
      ]
    },
    {
      "cell_type": "code",
      "source": [
        "dataframe_test['Label'].value_counts()"
      ],
      "metadata": {
        "colab": {
          "base_uri": "https://localhost:8080/"
        },
        "id": "bU-Y7BZGKluK",
        "outputId": "b1e80e9e-ec0c-4ba7-885b-cf7275e059df"
      },
      "execution_count": null,
      "outputs": [
        {
          "output_type": "execute_result",
          "data": {
            "text/plain": [
              "N              18118\n",
              "M               2506\n",
              "Q               1608\n",
              "V               1448\n",
              "F-resampled      556\n",
              "S                556\n",
              "Name: Label, dtype: int64"
            ]
          },
          "metadata": {},
          "execution_count": 13
        }
      ]
    },
    {
      "cell_type": "code",
      "source": [
        "test_samples = []\n",
        "for category in dataframe_test['Label'].unique():\n",
        "    test_category = dataframe_test.query(\"Label == @category\")\n",
        "    test_samples.append(test_category.sample(400, random_state=1))\n",
        "\n",
        "dataframe_test = pd.concat(test_samples, axis=0).sample(frac=1.0, random_state=1).reset_index(drop=True)\n",
        "dataframe_test['Label'].value_counts()"
      ],
      "metadata": {
        "colab": {
          "base_uri": "https://localhost:8080/"
        },
        "id": "pu79tvqDKlrk",
        "outputId": "e51aa5f1-62ad-4996-8f8a-03c1347a72d4"
      },
      "execution_count": null,
      "outputs": [
        {
          "output_type": "execute_result",
          "data": {
            "text/plain": [
              "Q              400\n",
              "F-resampled    400\n",
              "V              400\n",
              "S              400\n",
              "N              400\n",
              "M              400\n",
              "Name: Label, dtype: int64"
            ]
          },
          "metadata": {},
          "execution_count": 14
        }
      ]
    },
    {
      "cell_type": "code",
      "source": [
        "dataframe_test"
      ],
      "metadata": {
        "colab": {
          "base_uri": "https://localhost:8080/",
          "height": 424
        },
        "id": "I2oJhenlKlpx",
        "outputId": "eb0359b7-5e62-4817-85dd-1171d6f5c3df"
      },
      "execution_count": null,
      "outputs": [
        {
          "output_type": "execute_result",
          "data": {
            "text/plain": [
              "                                              Filepath        Label\n",
              "0               /content/ECG_Image_data/test/Q/267.jpg            Q\n",
              "1     /content/ECG_Image_data/test/F-resampled/140.jpg  F-resampled\n",
              "2              /content/ECG_Image_data/test/Q/1210.jpg            Q\n",
              "3              /content/ECG_Image_data/test/V/1256.jpg            V\n",
              "4               /content/ECG_Image_data/test/S/463.jpg            S\n",
              "...                                                ...          ...\n",
              "2395            /content/ECG_Image_data/test/S/341.jpg            S\n",
              "2396            /content/ECG_Image_data/test/S/185.jpg            S\n",
              "2397            /content/ECG_Image_data/test/S/464.jpg            S\n",
              "2398           /content/ECG_Image_data/test/N/4600.jpg            N\n",
              "2399             /content/ECG_Image_data/test/S/11.jpg            S\n",
              "\n",
              "[2400 rows x 2 columns]"
            ],
            "text/html": [
              "\n",
              "  <div id=\"df-a1ab850b-32a1-4a62-88b2-c5534a0dd69b\">\n",
              "    <div class=\"colab-df-container\">\n",
              "      <div>\n",
              "<style scoped>\n",
              "    .dataframe tbody tr th:only-of-type {\n",
              "        vertical-align: middle;\n",
              "    }\n",
              "\n",
              "    .dataframe tbody tr th {\n",
              "        vertical-align: top;\n",
              "    }\n",
              "\n",
              "    .dataframe thead th {\n",
              "        text-align: right;\n",
              "    }\n",
              "</style>\n",
              "<table border=\"1\" class=\"dataframe\">\n",
              "  <thead>\n",
              "    <tr style=\"text-align: right;\">\n",
              "      <th></th>\n",
              "      <th>Filepath</th>\n",
              "      <th>Label</th>\n",
              "    </tr>\n",
              "  </thead>\n",
              "  <tbody>\n",
              "    <tr>\n",
              "      <th>0</th>\n",
              "      <td>/content/ECG_Image_data/test/Q/267.jpg</td>\n",
              "      <td>Q</td>\n",
              "    </tr>\n",
              "    <tr>\n",
              "      <th>1</th>\n",
              "      <td>/content/ECG_Image_data/test/F-resampled/140.jpg</td>\n",
              "      <td>F-resampled</td>\n",
              "    </tr>\n",
              "    <tr>\n",
              "      <th>2</th>\n",
              "      <td>/content/ECG_Image_data/test/Q/1210.jpg</td>\n",
              "      <td>Q</td>\n",
              "    </tr>\n",
              "    <tr>\n",
              "      <th>3</th>\n",
              "      <td>/content/ECG_Image_data/test/V/1256.jpg</td>\n",
              "      <td>V</td>\n",
              "    </tr>\n",
              "    <tr>\n",
              "      <th>4</th>\n",
              "      <td>/content/ECG_Image_data/test/S/463.jpg</td>\n",
              "      <td>S</td>\n",
              "    </tr>\n",
              "    <tr>\n",
              "      <th>...</th>\n",
              "      <td>...</td>\n",
              "      <td>...</td>\n",
              "    </tr>\n",
              "    <tr>\n",
              "      <th>2395</th>\n",
              "      <td>/content/ECG_Image_data/test/S/341.jpg</td>\n",
              "      <td>S</td>\n",
              "    </tr>\n",
              "    <tr>\n",
              "      <th>2396</th>\n",
              "      <td>/content/ECG_Image_data/test/S/185.jpg</td>\n",
              "      <td>S</td>\n",
              "    </tr>\n",
              "    <tr>\n",
              "      <th>2397</th>\n",
              "      <td>/content/ECG_Image_data/test/S/464.jpg</td>\n",
              "      <td>S</td>\n",
              "    </tr>\n",
              "    <tr>\n",
              "      <th>2398</th>\n",
              "      <td>/content/ECG_Image_data/test/N/4600.jpg</td>\n",
              "      <td>N</td>\n",
              "    </tr>\n",
              "    <tr>\n",
              "      <th>2399</th>\n",
              "      <td>/content/ECG_Image_data/test/S/11.jpg</td>\n",
              "      <td>S</td>\n",
              "    </tr>\n",
              "  </tbody>\n",
              "</table>\n",
              "<p>2400 rows × 2 columns</p>\n",
              "</div>\n",
              "      <button class=\"colab-df-convert\" onclick=\"convertToInteractive('df-a1ab850b-32a1-4a62-88b2-c5534a0dd69b')\"\n",
              "              title=\"Convert this dataframe to an interactive table.\"\n",
              "              style=\"display:none;\">\n",
              "        \n",
              "  <svg xmlns=\"http://www.w3.org/2000/svg\" height=\"24px\"viewBox=\"0 0 24 24\"\n",
              "       width=\"24px\">\n",
              "    <path d=\"M0 0h24v24H0V0z\" fill=\"none\"/>\n",
              "    <path d=\"M18.56 5.44l.94 2.06.94-2.06 2.06-.94-2.06-.94-.94-2.06-.94 2.06-2.06.94zm-11 1L8.5 8.5l.94-2.06 2.06-.94-2.06-.94L8.5 2.5l-.94 2.06-2.06.94zm10 10l.94 2.06.94-2.06 2.06-.94-2.06-.94-.94-2.06-.94 2.06-2.06.94z\"/><path d=\"M17.41 7.96l-1.37-1.37c-.4-.4-.92-.59-1.43-.59-.52 0-1.04.2-1.43.59L10.3 9.45l-7.72 7.72c-.78.78-.78 2.05 0 2.83L4 21.41c.39.39.9.59 1.41.59.51 0 1.02-.2 1.41-.59l7.78-7.78 2.81-2.81c.8-.78.8-2.07 0-2.86zM5.41 20L4 18.59l7.72-7.72 1.47 1.35L5.41 20z\"/>\n",
              "  </svg>\n",
              "      </button>\n",
              "      \n",
              "  <style>\n",
              "    .colab-df-container {\n",
              "      display:flex;\n",
              "      flex-wrap:wrap;\n",
              "      gap: 12px;\n",
              "    }\n",
              "\n",
              "    .colab-df-convert {\n",
              "      background-color: #E8F0FE;\n",
              "      border: none;\n",
              "      border-radius: 50%;\n",
              "      cursor: pointer;\n",
              "      display: none;\n",
              "      fill: #1967D2;\n",
              "      height: 32px;\n",
              "      padding: 0 0 0 0;\n",
              "      width: 32px;\n",
              "    }\n",
              "\n",
              "    .colab-df-convert:hover {\n",
              "      background-color: #E2EBFA;\n",
              "      box-shadow: 0px 1px 2px rgba(60, 64, 67, 0.3), 0px 1px 3px 1px rgba(60, 64, 67, 0.15);\n",
              "      fill: #174EA6;\n",
              "    }\n",
              "\n",
              "    [theme=dark] .colab-df-convert {\n",
              "      background-color: #3B4455;\n",
              "      fill: #D2E3FC;\n",
              "    }\n",
              "\n",
              "    [theme=dark] .colab-df-convert:hover {\n",
              "      background-color: #434B5C;\n",
              "      box-shadow: 0px 1px 3px 1px rgba(0, 0, 0, 0.15);\n",
              "      filter: drop-shadow(0px 1px 2px rgba(0, 0, 0, 0.3));\n",
              "      fill: #FFFFFF;\n",
              "    }\n",
              "  </style>\n",
              "\n",
              "      <script>\n",
              "        const buttonEl =\n",
              "          document.querySelector('#df-a1ab850b-32a1-4a62-88b2-c5534a0dd69b button.colab-df-convert');\n",
              "        buttonEl.style.display =\n",
              "          google.colab.kernel.accessAllowed ? 'block' : 'none';\n",
              "\n",
              "        async function convertToInteractive(key) {\n",
              "          const element = document.querySelector('#df-a1ab850b-32a1-4a62-88b2-c5534a0dd69b');\n",
              "          const dataTable =\n",
              "            await google.colab.kernel.invokeFunction('convertToInteractive',\n",
              "                                                     [key], {});\n",
              "          if (!dataTable) return;\n",
              "\n",
              "          const docLinkHtml = 'Like what you see? Visit the ' +\n",
              "            '<a target=\"_blank\" href=https://colab.research.google.com/notebooks/data_table.ipynb>data table notebook</a>'\n",
              "            + ' to learn more about interactive tables.';\n",
              "          element.innerHTML = '';\n",
              "          dataTable['output_type'] = 'display_data';\n",
              "          await google.colab.output.renderOutput(dataTable, element);\n",
              "          const docLink = document.createElement('div');\n",
              "          docLink.innerHTML = docLinkHtml;\n",
              "          element.appendChild(docLink);\n",
              "        }\n",
              "      </script>\n",
              "    </div>\n",
              "  </div>\n",
              "  "
            ]
          },
          "metadata": {},
          "execution_count": 15
        }
      ]
    },
    {
      "cell_type": "code",
      "source": [
        "from keras.utils import img_to_array,load_img\n",
        "img = load_img(dataframe_test['Filepath'].values[1])\n",
        "plt.imshow(img)\n",
        "plt.axis(\"on\")\n",
        "plt.show()"
      ],
      "metadata": {
        "colab": {
          "base_uri": "https://localhost:8080/",
          "height": 269
        },
        "id": "SYq6-elcKlnm",
        "outputId": "7fa8c40c-7612-4954-d9a3-5cf024177ea2"
      },
      "execution_count": null,
      "outputs": [
        {
          "output_type": "display_data",
          "data": {
            "text/plain": [
              "<Figure size 432x288 with 1 Axes>"
            ],
            "image/png": "[encoded data removed]"
          },
          "metadata": {
            "needs_background": "light"
          }
        }
      ]
    },
    {
      "cell_type": "code",
      "source": [
        "array_image = img_to_array(img)\n",
        "print(array_image.shape)"
      ],
      "metadata": {
        "colab": {
          "base_uri": "https://localhost:8080/"
        },
        "id": "X7fm1GuqKllq",
        "outputId": "44c37622-5b44-43e7-9d5c-144fbbeab48f"
      },
      "execution_count": null,
      "outputs": [
        {
          "output_type": "stream",
          "name": "stdout",
          "text": [
            "(288, 432, 3)\n"
          ]
        }
      ]
    },
    {
      "cell_type": "code",
      "source": [
        "train_datagen = tf.keras.preprocessing.image.ImageDataGenerator(\n",
        "    #preprocessing_function=tf.keras.applications.vgg16.preprocess_input,\n",
        "    rescale=1./255,\n",
        "    shear_range = 0.2,\n",
        "    horizontal_flip=True,\n",
        "    zoom_range = 0.2,\n",
        "    validation_split=0.25\n",
        "  \n",
        ")\n",
        "\n",
        "test_datagen = tf.keras.preprocessing.image.ImageDataGenerator(\n",
        "    #preprocessing_function=tf.keras.applications.vgg16.preprocess_input,\n",
        "    rescale=1./255\n",
        ")"
      ],
      "metadata": {
        "id": "22TL99zFKljO"
      },
      "execution_count": null,
      "outputs": []
    },
    {
      "cell_type": "code",
      "source": [
        "train_generator = train_datagen.flow_from_dataframe(\n",
        "    dataframe=dataframe_train,\n",
        "    x_col='Filepath',\n",
        "    y_col='Label',\n",
        "    target_size=(224, 224),\n",
        "    color_mode='rgb',\n",
        "    class_mode='categorical',\n",
        "    batch_size=32,\n",
        "    shuffle=True,\n",
        "    seed=42,\n",
        "    subset='training'\n",
        ")\n",
        "\n",
        "val_generator = train_datagen.flow_from_dataframe(\n",
        "    dataframe=dataframe_train,\n",
        "    x_col='Filepath',\n",
        "    y_col='Label',\n",
        "    target_size=(224, 224),\n",
        "    color_mode='rgb',\n",
        "    class_mode='categorical',\n",
        "    batch_size=32,\n",
        "    shuffle=True,\n",
        "    seed=42,\n",
        "    subset='validation'\n",
        ")\n",
        "test_generator = test_datagen.flow_from_dataframe(\n",
        "    dataframe=dataframe_test,\n",
        "    x_col='Filepath',\n",
        "    y_col='Label',\n",
        "    target_size=(224, 224),\n",
        "    color_mode='rgb',\n",
        "    class_mode='categorical',\n",
        "    batch_size=32,\n",
        "    shuffle=False\n",
        ")"
      ],
      "metadata": {
        "colab": {
          "base_uri": "https://localhost:8080/"
        },
        "id": "cN4-rgx0KlhY",
        "outputId": "07801d24-587d-4981-f560-7c66dd225713"
      },
      "execution_count": null,
      "outputs": [
        {
          "output_type": "stream",
          "name": "stdout",
          "text": [
            "Found 7200 validated image filenames belonging to 6 classes.\n",
            "Found 2400 validated image filenames belonging to 6 classes.\n",
            "Found 2400 validated image filenames belonging to 6 classes.\n"
          ]
        }
      ]
    },
    {
      "cell_type": "code",
      "source": [
        "test_generator.class_indices"
      ],
      "metadata": {
        "colab": {
          "base_uri": "https://localhost:8080/"
        },
        "id": "URJj_qmUKlfj",
        "outputId": "5d40a7ca-76b3-482f-f1d5-a7505dbdd8ed"
      },
      "execution_count": null,
      "outputs": [
        {
          "output_type": "execute_result",
          "data": {
            "text/plain": [
              "{'F-resampled': 0, 'M': 1, 'N': 2, 'Q': 3, 'S': 4, 'V': 5}"
            ]
          },
          "metadata": {},
          "execution_count": 20
        }
      ]
    },
    {
      "cell_type": "code",
      "source": [
        "plt.imshow(test_generator[0][0][3])"
      ],
      "metadata": {
        "colab": {
          "base_uri": "https://localhost:8080/",
          "height": 287
        },
        "id": "8uGTHXz7KlcD",
        "outputId": "2451471e-a2ea-44a3-efb4-459bb3b759b9"
      },
      "execution_count": null,
      "outputs": [
        {
          "output_type": "execute_result",
          "data": {
            "text/plain": [
              "<matplotlib.image.AxesImage at 0x7fb9f95f2160>"
            ]
          },
          "metadata": {},
          "execution_count": 21
        },
        {
          "output_type": "display_data",
          "data": {
            "text/plain": [
              "<Figure size 432x288 with 1 Axes>"
            ],
            "image/png": "[encoded data removed]"
          },
          "metadata": {
            "needs_background": "light"
          }
        }
      ]
    },
    {
      "cell_type": "code",
      "source": [
        "folders=glob('/content/ECG_Image_data/test/*')\n",
        "folders"
      ],
      "metadata": {
        "colab": {
          "base_uri": "https://localhost:8080/"
        },
        "id": "HJxFBH43KlaD",
        "outputId": "623e5257-1e45-4e75-8968-41a25361101d"
      },
      "execution_count": null,
      "outputs": [
        {
          "output_type": "execute_result",
          "data": {
            "text/plain": [
              "['/content/ECG_Image_data/test/N',\n",
              " '/content/ECG_Image_data/test/F-resampled',\n",
              " '/content/ECG_Image_data/test/S',\n",
              " '/content/ECG_Image_data/test/Q',\n",
              " '/content/ECG_Image_data/test/M',\n",
              " '/content/ECG_Image_data/test/V']"
            ]
          },
          "metadata": {},
          "execution_count": 22
        }
      ]
    },
    {
      "cell_type": "code",
      "source": [
        "IMAGE_SIZE = [224, 224]\n",
        "vgg = VGG19(input_shape=IMAGE_SIZE + [3], weights='imagenet', include_top=False)"
      ],
      "metadata": {
        "colab": {
          "base_uri": "https://localhost:8080/"
        },
        "id": "JXiVmULEKlYO",
        "outputId": "706933b6-bc42-4610-f1cd-ec1d42f27b60"
      },
      "execution_count": null,
      "outputs": [
        {
          "output_type": "stream",
          "name": "stdout",
          "text": [
            "Downloading data from https://storage.googleapis.com/tensorflow/keras-applications/vgg19/vgg19_weights_tf_dim_ordering_tf_kernels_notop.h5\n",
            "80134624/80134624 [==============================] - 2s 0us/step\n"
          ]
        }
      ]
    },
    {
      "cell_type": "code",
      "source": [
        "for layer in vgg.layers:\n",
        "  layer.trainable = False"
      ],
      "metadata": {
        "id": "opu1CHgGKlWg"
      },
      "execution_count": null,
      "outputs": []
    },
    {
      "cell_type": "code",
      "source": [
        "x = Flatten()(vgg.output)"
      ],
      "metadata": {
        "id": "yokXpjEmKlUp"
      },
      "execution_count": null,
      "outputs": []
    },
    {
      "cell_type": "code",
      "source": [
        "prediction = Dense(len(folders), activation='softmax')(x)"
      ],
      "metadata": {
        "id": "07EWRdZYKlSo"
      },
      "execution_count": null,
      "outputs": []
    },
    {
      "cell_type": "code",
      "source": [
        "vgg_model = Model(inputs=vgg.input, outputs=prediction)\n",
        "\n",
        "vgg_model.summary()"
      ],
      "metadata": {
        "colab": {
          "base_uri": "https://localhost:8080/"
        },
        "id": "qoBwIhSDKlRB",
        "outputId": "59253dc3-cc99-4151-86e0-830b4537b963"
      },
      "execution_count": null,
      "outputs": [
        {
          "output_type": "stream",
          "name": "stdout",
          "text": [
            "Model: \"model\"\n",
            "_________________________________________________________________\n",
            " Layer (type)                Output Shape              Param #   \n",
            "=================================================================\n",
            " input_1 (InputLayer)        [(None, 224, 224, 3)]     0         \n",
            "                                                                 \n",
            " block1_conv1 (Conv2D)       (None, 224, 224, 64)      1792      \n",
            "                                                                 \n",
            " block1_conv2 (Conv2D)       (None, 224, 224, 64)      36928     \n",
            "                                                                 \n",
            " block1_pool (MaxPooling2D)  (None, 112, 112, 64)      0         \n",
            "                                                                 \n",
            " block2_conv1 (Conv2D)       (None, 112, 112, 128)     73856     \n",
            "                                                                 \n",
            " block2_conv2 (Conv2D)       (None, 112, 112, 128)     147584    \n",
            "                                                                 \n",
            " block2_pool (MaxPooling2D)  (None, 56, 56, 128)       0         \n",
            "                                                                 \n",
            " block3_conv1 (Conv2D)       (None, 56, 56, 256)       295168    \n",
            "                                                                 \n",
            " block3_conv2 (Conv2D)       (None, 56, 56, 256)       590080    \n",
            "                                                                 \n",
            " block3_conv3 (Conv2D)       (None, 56, 56, 256)       590080    \n",
            "                                                                 \n",
            " block3_conv4 (Conv2D)       (None, 56, 56, 256)       590080    \n",
            "                                                                 \n",
            " block3_pool (MaxPooling2D)  (None, 28, 28, 256)       0         \n",
            "                                                                 \n",
            " block4_conv1 (Conv2D)       (None, 28, 28, 512)       1180160   \n",
            "                                                                 \n",
            " block4_conv2 (Conv2D)       (None, 28, 28, 512)       2359808   \n",
            "                                                                 \n",
            " block4_conv3 (Conv2D)       (None, 28, 28, 512)       2359808   \n",
            "                                                                 \n",
            " block4_conv4 (Conv2D)       (None, 28, 28, 512)       2359808   \n",
            "                                                                 \n",
            " block4_pool (MaxPooling2D)  (None, 14, 14, 512)       0         \n",
            "                                                                 \n",
            " block5_conv1 (Conv2D)       (None, 14, 14, 512)       2359808   \n",
            "                                                                 \n",
            " block5_conv2 (Conv2D)       (None, 14, 14, 512)       2359808   \n",
            "                                                                 \n",
            " block5_conv3 (Conv2D)       (None, 14, 14, 512)       2359808   \n",
            "                                                                 \n",
            " block5_conv4 (Conv2D)       (None, 14, 14, 512)       2359808   \n",
            "                                                                 \n",
            " block5_pool (MaxPooling2D)  (None, 7, 7, 512)         0         \n",
            "                                                                 \n",
            " flatten (Flatten)           (None, 25088)             0         \n",
            "                                                                 \n",
            " dense (Dense)               (None, 6)                 150534    \n",
            "                                                                 \n",
            "=================================================================\n",
            "Total params: 20,174,918\n",
            "Trainable params: 150,534\n",
            "Non-trainable params: 20,024,384\n",
            "_________________________________________________________________\n"
          ]
        }
      ]
    },
    {
      "cell_type": "code",
      "source": [
        "import keras\n",
        "checkpoint = keras.callbacks.ModelCheckpoint(\n",
        "    filepath='best_model.h5',\n",
        "    save_weights_only=False,\n",
        "    monitor='val_accuracy',\n",
        "    mode='max',\n",
        "    save_best_only=True,\n",
        "    verbose=1)\n",
        "rp = keras.callbacks.ReduceLROnPlateau(\n",
        "        monitor=\"val_accuracy\",\n",
        "        factor=0.2,\n",
        "        patience=3,\n",
        "        verbose=1,\n",
        "        mode=\"max\",\n",
        "        min_lr=0.00001,\n",
        "     )"
      ],
      "metadata": {
        "id": "SDb7oaEcKlPO"
      },
      "execution_count": null,
      "outputs": []
    },
    {
      "cell_type": "code",
      "source": [
        "vgg_model.compile(\n",
        "    optimizer='adam',\n",
        "    loss='categorical_crossentropy',\n",
        "    metrics=['accuracy']\n",
        ")"
      ],
      "metadata": {
        "id": "m5J2jZ8hKlNY"
      },
      "execution_count": null,
      "outputs": []
    },
    {
      "cell_type": "code",
      "source": [
        "result=vgg_model.fit(\n",
        "    train_generator,\n",
        "    validation_data=val_generator,\n",
        "    epochs=25,\n",
        "    steps_per_epoch=len(train_generator),\n",
        "    validation_steps=len(val_generator),\n",
        "    callbacks=[checkpoint,rp]\n",
        ")"
      ],
      "metadata": {
        "colab": {
          "base_uri": "https://localhost:8080/"
        },
        "id": "rVrzLRkjKlL3",
        "outputId": "26de6586-ad8c-444b-9f73-61e8765bd25f"
      },
      "execution_count": null,
      "outputs": [
        {
          "output_type": "stream",
          "name": "stdout",
          "text": [
            "Epoch 1/25\n",
            "225/225 [==============================] - ETA: 0s - loss: 0.9312 - accuracy: 0.6668\n",
            "Epoch 1: val_accuracy improved from -inf to 0.77458, saving model to best_model.h5\n",
            "225/225 [==============================] - 130s 537ms/step - loss: 0.9312 - accuracy: 0.6668 - val_loss: 0.6482 - val_accuracy: 0.7746 - lr: 0.0010\n",
            "Epoch 2/25\n",
            "225/225 [==============================] - ETA: 0s - loss: 0.6124 - accuracy: 0.7736\n",
            "Epoch 2: val_accuracy improved from 0.77458 to 0.77542, saving model to best_model.h5\n",
            "225/225 [==============================] - 122s 542ms/step - loss: 0.6124 - accuracy: 0.7736 - val_loss: 0.6165 - val_accuracy: 0.7754 - lr: 0.0010\n",
            "Epoch 3/25\n",
            "225/225 [==============================] - ETA: 0s - loss: 0.5647 - accuracy: 0.7924\n",
            "Epoch 3: val_accuracy did not improve from 0.77542\n",
            "225/225 [==============================] - 119s 531ms/step - loss: 0.5647 - accuracy: 0.7924 - val_loss: 0.5958 - val_accuracy: 0.7721 - lr: 0.0010\n",
            "Epoch 4/25\n",
            "225/225 [==============================] - ETA: 0s - loss: 0.4941 - accuracy: 0.8204\n",
            "Epoch 4: val_accuracy did not improve from 0.77542\n",
            "225/225 [==============================] - 120s 533ms/step - loss: 0.4941 - accuracy: 0.8204 - val_loss: 0.8067 - val_accuracy: 0.7621 - lr: 0.0010\n",
            "Epoch 5/25\n",
            "225/225 [==============================] - ETA: 0s - loss: 0.4385 - accuracy: 0.8426\n",
            "Epoch 5: val_accuracy improved from 0.77542 to 0.81667, saving model to best_model.h5\n",
            "225/225 [==============================] - 119s 530ms/step - loss: 0.4385 - accuracy: 0.8426 - val_loss: 0.5036 - val_accuracy: 0.8167 - lr: 0.0010\n",
            "Epoch 6/25\n",
            "225/225 [==============================] - ETA: 0s - loss: 0.4284 - accuracy: 0.8426\n",
            "Epoch 6: val_accuracy did not improve from 0.81667\n",
            "225/225 [==============================] - 120s 533ms/step - loss: 0.4284 - accuracy: 0.8426 - val_loss: 0.5504 - val_accuracy: 0.8104 - lr: 0.0010\n",
            "Epoch 7/25\n",
            "225/225 [==============================] - ETA: 0s - loss: 0.4006 - accuracy: 0.8553\n",
            "Epoch 7: val_accuracy did not improve from 0.81667\n",
            "225/225 [==============================] - 119s 530ms/step - loss: 0.4006 - accuracy: 0.8553 - val_loss: 0.6309 - val_accuracy: 0.7879 - lr: 0.0010\n",
            "Epoch 8/25\n",
            "225/225 [==============================] - ETA: 0s - loss: 0.4534 - accuracy: 0.8364\n",
            "Epoch 8: val_accuracy improved from 0.81667 to 0.83292, saving model to best_model.h5\n",
            "225/225 [==============================] - 120s 532ms/step - loss: 0.4534 - accuracy: 0.8364 - val_loss: 0.4870 - val_accuracy: 0.8329 - lr: 0.0010\n",
            "Epoch 9/25\n",
            "225/225 [==============================] - ETA: 0s - loss: 0.3959 - accuracy: 0.8612\n",
            "Epoch 9: val_accuracy improved from 0.83292 to 0.84250, saving model to best_model.h5\n",
            "225/225 [==============================] - 119s 528ms/step - loss: 0.3959 - accuracy: 0.8612 - val_loss: 0.4781 - val_accuracy: 0.8425 - lr: 0.0010\n",
            "Epoch 10/25\n",
            "225/225 [==============================] - ETA: 0s - loss: 0.3838 - accuracy: 0.8611\n",
            "Epoch 10: val_accuracy improved from 0.84250 to 0.84500, saving model to best_model.h5\n",
            "225/225 [==============================] - 119s 529ms/step - loss: 0.3838 - accuracy: 0.8611 - val_loss: 0.4539 - val_accuracy: 0.8450 - lr: 0.0010\n",
            "Epoch 11/25\n",
            "225/225 [==============================] - ETA: 0s - loss: 0.3583 - accuracy: 0.8725\n",
            "Epoch 11: val_accuracy improved from 0.84500 to 0.86500, saving model to best_model.h5\n",
            "225/225 [==============================] - 119s 528ms/step - loss: 0.3583 - accuracy: 0.8725 - val_loss: 0.4031 - val_accuracy: 0.8650 - lr: 0.0010\n",
            "Epoch 12/25\n",
            "225/225 [==============================] - ETA: 0s - loss: 0.3643 - accuracy: 0.8687\n",
            "Epoch 12: val_accuracy did not improve from 0.86500\n",
            "225/225 [==============================] - 118s 526ms/step - loss: 0.3643 - accuracy: 0.8687 - val_loss: 0.4656 - val_accuracy: 0.8471 - lr: 0.0010\n",
            "Epoch 13/25\n",
            "225/225 [==============================] - ETA: 0s - loss: 0.3307 - accuracy: 0.8797\n",
            "Epoch 13: val_accuracy did not improve from 0.86500\n",
            "225/225 [==============================] - 118s 525ms/step - loss: 0.3307 - accuracy: 0.8797 - val_loss: 0.5248 - val_accuracy: 0.8221 - lr: 0.0010\n",
            "Epoch 14/25\n",
            "225/225 [==============================] - ETA: 0s - loss: 0.3251 - accuracy: 0.8846\n",
            "Epoch 14: val_accuracy improved from 0.86500 to 0.86708, saving model to best_model.h5\n",
            "225/225 [==============================] - 119s 527ms/step - loss: 0.3251 - accuracy: 0.8846 - val_loss: 0.3986 - val_accuracy: 0.8671 - lr: 0.0010\n",
            "Epoch 15/25\n",
            "225/225 [==============================] - ETA: 0s - loss: 0.3065 - accuracy: 0.8940\n",
            "Epoch 15: val_accuracy did not improve from 0.86708\n",
            "225/225 [==============================] - 120s 532ms/step - loss: 0.3065 - accuracy: 0.8940 - val_loss: 0.3978 - val_accuracy: 0.8608 - lr: 0.0010\n",
            "Epoch 16/25\n",
            "225/225 [==============================] - ETA: 0s - loss: 0.3601 - accuracy: 0.8711\n",
            "Epoch 16: val_accuracy improved from 0.86708 to 0.87333, saving model to best_model.h5\n",
            "225/225 [==============================] - 119s 529ms/step - loss: 0.3601 - accuracy: 0.8711 - val_loss: 0.3927 - val_accuracy: 0.8733 - lr: 0.0010\n",
            "Epoch 17/25\n",
            "225/225 [==============================] - ETA: 0s - loss: 0.2915 - accuracy: 0.8925\n",
            "Epoch 17: val_accuracy did not improve from 0.87333\n",
            "225/225 [==============================] - 120s 533ms/step - loss: 0.2915 - accuracy: 0.8925 - val_loss: 0.4166 - val_accuracy: 0.8683 - lr: 0.0010\n",
            "Epoch 18/25\n",
            "225/225 [==============================] - ETA: 0s - loss: 0.3078 - accuracy: 0.8885\n",
            "Epoch 18: val_accuracy did not improve from 0.87333\n",
            "225/225 [==============================] - 120s 533ms/step - loss: 0.3078 - accuracy: 0.8885 - val_loss: 0.3775 - val_accuracy: 0.8704 - lr: 0.0010\n",
            "Epoch 19/25\n",
            "225/225 [==============================] - ETA: 0s - loss: 0.2950 - accuracy: 0.8942\n",
            "Epoch 19: val_accuracy improved from 0.87333 to 0.88583, saving model to best_model.h5\n",
            "225/225 [==============================] - 122s 542ms/step - loss: 0.2950 - accuracy: 0.8942 - val_loss: 0.3621 - val_accuracy: 0.8858 - lr: 0.0010\n",
            "Epoch 20/25\n",
            "225/225 [==============================] - ETA: 0s - loss: 0.2791 - accuracy: 0.8986\n",
            "Epoch 20: val_accuracy did not improve from 0.88583\n",
            "225/225 [==============================] - 121s 537ms/step - loss: 0.2791 - accuracy: 0.8986 - val_loss: 0.3642 - val_accuracy: 0.8808 - lr: 0.0010\n",
            "Epoch 21/25\n",
            "225/225 [==============================] - ETA: 0s - loss: 0.2834 - accuracy: 0.8961\n",
            "Epoch 21: val_accuracy did not improve from 0.88583\n",
            "225/225 [==============================] - 121s 536ms/step - loss: 0.2834 - accuracy: 0.8961 - val_loss: 0.5192 - val_accuracy: 0.8250 - lr: 0.0010\n",
            "Epoch 22/25\n",
            "225/225 [==============================] - ETA: 0s - loss: 0.2965 - accuracy: 0.8926\n",
            "Epoch 22: val_accuracy did not improve from 0.88583\n",
            "\n",
            "Epoch 22: ReduceLROnPlateau reducing learning rate to 0.00020000000949949026.\n",
            "225/225 [==============================] - 119s 528ms/step - loss: 0.2965 - accuracy: 0.8926 - val_loss: 0.3608 - val_accuracy: 0.8817 - lr: 0.0010\n",
            "Epoch 23/25\n",
            "225/225 [==============================] - ETA: 0s - loss: 0.1928 - accuracy: 0.9317\n",
            "Epoch 23: val_accuracy did not improve from 0.88583\n",
            "225/225 [==============================] - 118s 525ms/step - loss: 0.1928 - accuracy: 0.9317 - val_loss: 0.3566 - val_accuracy: 0.8842 - lr: 2.0000e-04\n",
            "Epoch 24/25\n",
            "225/225 [==============================] - ETA: 0s - loss: 0.1915 - accuracy: 0.9311\n",
            "Epoch 24: val_accuracy did not improve from 0.88583\n",
            "225/225 [==============================] - 119s 528ms/step - loss: 0.1915 - accuracy: 0.9311 - val_loss: 0.3477 - val_accuracy: 0.8829 - lr: 2.0000e-04\n",
            "Epoch 25/25\n",
            "225/225 [==============================] - ETA: 0s - loss: 0.1800 - accuracy: 0.9358\n",
            "Epoch 25: val_accuracy improved from 0.88583 to 0.89542, saving model to best_model.h5\n",
            "225/225 [==============================] - 119s 527ms/step - loss: 0.1800 - accuracy: 0.9358 - val_loss: 0.3109 - val_accuracy: 0.8954 - lr: 2.0000e-04\n"
          ]
        }
      ]
    },
    {
      "cell_type": "code",
      "source": [
        "vgg_model.save('best.h5')"
      ],
      "metadata": {
        "id": "vdbywbVFKlJl"
      },
      "execution_count": null,
      "outputs": []
    },
    {
      "cell_type": "code",
      "source": [
        "from keras.models import load_model\n",
        "best_model1=load_model('/content/best.h5')\n",
        "results1 = best_model1.evaluate(test_generator, verbose=0)\n",
        "\n",
        "print(\"    Test Loss: {:.5f}\".format(results1[0]))\n",
        "print(\"Test Accuracy: {:.2f}%\".format(results1[1] * 100))"
      ],
      "metadata": {
        "id": "PSf_hM3tKlFp",
        "colab": {
          "base_uri": "https://localhost:8080/"
        },
        "outputId": "acc5659a-5d64-4294-9200-2c1640bd7fb4"
      },
      "execution_count": null,
      "outputs": [
        {
          "output_type": "stream",
          "name": "stdout",
          "text": [
            "    Test Loss: 0.37467\n",
            "Test Accuracy: 87.67%\n"
          ]
        }
      ]
    },
    {
      "cell_type": "code",
      "source": [
        "from keras.models import load_model\n",
        "best_model=load_model('/content/best_model.h5')\n",
        "results = best_model.evaluate(test_generator, verbose=0)\n",
        "\n",
        "print(\"    Test Loss: {:.5f}\".format(results[0]))\n",
        "print(\"Test Accuracy: {:.2f}%\".format(results[1] * 100))"
      ],
      "metadata": {
        "id": "Zy8gDr2fKkzn",
        "colab": {
          "base_uri": "https://localhost:8080/"
        },
        "outputId": "34fcd93b-c8a4-41d4-ca11-4e09d3cde617"
      },
      "execution_count": null,
      "outputs": [
        {
          "output_type": "stream",
          "name": "stdout",
          "text": [
            "    Test Loss: 0.37467\n",
            "Test Accuracy: 87.67%\n"
          ]
        }
      ]
    },
    {
      "cell_type": "code",
      "source": [
        "import matplotlib.pyplot as plt\n",
        "\n",
        "plt.plot(result.history['loss'])\n",
        "plt.plot(result.history['val_loss'])\n",
        "plt.legend(['Training', 'Validation'])\n",
        "plt.title('Training and Validation losses')\n",
        "plt.xlabel('epoch')\n",
        "plt.ylabel('loss')"
      ],
      "metadata": {
        "id": "G2mJ5IPfKkw2",
        "colab": {
          "base_uri": "https://localhost:8080/",
          "height": 313
        },
        "outputId": "5053392c-8e55-4ef4-da13-2d8053c61961"
      },
      "execution_count": null,
      "outputs": [
        {
          "output_type": "execute_result",
          "data": {
            "text/plain": [
              "Text(0, 0.5, 'loss')"
            ]
          },
          "metadata": {},
          "execution_count": 34
        },
        {
          "output_type": "display_data",
          "data": {
            "text/plain": [
              "<Figure size 432x288 with 1 Axes>"
            ],
            "image/png": "[encoded data removed]"
          },
          "metadata": {
            "needs_background": "light"
          }
        }
      ]
    },
    {
      "cell_type": "code",
      "source": [
        "plt.plot(result.history['accuracy'])\n",
        "plt.plot(result.history['val_accuracy'])\n",
        "plt.legend(['Training', 'Validation'])\n",
        "plt.title('Training and Validation accuracy')\n",
        "plt.xlabel('epoch')\n",
        "plt.ylabel('accuracy')"
      ],
      "metadata": {
        "id": "aW8dSj2ZKkuP",
        "colab": {
          "base_uri": "https://localhost:8080/",
          "height": 313
        },
        "outputId": "5540438e-93e7-4c61-85cd-d8585968e9ae"
      },
      "execution_count": null,
      "outputs": [
        {
          "output_type": "execute_result",
          "data": {
            "text/plain": [
              "Text(0, 0.5, 'accuracy')"
            ]
          },
          "metadata": {},
          "execution_count": 35
        },
        {
          "output_type": "display_data",
          "data": {
            "text/plain": [
              "<Figure size 432x288 with 1 Axes>"
            ],
            "image/png": "[encoded data removed]"
          },
          "metadata": {
            "needs_background": "light"
          }
        }
      ]
    },
    {
      "cell_type": "code",
      "source": [
        "y_pred = best_model1.predict(test_generator)\n",
        "y_pred"
      ],
      "metadata": {
        "id": "UZOS1EENKkZ9",
        "colab": {
          "base_uri": "https://localhost:8080/"
        },
        "outputId": "7b87ac97-ceef-4f61-c0fe-4cd74f95c946"
      },
      "execution_count": null,
      "outputs": [
        {
          "output_type": "stream",
          "name": "stdout",
          "text": [
            "75/75 [==============================] - 13s 176ms/step\n"
          ]
        },
        {
          "output_type": "execute_result",
          "data": {
            "text/plain": [
              "array([[9.52832174e-14, 1.94250546e-10, 1.35674325e-08, 9.99999404e-01,\n",
              "        1.50982551e-08, 6.08810069e-07],\n",
              "       [9.04805183e-01, 5.95746189e-03, 8.87626857e-02, 3.15576301e-07,\n",
              "        2.73511920e-04, 2.00911760e-04],\n",
              "       [1.00776665e-10, 1.23476923e-07, 8.01278657e-05, 9.99509692e-01,\n",
              "        5.46043520e-06, 4.04607068e-04],\n",
              "       ...,\n",
              "       [4.49648537e-02, 1.58349890e-02, 3.89085263e-01, 2.54590483e-03,\n",
              "        5.41825771e-01, 5.74323535e-03],\n",
              "       [1.52346146e-07, 2.90258735e-01, 7.04286397e-01, 7.90254155e-04,\n",
              "        4.36479505e-03, 2.99613428e-04],\n",
              "       [5.18512477e-09, 2.37061454e-06, 1.18473906e-03, 7.16566137e-05,\n",
              "        9.98293221e-01, 4.48091188e-04]], dtype=float32)"
            ]
          },
          "metadata": {},
          "execution_count": 36
        }
      ]
    },
    {
      "cell_type": "code",
      "source": [
        "y_pred = np.argmax(y_pred, axis=1)\n",
        "y_pred"
      ],
      "metadata": {
        "id": "odEuxLQkKkXa",
        "colab": {
          "base_uri": "https://localhost:8080/"
        },
        "outputId": "afd3a5fe-fcd2-4fb1-b8e7-fcccf93c6ddd"
      },
      "execution_count": null,
      "outputs": [
        {
          "output_type": "execute_result",
          "data": {
            "text/plain": [
              "array([3, 0, 3, ..., 4, 2, 4])"
            ]
          },
          "metadata": {},
          "execution_count": 37
        }
      ]
    },
    {
      "cell_type": "code",
      "source": [
        "from sklearn.metrics import confusion_matrix, classification_report\n",
        "\n",
        "\n",
        "cm = confusion_matrix(test_generator.labels, y_pred)\n",
        "print(cm)\n",
        "print('classification report')\n",
        "print( classification_report(test_generator.labels, y_pred))"
      ],
      "metadata": {
        "id": "_OhStVzvKkWA",
        "colab": {
          "base_uri": "https://localhost:8080/"
        },
        "outputId": "56d14b51-cf26-4b35-cc0a-6c54504f0c4a"
      },
      "execution_count": null,
      "outputs": [
        {
          "output_type": "stream",
          "name": "stdout",
          "text": [
            "[[356   3  25   0   0  16]\n",
            " [  3 307  68   4  10   8]\n",
            " [  3  20 355   2  14   6]\n",
            " [  3   2   2 389   2   2]\n",
            " [  2   5  55   0 323  15]\n",
            " [  6   2  11   3   4 374]]\n",
            "classification report\n",
            "              precision    recall  f1-score   support\n",
            "\n",
            "           0       0.95      0.89      0.92       400\n",
            "           1       0.91      0.77      0.83       400\n",
            "           2       0.69      0.89      0.78       400\n",
            "           3       0.98      0.97      0.97       400\n",
            "           4       0.92      0.81      0.86       400\n",
            "           5       0.89      0.94      0.91       400\n",
            "\n",
            "    accuracy                           0.88      2400\n",
            "   macro avg       0.89      0.88      0.88      2400\n",
            "weighted avg       0.89      0.88      0.88      2400\n",
            "\n"
          ]
        }
      ]
    },
    {
      "cell_type": "code",
      "source": [
        "import seaborn as sns\n",
        "f,ax = plt.subplots(figsize=(8, 8))\n",
        "sns.heatmap(cm, annot=True, linewidths=0.01,cmap=\"Oranges\",linecolor=\"gray\", fmt= '.1f',ax=ax)\n",
        "plt.xlabel(\"Predicted Label\")\n",
        "plt.ylabel(\"True Label\")\n",
        "plt.title(\"Confusion Matrix\")\n",
        "plt.show()"
      ],
      "metadata": {
        "id": "hfXAcVzCKkRv",
        "colab": {
          "base_uri": "https://localhost:8080/",
          "height": 513
        },
        "outputId": "4f2e4e01-3e64-4e12-a28d-4faf68ea941b"
      },
      "execution_count": null,
      "outputs": [
        {
          "output_type": "display_data",
          "data": {
            "text/plain": [
              "<Figure size 576x576 with 2 Axes>"
            ],
            "image/png": "[encoded data removed]"
          },
          "metadata": {
            "needs_background": "light"
          }
        }
      ]
    },
    {
      "cell_type": "code",
      "source": [
        "class_map = dict([(v, k) for k, v in train_generator.class_indices.items()])\n",
        "print(class_map)"
      ],
      "metadata": {
        "id": "xGFESb_AKkOU",
        "colab": {
          "base_uri": "https://localhost:8080/"
        },
        "outputId": "9383187b-8a5c-490d-fc67-929677ac1e98"
      },
      "execution_count": null,
      "outputs": [
        {
          "output_type": "stream",
          "name": "stdout",
          "text": [
            "{0: 'F-resample', 1: 'M', 2: 'N', 3: 'Q', 4: 'S', 5: 'V'}\n"
          ]
        }
      ]
    },
    {
      "cell_type": "code",
      "source": [
        "from tensorflow.keras.models import load_model\n",
        "from tensorflow.keras.preprocessing import image\n",
        "test_image_path = '/content/ECG_Image_data/test/S/115.jpg'\n",
        "\n",
        "def generate_predictions(test_image_path, actual_label):\n",
        "    \n",
        "    # 1. Load and preprocess the image\n",
        "    test_img = image.load_img(test_image_path, target_size=(224, 224))\n",
        "    test_img_arr = image.img_to_array(test_img)/255.0\n",
        "    test_img_input = test_img_arr.reshape((1, test_img_arr.shape[0], test_img_arr.shape[1], test_img_arr.shape[2]))\n",
        "\n",
        "    # 2. Make Predictions\n",
        "    predicted_label = np.argmax(best_model1.predict(test_img_input))\n",
        "    predicted_beat = class_map[predicted_label]\n",
        "    plt.figure(figsize=(4, 4))\n",
        "    plt.imshow(test_img_arr)\n",
        "    plt.title(\"Predicted Label: {}, Actual Label: {}\".format(predicted_beat, actual_label))\n",
        "    plt.grid()\n",
        "    plt.axis('off')\n",
        "    plt.show()\n",
        "\n",
        "# call the function\n",
        "generate_predictions(test_image_path, actual_label='S')"
      ],
      "metadata": {
        "id": "9blBn-XHKkMm",
        "colab": {
          "base_uri": "https://localhost:8080/",
          "height": 282
        },
        "outputId": "eab63b20-0b2b-4d46-fd2e-4ce8048382c8"
      },
      "execution_count": null,
      "outputs": [
        {
          "output_type": "stream",
          "name": "stdout",
          "text": [
            "1/1 [==============================] - 1s 746ms/step\n"
          ]
        },
        {
          "output_type": "display_data",
          "data": {
            "text/plain": [
              "<Figure size 288x288 with 1 Axes>"
            ],
            "image/png": "[encoded data removed]"
          },
          "metadata": {
            "needs_background": "light"
          }
        }
      ]
    },
    {
      "cell_type": "code",
      "source": [],
      "metadata": {
        "id": "Drm6tBIYKkJG"
      },
      "execution_count": null,
      "outputs": []
    }
  ]
}