{
  "nbformat": 4,
  "nbformat_minor": 0,
  "metadata": {
    "colab": {
      "provenance": []
    },
    "kernelspec": {
      "name": "python3",
      "display_name": "Python 3"
    },
    "language_info": {
      "name": "python"
    },
    "accelerator": "GPU",
    "gpuClass": "standard"
  },
  "cells": [
    {
      "cell_type": "code",
      "execution_count": 4,
      "metadata": {
        "id": "-rl1goyWKiT8"
      },
      "outputs": [],
      "source": [
        "!mkdir -p ~/.kaggle\n",
        "!cp kaggle.json ~/.kaggle/"
      ]
    },
    {
      "cell_type": "code",
      "source": [
        "!kaggle datasets download -d mohamedeldakrory8/ecg-heart-categorization-dataset-image-version"
      ],
      "metadata": {
        "colab": {
          "base_uri": "https://localhost:8080/"
        },
        "id": "OKsRAw7WKmO4",
        "outputId": "57a2aa3c-d467-458a-f52b-6562b83211d8"
      },
      "execution_count": 5,
      "outputs": [
        {
          "output_type": "stream",
          "name": "stdout",
          "text": [
            "Warning: Your Kaggle API key is readable by other users on this system! To fix this, you can run 'chmod 600 /root/.kaggle/kaggle.json'\n",
            "ecg-heart-categorization-dataset-image-version.zip: Skipping, found more recently modified local copy (use --force to force download)\n"
          ]
        }
      ]
    },
    {
      "cell_type": "code",
      "source": [
        "import zipfile\n",
        "zip_ref=zipfile.ZipFile('/content/ecg-heart-categorization-dataset-image-version.zip','r')\n",
        "zip_ref.extractall('/content')\n",
        "zip_ref.close()"
      ],
      "metadata": {
        "id": "xo5qkBPTKmL3"
      },
      "execution_count": 6,
      "outputs": []
    },
    {
      "cell_type": "code",
      "source": [
        "!rm /content/ECG_Image_data/train/F/*\n",
        "!rmdir /content/ECG_Image_data/train/F"
      ],
      "metadata": {
        "id": "tLwRAKe3KmKF"
      },
      "execution_count": 7,
      "outputs": []
    },
    {
      "cell_type": "code",
      "source": [
        "!rm /content/ECG_Image_data/test/F/*\n",
        "!rmdir /content/ECG_Image_data/test/F"
      ],
      "metadata": {
        "id": "AIOTzAM-KmHX"
      },
      "execution_count": 8,
      "outputs": []
    },
    {
      "cell_type": "code",
      "source": [
        "import numpy as np\n",
        "import pandas as pd\n",
        "from pathlib import Path\n",
        "import os.path\n",
        "import matplotlib.pyplot as plt\n",
        "import tensorflow as tf\n",
        "from tensorflow.keras.models import Sequential\n",
        "from tensorflow.keras.layers import Convolution2D\n",
        "from tensorflow.keras.layers import MaxPooling2D\n",
        "from tensorflow.keras.layers import Flatten\n",
        "from tensorflow.keras.layers import Dense\n",
        "from tensorflow.keras.layers import Dropout, Activation , BatchNormalization\n",
        "from tensorflow.keras.preprocessing.image import ImageDataGenerator\n",
        "from tensorflow.keras.layers import Dense, Conv2D, MaxPool2D , Flatten\n",
        "from tensorflow.keras.losses import categorical_crossentropy\n",
        "from tensorflow.keras.optimizers import Adam\n",
        "from tensorflow.keras.losses import CategoricalCrossentropy\n",
        "from tensorflow.keras.regularizers import l2\n",
        "from tensorflow.keras.callbacks import ReduceLROnPlateau, EarlyStopping\n",
        "from keras.models import Model\n",
        "from keras.applications.vgg19 import VGG19, preprocess_input\n",
        "from tensorflow.keras.applications.resnet50 import ResNet50, preprocess_input\n",
        "from keras.applications.vgg16 import preprocess_input,VGG16\n",
        "from glob import glob\n",
        "from tensorflow.keras.layers import Input, Average"
      ],
      "metadata": {
        "id": "fmj6RbYGKmFK"
      },
      "execution_count": 9,
      "outputs": []
    },
    {
      "cell_type": "code",
      "source": [
        "train_dir = Path('/content/ECG_Image_data/train')\n",
        "test_dir = Path('/content/ECG_Image_data/test')"
      ],
      "metadata": {
        "id": "_woAePtVKl-q"
      },
      "execution_count": 10,
      "outputs": []
    },
    {
      "cell_type": "code",
      "source": [
        "filepaths = list(train_dir.glob(r'**/*.jpg'))\n",
        "labels = list(map(lambda x: os.path.split(os.path.split(x)[0])[1], filepaths))\n",
        "\n",
        "\n",
        "filepaths = pd.Series(filepaths, name='Filepath').astype(str)\n",
        "labels = pd.Series(labels, name='Label')\n",
        "\n",
        "dataframe = pd.concat([filepaths , labels] , axis=1)\n",
        "dataframe"
      ],
      "metadata": {
        "colab": {
          "base_uri": "https://localhost:8080/",
          "height": 424
        },
        "id": "H0TY8GuzKl8W",
        "outputId": "a1f5430f-acf6-440c-93d4-977a6d7597c4"
      },
      "execution_count": 11,
      "outputs": [
        {
          "output_type": "execute_result",
          "data": {
            "text/plain": [
              "                                                Filepath       Label\n",
              "0               /content/ECG_Image_data/train/V/2721.jpg           V\n",
              "1               /content/ECG_Image_data/train/V/2816.jpg           V\n",
              "2               /content/ECG_Image_data/train/V/4296.jpg           V\n",
              "3               /content/ECG_Image_data/train/V/1498.jpg           V\n",
              "4               /content/ECG_Image_data/train/V/5199.jpg           V\n",
              "...                                                  ...         ...\n",
              "97131   /content/ECG_Image_data/train/F-resample/539.jpg  F-resample\n",
              "97132  /content/ECG_Image_data/train/F-resample/1880.jpg  F-resample\n",
              "97133   /content/ECG_Image_data/train/F-resample/726.jpg  F-resample\n",
              "97134  /content/ECG_Image_data/train/F-resample/1530.jpg  F-resample\n",
              "97135    /content/ECG_Image_data/train/F-resample/46.jpg  F-resample\n",
              "\n",
              "[97136 rows x 2 columns]"
            ],
            "text/html": [
              "\n",
              "  <div id=\"df-21dc3ab5-0055-484f-a5eb-b32a6550d310\">\n",
              "    <div class=\"colab-df-container\">\n",
              "      <div>\n",
              "<style scoped>\n",
              "    .dataframe tbody tr th:only-of-type {\n",
              "        vertical-align: middle;\n",
              "    }\n",
              "\n",
              "    .dataframe tbody tr th {\n",
              "        vertical-align: top;\n",
              "    }\n",
              "\n",
              "    .dataframe thead th {\n",
              "        text-align: right;\n",
              "    }\n",
              "</style>\n",
              "<table border=\"1\" class=\"dataframe\">\n",
              "  <thead>\n",
              "    <tr style=\"text-align: right;\">\n",
              "      <th></th>\n",
              "      <th>Filepath</th>\n",
              "      <th>Label</th>\n",
              "    </tr>\n",
              "  </thead>\n",
              "  <tbody>\n",
              "    <tr>\n",
              "      <th>0</th>\n",
              "      <td>/content/ECG_Image_data/train/V/2721.jpg</td>\n",
              "      <td>V</td>\n",
              "    </tr>\n",
              "    <tr>\n",
              "      <th>1</th>\n",
              "      <td>/content/ECG_Image_data/train/V/2816.jpg</td>\n",
              "      <td>V</td>\n",
              "    </tr>\n",
              "    <tr>\n",
              "      <th>2</th>\n",
              "      <td>/content/ECG_Image_data/train/V/4296.jpg</td>\n",
              "      <td>V</td>\n",
              "    </tr>\n",
              "    <tr>\n",
              "      <th>3</th>\n",
              "      <td>/content/ECG_Image_data/train/V/1498.jpg</td>\n",
              "      <td>V</td>\n",
              "    </tr>\n",
              "    <tr>\n",
              "      <th>4</th>\n",
              "      <td>/content/ECG_Image_data/train/V/5199.jpg</td>\n",
              "      <td>V</td>\n",
              "    </tr>\n",
              "    <tr>\n",
              "      <th>...</th>\n",
              "      <td>...</td>\n",
              "      <td>...</td>\n",
              "    </tr>\n",
              "    <tr>\n",
              "      <th>97131</th>\n",
              "      <td>/content/ECG_Image_data/train/F-resample/539.jpg</td>\n",
              "      <td>F-resample</td>\n",
              "    </tr>\n",
              "    <tr>\n",
              "      <th>97132</th>\n",
              "      <td>/content/ECG_Image_data/train/F-resample/1880.jpg</td>\n",
              "      <td>F-resample</td>\n",
              "    </tr>\n",
              "    <tr>\n",
              "      <th>97133</th>\n",
              "      <td>/content/ECG_Image_data/train/F-resample/726.jpg</td>\n",
              "      <td>F-resample</td>\n",
              "    </tr>\n",
              "    <tr>\n",
              "      <th>97134</th>\n",
              "      <td>/content/ECG_Image_data/train/F-resample/1530.jpg</td>\n",
              "      <td>F-resample</td>\n",
              "    </tr>\n",
              "    <tr>\n",
              "      <th>97135</th>\n",
              "      <td>/content/ECG_Image_data/train/F-resample/46.jpg</td>\n",
              "      <td>F-resample</td>\n",
              "    </tr>\n",
              "  </tbody>\n",
              "</table>\n",
              "<p>97136 rows × 2 columns</p>\n",
              "</div>\n",
              "      <button class=\"colab-df-convert\" onclick=\"convertToInteractive('df-21dc3ab5-0055-484f-a5eb-b32a6550d310')\"\n",
              "              title=\"Convert this dataframe to an interactive table.\"\n",
              "              style=\"display:none;\">\n",
              "        \n",
              "  <svg xmlns=\"http://www.w3.org/2000/svg\" height=\"24px\"viewBox=\"0 0 24 24\"\n",
              "       width=\"24px\">\n",
              "    <path d=\"M0 0h24v24H0V0z\" fill=\"none\"/>\n",
              "    <path d=\"M18.56 5.44l.94 2.06.94-2.06 2.06-.94-2.06-.94-.94-2.06-.94 2.06-2.06.94zm-11 1L8.5 8.5l.94-2.06 2.06-.94-2.06-.94L8.5 2.5l-.94 2.06-2.06.94zm10 10l.94 2.06.94-2.06 2.06-.94-2.06-.94-.94-2.06-.94 2.06-2.06.94z\"/><path d=\"M17.41 7.96l-1.37-1.37c-.4-.4-.92-.59-1.43-.59-.52 0-1.04.2-1.43.59L10.3 9.45l-7.72 7.72c-.78.78-.78 2.05 0 2.83L4 21.41c.39.39.9.59 1.41.59.51 0 1.02-.2 1.41-.59l7.78-7.78 2.81-2.81c.8-.78.8-2.07 0-2.86zM5.41 20L4 18.59l7.72-7.72 1.47 1.35L5.41 20z\"/>\n",
              "  </svg>\n",
              "      </button>\n",
              "      \n",
              "  <style>\n",
              "    .colab-df-container {\n",
              "      display:flex;\n",
              "      flex-wrap:wrap;\n",
              "      gap: 12px;\n",
              "    }\n",
              "\n",
              "    .colab-df-convert {\n",
              "      background-color: #E8F0FE;\n",
              "      border: none;\n",
              "      border-radius: 50%;\n",
              "      cursor: pointer;\n",
              "      display: none;\n",
              "      fill: #1967D2;\n",
              "      height: 32px;\n",
              "      padding: 0 0 0 0;\n",
              "      width: 32px;\n",
              "    }\n",
              "\n",
              "    .colab-df-convert:hover {\n",
              "      background-color: #E2EBFA;\n",
              "      box-shadow: 0px 1px 2px rgba(60, 64, 67, 0.3), 0px 1px 3px 1px rgba(60, 64, 67, 0.15);\n",
              "      fill: #174EA6;\n",
              "    }\n",
              "\n",
              "    [theme=dark] .colab-df-convert {\n",
              "      background-color: #3B4455;\n",
              "      fill: #D2E3FC;\n",
              "    }\n",
              "\n",
              "    [theme=dark] .colab-df-convert:hover {\n",
              "      background-color: #434B5C;\n",
              "      box-shadow: 0px 1px 3px 1px rgba(0, 0, 0, 0.15);\n",
              "      filter: drop-shadow(0px 1px 2px rgba(0, 0, 0, 0.3));\n",
              "      fill: #FFFFFF;\n",
              "    }\n",
              "  </style>\n",
              "\n",
              "      <script>\n",
              "        const buttonEl =\n",
              "          document.querySelector('#df-21dc3ab5-0055-484f-a5eb-b32a6550d310 button.colab-df-convert');\n",
              "        buttonEl.style.display =\n",
              "          google.colab.kernel.accessAllowed ? 'block' : 'none';\n",
              "\n",
              "        async function convertToInteractive(key) {\n",
              "          const element = document.querySelector('#df-21dc3ab5-0055-484f-a5eb-b32a6550d310');\n",
              "          const dataTable =\n",
              "            await google.colab.kernel.invokeFunction('convertToInteractive',\n",
              "                                                     [key], {});\n",
              "          if (!dataTable) return;\n",
              "\n",
              "          const docLinkHtml = 'Like what you see? Visit the ' +\n",
              "            '<a target=\"_blank\" href=https://colab.research.google.com/notebooks/data_table.ipynb>data table notebook</a>'\n",
              "            + ' to learn more about interactive tables.';\n",
              "          element.innerHTML = '';\n",
              "          dataTable['output_type'] = 'display_data';\n",
              "          await google.colab.output.renderOutput(dataTable, element);\n",
              "          const docLink = document.createElement('div');\n",
              "          docLink.innerHTML = docLinkHtml;\n",
              "          element.appendChild(docLink);\n",
              "        }\n",
              "      </script>\n",
              "    </div>\n",
              "  </div>\n",
              "  "
            ]
          },
          "metadata": {},
          "execution_count": 11
        }
      ]
    },
    {
      "cell_type": "code",
      "source": [
        "dataframe['Label'].value_counts()"
      ],
      "metadata": {
        "colab": {
          "base_uri": "https://localhost:8080/"
        },
        "id": "EQ-Xi1qwKl6c",
        "outputId": "fa8cdc35-e6d4-4019-cd77-72995797f498"
      },
      "execution_count": 12,
      "outputs": [
        {
          "output_type": "execute_result",
          "data": {
            "text/plain": [
              "N             72471\n",
              "M              8000\n",
              "Q              6431\n",
              "V              5788\n",
              "S              2223\n",
              "F-resample     2223\n",
              "Name: Label, dtype: int64"
            ]
          },
          "metadata": {},
          "execution_count": 12
        }
      ]
    },
    {
      "cell_type": "code",
      "source": [
        "train_samples = []\n",
        "for category in dataframe['Label'].unique():\n",
        "    train_category = dataframe.query(\"Label == @category\")\n",
        "    train_samples.append(train_category.sample(1600, random_state=1))\n",
        "\n",
        "dataframe_train = pd.concat(train_samples, axis=0).sample(frac=1.0, random_state=1).reset_index(drop=True)\n",
        "dataframe_train['Label'].value_counts()"
      ],
      "metadata": {
        "colab": {
          "base_uri": "https://localhost:8080/"
        },
        "id": "BCAkWb3zKl1x",
        "outputId": "2ae3478a-5f2c-4842-a49d-fe02a3ad65de"
      },
      "execution_count": 13,
      "outputs": [
        {
          "output_type": "execute_result",
          "data": {
            "text/plain": [
              "F-resample    1600\n",
              "V             1600\n",
              "Q             1600\n",
              "S             1600\n",
              "M             1600\n",
              "N             1600\n",
              "Name: Label, dtype: int64"
            ]
          },
          "metadata": {},
          "execution_count": 13
        }
      ]
    },
    {
      "cell_type": "code",
      "source": [
        "dataframe_train"
      ],
      "metadata": {
        "colab": {
          "base_uri": "https://localhost:8080/",
          "height": 424
        },
        "id": "TmI929ifKlxX",
        "outputId": "2c0db616-4752-44a8-d303-920659dd0365"
      },
      "execution_count": 14,
      "outputs": [
        {
          "output_type": "execute_result",
          "data": {
            "text/plain": [
              "                                               Filepath       Label\n",
              "0     /content/ECG_Image_data/train/F-resample/1476.jpg  F-resample\n",
              "1              /content/ECG_Image_data/train/V/1884.jpg           V\n",
              "2              /content/ECG_Image_data/train/Q/3252.jpg           Q\n",
              "3     /content/ECG_Image_data/train/F-resample/2053.jpg  F-resample\n",
              "4              /content/ECG_Image_data/train/V/5466.jpg           V\n",
              "...                                                 ...         ...\n",
              "9595           /content/ECG_Image_data/train/S/1091.jpg           S\n",
              "9596           /content/ECG_Image_data/train/M/2340.jpg           M\n",
              "9597           /content/ECG_Image_data/train/V/4936.jpg           V\n",
              "9598           /content/ECG_Image_data/train/Q/6144.jpg           Q\n",
              "9599           /content/ECG_Image_data/train/V/1831.jpg           V\n",
              "\n",
              "[9600 rows x 2 columns]"
            ],
            "text/html": [
              "\n",
              "  <div id=\"df-b202a164-8121-4d50-913f-4c795559e954\">\n",
              "    <div class=\"colab-df-container\">\n",
              "      <div>\n",
              "<style scoped>\n",
              "    .dataframe tbody tr th:only-of-type {\n",
              "        vertical-align: middle;\n",
              "    }\n",
              "\n",
              "    .dataframe tbody tr th {\n",
              "        vertical-align: top;\n",
              "    }\n",
              "\n",
              "    .dataframe thead th {\n",
              "        text-align: right;\n",
              "    }\n",
              "</style>\n",
              "<table border=\"1\" class=\"dataframe\">\n",
              "  <thead>\n",
              "    <tr style=\"text-align: right;\">\n",
              "      <th></th>\n",
              "      <th>Filepath</th>\n",
              "      <th>Label</th>\n",
              "    </tr>\n",
              "  </thead>\n",
              "  <tbody>\n",
              "    <tr>\n",
              "      <th>0</th>\n",
              "      <td>/content/ECG_Image_data/train/F-resample/1476.jpg</td>\n",
              "      <td>F-resample</td>\n",
              "    </tr>\n",
              "    <tr>\n",
              "      <th>1</th>\n",
              "      <td>/content/ECG_Image_data/train/V/1884.jpg</td>\n",
              "      <td>V</td>\n",
              "    </tr>\n",
              "    <tr>\n",
              "      <th>2</th>\n",
              "      <td>/content/ECG_Image_data/train/Q/3252.jpg</td>\n",
              "      <td>Q</td>\n",
              "    </tr>\n",
              "    <tr>\n",
              "      <th>3</th>\n",
              "      <td>/content/ECG_Image_data/train/F-resample/2053.jpg</td>\n",
              "      <td>F-resample</td>\n",
              "    </tr>\n",
              "    <tr>\n",
              "      <th>4</th>\n",
              "      <td>/content/ECG_Image_data/train/V/5466.jpg</td>\n",
              "      <td>V</td>\n",
              "    </tr>\n",
              "    <tr>\n",
              "      <th>...</th>\n",
              "      <td>...</td>\n",
              "      <td>...</td>\n",
              "    </tr>\n",
              "    <tr>\n",
              "      <th>9595</th>\n",
              "      <td>/content/ECG_Image_data/train/S/1091.jpg</td>\n",
              "      <td>S</td>\n",
              "    </tr>\n",
              "    <tr>\n",
              "      <th>9596</th>\n",
              "      <td>/content/ECG_Image_data/train/M/2340.jpg</td>\n",
              "      <td>M</td>\n",
              "    </tr>\n",
              "    <tr>\n",
              "      <th>9597</th>\n",
              "      <td>/content/ECG_Image_data/train/V/4936.jpg</td>\n",
              "      <td>V</td>\n",
              "    </tr>\n",
              "    <tr>\n",
              "      <th>9598</th>\n",
              "      <td>/content/ECG_Image_data/train/Q/6144.jpg</td>\n",
              "      <td>Q</td>\n",
              "    </tr>\n",
              "    <tr>\n",
              "      <th>9599</th>\n",
              "      <td>/content/ECG_Image_data/train/V/1831.jpg</td>\n",
              "      <td>V</td>\n",
              "    </tr>\n",
              "  </tbody>\n",
              "</table>\n",
              "<p>9600 rows × 2 columns</p>\n",
              "</div>\n",
              "      <button class=\"colab-df-convert\" onclick=\"convertToInteractive('df-b202a164-8121-4d50-913f-4c795559e954')\"\n",
              "              title=\"Convert this dataframe to an interactive table.\"\n",
              "              style=\"display:none;\">\n",
              "        \n",
              "  <svg xmlns=\"http://www.w3.org/2000/svg\" height=\"24px\"viewBox=\"0 0 24 24\"\n",
              "       width=\"24px\">\n",
              "    <path d=\"M0 0h24v24H0V0z\" fill=\"none\"/>\n",
              "    <path d=\"M18.56 5.44l.94 2.06.94-2.06 2.06-.94-2.06-.94-.94-2.06-.94 2.06-2.06.94zm-11 1L8.5 8.5l.94-2.06 2.06-.94-2.06-.94L8.5 2.5l-.94 2.06-2.06.94zm10 10l.94 2.06.94-2.06 2.06-.94-2.06-.94-.94-2.06-.94 2.06-2.06.94z\"/><path d=\"M17.41 7.96l-1.37-1.37c-.4-.4-.92-.59-1.43-.59-.52 0-1.04.2-1.43.59L10.3 9.45l-7.72 7.72c-.78.78-.78 2.05 0 2.83L4 21.41c.39.39.9.59 1.41.59.51 0 1.02-.2 1.41-.59l7.78-7.78 2.81-2.81c.8-.78.8-2.07 0-2.86zM5.41 20L4 18.59l7.72-7.72 1.47 1.35L5.41 20z\"/>\n",
              "  </svg>\n",
              "      </button>\n",
              "      \n",
              "  <style>\n",
              "    .colab-df-container {\n",
              "      display:flex;\n",
              "      flex-wrap:wrap;\n",
              "      gap: 12px;\n",
              "    }\n",
              "\n",
              "    .colab-df-convert {\n",
              "      background-color: #E8F0FE;\n",
              "      border: none;\n",
              "      border-radius: 50%;\n",
              "      cursor: pointer;\n",
              "      display: none;\n",
              "      fill: #1967D2;\n",
              "      height: 32px;\n",
              "      padding: 0 0 0 0;\n",
              "      width: 32px;\n",
              "    }\n",
              "\n",
              "    .colab-df-convert:hover {\n",
              "      background-color: #E2EBFA;\n",
              "      box-shadow: 0px 1px 2px rgba(60, 64, 67, 0.3), 0px 1px 3px 1px rgba(60, 64, 67, 0.15);\n",
              "      fill: #174EA6;\n",
              "    }\n",
              "\n",
              "    [theme=dark] .colab-df-convert {\n",
              "      background-color: #3B4455;\n",
              "      fill: #D2E3FC;\n",
              "    }\n",
              "\n",
              "    [theme=dark] .colab-df-convert:hover {\n",
              "      background-color: #434B5C;\n",
              "      box-shadow: 0px 1px 3px 1px rgba(0, 0, 0, 0.15);\n",
              "      filter: drop-shadow(0px 1px 2px rgba(0, 0, 0, 0.3));\n",
              "      fill: #FFFFFF;\n",
              "    }\n",
              "  </style>\n",
              "\n",
              "      <script>\n",
              "        const buttonEl =\n",
              "          document.querySelector('#df-b202a164-8121-4d50-913f-4c795559e954 button.colab-df-convert');\n",
              "        buttonEl.style.display =\n",
              "          google.colab.kernel.accessAllowed ? 'block' : 'none';\n",
              "\n",
              "        async function convertToInteractive(key) {\n",
              "          const element = document.querySelector('#df-b202a164-8121-4d50-913f-4c795559e954');\n",
              "          const dataTable =\n",
              "            await google.colab.kernel.invokeFunction('convertToInteractive',\n",
              "                                                     [key], {});\n",
              "          if (!dataTable) return;\n",
              "\n",
              "          const docLinkHtml = 'Like what you see? Visit the ' +\n",
              "            '<a target=\"_blank\" href=https://colab.research.google.com/notebooks/data_table.ipynb>data table notebook</a>'\n",
              "            + ' to learn more about interactive tables.';\n",
              "          element.innerHTML = '';\n",
              "          dataTable['output_type'] = 'display_data';\n",
              "          await google.colab.output.renderOutput(dataTable, element);\n",
              "          const docLink = document.createElement('div');\n",
              "          docLink.innerHTML = docLinkHtml;\n",
              "          element.appendChild(docLink);\n",
              "        }\n",
              "      </script>\n",
              "    </div>\n",
              "  </div>\n",
              "  "
            ]
          },
          "metadata": {},
          "execution_count": 14
        }
      ]
    },
    {
      "cell_type": "code",
      "source": [
        "filepaths = list(test_dir.glob(r'**/*.jpg'))\n",
        "labels = list(map(lambda x: os.path.split(os.path.split(x)[0])[1], filepaths))\n",
        "\n",
        "filepaths = pd.Series(filepaths, name='Filepath').astype(str)\n",
        "labels = pd.Series(labels, name='Label')\n",
        "\n",
        "dataframe_test = pd.concat([filepaths , labels] , axis=1)\n",
        "dataframe_test"
      ],
      "metadata": {
        "colab": {
          "base_uri": "https://localhost:8080/",
          "height": 424
        },
        "id": "wHJw87NlKlwI",
        "outputId": "62245644-279f-4ef4-ba5c-99c53951210b"
      },
      "execution_count": 15,
      "outputs": [
        {
          "output_type": "execute_result",
          "data": {
            "text/plain": [
              "                                      Filepath Label\n",
              "0       /content/ECG_Image_data/test/V/359.jpg     V\n",
              "1      /content/ECG_Image_data/test/V/1409.jpg     V\n",
              "2       /content/ECG_Image_data/test/V/753.jpg     V\n",
              "3      /content/ECG_Image_data/test/V/1155.jpg     V\n",
              "4       /content/ECG_Image_data/test/V/619.jpg     V\n",
              "...                                        ...   ...\n",
              "24787  /content/ECG_Image_data/test/M/2436.jpg     M\n",
              "24788  /content/ECG_Image_data/test/M/1530.jpg     M\n",
              "24789    /content/ECG_Image_data/test/M/46.jpg     M\n",
              "24790  /content/ECG_Image_data/test/M/2381.jpg     M\n",
              "24791  /content/ECG_Image_data/test/M/2368.jpg     M\n",
              "\n",
              "[24792 rows x 2 columns]"
            ],
            "text/html": [
              "\n",
              "  <div id=\"df-1d1cf498-4cb3-4acb-8008-f72a7219cb7e\">\n",
              "    <div class=\"colab-df-container\">\n",
              "      <div>\n",
              "<style scoped>\n",
              "    .dataframe tbody tr th:only-of-type {\n",
              "        vertical-align: middle;\n",
              "    }\n",
              "\n",
              "    .dataframe tbody tr th {\n",
              "        vertical-align: top;\n",
              "    }\n",
              "\n",
              "    .dataframe thead th {\n",
              "        text-align: right;\n",
              "    }\n",
              "</style>\n",
              "<table border=\"1\" class=\"dataframe\">\n",
              "  <thead>\n",
              "    <tr style=\"text-align: right;\">\n",
              "      <th></th>\n",
              "      <th>Filepath</th>\n",
              "      <th>Label</th>\n",
              "    </tr>\n",
              "  </thead>\n",
              "  <tbody>\n",
              "    <tr>\n",
              "      <th>0</th>\n",
              "      <td>/content/ECG_Image_data/test/V/359.jpg</td>\n",
              "      <td>V</td>\n",
              "    </tr>\n",
              "    <tr>\n",
              "      <th>1</th>\n",
              "      <td>/content/ECG_Image_data/test/V/1409.jpg</td>\n",
              "      <td>V</td>\n",
              "    </tr>\n",
              "    <tr>\n",
              "      <th>2</th>\n",
              "      <td>/content/ECG_Image_data/test/V/753.jpg</td>\n",
              "      <td>V</td>\n",
              "    </tr>\n",
              "    <tr>\n",
              "      <th>3</th>\n",
              "      <td>/content/ECG_Image_data/test/V/1155.jpg</td>\n",
              "      <td>V</td>\n",
              "    </tr>\n",
              "    <tr>\n",
              "      <th>4</th>\n",
              "      <td>/content/ECG_Image_data/test/V/619.jpg</td>\n",
              "      <td>V</td>\n",
              "    </tr>\n",
              "    <tr>\n",
              "      <th>...</th>\n",
              "      <td>...</td>\n",
              "      <td>...</td>\n",
              "    </tr>\n",
              "    <tr>\n",
              "      <th>24787</th>\n",
              "      <td>/content/ECG_Image_data/test/M/2436.jpg</td>\n",
              "      <td>M</td>\n",
              "    </tr>\n",
              "    <tr>\n",
              "      <th>24788</th>\n",
              "      <td>/content/ECG_Image_data/test/M/1530.jpg</td>\n",
              "      <td>M</td>\n",
              "    </tr>\n",
              "    <tr>\n",
              "      <th>24789</th>\n",
              "      <td>/content/ECG_Image_data/test/M/46.jpg</td>\n",
              "      <td>M</td>\n",
              "    </tr>\n",
              "    <tr>\n",
              "      <th>24790</th>\n",
              "      <td>/content/ECG_Image_data/test/M/2381.jpg</td>\n",
              "      <td>M</td>\n",
              "    </tr>\n",
              "    <tr>\n",
              "      <th>24791</th>\n",
              "      <td>/content/ECG_Image_data/test/M/2368.jpg</td>\n",
              "      <td>M</td>\n",
              "    </tr>\n",
              "  </tbody>\n",
              "</table>\n",
              "<p>24792 rows × 2 columns</p>\n",
              "</div>\n",
              "      <button class=\"colab-df-convert\" onclick=\"convertToInteractive('df-1d1cf498-4cb3-4acb-8008-f72a7219cb7e')\"\n",
              "              title=\"Convert this dataframe to an interactive table.\"\n",
              "              style=\"display:none;\">\n",
              "        \n",
              "  <svg xmlns=\"http://www.w3.org/2000/svg\" height=\"24px\"viewBox=\"0 0 24 24\"\n",
              "       width=\"24px\">\n",
              "    <path d=\"M0 0h24v24H0V0z\" fill=\"none\"/>\n",
              "    <path d=\"M18.56 5.44l.94 2.06.94-2.06 2.06-.94-2.06-.94-.94-2.06-.94 2.06-2.06.94zm-11 1L8.5 8.5l.94-2.06 2.06-.94-2.06-.94L8.5 2.5l-.94 2.06-2.06.94zm10 10l.94 2.06.94-2.06 2.06-.94-2.06-.94-.94-2.06-.94 2.06-2.06.94z\"/><path d=\"M17.41 7.96l-1.37-1.37c-.4-.4-.92-.59-1.43-.59-.52 0-1.04.2-1.43.59L10.3 9.45l-7.72 7.72c-.78.78-.78 2.05 0 2.83L4 21.41c.39.39.9.59 1.41.59.51 0 1.02-.2 1.41-.59l7.78-7.78 2.81-2.81c.8-.78.8-2.07 0-2.86zM5.41 20L4 18.59l7.72-7.72 1.47 1.35L5.41 20z\"/>\n",
              "  </svg>\n",
              "      </button>\n",
              "      \n",
              "  <style>\n",
              "    .colab-df-container {\n",
              "      display:flex;\n",
              "      flex-wrap:wrap;\n",
              "      gap: 12px;\n",
              "    }\n",
              "\n",
              "    .colab-df-convert {\n",
              "      background-color: #E8F0FE;\n",
              "      border: none;\n",
              "      border-radius: 50%;\n",
              "      cursor: pointer;\n",
              "      display: none;\n",
              "      fill: #1967D2;\n",
              "      height: 32px;\n",
              "      padding: 0 0 0 0;\n",
              "      width: 32px;\n",
              "    }\n",
              "\n",
              "    .colab-df-convert:hover {\n",
              "      background-color: #E2EBFA;\n",
              "      box-shadow: 0px 1px 2px rgba(60, 64, 67, 0.3), 0px 1px 3px 1px rgba(60, 64, 67, 0.15);\n",
              "      fill: #174EA6;\n",
              "    }\n",
              "\n",
              "    [theme=dark] .colab-df-convert {\n",
              "      background-color: #3B4455;\n",
              "      fill: #D2E3FC;\n",
              "    }\n",
              "\n",
              "    [theme=dark] .colab-df-convert:hover {\n",
              "      background-color: #434B5C;\n",
              "      box-shadow: 0px 1px 3px 1px rgba(0, 0, 0, 0.15);\n",
              "      filter: drop-shadow(0px 1px 2px rgba(0, 0, 0, 0.3));\n",
              "      fill: #FFFFFF;\n",
              "    }\n",
              "  </style>\n",
              "\n",
              "      <script>\n",
              "        const buttonEl =\n",
              "          document.querySelector('#df-1d1cf498-4cb3-4acb-8008-f72a7219cb7e button.colab-df-convert');\n",
              "        buttonEl.style.display =\n",
              "          google.colab.kernel.accessAllowed ? 'block' : 'none';\n",
              "\n",
              "        async function convertToInteractive(key) {\n",
              "          const element = document.querySelector('#df-1d1cf498-4cb3-4acb-8008-f72a7219cb7e');\n",
              "          const dataTable =\n",
              "            await google.colab.kernel.invokeFunction('convertToInteractive',\n",
              "                                                     [key], {});\n",
              "          if (!dataTable) return;\n",
              "\n",
              "          const docLinkHtml = 'Like what you see? Visit the ' +\n",
              "            '<a target=\"_blank\" href=https://colab.research.google.com/notebooks/data_table.ipynb>data table notebook</a>'\n",
              "            + ' to learn more about interactive tables.';\n",
              "          element.innerHTML = '';\n",
              "          dataTable['output_type'] = 'display_data';\n",
              "          await google.colab.output.renderOutput(dataTable, element);\n",
              "          const docLink = document.createElement('div');\n",
              "          docLink.innerHTML = docLinkHtml;\n",
              "          element.appendChild(docLink);\n",
              "        }\n",
              "      </script>\n",
              "    </div>\n",
              "  </div>\n",
              "  "
            ]
          },
          "metadata": {},
          "execution_count": 15
        }
      ]
    },
    {
      "cell_type": "code",
      "source": [
        "dataframe_test['Label'].value_counts()"
      ],
      "metadata": {
        "colab": {
          "base_uri": "https://localhost:8080/"
        },
        "id": "bU-Y7BZGKluK",
        "outputId": "eca0a20e-f690-4f68-81ef-300d89a1b83d"
      },
      "execution_count": 16,
      "outputs": [
        {
          "output_type": "execute_result",
          "data": {
            "text/plain": [
              "N              18118\n",
              "M               2506\n",
              "Q               1608\n",
              "V               1448\n",
              "S                556\n",
              "F-resampled      556\n",
              "Name: Label, dtype: int64"
            ]
          },
          "metadata": {},
          "execution_count": 16
        }
      ]
    },
    {
      "cell_type": "code",
      "source": [
        "test_samples = []\n",
        "for category in dataframe_test['Label'].unique():\n",
        "    test_category = dataframe_test.query(\"Label == @category\")\n",
        "    test_samples.append(test_category.sample(400, random_state=1))\n",
        "\n",
        "dataframe_test = pd.concat(test_samples, axis=0).sample(frac=1.0, random_state=1).reset_index(drop=True)\n",
        "dataframe_test['Label'].value_counts()"
      ],
      "metadata": {
        "colab": {
          "base_uri": "https://localhost:8080/"
        },
        "id": "pu79tvqDKlrk",
        "outputId": "e86aabc1-12e5-47b6-b8d2-c3b9ddddbf4d"
      },
      "execution_count": 17,
      "outputs": [
        {
          "output_type": "execute_result",
          "data": {
            "text/plain": [
              "F-resampled    400\n",
              "S              400\n",
              "M              400\n",
              "N              400\n",
              "V              400\n",
              "Q              400\n",
              "Name: Label, dtype: int64"
            ]
          },
          "metadata": {},
          "execution_count": 17
        }
      ]
    },
    {
      "cell_type": "code",
      "source": [
        "dataframe_test"
      ],
      "metadata": {
        "colab": {
          "base_uri": "https://localhost:8080/",
          "height": 424
        },
        "id": "I2oJhenlKlpx",
        "outputId": "176ca4b5-d7d1-4ee0-82f3-cfcc02fea5b9"
      },
      "execution_count": 18,
      "outputs": [
        {
          "output_type": "execute_result",
          "data": {
            "text/plain": [
              "                                              Filepath        Label\n",
              "0      /content/ECG_Image_data/test/F-resampled/68.jpg  F-resampled\n",
              "1               /content/ECG_Image_data/test/S/387.jpg            S\n",
              "2     /content/ECG_Image_data/test/F-resampled/244.jpg  F-resampled\n",
              "3              /content/ECG_Image_data/test/M/2047.jpg            M\n",
              "4              /content/ECG_Image_data/test/N/9183.jpg            N\n",
              "...                                                ...          ...\n",
              "2395           /content/ECG_Image_data/test/N/4261.jpg            N\n",
              "2396           /content/ECG_Image_data/test/N/7479.jpg            N\n",
              "2397           /content/ECG_Image_data/test/N/1071.jpg            N\n",
              "2398           /content/ECG_Image_data/test/V/1161.jpg            V\n",
              "2399          /content/ECG_Image_data/test/N/11914.jpg            N\n",
              "\n",
              "[2400 rows x 2 columns]"
            ],
            "text/html": [
              "\n",
              "  <div id=\"df-fad9a24a-84f7-49d5-a96d-fd582f8122bf\">\n",
              "    <div class=\"colab-df-container\">\n",
              "      <div>\n",
              "<style scoped>\n",
              "    .dataframe tbody tr th:only-of-type {\n",
              "        vertical-align: middle;\n",
              "    }\n",
              "\n",
              "    .dataframe tbody tr th {\n",
              "        vertical-align: top;\n",
              "    }\n",
              "\n",
              "    .dataframe thead th {\n",
              "        text-align: right;\n",
              "    }\n",
              "</style>\n",
              "<table border=\"1\" class=\"dataframe\">\n",
              "  <thead>\n",
              "    <tr style=\"text-align: right;\">\n",
              "      <th></th>\n",
              "      <th>Filepath</th>\n",
              "      <th>Label</th>\n",
              "    </tr>\n",
              "  </thead>\n",
              "  <tbody>\n",
              "    <tr>\n",
              "      <th>0</th>\n",
              "      <td>/content/ECG_Image_data/test/F-resampled/68.jpg</td>\n",
              "      <td>F-resampled</td>\n",
              "    </tr>\n",
              "    <tr>\n",
              "      <th>1</th>\n",
              "      <td>/content/ECG_Image_data/test/S/387.jpg</td>\n",
              "      <td>S</td>\n",
              "    </tr>\n",
              "    <tr>\n",
              "      <th>2</th>\n",
              "      <td>/content/ECG_Image_data/test/F-resampled/244.jpg</td>\n",
              "      <td>F-resampled</td>\n",
              "    </tr>\n",
              "    <tr>\n",
              "      <th>3</th>\n",
              "      <td>/content/ECG_Image_data/test/M/2047.jpg</td>\n",
              "      <td>M</td>\n",
              "    </tr>\n",
              "    <tr>\n",
              "      <th>4</th>\n",
              "      <td>/content/ECG_Image_data/test/N/9183.jpg</td>\n",
              "      <td>N</td>\n",
              "    </tr>\n",
              "    <tr>\n",
              "      <th>...</th>\n",
              "      <td>...</td>\n",
              "      <td>...</td>\n",
              "    </tr>\n",
              "    <tr>\n",
              "      <th>2395</th>\n",
              "      <td>/content/ECG_Image_data/test/N/4261.jpg</td>\n",
              "      <td>N</td>\n",
              "    </tr>\n",
              "    <tr>\n",
              "      <th>2396</th>\n",
              "      <td>/content/ECG_Image_data/test/N/7479.jpg</td>\n",
              "      <td>N</td>\n",
              "    </tr>\n",
              "    <tr>\n",
              "      <th>2397</th>\n",
              "      <td>/content/ECG_Image_data/test/N/1071.jpg</td>\n",
              "      <td>N</td>\n",
              "    </tr>\n",
              "    <tr>\n",
              "      <th>2398</th>\n",
              "      <td>/content/ECG_Image_data/test/V/1161.jpg</td>\n",
              "      <td>V</td>\n",
              "    </tr>\n",
              "    <tr>\n",
              "      <th>2399</th>\n",
              "      <td>/content/ECG_Image_data/test/N/11914.jpg</td>\n",
              "      <td>N</td>\n",
              "    </tr>\n",
              "  </tbody>\n",
              "</table>\n",
              "<p>2400 rows × 2 columns</p>\n",
              "</div>\n",
              "      <button class=\"colab-df-convert\" onclick=\"convertToInteractive('df-fad9a24a-84f7-49d5-a96d-fd582f8122bf')\"\n",
              "              title=\"Convert this dataframe to an interactive table.\"\n",
              "              style=\"display:none;\">\n",
              "        \n",
              "  <svg xmlns=\"http://www.w3.org/2000/svg\" height=\"24px\"viewBox=\"0 0 24 24\"\n",
              "       width=\"24px\">\n",
              "    <path d=\"M0 0h24v24H0V0z\" fill=\"none\"/>\n",
              "    <path d=\"M18.56 5.44l.94 2.06.94-2.06 2.06-.94-2.06-.94-.94-2.06-.94 2.06-2.06.94zm-11 1L8.5 8.5l.94-2.06 2.06-.94-2.06-.94L8.5 2.5l-.94 2.06-2.06.94zm10 10l.94 2.06.94-2.06 2.06-.94-2.06-.94-.94-2.06-.94 2.06-2.06.94z\"/><path d=\"M17.41 7.96l-1.37-1.37c-.4-.4-.92-.59-1.43-.59-.52 0-1.04.2-1.43.59L10.3 9.45l-7.72 7.72c-.78.78-.78 2.05 0 2.83L4 21.41c.39.39.9.59 1.41.59.51 0 1.02-.2 1.41-.59l7.78-7.78 2.81-2.81c.8-.78.8-2.07 0-2.86zM5.41 20L4 18.59l7.72-7.72 1.47 1.35L5.41 20z\"/>\n",
              "  </svg>\n",
              "      </button>\n",
              "      \n",
              "  <style>\n",
              "    .colab-df-container {\n",
              "      display:flex;\n",
              "      flex-wrap:wrap;\n",
              "      gap: 12px;\n",
              "    }\n",
              "\n",
              "    .colab-df-convert {\n",
              "      background-color: #E8F0FE;\n",
              "      border: none;\n",
              "      border-radius: 50%;\n",
              "      cursor: pointer;\n",
              "      display: none;\n",
              "      fill: #1967D2;\n",
              "      height: 32px;\n",
              "      padding: 0 0 0 0;\n",
              "      width: 32px;\n",
              "    }\n",
              "\n",
              "    .colab-df-convert:hover {\n",
              "      background-color: #E2EBFA;\n",
              "      box-shadow: 0px 1px 2px rgba(60, 64, 67, 0.3), 0px 1px 3px 1px rgba(60, 64, 67, 0.15);\n",
              "      fill: #174EA6;\n",
              "    }\n",
              "\n",
              "    [theme=dark] .colab-df-convert {\n",
              "      background-color: #3B4455;\n",
              "      fill: #D2E3FC;\n",
              "    }\n",
              "\n",
              "    [theme=dark] .colab-df-convert:hover {\n",
              "      background-color: #434B5C;\n",
              "      box-shadow: 0px 1px 3px 1px rgba(0, 0, 0, 0.15);\n",
              "      filter: drop-shadow(0px 1px 2px rgba(0, 0, 0, 0.3));\n",
              "      fill: #FFFFFF;\n",
              "    }\n",
              "  </style>\n",
              "\n",
              "      <script>\n",
              "        const buttonEl =\n",
              "          document.querySelector('#df-fad9a24a-84f7-49d5-a96d-fd582f8122bf button.colab-df-convert');\n",
              "        buttonEl.style.display =\n",
              "          google.colab.kernel.accessAllowed ? 'block' : 'none';\n",
              "\n",
              "        async function convertToInteractive(key) {\n",
              "          const element = document.querySelector('#df-fad9a24a-84f7-49d5-a96d-fd582f8122bf');\n",
              "          const dataTable =\n",
              "            await google.colab.kernel.invokeFunction('convertToInteractive',\n",
              "                                                     [key], {});\n",
              "          if (!dataTable) return;\n",
              "\n",
              "          const docLinkHtml = 'Like what you see? Visit the ' +\n",
              "            '<a target=\"_blank\" href=https://colab.research.google.com/notebooks/data_table.ipynb>data table notebook</a>'\n",
              "            + ' to learn more about interactive tables.';\n",
              "          element.innerHTML = '';\n",
              "          dataTable['output_type'] = 'display_data';\n",
              "          await google.colab.output.renderOutput(dataTable, element);\n",
              "          const docLink = document.createElement('div');\n",
              "          docLink.innerHTML = docLinkHtml;\n",
              "          element.appendChild(docLink);\n",
              "        }\n",
              "      </script>\n",
              "    </div>\n",
              "  </div>\n",
              "  "
            ]
          },
          "metadata": {},
          "execution_count": 18
        }
      ]
    },
    {
      "cell_type": "code",
      "source": [
        "from keras.utils import img_to_array,load_img\n",
        "img = load_img(dataframe_test['Filepath'].values[1])\n",
        "plt.imshow(img)\n",
        "plt.axis(\"on\")\n",
        "plt.show()"
      ],
      "metadata": {
        "colab": {
          "base_uri": "https://localhost:8080/",
          "height": 269
        },
        "id": "SYq6-elcKlnm",
        "outputId": "c7b32191-8320-4d9a-ad98-35825ce6a1ef"
      },
      "execution_count": 19,
      "outputs": [
        {
          "output_type": "display_data",
          "data": {
            "text/plain": [
              "<Figure size 432x288 with 1 Axes>"
            ],
            "image/png": "[encoded data removed]"
          },
          "metadata": {
            "needs_background": "light"
          }
        }
      ]
    },
    {
      "cell_type": "code",
      "source": [
        "array_image = img_to_array(img)\n",
        "print(array_image.shape)"
      ],
      "metadata": {
        "colab": {
          "base_uri": "https://localhost:8080/"
        },
        "id": "X7fm1GuqKllq",
        "outputId": "097e90b1-3961-4615-a421-e6f89e23f969"
      },
      "execution_count": 20,
      "outputs": [
        {
          "output_type": "stream",
          "name": "stdout",
          "text": [
            "(288, 432, 3)\n"
          ]
        }
      ]
    },
    {
      "cell_type": "code",
      "source": [
        "train_datagen = tf.keras.preprocessing.image.ImageDataGenerator(\n",
        "    #preprocessing_function=tf.keras.applications.vgg16.preprocess_input,\n",
        "    rescale=1./255,\n",
        "    #shear_range = 0.2,\n",
        "    #horizontal_flip=True,\n",
        "    #zoom_range = 0.2,\n",
        "    validation_split=0.25\n",
        "  \n",
        ")\n",
        "\n",
        "test_datagen = tf.keras.preprocessing.image.ImageDataGenerator(\n",
        "    #preprocessing_function=tf.keras.applications.vgg16.preprocess_input,\n",
        "    rescale=1./255\n",
        ")"
      ],
      "metadata": {
        "id": "22TL99zFKljO"
      },
      "execution_count": 21,
      "outputs": []
    },
    {
      "cell_type": "code",
      "source": [
        "train_generator = train_datagen.flow_from_dataframe(\n",
        "    dataframe=dataframe_train,\n",
        "    x_col='Filepath',\n",
        "    y_col='Label',\n",
        "    target_size=(224, 224),\n",
        "    color_mode='rgb',\n",
        "    class_mode='categorical',\n",
        "    batch_size=32,\n",
        "    shuffle=True,\n",
        "    seed=42,\n",
        "    subset='training'\n",
        ")\n",
        "\n",
        "val_generator = train_datagen.flow_from_dataframe(\n",
        "    dataframe=dataframe_train,\n",
        "    x_col='Filepath',\n",
        "    y_col='Label',\n",
        "    target_size=(224, 224),\n",
        "    color_mode='rgb',\n",
        "    class_mode='categorical',\n",
        "    batch_size=32,\n",
        "    shuffle=True,\n",
        "    seed=42,\n",
        "    subset='validation'\n",
        ")\n",
        "test_generator = test_datagen.flow_from_dataframe(\n",
        "    dataframe=dataframe_test,\n",
        "    x_col='Filepath',\n",
        "    y_col='Label',\n",
        "    target_size=(224, 224),\n",
        "    color_mode='rgb',\n",
        "    class_mode='categorical',\n",
        "    batch_size=32,\n",
        "    shuffle=False\n",
        ")"
      ],
      "metadata": {
        "colab": {
          "base_uri": "https://localhost:8080/"
        },
        "id": "cN4-rgx0KlhY",
        "outputId": "71941cb5-3659-40d2-9730-bc005be58b35"
      },
      "execution_count": 22,
      "outputs": [
        {
          "output_type": "stream",
          "name": "stdout",
          "text": [
            "Found 7200 validated image filenames belonging to 6 classes.\n",
            "Found 2400 validated image filenames belonging to 6 classes.\n",
            "Found 2400 validated image filenames belonging to 6 classes.\n"
          ]
        }
      ]
    },
    {
      "cell_type": "code",
      "source": [
        "test_generator.class_indices"
      ],
      "metadata": {
        "colab": {
          "base_uri": "https://localhost:8080/"
        },
        "id": "URJj_qmUKlfj",
        "outputId": "33377f04-8686-4c44-fecf-e1e2cdc92a95"
      },
      "execution_count": 23,
      "outputs": [
        {
          "output_type": "execute_result",
          "data": {
            "text/plain": [
              "{'F-resampled': 0, 'M': 1, 'N': 2, 'Q': 3, 'S': 4, 'V': 5}"
            ]
          },
          "metadata": {},
          "execution_count": 23
        }
      ]
    },
    {
      "cell_type": "code",
      "source": [
        "plt.imshow(test_generator[0][0][3])"
      ],
      "metadata": {
        "colab": {
          "base_uri": "https://localhost:8080/",
          "height": 287
        },
        "id": "8uGTHXz7KlcD",
        "outputId": "2f0b589a-27d8-4040-bc68-95a4adb8a8e7"
      },
      "execution_count": 24,
      "outputs": [
        {
          "output_type": "execute_result",
          "data": {
            "text/plain": [
              "<matplotlib.image.AxesImage at 0x7f11de3cdf10>"
            ]
          },
          "metadata": {},
          "execution_count": 24
        },
        {
          "output_type": "display_data",
          "data": {
            "text/plain": [
              "<Figure size 432x288 with 1 Axes>"
            ],
            "image/png": "[encoded data removed]"
          },
          "metadata": {
            "needs_background": "light"
          }
        }
      ]
    },
    {
      "cell_type": "code",
      "source": [
        "folders=glob('/content/ECG_Image_data/test/*')\n",
        "folders"
      ],
      "metadata": {
        "colab": {
          "base_uri": "https://localhost:8080/"
        },
        "id": "HJxFBH43KlaD",
        "outputId": "f7d96881-11f9-4f48-b8a1-cee61faa7568"
      },
      "execution_count": 25,
      "outputs": [
        {
          "output_type": "execute_result",
          "data": {
            "text/plain": [
              "['/content/ECG_Image_data/test/V',\n",
              " '/content/ECG_Image_data/test/S',\n",
              " '/content/ECG_Image_data/test/N',\n",
              " '/content/ECG_Image_data/test/F-resampled',\n",
              " '/content/ECG_Image_data/test/Q',\n",
              " '/content/ECG_Image_data/test/M']"
            ]
          },
          "metadata": {},
          "execution_count": 25
        }
      ]
    },
    {
      "cell_type": "code",
      "source": [
        "IMAGE_SIZE = [224, 224]\n",
        "vgg = VGG16(input_shape=IMAGE_SIZE + [3], weights='imagenet', include_top=False)"
      ],
      "metadata": {
        "colab": {
          "base_uri": "https://localhost:8080/"
        },
        "id": "JXiVmULEKlYO",
        "outputId": "44bdc87a-d91a-4ba4-c8eb-b8edb3096590"
      },
      "execution_count": 26,
      "outputs": [
        {
          "output_type": "stream",
          "name": "stdout",
          "text": [
            "Downloading data from https://storage.googleapis.com/tensorflow/keras-applications/vgg16/vgg16_weights_tf_dim_ordering_tf_kernels_notop.h5\n",
            "58889256/58889256 [==============================] - 3s 0us/step\n"
          ]
        }
      ]
    },
    {
      "cell_type": "code",
      "source": [
        "for layer in vgg.layers:\n",
        "  layer.trainable = False"
      ],
      "metadata": {
        "id": "opu1CHgGKlWg"
      },
      "execution_count": 27,
      "outputs": []
    },
    {
      "cell_type": "code",
      "source": [
        "x = Flatten()(vgg.output)"
      ],
      "metadata": {
        "id": "yokXpjEmKlUp"
      },
      "execution_count": 28,
      "outputs": []
    },
    {
      "cell_type": "code",
      "source": [
        "prediction = Dense(len(folders), activation='softmax')(x)"
      ],
      "metadata": {
        "id": "07EWRdZYKlSo"
      },
      "execution_count": 29,
      "outputs": []
    },
    {
      "cell_type": "code",
      "source": [
        "vgg_model = Model(inputs=vgg.input, outputs=prediction)\n",
        "\n",
        "vgg_model.summary()"
      ],
      "metadata": {
        "colab": {
          "base_uri": "https://localhost:8080/"
        },
        "id": "qoBwIhSDKlRB",
        "outputId": "fb72e0d3-27e5-4b34-8752-bf052eda1136"
      },
      "execution_count": 30,
      "outputs": [
        {
          "output_type": "stream",
          "name": "stdout",
          "text": [
            "Model: \"model\"\n",
            "_________________________________________________________________\n",
            " Layer (type)                Output Shape              Param #   \n",
            "=================================================================\n",
            " input_1 (InputLayer)        [(None, 224, 224, 3)]     0         \n",
            "                                                                 \n",
            " block1_conv1 (Conv2D)       (None, 224, 224, 64)      1792      \n",
            "                                                                 \n",
            " block1_conv2 (Conv2D)       (None, 224, 224, 64)      36928     \n",
            "                                                                 \n",
            " block1_pool (MaxPooling2D)  (None, 112, 112, 64)      0         \n",
            "                                                                 \n",
            " block2_conv1 (Conv2D)       (None, 112, 112, 128)     73856     \n",
            "                                                                 \n",
            " block2_conv2 (Conv2D)       (None, 112, 112, 128)     147584    \n",
            "                                                                 \n",
            " block2_pool (MaxPooling2D)  (None, 56, 56, 128)       0         \n",
            "                                                                 \n",
            " block3_conv1 (Conv2D)       (None, 56, 56, 256)       295168    \n",
            "                                                                 \n",
            " block3_conv2 (Conv2D)       (None, 56, 56, 256)       590080    \n",
            "                                                                 \n",
            " block3_conv3 (Conv2D)       (None, 56, 56, 256)       590080    \n",
            "                                                                 \n",
            " block3_pool (MaxPooling2D)  (None, 28, 28, 256)       0         \n",
            "                                                                 \n",
            " block4_conv1 (Conv2D)       (None, 28, 28, 512)       1180160   \n",
            "                                                                 \n",
            " block4_conv2 (Conv2D)       (None, 28, 28, 512)       2359808   \n",
            "                                                                 \n",
            " block4_conv3 (Conv2D)       (None, 28, 28, 512)       2359808   \n",
            "                                                                 \n",
            " block4_pool (MaxPooling2D)  (None, 14, 14, 512)       0         \n",
            "                                                                 \n",
            " block5_conv1 (Conv2D)       (None, 14, 14, 512)       2359808   \n",
            "                                                                 \n",
            " block5_conv2 (Conv2D)       (None, 14, 14, 512)       2359808   \n",
            "                                                                 \n",
            " block5_conv3 (Conv2D)       (None, 14, 14, 512)       2359808   \n",
            "                                                                 \n",
            " block5_pool (MaxPooling2D)  (None, 7, 7, 512)         0         \n",
            "                                                                 \n",
            " flatten (Flatten)           (None, 25088)             0         \n",
            "                                                                 \n",
            " dense (Dense)               (None, 6)                 150534    \n",
            "                                                                 \n",
            "=================================================================\n",
            "Total params: 14,865,222\n",
            "Trainable params: 150,534\n",
            "Non-trainable params: 14,714,688\n",
            "_________________________________________________________________\n"
          ]
        }
      ]
    },
    {
      "cell_type": "code",
      "source": [
        "import keras\n",
        "checkpoint = keras.callbacks.ModelCheckpoint(\n",
        "    filepath='best_model1.h5',\n",
        "    save_weights_only=False,\n",
        "    monitor='val_accuracy',\n",
        "    mode='max',\n",
        "    save_best_only=True,\n",
        "    verbose=1)"
      ],
      "metadata": {
        "id": "SDb7oaEcKlPO"
      },
      "execution_count": 31,
      "outputs": []
    },
    {
      "cell_type": "code",
      "source": [
        "vgg_model.compile(\n",
        "    optimizer='adam',\n",
        "    loss='categorical_crossentropy',\n",
        "    metrics=['accuracy']\n",
        ")"
      ],
      "metadata": {
        "id": "m5J2jZ8hKlNY"
      },
      "execution_count": 32,
      "outputs": []
    },
    {
      "cell_type": "code",
      "source": [
        "result=vgg_model.fit(\n",
        "    train_generator,\n",
        "    validation_data=val_generator,\n",
        "    epochs=30,\n",
        "    steps_per_epoch=len(train_generator),\n",
        "    validation_steps=len(val_generator),\n",
        "    callbacks=[checkpoint]\n",
        ")"
      ],
      "metadata": {
        "colab": {
          "base_uri": "https://localhost:8080/"
        },
        "id": "rVrzLRkjKlL3",
        "outputId": "31c7c504-820c-488d-c13b-f4a473f08f2c"
      },
      "execution_count": 33,
      "outputs": [
        {
          "output_type": "stream",
          "name": "stdout",
          "text": [
            "Epoch 1/30\n",
            "225/225 [==============================] - ETA: 0s - loss: 0.7211 - accuracy: 0.7440\n",
            "Epoch 1: val_accuracy improved from -inf to 0.84125, saving model to best_model1.h5\n",
            "225/225 [==============================] - 49s 165ms/step - loss: 0.7211 - accuracy: 0.7440 - val_loss: 0.4469 - val_accuracy: 0.8413\n",
            "Epoch 2/30\n",
            "225/225 [==============================] - ETA: 0s - loss: 0.4279 - accuracy: 0.8462\n",
            "Epoch 2: val_accuracy improved from 0.84125 to 0.85708, saving model to best_model1.h5\n",
            "225/225 [==============================] - 38s 170ms/step - loss: 0.4279 - accuracy: 0.8462 - val_loss: 0.4087 - val_accuracy: 0.8571\n",
            "Epoch 3/30\n",
            "225/225 [==============================] - ETA: 0s - loss: 0.3241 - accuracy: 0.8829\n",
            "Epoch 3: val_accuracy did not improve from 0.85708\n",
            "225/225 [==============================] - 39s 172ms/step - loss: 0.3241 - accuracy: 0.8829 - val_loss: 0.4005 - val_accuracy: 0.8517\n",
            "Epoch 4/30\n",
            "225/225 [==============================] - ETA: 0s - loss: 0.2765 - accuracy: 0.9006\n",
            "Epoch 4: val_accuracy did not improve from 0.85708\n",
            "225/225 [==============================] - 38s 169ms/step - loss: 0.2765 - accuracy: 0.9006 - val_loss: 0.4220 - val_accuracy: 0.8508\n",
            "Epoch 5/30\n",
            "225/225 [==============================] - ETA: 0s - loss: 0.2496 - accuracy: 0.9112\n",
            "Epoch 5: val_accuracy improved from 0.85708 to 0.87708, saving model to best_model1.h5\n",
            "225/225 [==============================] - 39s 172ms/step - loss: 0.2496 - accuracy: 0.9112 - val_loss: 0.3489 - val_accuracy: 0.8771\n",
            "Epoch 6/30\n",
            "225/225 [==============================] - ETA: 0s - loss: 0.2208 - accuracy: 0.9204\n",
            "Epoch 6: val_accuracy improved from 0.87708 to 0.87917, saving model to best_model1.h5\n",
            "225/225 [==============================] - 38s 171ms/step - loss: 0.2208 - accuracy: 0.9204 - val_loss: 0.3406 - val_accuracy: 0.8792\n",
            "Epoch 7/30\n",
            "225/225 [==============================] - ETA: 0s - loss: 0.1844 - accuracy: 0.9337\n",
            "Epoch 7: val_accuracy improved from 0.87917 to 0.92000, saving model to best_model1.h5\n",
            "225/225 [==============================] - 39s 171ms/step - loss: 0.1844 - accuracy: 0.9337 - val_loss: 0.2362 - val_accuracy: 0.9200\n",
            "Epoch 8/30\n",
            "225/225 [==============================] - ETA: 0s - loss: 0.1657 - accuracy: 0.9396\n",
            "Epoch 8: val_accuracy did not improve from 0.92000\n",
            "225/225 [==============================] - 38s 170ms/step - loss: 0.1657 - accuracy: 0.9396 - val_loss: 0.2800 - val_accuracy: 0.9108\n",
            "Epoch 9/30\n",
            "225/225 [==============================] - ETA: 0s - loss: 0.1444 - accuracy: 0.9528\n",
            "Epoch 9: val_accuracy did not improve from 0.92000\n",
            "225/225 [==============================] - 39s 173ms/step - loss: 0.1444 - accuracy: 0.9528 - val_loss: 0.2837 - val_accuracy: 0.9029\n",
            "Epoch 10/30\n",
            "225/225 [==============================] - ETA: 0s - loss: 0.1295 - accuracy: 0.9550\n",
            "Epoch 10: val_accuracy did not improve from 0.92000\n",
            "225/225 [==============================] - 39s 173ms/step - loss: 0.1295 - accuracy: 0.9550 - val_loss: 0.2738 - val_accuracy: 0.9092\n",
            "Epoch 11/30\n",
            "225/225 [==============================] - ETA: 0s - loss: 0.1394 - accuracy: 0.9532\n",
            "Epoch 11: val_accuracy did not improve from 0.92000\n",
            "225/225 [==============================] - 39s 173ms/step - loss: 0.1394 - accuracy: 0.9532 - val_loss: 0.2294 - val_accuracy: 0.9196\n",
            "Epoch 12/30\n",
            "225/225 [==============================] - ETA: 0s - loss: 0.1341 - accuracy: 0.9511\n",
            "Epoch 12: val_accuracy did not improve from 0.92000\n",
            "225/225 [==============================] - 39s 171ms/step - loss: 0.1341 - accuracy: 0.9511 - val_loss: 0.2491 - val_accuracy: 0.9121\n",
            "Epoch 13/30\n",
            "225/225 [==============================] - ETA: 0s - loss: 0.1103 - accuracy: 0.9631\n",
            "Epoch 13: val_accuracy improved from 0.92000 to 0.92458, saving model to best_model1.h5\n",
            "225/225 [==============================] - 38s 171ms/step - loss: 0.1103 - accuracy: 0.9631 - val_loss: 0.2297 - val_accuracy: 0.9246\n",
            "Epoch 14/30\n",
            "225/225 [==============================] - ETA: 0s - loss: 0.1084 - accuracy: 0.9647\n",
            "Epoch 14: val_accuracy did not improve from 0.92458\n",
            "225/225 [==============================] - 38s 170ms/step - loss: 0.1084 - accuracy: 0.9647 - val_loss: 0.5262 - val_accuracy: 0.8283\n",
            "Epoch 15/30\n",
            "225/225 [==============================] - ETA: 0s - loss: 0.1058 - accuracy: 0.9636\n",
            "Epoch 15: val_accuracy did not improve from 0.92458\n",
            "225/225 [==============================] - 39s 174ms/step - loss: 0.1058 - accuracy: 0.9636 - val_loss: 0.2307 - val_accuracy: 0.9221\n",
            "Epoch 16/30\n",
            "225/225 [==============================] - ETA: 0s - loss: 0.0848 - accuracy: 0.9751\n",
            "Epoch 16: val_accuracy improved from 0.92458 to 0.93333, saving model to best_model1.h5\n",
            "225/225 [==============================] - 38s 171ms/step - loss: 0.0848 - accuracy: 0.9751 - val_loss: 0.2038 - val_accuracy: 0.9333\n",
            "Epoch 17/30\n",
            "225/225 [==============================] - ETA: 0s - loss: 0.0970 - accuracy: 0.9696\n",
            "Epoch 17: val_accuracy improved from 0.93333 to 0.93542, saving model to best_model1.h5\n",
            "225/225 [==============================] - 38s 171ms/step - loss: 0.0970 - accuracy: 0.9696 - val_loss: 0.2031 - val_accuracy: 0.9354\n",
            "Epoch 18/30\n",
            "225/225 [==============================] - ETA: 0s - loss: 0.0814 - accuracy: 0.9749\n",
            "Epoch 18: val_accuracy did not improve from 0.93542\n",
            "225/225 [==============================] - 38s 170ms/step - loss: 0.0814 - accuracy: 0.9749 - val_loss: 0.2338 - val_accuracy: 0.9287\n",
            "Epoch 19/30\n",
            "225/225 [==============================] - ETA: 0s - loss: 0.0722 - accuracy: 0.9772\n",
            "Epoch 19: val_accuracy improved from 0.93542 to 0.94042, saving model to best_model1.h5\n",
            "225/225 [==============================] - 39s 175ms/step - loss: 0.0722 - accuracy: 0.9772 - val_loss: 0.1978 - val_accuracy: 0.9404\n",
            "Epoch 20/30\n",
            "225/225 [==============================] - ETA: 0s - loss: 0.0689 - accuracy: 0.9804\n",
            "Epoch 20: val_accuracy did not improve from 0.94042\n",
            "225/225 [==============================] - 38s 171ms/step - loss: 0.0689 - accuracy: 0.9804 - val_loss: 0.2070 - val_accuracy: 0.9375\n",
            "Epoch 21/30\n",
            "225/225 [==============================] - ETA: 0s - loss: 0.0596 - accuracy: 0.9819\n",
            "Epoch 21: val_accuracy did not improve from 0.94042\n",
            "225/225 [==============================] - 38s 170ms/step - loss: 0.0596 - accuracy: 0.9819 - val_loss: 0.2012 - val_accuracy: 0.9392\n",
            "Epoch 22/30\n",
            "225/225 [==============================] - ETA: 0s - loss: 0.0622 - accuracy: 0.9794\n",
            "Epoch 22: val_accuracy did not improve from 0.94042\n",
            "225/225 [==============================] - 38s 169ms/step - loss: 0.0622 - accuracy: 0.9794 - val_loss: 0.2819 - val_accuracy: 0.9196\n",
            "Epoch 23/30\n",
            "225/225 [==============================] - ETA: 0s - loss: 0.0914 - accuracy: 0.9671\n",
            "Epoch 23: val_accuracy did not improve from 0.94042\n",
            "225/225 [==============================] - 38s 171ms/step - loss: 0.0914 - accuracy: 0.9671 - val_loss: 0.2618 - val_accuracy: 0.9221\n",
            "Epoch 24/30\n",
            "225/225 [==============================] - ETA: 0s - loss: 0.0674 - accuracy: 0.9776\n",
            "Epoch 24: val_accuracy did not improve from 0.94042\n",
            "225/225 [==============================] - 39s 173ms/step - loss: 0.0674 - accuracy: 0.9776 - val_loss: 0.2362 - val_accuracy: 0.9308\n",
            "Epoch 25/30\n",
            "225/225 [==============================] - ETA: 0s - loss: 0.0454 - accuracy: 0.9872\n",
            "Epoch 25: val_accuracy did not improve from 0.94042\n",
            "225/225 [==============================] - 38s 170ms/step - loss: 0.0454 - accuracy: 0.9872 - val_loss: 0.2101 - val_accuracy: 0.9350\n",
            "Epoch 26/30\n",
            "225/225 [==============================] - ETA: 0s - loss: 0.0589 - accuracy: 0.9808\n",
            "Epoch 26: val_accuracy did not improve from 0.94042\n",
            "225/225 [==============================] - 39s 174ms/step - loss: 0.0589 - accuracy: 0.9808 - val_loss: 0.2175 - val_accuracy: 0.9325\n",
            "Epoch 27/30\n",
            "225/225 [==============================] - ETA: 0s - loss: 0.0515 - accuracy: 0.9837\n",
            "Epoch 27: val_accuracy did not improve from 0.94042\n",
            "225/225 [==============================] - 38s 170ms/step - loss: 0.0515 - accuracy: 0.9837 - val_loss: 0.2116 - val_accuracy: 0.9379\n",
            "Epoch 28/30\n",
            "225/225 [==============================] - ETA: 0s - loss: 0.0463 - accuracy: 0.9867\n",
            "Epoch 28: val_accuracy did not improve from 0.94042\n",
            "225/225 [==============================] - 39s 174ms/step - loss: 0.0463 - accuracy: 0.9867 - val_loss: 0.2349 - val_accuracy: 0.9300\n",
            "Epoch 29/30\n",
            "225/225 [==============================] - ETA: 0s - loss: 0.0503 - accuracy: 0.9854\n",
            "Epoch 29: val_accuracy did not improve from 0.94042\n",
            "225/225 [==============================] - 39s 174ms/step - loss: 0.0503 - accuracy: 0.9854 - val_loss: 0.2389 - val_accuracy: 0.9287\n",
            "Epoch 30/30\n",
            "225/225 [==============================] - ETA: 0s - loss: 0.0488 - accuracy: 0.9856\n",
            "Epoch 30: val_accuracy did not improve from 0.94042\n",
            "225/225 [==============================] - 39s 174ms/step - loss: 0.0488 - accuracy: 0.9856 - val_loss: 0.2284 - val_accuracy: 0.9358\n"
          ]
        }
      ]
    },
    {
      "cell_type": "code",
      "source": [
        "vgg_model.save('best1.h5')"
      ],
      "metadata": {
        "id": "vdbywbVFKlJl"
      },
      "execution_count": 34,
      "outputs": []
    },
    {
      "cell_type": "code",
      "source": [
        "from keras.models import load_model\n",
        "best_model1=load_model('/content/best1.h5')\n",
        "results1 = best_model1.evaluate(test_generator, verbose=0)\n",
        "\n",
        "print(\"    Test Loss: {:.5f}\".format(results1[0]))\n",
        "print(\"Test Accuracy: {:.2f}%\".format(results1[1] * 100))"
      ],
      "metadata": {
        "id": "PSf_hM3tKlFp",
        "colab": {
          "base_uri": "https://localhost:8080/"
        },
        "outputId": "05545d23-c2f0-4fd2-bb03-e818a35b259c"
      },
      "execution_count": 35,
      "outputs": [
        {
          "output_type": "stream",
          "name": "stdout",
          "text": [
            "    Test Loss: 0.36710\n",
            "Test Accuracy: 91.37%\n"
          ]
        }
      ]
    },
    {
      "cell_type": "code",
      "source": [
        "from keras.models import load_model\n",
        "best_model2=load_model('/content/best_model1.h5')\n",
        "results2 = best_model2.evaluate(test_generator, verbose=0)\n",
        "\n",
        "print(\"    Test Loss: {:.5f}\".format(results2[0]))\n",
        "print(\"Test Accuracy: {:.2f}%\".format(results2[1] * 100))"
      ],
      "metadata": {
        "id": "Zy8gDr2fKkzn",
        "colab": {
          "base_uri": "https://localhost:8080/"
        },
        "outputId": "b0f6b7c7-2b78-43f8-ca42-85f7c812cdb2"
      },
      "execution_count": 40,
      "outputs": [
        {
          "output_type": "stream",
          "name": "stdout",
          "text": [
            "    Test Loss: 0.33886\n",
            "Test Accuracy: 91.46%\n"
          ]
        }
      ]
    },
    {
      "cell_type": "code",
      "source": [
        "import matplotlib.pyplot as plt\n",
        "\n",
        "plt.plot(result.history['loss'])\n",
        "plt.plot(result.history['val_loss'])\n",
        "plt.legend(['Training', 'Validation'])\n",
        "plt.title('Training and Validation losses')\n",
        "plt.xlabel('epoch')\n",
        "plt.ylabel('loss')"
      ],
      "metadata": {
        "id": "G2mJ5IPfKkw2",
        "colab": {
          "base_uri": "https://localhost:8080/",
          "height": 313
        },
        "outputId": "42cbab0e-fc47-416c-d371-ae61fd8481ac"
      },
      "execution_count": 37,
      "outputs": [
        {
          "output_type": "execute_result",
          "data": {
            "text/plain": [
              "Text(0, 0.5, 'loss')"
            ]
          },
          "metadata": {},
          "execution_count": 37
        },
        {
          "output_type": "display_data",
          "data": {
            "text/plain": [
              "<Figure size 432x288 with 1 Axes>"
            ],
            "image/png": "[encoded data removed]"
          },
          "metadata": {
            "needs_background": "light"
          }
        }
      ]
    },
    {
      "cell_type": "code",
      "source": [
        "plt.plot(result.history['accuracy'])\n",
        "plt.plot(result.history['val_accuracy'])\n",
        "plt.legend(['Training', 'Validation'])\n",
        "plt.title('Training and Validation accuracy')\n",
        "plt.xlabel('epoch')\n",
        "plt.ylabel('accuracy')"
      ],
      "metadata": {
        "id": "aW8dSj2ZKkuP",
        "colab": {
          "base_uri": "https://localhost:8080/",
          "height": 313
        },
        "outputId": "9d10a3a1-0628-4ecd-a126-66ce679e8110"
      },
      "execution_count": 38,
      "outputs": [
        {
          "output_type": "execute_result",
          "data": {
            "text/plain": [
              "Text(0, 0.5, 'accuracy')"
            ]
          },
          "metadata": {},
          "execution_count": 38
        },
        {
          "output_type": "display_data",
          "data": {
            "text/plain": [
              "<Figure size 432x288 with 1 Axes>"
            ],
            "image/png": "[encoded data removed]"
          },
          "metadata": {
            "needs_background": "light"
          }
        }
      ]
    },
    {
      "cell_type": "code",
      "source": [
        "y_pred = best_model2.predict(test_generator)\n",
        "y_pred"
      ],
      "metadata": {
        "id": "UZOS1EENKkZ9",
        "colab": {
          "base_uri": "https://localhost:8080/"
        },
        "outputId": "0d1388c2-aa71-40d1-9da9-96e0f0b0e6a3"
      },
      "execution_count": 41,
      "outputs": [
        {
          "output_type": "stream",
          "name": "stdout",
          "text": [
            "75/75 [==============================] - 13s 167ms/step\n"
          ]
        },
        {
          "output_type": "execute_result",
          "data": {
            "text/plain": [
              "array([[9.86115336e-01, 7.50952750e-05, 4.45491448e-03, 1.24202859e-06,\n",
              "        3.09489144e-04, 9.04390868e-03],\n",
              "       [2.38811060e-13, 6.95415565e-08, 4.05687253e-08, 3.73705338e-11,\n",
              "        9.99993324e-01, 6.59349416e-06],\n",
              "       [8.46896172e-01, 7.85438679e-05, 1.32275313e-01, 9.58700639e-08,\n",
              "        2.07080562e-02, 4.17902702e-05],\n",
              "       ...,\n",
              "       [1.65786332e-05, 3.06055099e-02, 9.68764663e-01, 6.01474585e-06,\n",
              "        6.07201073e-04, 1.74990493e-08],\n",
              "       [1.16011964e-10, 9.40430311e-09, 2.85580404e-06, 3.09826643e-03,\n",
              "        1.69814200e-07, 9.96898770e-01],\n",
              "       [2.64372269e-04, 7.03318883e-03, 9.76705730e-01, 7.34224959e-05,\n",
              "        1.59126651e-02, 1.06848302e-05]], dtype=float32)"
            ]
          },
          "metadata": {},
          "execution_count": 41
        }
      ]
    },
    {
      "cell_type": "code",
      "source": [
        "y_pred = np.argmax(y_pred, axis=1)\n",
        "y_pred"
      ],
      "metadata": {
        "id": "odEuxLQkKkXa",
        "colab": {
          "base_uri": "https://localhost:8080/"
        },
        "outputId": "270c03af-a36f-4f3e-9f51-79bde5048158"
      },
      "execution_count": 42,
      "outputs": [
        {
          "output_type": "execute_result",
          "data": {
            "text/plain": [
              "array([0, 4, 0, ..., 2, 5, 2])"
            ]
          },
          "metadata": {},
          "execution_count": 42
        }
      ]
    },
    {
      "cell_type": "code",
      "source": [
        "from sklearn.metrics import confusion_matrix, classification_report\n",
        "\n",
        "\n",
        "cm = confusion_matrix(test_generator.labels, y_pred)\n",
        "print(cm)\n",
        "print('classification report')\n",
        "print( classification_report(test_generator.labels, y_pred))"
      ],
      "metadata": {
        "id": "_OhStVzvKkWA",
        "colab": {
          "base_uri": "https://localhost:8080/"
        },
        "outputId": "e9d130e8-95fd-4a4f-c47b-7e2e91dbbe1f"
      },
      "execution_count": 43,
      "outputs": [
        {
          "output_type": "stream",
          "name": "stdout",
          "text": [
            "[[362   1   4   0   2  31]\n",
            " [  0 366  19   6   4   5]\n",
            " [  5  22 346   0  23   4]\n",
            " [  0   4   3 385   2   6]\n",
            " [  1   9  23   0 360   7]\n",
            " [  9   4   7   1   3 376]]\n",
            "classification report\n",
            "              precision    recall  f1-score   support\n",
            "\n",
            "           0       0.96      0.91      0.93       400\n",
            "           1       0.90      0.92      0.91       400\n",
            "           2       0.86      0.86      0.86       400\n",
            "           3       0.98      0.96      0.97       400\n",
            "           4       0.91      0.90      0.91       400\n",
            "           5       0.88      0.94      0.91       400\n",
            "\n",
            "    accuracy                           0.91      2400\n",
            "   macro avg       0.92      0.91      0.91      2400\n",
            "weighted avg       0.92      0.91      0.91      2400\n",
            "\n"
          ]
        }
      ]
    },
    {
      "cell_type": "code",
      "source": [
        "import seaborn as sns\n",
        "f,ax = plt.subplots(figsize=(8, 8))\n",
        "sns.heatmap(cm, annot=True, linewidths=0.01,cmap=\"Oranges\",linecolor=\"gray\", fmt= '.1f',ax=ax)\n",
        "plt.xlabel(\"Predicted Label\")\n",
        "plt.ylabel(\"True Label\")\n",
        "plt.title(\"Confusion Matrix\")\n",
        "plt.show()"
      ],
      "metadata": {
        "id": "hfXAcVzCKkRv",
        "colab": {
          "base_uri": "https://localhost:8080/",
          "height": 513
        },
        "outputId": "43dd569c-67f0-4a9b-d716-572e1bfeeb0a"
      },
      "execution_count": 44,
      "outputs": [
        {
          "output_type": "display_data",
          "data": {
            "text/plain": [
              "<Figure size 576x576 with 2 Axes>"
            ],
            "image/png": "[encoded data removed]"
          },
          "metadata": {
            "needs_background": "light"
          }
        }
      ]
    },
    {
      "cell_type": "code",
      "source": [
        "class_map = dict([(v, k) for k, v in train_generator.class_indices.items()])\n",
        "print(class_map)"
      ],
      "metadata": {
        "id": "xGFESb_AKkOU",
        "colab": {
          "base_uri": "https://localhost:8080/"
        },
        "outputId": "47caafd3-af9f-463c-9224-f39e08dfcdcf"
      },
      "execution_count": 45,
      "outputs": [
        {
          "output_type": "stream",
          "name": "stdout",
          "text": [
            "{0: 'F-resample', 1: 'M', 2: 'N', 3: 'Q', 4: 'S', 5: 'V'}\n"
          ]
        }
      ]
    },
    {
      "cell_type": "code",
      "source": [
        "from tensorflow.keras.models import load_model\n",
        "from tensorflow.keras.preprocessing import image\n",
        "test_image_path = '/content/ECG_Image_data/test/S/115.jpg'\n",
        "\n",
        "def generate_predictions(test_image_path, actual_label):\n",
        "    \n",
        "    # 1. Load and preprocess the image\n",
        "    test_img = image.load_img(test_image_path, target_size=(224, 224))\n",
        "    test_img_arr = image.img_to_array(test_img)/255.0\n",
        "    test_img_input = test_img_arr.reshape((1, test_img_arr.shape[0], test_img_arr.shape[1], test_img_arr.shape[2]))\n",
        "\n",
        "    # 2. Make Predictions\n",
        "    predicted_label = np.argmax(best_model1.predict(test_img_input))\n",
        "    predicted_beat = class_map[predicted_label]\n",
        "    plt.figure(figsize=(4, 4))\n",
        "    plt.imshow(test_img_arr)\n",
        "    plt.title(\"Predicted Label: {}, Actual Label: {}\".format(predicted_beat, actual_label))\n",
        "    plt.grid()\n",
        "    plt.axis('off')\n",
        "    plt.show()\n",
        "\n",
        "# call the function\n",
        "generate_predictions(test_image_path, actual_label='S')"
      ],
      "metadata": {
        "id": "9blBn-XHKkMm",
        "colab": {
          "base_uri": "https://localhost:8080/",
          "height": 282
        },
        "outputId": "7796b168-6b6d-4e9b-f3af-c525f59d4d31"
      },
      "execution_count": 46,
      "outputs": [
        {
          "output_type": "stream",
          "name": "stdout",
          "text": [
            "1/1 [==============================] - 1s 820ms/step\n"
          ]
        },
        {
          "output_type": "display_data",
          "data": {
            "text/plain": [
              "<Figure size 288x288 with 1 Axes>"
            ],
            "image/png": "[encoded data removed]"
          },
          "metadata": {
            "needs_background": "light"
          }
        }
      ]
    },
    {
      "cell_type": "code",
      "source": [
        "IMAGE_SIZE = [224, 224]\n",
        "vgg = VGG19(input_shape=IMAGE_SIZE + [3], weights='imagenet', include_top=False)"
      ],
      "metadata": {
        "colab": {
          "base_uri": "https://localhost:8080/"
        },
        "id": "plwjA8YgxK6R",
        "outputId": "db6f6f6f-3f68-4dc3-eb86-7e3d4b1bc2b3"
      },
      "execution_count": 47,
      "outputs": [
        {
          "output_type": "stream",
          "name": "stdout",
          "text": [
            "Downloading data from https://storage.googleapis.com/tensorflow/keras-applications/vgg19/vgg19_weights_tf_dim_ordering_tf_kernels_notop.h5\n",
            "80134624/80134624 [==============================] - 4s 0us/step\n"
          ]
        }
      ]
    },
    {
      "cell_type": "code",
      "source": [
        "for layer in vgg.layers:\n",
        "  layer.trainable = False"
      ],
      "metadata": {
        "id": "cRsX1_qmxK3b"
      },
      "execution_count": 48,
      "outputs": []
    },
    {
      "cell_type": "code",
      "source": [
        "x = Flatten()(vgg.output)"
      ],
      "metadata": {
        "id": "0zx1y_ryxK09"
      },
      "execution_count": 49,
      "outputs": []
    },
    {
      "cell_type": "code",
      "source": [
        "prediction = Dense(len(folders), activation='softmax')(x)"
      ],
      "metadata": {
        "id": "2no4eex6xKyo"
      },
      "execution_count": 50,
      "outputs": []
    },
    {
      "cell_type": "code",
      "source": [
        "vgg_model = Model(inputs=vgg.input, outputs=prediction)\n",
        "\n",
        "vgg_model.summary()"
      ],
      "metadata": {
        "colab": {
          "base_uri": "https://localhost:8080/"
        },
        "id": "okkoppE0xKwH",
        "outputId": "75abcb13-173a-4114-deb8-e708bf5ca0b9"
      },
      "execution_count": 51,
      "outputs": [
        {
          "output_type": "stream",
          "name": "stdout",
          "text": [
            "Model: \"model_1\"\n",
            "_________________________________________________________________\n",
            " Layer (type)                Output Shape              Param #   \n",
            "=================================================================\n",
            " input_2 (InputLayer)        [(None, 224, 224, 3)]     0         \n",
            "                                                                 \n",
            " block1_conv1 (Conv2D)       (None, 224, 224, 64)      1792      \n",
            "                                                                 \n",
            " block1_conv2 (Conv2D)       (None, 224, 224, 64)      36928     \n",
            "                                                                 \n",
            " block1_pool (MaxPooling2D)  (None, 112, 112, 64)      0         \n",
            "                                                                 \n",
            " block2_conv1 (Conv2D)       (None, 112, 112, 128)     73856     \n",
            "                                                                 \n",
            " block2_conv2 (Conv2D)       (None, 112, 112, 128)     147584    \n",
            "                                                                 \n",
            " block2_pool (MaxPooling2D)  (None, 56, 56, 128)       0         \n",
            "                                                                 \n",
            " block3_conv1 (Conv2D)       (None, 56, 56, 256)       295168    \n",
            "                                                                 \n",
            " block3_conv2 (Conv2D)       (None, 56, 56, 256)       590080    \n",
            "                                                                 \n",
            " block3_conv3 (Conv2D)       (None, 56, 56, 256)       590080    \n",
            "                                                                 \n",
            " block3_conv4 (Conv2D)       (None, 56, 56, 256)       590080    \n",
            "                                                                 \n",
            " block3_pool (MaxPooling2D)  (None, 28, 28, 256)       0         \n",
            "                                                                 \n",
            " block4_conv1 (Conv2D)       (None, 28, 28, 512)       1180160   \n",
            "                                                                 \n",
            " block4_conv2 (Conv2D)       (None, 28, 28, 512)       2359808   \n",
            "                                                                 \n",
            " block4_conv3 (Conv2D)       (None, 28, 28, 512)       2359808   \n",
            "                                                                 \n",
            " block4_conv4 (Conv2D)       (None, 28, 28, 512)       2359808   \n",
            "                                                                 \n",
            " block4_pool (MaxPooling2D)  (None, 14, 14, 512)       0         \n",
            "                                                                 \n",
            " block5_conv1 (Conv2D)       (None, 14, 14, 512)       2359808   \n",
            "                                                                 \n",
            " block5_conv2 (Conv2D)       (None, 14, 14, 512)       2359808   \n",
            "                                                                 \n",
            " block5_conv3 (Conv2D)       (None, 14, 14, 512)       2359808   \n",
            "                                                                 \n",
            " block5_conv4 (Conv2D)       (None, 14, 14, 512)       2359808   \n",
            "                                                                 \n",
            " block5_pool (MaxPooling2D)  (None, 7, 7, 512)         0         \n",
            "                                                                 \n",
            " flatten_1 (Flatten)         (None, 25088)             0         \n",
            "                                                                 \n",
            " dense_1 (Dense)             (None, 6)                 150534    \n",
            "                                                                 \n",
            "=================================================================\n",
            "Total params: 20,174,918\n",
            "Trainable params: 150,534\n",
            "Non-trainable params: 20,024,384\n",
            "_________________________________________________________________\n"
          ]
        }
      ]
    },
    {
      "cell_type": "code",
      "source": [
        "import keras\n",
        "checkpoint = keras.callbacks.ModelCheckpoint(\n",
        "    filepath='best_model2.h5',\n",
        "    save_weights_only=False,\n",
        "    monitor='val_accuracy',\n",
        "    mode='max',\n",
        "    save_best_only=True,\n",
        "    verbose=1)\n",
        "rp = keras.callbacks.ReduceLROnPlateau(\n",
        "        monitor=\"val_accuracy\",\n",
        "        factor=0.2,\n",
        "        patience=3,\n",
        "        verbose=1,\n",
        "        mode=\"max\",\n",
        "        min_lr=0.00001,\n",
        "     )"
      ],
      "metadata": {
        "id": "RRLJUCVgxKqv"
      },
      "execution_count": 52,
      "outputs": []
    },
    {
      "cell_type": "code",
      "source": [
        "vgg_model.compile(\n",
        "    optimizer='adam',\n",
        "    loss='categorical_crossentropy',\n",
        "    metrics=['accuracy']\n",
        ")"
      ],
      "metadata": {
        "id": "HsOcqXncxUAL"
      },
      "execution_count": 53,
      "outputs": []
    },
    {
      "cell_type": "code",
      "source": [
        "result=vgg_model.fit(\n",
        "    train_generator,\n",
        "    validation_data=val_generator,\n",
        "    epochs=25,\n",
        "    steps_per_epoch=len(train_generator),\n",
        "    validation_steps=len(val_generator),\n",
        "    callbacks=[checkpoint,rp]\n",
        ")"
      ],
      "metadata": {
        "colab": {
          "base_uri": "https://localhost:8080/"
        },
        "id": "Br4gg5mUxT8n",
        "outputId": "d624cd8f-2a9f-4cd4-c77f-b748f5840542"
      },
      "execution_count": 54,
      "outputs": [
        {
          "output_type": "stream",
          "name": "stdout",
          "text": [
            "Epoch 1/25\n",
            "225/225 [==============================] - ETA: 0s - loss: 0.7539 - accuracy: 0.7315\n",
            "Epoch 1: val_accuracy improved from -inf to 0.75250, saving model to best_model2.h5\n",
            "225/225 [==============================] - 58s 256ms/step - loss: 0.7539 - accuracy: 0.7315 - val_loss: 0.5946 - val_accuracy: 0.7525 - lr: 0.0010\n",
            "Epoch 2/25\n",
            "225/225 [==============================] - ETA: 0s - loss: 0.4600 - accuracy: 0.8300\n",
            "Epoch 2: val_accuracy improved from 0.75250 to 0.83917, saving model to best_model2.h5\n",
            "225/225 [==============================] - 48s 211ms/step - loss: 0.4600 - accuracy: 0.8300 - val_loss: 0.4176 - val_accuracy: 0.8392 - lr: 0.0010\n",
            "Epoch 3/25\n",
            "225/225 [==============================] - ETA: 0s - loss: 0.3593 - accuracy: 0.8737\n",
            "Epoch 3: val_accuracy improved from 0.83917 to 0.87750, saving model to best_model2.h5\n",
            "225/225 [==============================] - 57s 252ms/step - loss: 0.3593 - accuracy: 0.8737 - val_loss: 0.3428 - val_accuracy: 0.8775 - lr: 0.0010\n",
            "Epoch 4/25\n",
            "225/225 [==============================] - ETA: 0s - loss: 0.3025 - accuracy: 0.8883\n",
            "Epoch 4: val_accuracy did not improve from 0.87750\n",
            "225/225 [==============================] - 48s 211ms/step - loss: 0.3025 - accuracy: 0.8883 - val_loss: 0.3866 - val_accuracy: 0.8721 - lr: 0.0010\n",
            "Epoch 5/25\n",
            "225/225 [==============================] - ETA: 0s - loss: 0.3010 - accuracy: 0.8914\n",
            "Epoch 5: val_accuracy did not improve from 0.87750\n",
            "225/225 [==============================] - 48s 212ms/step - loss: 0.3010 - accuracy: 0.8914 - val_loss: 0.3770 - val_accuracy: 0.8571 - lr: 0.0010\n",
            "Epoch 6/25\n",
            "225/225 [==============================] - ETA: 0s - loss: 0.2330 - accuracy: 0.9171\n",
            "Epoch 6: val_accuracy improved from 0.87750 to 0.88458, saving model to best_model2.h5\n",
            "225/225 [==============================] - 47s 208ms/step - loss: 0.2330 - accuracy: 0.9171 - val_loss: 0.3011 - val_accuracy: 0.8846 - lr: 0.0010\n",
            "Epoch 7/25\n",
            "225/225 [==============================] - ETA: 0s - loss: 0.2266 - accuracy: 0.9161\n",
            "Epoch 7: val_accuracy improved from 0.88458 to 0.90833, saving model to best_model2.h5\n",
            "225/225 [==============================] - 56s 251ms/step - loss: 0.2266 - accuracy: 0.9161 - val_loss: 0.2596 - val_accuracy: 0.9083 - lr: 0.0010\n",
            "Epoch 8/25\n",
            "225/225 [==============================] - ETA: 0s - loss: 0.1996 - accuracy: 0.9308\n",
            "Epoch 8: val_accuracy improved from 0.90833 to 0.91292, saving model to best_model2.h5\n",
            "225/225 [==============================] - 48s 211ms/step - loss: 0.1996 - accuracy: 0.9308 - val_loss: 0.2724 - val_accuracy: 0.9129 - lr: 0.0010\n",
            "Epoch 9/25\n",
            "225/225 [==============================] - ETA: 0s - loss: 0.2020 - accuracy: 0.9283\n",
            "Epoch 9: val_accuracy did not improve from 0.91292\n",
            "225/225 [==============================] - 56s 249ms/step - loss: 0.2020 - accuracy: 0.9283 - val_loss: 0.2755 - val_accuracy: 0.9033 - lr: 0.0010\n",
            "Epoch 10/25\n",
            "225/225 [==============================] - ETA: 0s - loss: 0.1646 - accuracy: 0.9422\n",
            "Epoch 10: val_accuracy did not improve from 0.91292\n",
            "225/225 [==============================] - 47s 207ms/step - loss: 0.1646 - accuracy: 0.9422 - val_loss: 0.2843 - val_accuracy: 0.9038 - lr: 0.0010\n",
            "Epoch 11/25\n",
            "225/225 [==============================] - ETA: 0s - loss: 0.1639 - accuracy: 0.9436\n",
            "Epoch 11: val_accuracy did not improve from 0.91292\n",
            "\n",
            "Epoch 11: ReduceLROnPlateau reducing learning rate to 0.00020000000949949026.\n",
            "225/225 [==============================] - 47s 208ms/step - loss: 0.1639 - accuracy: 0.9436 - val_loss: 0.2737 - val_accuracy: 0.9058 - lr: 0.0010\n",
            "Epoch 12/25\n",
            "225/225 [==============================] - ETA: 0s - loss: 0.0995 - accuracy: 0.9717\n",
            "Epoch 12: val_accuracy improved from 0.91292 to 0.92875, saving model to best_model2.h5\n",
            "225/225 [==============================] - 47s 207ms/step - loss: 0.0995 - accuracy: 0.9717 - val_loss: 0.2099 - val_accuracy: 0.9287 - lr: 2.0000e-04\n",
            "Epoch 13/25\n",
            "225/225 [==============================] - ETA: 0s - loss: 0.0965 - accuracy: 0.9744\n",
            "Epoch 13: val_accuracy improved from 0.92875 to 0.93208, saving model to best_model2.h5\n",
            "225/225 [==============================] - 47s 208ms/step - loss: 0.0965 - accuracy: 0.9744 - val_loss: 0.2132 - val_accuracy: 0.9321 - lr: 2.0000e-04\n",
            "Epoch 14/25\n",
            "225/225 [==============================] - ETA: 0s - loss: 0.0955 - accuracy: 0.9735\n",
            "Epoch 14: val_accuracy did not improve from 0.93208\n",
            "225/225 [==============================] - 44s 195ms/step - loss: 0.0955 - accuracy: 0.9735 - val_loss: 0.2040 - val_accuracy: 0.9296 - lr: 2.0000e-04\n",
            "Epoch 15/25\n",
            "225/225 [==============================] - ETA: 0s - loss: 0.0927 - accuracy: 0.9757\n",
            "Epoch 15: val_accuracy did not improve from 0.93208\n",
            "225/225 [==============================] - 56s 250ms/step - loss: 0.0927 - accuracy: 0.9757 - val_loss: 0.2128 - val_accuracy: 0.9321 - lr: 2.0000e-04\n",
            "Epoch 16/25\n",
            "225/225 [==============================] - ETA: 0s - loss: 0.0910 - accuracy: 0.9767\n",
            "Epoch 16: val_accuracy did not improve from 0.93208\n",
            "\n",
            "Epoch 16: ReduceLROnPlateau reducing learning rate to 4.0000001899898055e-05.\n",
            "225/225 [==============================] - 47s 208ms/step - loss: 0.0910 - accuracy: 0.9767 - val_loss: 0.2026 - val_accuracy: 0.9317 - lr: 2.0000e-04\n",
            "Epoch 17/25\n",
            "225/225 [==============================] - ETA: 0s - loss: 0.0826 - accuracy: 0.9810\n",
            "Epoch 17: val_accuracy improved from 0.93208 to 0.93250, saving model to best_model2.h5\n",
            "225/225 [==============================] - 47s 209ms/step - loss: 0.0826 - accuracy: 0.9810 - val_loss: 0.2023 - val_accuracy: 0.9325 - lr: 4.0000e-05\n",
            "Epoch 18/25\n",
            "225/225 [==============================] - ETA: 0s - loss: 0.0820 - accuracy: 0.9808\n",
            "Epoch 18: val_accuracy improved from 0.93250 to 0.93375, saving model to best_model2.h5\n",
            "225/225 [==============================] - 47s 210ms/step - loss: 0.0820 - accuracy: 0.9808 - val_loss: 0.2019 - val_accuracy: 0.9337 - lr: 4.0000e-05\n",
            "Epoch 19/25\n",
            "225/225 [==============================] - ETA: 0s - loss: 0.0815 - accuracy: 0.9811\n",
            "Epoch 19: val_accuracy did not improve from 0.93375\n",
            "225/225 [==============================] - 47s 209ms/step - loss: 0.0815 - accuracy: 0.9811 - val_loss: 0.2002 - val_accuracy: 0.9329 - lr: 4.0000e-05\n",
            "Epoch 20/25\n",
            "225/225 [==============================] - ETA: 0s - loss: 0.0807 - accuracy: 0.9810\n",
            "Epoch 20: val_accuracy did not improve from 0.93375\n",
            "225/225 [==============================] - 56s 249ms/step - loss: 0.0807 - accuracy: 0.9810 - val_loss: 0.2019 - val_accuracy: 0.9329 - lr: 4.0000e-05\n",
            "Epoch 21/25\n",
            "225/225 [==============================] - ETA: 0s - loss: 0.0802 - accuracy: 0.9826\n",
            "Epoch 21: val_accuracy did not improve from 0.93375\n",
            "\n",
            "Epoch 21: ReduceLROnPlateau reducing learning rate to 1e-05.\n",
            "225/225 [==============================] - 47s 208ms/step - loss: 0.0802 - accuracy: 0.9826 - val_loss: 0.1987 - val_accuracy: 0.9329 - lr: 4.0000e-05\n",
            "Epoch 22/25\n",
            "225/225 [==============================] - ETA: 0s - loss: 0.0789 - accuracy: 0.9824\n",
            "Epoch 22: val_accuracy did not improve from 0.93375\n",
            "225/225 [==============================] - 47s 208ms/step - loss: 0.0789 - accuracy: 0.9824 - val_loss: 0.1982 - val_accuracy: 0.9337 - lr: 1.0000e-05\n",
            "Epoch 23/25\n",
            "225/225 [==============================] - ETA: 0s - loss: 0.0786 - accuracy: 0.9825\n",
            "Epoch 23: val_accuracy did not improve from 0.93375\n",
            "225/225 [==============================] - 56s 248ms/step - loss: 0.0786 - accuracy: 0.9825 - val_loss: 0.2006 - val_accuracy: 0.9337 - lr: 1.0000e-05\n",
            "Epoch 24/25\n",
            "225/225 [==============================] - ETA: 0s - loss: 0.0786 - accuracy: 0.9824\n",
            "Epoch 24: val_accuracy improved from 0.93375 to 0.93417, saving model to best_model2.h5\n",
            "225/225 [==============================] - 48s 212ms/step - loss: 0.0786 - accuracy: 0.9824 - val_loss: 0.1983 - val_accuracy: 0.9342 - lr: 1.0000e-05\n",
            "Epoch 25/25\n",
            "225/225 [==============================] - ETA: 0s - loss: 0.0786 - accuracy: 0.9831\n",
            "Epoch 25: val_accuracy did not improve from 0.93417\n",
            "225/225 [==============================] - 47s 207ms/step - loss: 0.0786 - accuracy: 0.9831 - val_loss: 0.2002 - val_accuracy: 0.9329 - lr: 1.0000e-05\n"
          ]
        }
      ]
    },
    {
      "cell_type": "code",
      "source": [
        "from keras.models import load_model\n",
        "best_model3=load_model('/content/best_model2.h5')\n",
        "results3 = best_model3.evaluate(test_generator, verbose=0)\n",
        "\n",
        "print(\"    Test Loss: {:.5f}\".format(results3[0]))\n",
        "print(\"Test Accuracy: {:.2f}%\".format(results3[1] * 100))"
      ],
      "metadata": {
        "id": "WKEt7RB5xT1h",
        "colab": {
          "base_uri": "https://localhost:8080/"
        },
        "outputId": "81a84a79-a656-4ce0-db5b-1621e4bb91cc"
      },
      "execution_count": 55,
      "outputs": [
        {
          "output_type": "stream",
          "name": "stdout",
          "text": [
            "    Test Loss: 0.33135\n",
            "Test Accuracy: 90.25%\n"
          ]
        }
      ]
    },
    {
      "cell_type": "code",
      "source": [
        "import matplotlib.pyplot as plt\n",
        "\n",
        "plt.plot(result.history['loss'])\n",
        "plt.plot(result.history['val_loss'])\n",
        "plt.legend(['Training', 'Validation'])\n",
        "plt.title('Training and Validation losses')\n",
        "plt.xlabel('epoch')\n",
        "plt.ylabel('loss')"
      ],
      "metadata": {
        "id": "ARFLwSDax6eN",
        "colab": {
          "base_uri": "https://localhost:8080/",
          "height": 313
        },
        "outputId": "0b7504e5-91e2-4edc-da09-2ef09dd8b0d5"
      },
      "execution_count": 56,
      "outputs": [
        {
          "output_type": "execute_result",
          "data": {
            "text/plain": [
              "Text(0, 0.5, 'loss')"
            ]
          },
          "metadata": {},
          "execution_count": 56
        },
        {
          "output_type": "display_data",
          "data": {
            "text/plain": [
              "<Figure size 432x288 with 1 Axes>"
            ],
            "image/png": "[encoded data removed]"
          },
          "metadata": {
            "needs_background": "light"
          }
        }
      ]
    },
    {
      "cell_type": "code",
      "source": [
        "plt.plot(result.history['accuracy'])\n",
        "plt.plot(result.history['val_accuracy'])\n",
        "plt.legend(['Training', 'Validation'])\n",
        "plt.title('Training and Validation accuracy')\n",
        "plt.xlabel('epoch')\n",
        "plt.ylabel('accuracy')"
      ],
      "metadata": {
        "id": "rDUjLeThx6bJ",
        "colab": {
          "base_uri": "https://localhost:8080/",
          "height": 313
        },
        "outputId": "cfa09dea-5dd7-4ed1-d2b9-fbf4baad9134"
      },
      "execution_count": 57,
      "outputs": [
        {
          "output_type": "execute_result",
          "data": {
            "text/plain": [
              "Text(0, 0.5, 'accuracy')"
            ]
          },
          "metadata": {},
          "execution_count": 57
        },
        {
          "output_type": "display_data",
          "data": {
            "text/plain": [
              "<Figure size 432x288 with 1 Axes>"
            ],
            "image/png": "[encoded data removed]"
          },
          "metadata": {
            "needs_background": "light"
          }
        }
      ]
    },
    {
      "cell_type": "code",
      "source": [
        "y_pred1 = best_model3.predict(test_generator)\n",
        "y_pred1"
      ],
      "metadata": {
        "id": "0-bUlsvOx6Wn",
        "colab": {
          "base_uri": "https://localhost:8080/"
        },
        "outputId": "87d53e9b-0e2b-49a5-831a-b50525317569"
      },
      "execution_count": 58,
      "outputs": [
        {
          "output_type": "stream",
          "name": "stdout",
          "text": [
            "75/75 [==============================] - 12s 155ms/step\n"
          ]
        },
        {
          "output_type": "execute_result",
          "data": {
            "text/plain": [
              "array([[9.91792321e-01, 1.46384729e-04, 4.25843010e-03, 1.06697223e-06,\n",
              "        5.24413423e-04, 3.27742496e-03],\n",
              "       [1.18276496e-07, 4.20096711e-07, 6.37031826e-06, 5.10903986e-09,\n",
              "        9.99962211e-01, 3.08899398e-05],\n",
              "       [9.45404589e-01, 1.94213193e-04, 4.69354801e-02, 4.17236407e-07,\n",
              "        7.40686338e-03, 5.84940026e-05],\n",
              "       ...,\n",
              "       [4.71761072e-04, 9.10653267e-03, 9.76210713e-01, 4.52252652e-06,\n",
              "        1.42061794e-02, 2.63772591e-07],\n",
              "       [2.34081952e-07, 6.86450562e-07, 6.83349033e-04, 3.37846428e-02,\n",
              "        3.12338875e-06, 9.65528011e-01],\n",
              "       [1.26275874e-03, 2.49804696e-03, 9.82578874e-01, 6.71382004e-05,\n",
              "        1.35404691e-02, 5.27580196e-05]], dtype=float32)"
            ]
          },
          "metadata": {},
          "execution_count": 58
        }
      ]
    },
    {
      "cell_type": "code",
      "source": [
        "y_pred1 = np.argmax(y_pred1, axis=1)\n",
        "y_pred1"
      ],
      "metadata": {
        "id": "VKAXNMX6yErS",
        "colab": {
          "base_uri": "https://localhost:8080/"
        },
        "outputId": "c4cf8ed4-0b22-4db9-9680-1471a801de11"
      },
      "execution_count": 59,
      "outputs": [
        {
          "output_type": "execute_result",
          "data": {
            "text/plain": [
              "array([0, 4, 0, ..., 2, 5, 2])"
            ]
          },
          "metadata": {},
          "execution_count": 59
        }
      ]
    },
    {
      "cell_type": "code",
      "source": [
        "from sklearn.metrics import confusion_matrix, classification_report\n",
        "\n",
        "\n",
        "cm = confusion_matrix(test_generator.labels, y_pred1)\n",
        "print(cm)\n",
        "print('classification report')\n",
        "print( classification_report(test_generator.labels, y_pred1))"
      ],
      "metadata": {
        "id": "3TJToN8cyEof",
        "colab": {
          "base_uri": "https://localhost:8080/"
        },
        "outputId": "98edb8ca-4d03-41d7-afe2-cf31bf6b985e"
      },
      "execution_count": 60,
      "outputs": [
        {
          "output_type": "stream",
          "name": "stdout",
          "text": [
            "[[353   0  12   0   2  33]\n",
            " [  1 363  27   0   7   2]\n",
            " [  6  20 348   0  20   6]\n",
            " [  0   3   5 384   2   6]\n",
            " [  2   9  37   0 343   9]\n",
            " [  8   4   8   1   4 375]]\n",
            "classification report\n",
            "              precision    recall  f1-score   support\n",
            "\n",
            "           0       0.95      0.88      0.92       400\n",
            "           1       0.91      0.91      0.91       400\n",
            "           2       0.80      0.87      0.83       400\n",
            "           3       1.00      0.96      0.98       400\n",
            "           4       0.91      0.86      0.88       400\n",
            "           5       0.87      0.94      0.90       400\n",
            "\n",
            "    accuracy                           0.90      2400\n",
            "   macro avg       0.91      0.90      0.90      2400\n",
            "weighted avg       0.91      0.90      0.90      2400\n",
            "\n"
          ]
        }
      ]
    },
    {
      "cell_type": "code",
      "source": [
        "import seaborn as sns\n",
        "f,ax = plt.subplots(figsize=(8, 8))\n",
        "sns.heatmap(cm, annot=True, linewidths=0.01,cmap=\"Oranges\",linecolor=\"gray\", fmt= '.1f',ax=ax)\n",
        "plt.xlabel(\"Predicted Label\")\n",
        "plt.ylabel(\"True Label\")\n",
        "plt.title(\"Confusion Matrix\")\n",
        "plt.show()"
      ],
      "metadata": {
        "id": "cE4wY-ieyEja",
        "colab": {
          "base_uri": "https://localhost:8080/",
          "height": 513
        },
        "outputId": "84297de0-aebb-4549-bae1-73f5d65ac1ab"
      },
      "execution_count": 61,
      "outputs": [
        {
          "output_type": "display_data",
          "data": {
            "text/plain": [
              "<Figure size 576x576 with 2 Axes>"
            ],
            "image/png": "[encoded data removed]"
          },
          "metadata": {
            "needs_background": "light"
          }
        }
      ]
    },
    {
      "cell_type": "code",
      "source": [
        "class_map = dict([(v, k) for k, v in train_generator.class_indices.items()])\n",
        "print(class_map)"
      ],
      "metadata": {
        "id": "3suUJQnuzxf2",
        "colab": {
          "base_uri": "https://localhost:8080/"
        },
        "outputId": "8f358410-99ea-4e66-c931-7301c6b6194c"
      },
      "execution_count": 62,
      "outputs": [
        {
          "output_type": "stream",
          "name": "stdout",
          "text": [
            "{0: 'F-resample', 1: 'M', 2: 'N', 3: 'Q', 4: 'S', 5: 'V'}\n"
          ]
        }
      ]
    },
    {
      "cell_type": "code",
      "source": [
        "from tensorflow.keras.models import load_model\n",
        "from tensorflow.keras.preprocessing import image\n",
        "test_image_path = '/content/ECG_Image_data/test/S/115.jpg'\n",
        "\n",
        "def generate_predictions(test_image_path, actual_label):\n",
        "    \n",
        "    # 1. Load and preprocess the image\n",
        "    test_img = image.load_img(test_image_path, target_size=(224, 224))\n",
        "    test_img_arr = image.img_to_array(test_img)/255.0\n",
        "    test_img_input = test_img_arr.reshape((1, test_img_arr.shape[0], test_img_arr.shape[1], test_img_arr.shape[2]))\n",
        "\n",
        "    # 2. Make Predictions\n",
        "    predicted_label = np.argmax(best_model3.predict(test_img_input))\n",
        "    predicted_beat = class_map[predicted_label]\n",
        "    plt.figure(figsize=(4, 4))\n",
        "    plt.imshow(test_img_arr)\n",
        "    plt.title(\"Predicted Label: {}, Actual Label: {}\".format(predicted_beat, actual_label))\n",
        "    plt.grid()\n",
        "    plt.axis('off')\n",
        "    plt.show()\n",
        "\n",
        "# call the function\n",
        "generate_predictions(test_image_path, actual_label='S')"
      ],
      "metadata": {
        "id": "kVWrqZwZzxZY",
        "colab": {
          "base_uri": "https://localhost:8080/",
          "height": 282
        },
        "outputId": "106b6323-52fd-4dd0-8909-c8edf8df95ae"
      },
      "execution_count": 63,
      "outputs": [
        {
          "output_type": "stream",
          "name": "stdout",
          "text": [
            "1/1 [==============================] - 0s 151ms/step\n"
          ]
        },
        {
          "output_type": "display_data",
          "data": {
            "text/plain": [
              "<Figure size 288x288 with 1 Axes>"
            ],
            "image/png": "[encoded data removed]"
          },
          "metadata": {
            "needs_background": "light"
          }
        }
      ]
    },
    {
      "cell_type": "code",
      "source": [
        "model1=load_model('best_model1.h5')\n",
        "model2=load_model('best_model2.h5')"
      ],
      "metadata": {
        "id": "dvtSNS_IzxOf"
      },
      "execution_count": 64,
      "outputs": []
    },
    {
      "cell_type": "code",
      "source": [
        "model1=Model(inputs=model1.inputs,outputs=model1.outputs,name='VGG16')"
      ],
      "metadata": {
        "id": "cCFfNajOzxLM"
      },
      "execution_count": 65,
      "outputs": []
    },
    {
      "cell_type": "code",
      "source": [
        "model2=Model(inputs=model2.inputs,outputs=model2.outputs,name='VGG19')"
      ],
      "metadata": {
        "id": "ZouD88yj0He6"
      },
      "execution_count": 66,
      "outputs": []
    },
    {
      "cell_type": "code",
      "source": [
        "models=[model1,model2]"
      ],
      "metadata": {
        "id": "5SknO4e90HcQ"
      },
      "execution_count": 67,
      "outputs": []
    },
    {
      "cell_type": "code",
      "source": [
        "model_input=Input(shape=(224,224,3))"
      ],
      "metadata": {
        "id": "Iv8KLbWl0HZK"
      },
      "execution_count": 68,
      "outputs": []
    },
    {
      "cell_type": "code",
      "source": [
        "model_outputs=[model(model_input) for model in models]"
      ],
      "metadata": {
        "id": "bnt6Yc9J0HVz"
      },
      "execution_count": 69,
      "outputs": []
    },
    {
      "cell_type": "code",
      "source": [
        "ensemble_output=Average()(model_outputs)"
      ],
      "metadata": {
        "id": "InDGaVqD0HSk"
      },
      "execution_count": 70,
      "outputs": []
    },
    {
      "cell_type": "code",
      "source": [
        "ensemble_model=Model(inputs=model_input,outputs=ensemble_output,name='ensemble')"
      ],
      "metadata": {
        "id": "Sg8GiCa90vsq"
      },
      "execution_count": 71,
      "outputs": []
    },
    {
      "cell_type": "code",
      "source": [
        "import keras\n",
        "checkpoint = keras.callbacks.ModelCheckpoint(\n",
        "    filepath='best_model3.h5',\n",
        "    save_weights_only=False,\n",
        "    monitor='val_accuracy',\n",
        "    mode='max',\n",
        "    save_best_only=True,\n",
        "    verbose=1)"
      ],
      "metadata": {
        "id": "U-RQavwyO-ch"
      },
      "execution_count": 72,
      "outputs": []
    },
    {
      "cell_type": "code",
      "source": [
        "ensemble_model.compile(optimizer='adam',loss='categorical_crossentropy',metrics=['accuracy'])"
      ],
      "metadata": {
        "id": "zCaZhZ7J0vp5"
      },
      "execution_count": 73,
      "outputs": []
    },
    {
      "cell_type": "code",
      "source": [
        "history=ensemble_model.fit(train_generator,\n",
        "    validation_data=val_generator,\n",
        "    epochs=25,\n",
        "    steps_per_epoch=len(train_generator),\n",
        "    validation_steps=len(val_generator),\n",
        "    callbacks=[checkpoint])"
      ],
      "metadata": {
        "colab": {
          "base_uri": "https://localhost:8080/"
        },
        "id": "65znBhjI0vku",
        "outputId": "464ad8b5-c51a-4ff1-e5ff-39a9ba74c4e3"
      },
      "execution_count": 74,
      "outputs": [
        {
          "output_type": "stream",
          "name": "stdout",
          "text": [
            "Epoch 1/25\n",
            "225/225 [==============================] - ETA: 0s - loss: 0.1006 - accuracy: 0.9739\n",
            "Epoch 1: val_accuracy improved from -inf to 0.93708, saving model to best_model3.h5\n",
            "225/225 [==============================] - 85s 372ms/step - loss: 0.1006 - accuracy: 0.9739 - val_loss: 0.1996 - val_accuracy: 0.9371\n",
            "Epoch 2/25\n",
            "225/225 [==============================] - ETA: 0s - loss: 0.1075 - accuracy: 0.9715\n",
            "Epoch 2: val_accuracy did not improve from 0.93708\n",
            "225/225 [==============================] - 83s 369ms/step - loss: 0.1075 - accuracy: 0.9715 - val_loss: 0.2056 - val_accuracy: 0.9342\n",
            "Epoch 3/25\n",
            "225/225 [==============================] - ETA: 0s - loss: 0.1052 - accuracy: 0.9689\n",
            "Epoch 3: val_accuracy did not improve from 0.93708\n",
            "225/225 [==============================] - 83s 368ms/step - loss: 0.1052 - accuracy: 0.9689 - val_loss: 0.2126 - val_accuracy: 0.9304\n",
            "Epoch 4/25\n",
            "225/225 [==============================] - ETA: 0s - loss: 0.0800 - accuracy: 0.9792\n",
            "Epoch 4: val_accuracy improved from 0.93708 to 0.93958, saving model to best_model3.h5\n",
            "225/225 [==============================] - 104s 462ms/step - loss: 0.0800 - accuracy: 0.9792 - val_loss: 0.1890 - val_accuracy: 0.9396\n",
            "Epoch 5/25\n",
            "225/225 [==============================] - ETA: 0s - loss: 0.0862 - accuracy: 0.9785\n",
            "Epoch 5: val_accuracy did not improve from 0.93958\n",
            "225/225 [==============================] - 84s 372ms/step - loss: 0.0862 - accuracy: 0.9785 - val_loss: 0.2382 - val_accuracy: 0.9254\n",
            "Epoch 6/25\n",
            "225/225 [==============================] - ETA: 0s - loss: 0.0743 - accuracy: 0.9810\n",
            "Epoch 6: val_accuracy improved from 0.93958 to 0.94292, saving model to best_model3.h5\n",
            "225/225 [==============================] - 84s 373ms/step - loss: 0.0743 - accuracy: 0.9810 - val_loss: 0.1957 - val_accuracy: 0.9429\n",
            "Epoch 7/25\n",
            "225/225 [==============================] - ETA: 0s - loss: 0.0652 - accuracy: 0.9832\n",
            "Epoch 7: val_accuracy did not improve from 0.94292\n",
            "225/225 [==============================] - 103s 460ms/step - loss: 0.0652 - accuracy: 0.9832 - val_loss: 0.1992 - val_accuracy: 0.9413\n",
            "Epoch 8/25\n",
            "225/225 [==============================] - ETA: 0s - loss: 0.0759 - accuracy: 0.9811\n",
            "Epoch 8: val_accuracy did not improve from 0.94292\n",
            "225/225 [==============================] - 84s 372ms/step - loss: 0.0759 - accuracy: 0.9811 - val_loss: 0.1934 - val_accuracy: 0.9379\n",
            "Epoch 9/25\n",
            "225/225 [==============================] - ETA: 0s - loss: 0.0624 - accuracy: 0.9856\n",
            "Epoch 9: val_accuracy did not improve from 0.94292\n",
            "225/225 [==============================] - 83s 369ms/step - loss: 0.0624 - accuracy: 0.9856 - val_loss: 0.1985 - val_accuracy: 0.9396\n",
            "Epoch 10/25\n",
            "225/225 [==============================] - ETA: 0s - loss: 0.0772 - accuracy: 0.9782\n",
            "Epoch 10: val_accuracy did not improve from 0.94292\n",
            "225/225 [==============================] - 83s 371ms/step - loss: 0.0772 - accuracy: 0.9782 - val_loss: 0.2817 - val_accuracy: 0.9021\n",
            "Epoch 11/25\n",
            "225/225 [==============================] - ETA: 0s - loss: 0.0567 - accuracy: 0.9860\n",
            "Epoch 11: val_accuracy did not improve from 0.94292\n",
            "225/225 [==============================] - 83s 370ms/step - loss: 0.0567 - accuracy: 0.9860 - val_loss: 0.2065 - val_accuracy: 0.9417\n",
            "Epoch 12/25\n",
            "225/225 [==============================] - ETA: 0s - loss: 0.0701 - accuracy: 0.9836\n",
            "Epoch 12: val_accuracy did not improve from 0.94292\n",
            "225/225 [==============================] - 103s 460ms/step - loss: 0.0701 - accuracy: 0.9836 - val_loss: 0.2156 - val_accuracy: 0.9429\n",
            "Epoch 13/25\n",
            "225/225 [==============================] - ETA: 0s - loss: 0.0488 - accuracy: 0.9885\n",
            "Epoch 13: val_accuracy did not improve from 0.94292\n",
            "225/225 [==============================] - 84s 373ms/step - loss: 0.0488 - accuracy: 0.9885 - val_loss: 0.2079 - val_accuracy: 0.9362\n",
            "Epoch 14/25\n",
            "225/225 [==============================] - ETA: 0s - loss: 0.0551 - accuracy: 0.9871\n",
            "Epoch 14: val_accuracy improved from 0.94292 to 0.94792, saving model to best_model3.h5\n",
            "225/225 [==============================] - 83s 370ms/step - loss: 0.0551 - accuracy: 0.9871 - val_loss: 0.1966 - val_accuracy: 0.9479\n",
            "Epoch 15/25\n",
            "225/225 [==============================] - ETA: 0s - loss: 0.0604 - accuracy: 0.9847\n",
            "Epoch 15: val_accuracy did not improve from 0.94792\n",
            "225/225 [==============================] - 103s 460ms/step - loss: 0.0604 - accuracy: 0.9847 - val_loss: 0.2274 - val_accuracy: 0.9325\n",
            "Epoch 16/25\n",
            "225/225 [==============================] - ETA: 0s - loss: 0.0487 - accuracy: 0.9878\n",
            "Epoch 16: val_accuracy did not improve from 0.94792\n",
            "225/225 [==============================] - 84s 372ms/step - loss: 0.0487 - accuracy: 0.9878 - val_loss: 0.1982 - val_accuracy: 0.9379\n",
            "Epoch 17/25\n",
            "225/225 [==============================] - ETA: 0s - loss: 0.0438 - accuracy: 0.9907\n",
            "Epoch 17: val_accuracy did not improve from 0.94792\n",
            "225/225 [==============================] - 103s 460ms/step - loss: 0.0438 - accuracy: 0.9907 - val_loss: 0.2023 - val_accuracy: 0.9404\n",
            "Epoch 18/25\n",
            "225/225 [==============================] - ETA: 0s - loss: 0.0421 - accuracy: 0.9890\n",
            "Epoch 18: val_accuracy did not improve from 0.94792\n",
            "225/225 [==============================] - 84s 372ms/step - loss: 0.0421 - accuracy: 0.9890 - val_loss: 0.2047 - val_accuracy: 0.9438\n",
            "Epoch 19/25\n",
            "225/225 [==============================] - ETA: 0s - loss: 0.0408 - accuracy: 0.9894\n",
            "Epoch 19: val_accuracy did not improve from 0.94792\n",
            "225/225 [==============================] - 83s 370ms/step - loss: 0.0408 - accuracy: 0.9894 - val_loss: 0.2042 - val_accuracy: 0.9396\n",
            "Epoch 20/25\n",
            "225/225 [==============================] - ETA: 0s - loss: 0.0374 - accuracy: 0.9901\n",
            "Epoch 20: val_accuracy did not improve from 0.94792\n",
            "225/225 [==============================] - 83s 370ms/step - loss: 0.0374 - accuracy: 0.9901 - val_loss: 0.2437 - val_accuracy: 0.9304\n",
            "Epoch 21/25\n",
            "225/225 [==============================] - ETA: 0s - loss: 0.0390 - accuracy: 0.9910\n",
            "Epoch 21: val_accuracy improved from 0.94792 to 0.95125, saving model to best_model3.h5\n",
            "225/225 [==============================] - 83s 371ms/step - loss: 0.0390 - accuracy: 0.9910 - val_loss: 0.1922 - val_accuracy: 0.9513\n",
            "Epoch 22/25\n",
            "225/225 [==============================] - ETA: 0s - loss: 0.0331 - accuracy: 0.9928\n",
            "Epoch 22: val_accuracy did not improve from 0.95125\n",
            "225/225 [==============================] - 103s 460ms/step - loss: 0.0331 - accuracy: 0.9928 - val_loss: 0.2445 - val_accuracy: 0.9312\n",
            "Epoch 23/25\n",
            "225/225 [==============================] - ETA: 0s - loss: 0.0454 - accuracy: 0.9883\n",
            "Epoch 23: val_accuracy did not improve from 0.95125\n",
            "225/225 [==============================] - 84s 372ms/step - loss: 0.0454 - accuracy: 0.9883 - val_loss: 0.2067 - val_accuracy: 0.9388\n",
            "Epoch 24/25\n",
            "225/225 [==============================] - ETA: 0s - loss: 0.0340 - accuracy: 0.9917\n",
            "Epoch 24: val_accuracy did not improve from 0.95125\n",
            "225/225 [==============================] - 83s 370ms/step - loss: 0.0340 - accuracy: 0.9917 - val_loss: 0.2523 - val_accuracy: 0.9308\n",
            "Epoch 25/25\n",
            "225/225 [==============================] - ETA: 0s - loss: 0.0292 - accuracy: 0.9932\n",
            "Epoch 25: val_accuracy did not improve from 0.95125\n",
            "225/225 [==============================] - 83s 370ms/step - loss: 0.0292 - accuracy: 0.9932 - val_loss: 0.1905 - val_accuracy: 0.9446\n"
          ]
        }
      ]
    },
    {
      "cell_type": "code",
      "source": [
        "from keras.models import load_model\n",
        "results1 = ensemble_model.evaluate(test_generator, verbose=0)\n",
        "\n",
        "print(\"    Test Loss: {:.5f}\".format(results1[0]))\n",
        "print(\"Test Accuracy: {:.2f}%\".format(results1[1] * 100))"
      ],
      "metadata": {
        "id": "3tC7k39IiOPU",
        "colab": {
          "base_uri": "https://localhost:8080/"
        },
        "outputId": "d07fc1e5-2d81-4b95-bee5-b1d458d8b540"
      },
      "execution_count": 75,
      "outputs": [
        {
          "output_type": "stream",
          "name": "stdout",
          "text": [
            "    Test Loss: 0.37243\n",
            "Test Accuracy: 92.50%\n"
          ]
        }
      ]
    },
    {
      "cell_type": "code",
      "source": [
        "from keras.models import load_model\n",
        "best_model4=load_model('/content/best_model3.h5')\n",
        "results4 = best_model4.evaluate(test_generator, verbose=0)\n",
        "\n",
        "print(\"    Test Loss: {:.5f}\".format(results4[0]))\n",
        "print(\"Test Accuracy: {:.2f}%\".format(results4[1] * 100))"
      ],
      "metadata": {
        "id": "UwOnbv0ZiOMg",
        "colab": {
          "base_uri": "https://localhost:8080/"
        },
        "outputId": "ca82b028-b0e3-4924-8fc5-b951c78d7764"
      },
      "execution_count": 76,
      "outputs": [
        {
          "output_type": "stream",
          "name": "stdout",
          "text": [
            "    Test Loss: 0.35953\n",
            "Test Accuracy: 92.21%\n"
          ]
        }
      ]
    },
    {
      "cell_type": "code",
      "source": [
        "import matplotlib.pyplot as plt\n",
        "\n",
        "plt.plot(history.history['loss'])\n",
        "plt.plot(history.history['val_loss'])\n",
        "plt.legend(['Training', 'Validation'])\n",
        "plt.title('Training and Validation losses')\n",
        "plt.xlabel('epoch')\n",
        "plt.ylabel('loss')"
      ],
      "metadata": {
        "id": "9vzYjRYyuxeT",
        "colab": {
          "base_uri": "https://localhost:8080/",
          "height": 313
        },
        "outputId": "ccff8064-cd00-4a87-9c4e-49d233244ba1"
      },
      "execution_count": 77,
      "outputs": [
        {
          "output_type": "execute_result",
          "data": {
            "text/plain": [
              "Text(0, 0.5, 'loss')"
            ]
          },
          "metadata": {},
          "execution_count": 77
        },
        {
          "output_type": "display_data",
          "data": {
            "text/plain": [
              "<Figure size 432x288 with 1 Axes>"
            ],
            "image/png": "[encoded data removed]"
          },
          "metadata": {
            "needs_background": "light"
          }
        }
      ]
    },
    {
      "cell_type": "code",
      "source": [
        "plt.plot(history.history['accuracy'])\n",
        "plt.plot(history.history['val_accuracy'])\n",
        "plt.legend(['Training', 'Validation'])\n",
        "plt.title('Training and Validation accuracy')\n",
        "plt.xlabel('epoch')\n",
        "plt.ylabel('accuracy')"
      ],
      "metadata": {
        "id": "CGe4hchQuxXj",
        "colab": {
          "base_uri": "https://localhost:8080/",
          "height": 313
        },
        "outputId": "f146bd05-e2c7-47ce-8cae-95b65feecdb6"
      },
      "execution_count": 78,
      "outputs": [
        {
          "output_type": "execute_result",
          "data": {
            "text/plain": [
              "Text(0, 0.5, 'accuracy')"
            ]
          },
          "metadata": {},
          "execution_count": 78
        },
        {
          "output_type": "display_data",
          "data": {
            "text/plain": [
              "<Figure size 432x288 with 1 Axes>"
            ],
            "image/png": "[encoded data removed]"
          },
          "metadata": {
            "needs_background": "light"
          }
        }
      ]
    },
    {
      "cell_type": "code",
      "source": [
        "y_pred2 = results1.predict(test_generator)\n",
        "y_pred2"
      ],
      "metadata": {
        "id": "ue07beCcuxTk",
        "colab": {
          "base_uri": "https://localhost:8080/",
          "height": 187
        },
        "outputId": "194ba369-b5d2-407e-c9c8-e7609e1e6cc2"
      },
      "execution_count": 149,
      "outputs": [
        {
          "output_type": "error",
          "ename": "AttributeError",
          "evalue": "ignored",
          "traceback": [
            "\u001b[0;31m---------------------------------------------------------------------------\u001b[0m",
            "\u001b[0;31mAttributeError\u001b[0m                            Traceback (most recent call last)",
            "\u001b[0;32m<ipython-input-149-25aedab33693>\u001b[0m in \u001b[0;36m<module>\u001b[0;34m\u001b[0m\n\u001b[0;32m----> 1\u001b[0;31m \u001b[0my_pred2\u001b[0m \u001b[0;34m=\u001b[0m \u001b[0mresults1\u001b[0m\u001b[0;34m.\u001b[0m\u001b[0mpredict\u001b[0m\u001b[0;34m(\u001b[0m\u001b[0mtest_generator\u001b[0m\u001b[0;34m)\u001b[0m\u001b[0;34m\u001b[0m\u001b[0;34m\u001b[0m\u001b[0m\n\u001b[0m\u001b[1;32m      2\u001b[0m \u001b[0my_pred2\u001b[0m\u001b[0;34m\u001b[0m\u001b[0;34m\u001b[0m\u001b[0m\n",
            "\u001b[0;31mAttributeError\u001b[0m: 'list' object has no attribute 'predict'"
          ]
        }
      ]
    },
    {
      "cell_type": "code",
      "source": [
        "y_pred2 = np.argmax(y_pred2, axis=1)\n",
        "y_pred2"
      ],
      "metadata": {
        "id": "1K9QxnqxuxOH",
        "colab": {
          "base_uri": "https://localhost:8080/",
          "height": 336
        },
        "outputId": "a2f2c07e-ec57-4c0b-f0d7-420422d09244"
      },
      "execution_count": 150,
      "outputs": [
        {
          "output_type": "error",
          "ename": "AxisError",
          "evalue": "ignored",
          "traceback": [
            "\u001b[0;31m---------------------------------------------------------------------------\u001b[0m",
            "\u001b[0;31mAxisError\u001b[0m                                 Traceback (most recent call last)",
            "\u001b[0;32m<ipython-input-150-97ade8e781d6>\u001b[0m in \u001b[0;36m<module>\u001b[0;34m\u001b[0m\n\u001b[0;32m----> 1\u001b[0;31m \u001b[0my_pred2\u001b[0m \u001b[0;34m=\u001b[0m \u001b[0mnp\u001b[0m\u001b[0;34m.\u001b[0m\u001b[0margmax\u001b[0m\u001b[0;34m(\u001b[0m\u001b[0my_pred2\u001b[0m\u001b[0;34m,\u001b[0m \u001b[0maxis\u001b[0m\u001b[0;34m=\u001b[0m\u001b[0;36m1\u001b[0m\u001b[0;34m)\u001b[0m\u001b[0;34m\u001b[0m\u001b[0;34m\u001b[0m\u001b[0m\n\u001b[0m\u001b[1;32m      2\u001b[0m \u001b[0my_pred2\u001b[0m\u001b[0;34m\u001b[0m\u001b[0;34m\u001b[0m\u001b[0m\n",
            "\u001b[0;32m/usr/local/lib/python3.8/dist-packages/numpy/core/overrides.py\u001b[0m in \u001b[0;36margmax\u001b[0;34m(*args, **kwargs)\u001b[0m\n",
            "\u001b[0;32m/usr/local/lib/python3.8/dist-packages/numpy/core/fromnumeric.py\u001b[0m in \u001b[0;36margmax\u001b[0;34m(a, axis, out, keepdims)\u001b[0m\n\u001b[1;32m   1214\u001b[0m     \"\"\"\n\u001b[1;32m   1215\u001b[0m     \u001b[0mkwds\u001b[0m \u001b[0;34m=\u001b[0m \u001b[0;34m{\u001b[0m\u001b[0;34m'keepdims'\u001b[0m\u001b[0;34m:\u001b[0m \u001b[0mkeepdims\u001b[0m\u001b[0;34m}\u001b[0m \u001b[0;32mif\u001b[0m \u001b[0mkeepdims\u001b[0m \u001b[0;32mis\u001b[0m \u001b[0;32mnot\u001b[0m \u001b[0mnp\u001b[0m\u001b[0;34m.\u001b[0m\u001b[0m_NoValue\u001b[0m \u001b[0;32melse\u001b[0m \u001b[0;34m{\u001b[0m\u001b[0;34m}\u001b[0m\u001b[0;34m\u001b[0m\u001b[0;34m\u001b[0m\u001b[0m\n\u001b[0;32m-> 1216\u001b[0;31m     \u001b[0;32mreturn\u001b[0m \u001b[0m_wrapfunc\u001b[0m\u001b[0;34m(\u001b[0m\u001b[0ma\u001b[0m\u001b[0;34m,\u001b[0m \u001b[0;34m'argmax'\u001b[0m\u001b[0;34m,\u001b[0m \u001b[0maxis\u001b[0m\u001b[0;34m=\u001b[0m\u001b[0maxis\u001b[0m\u001b[0;34m,\u001b[0m \u001b[0mout\u001b[0m\u001b[0;34m=\u001b[0m\u001b[0mout\u001b[0m\u001b[0;34m,\u001b[0m \u001b[0;34m**\u001b[0m\u001b[0mkwds\u001b[0m\u001b[0;34m)\u001b[0m\u001b[0;34m\u001b[0m\u001b[0;34m\u001b[0m\u001b[0m\n\u001b[0m\u001b[1;32m   1217\u001b[0m \u001b[0;34m\u001b[0m\u001b[0m\n\u001b[1;32m   1218\u001b[0m \u001b[0;34m\u001b[0m\u001b[0m\n",
            "\u001b[0;32m/usr/local/lib/python3.8/dist-packages/numpy/core/fromnumeric.py\u001b[0m in \u001b[0;36m_wrapfunc\u001b[0;34m(obj, method, *args, **kwds)\u001b[0m\n\u001b[1;32m     55\u001b[0m \u001b[0;34m\u001b[0m\u001b[0m\n\u001b[1;32m     56\u001b[0m     \u001b[0;32mtry\u001b[0m\u001b[0;34m:\u001b[0m\u001b[0;34m\u001b[0m\u001b[0;34m\u001b[0m\u001b[0m\n\u001b[0;32m---> 57\u001b[0;31m         \u001b[0;32mreturn\u001b[0m \u001b[0mbound\u001b[0m\u001b[0;34m(\u001b[0m\u001b[0;34m*\u001b[0m\u001b[0margs\u001b[0m\u001b[0;34m,\u001b[0m \u001b[0;34m**\u001b[0m\u001b[0mkwds\u001b[0m\u001b[0;34m)\u001b[0m\u001b[0;34m\u001b[0m\u001b[0;34m\u001b[0m\u001b[0m\n\u001b[0m\u001b[1;32m     58\u001b[0m     \u001b[0;32mexcept\u001b[0m \u001b[0mTypeError\u001b[0m\u001b[0;34m:\u001b[0m\u001b[0;34m\u001b[0m\u001b[0;34m\u001b[0m\u001b[0m\n\u001b[1;32m     59\u001b[0m         \u001b[0;31m# A TypeError occurs if the object does have such a method in its\u001b[0m\u001b[0;34m\u001b[0m\u001b[0;34m\u001b[0m\u001b[0;34m\u001b[0m\u001b[0m\n",
            "\u001b[0;31mAxisError\u001b[0m: axis 1 is out of bounds for array of dimension 1"
          ]
        }
      ]
    },
    {
      "cell_type": "code",
      "source": [
        "from sklearn.metrics import confusion_matrix, classification_report\n",
        "\n",
        "\n",
        "cm = confusion_matrix(test_generator.labels, y_pred2)\n",
        "print(cm)\n",
        "print('classification report')\n",
        "print( classification_report(test_generator.labels, y_pred2))"
      ],
      "metadata": {
        "id": "AgppD5WNu4NO",
        "colab": {
          "base_uri": "https://localhost:8080/"
        },
        "outputId": "b6e18c01-fed4-4030-9534-c1221062f585"
      },
      "execution_count": 81,
      "outputs": [
        {
          "output_type": "stream",
          "name": "stdout",
          "text": [
            "[[362   0   3   0   2  33]\n",
            " [  1 381   8   3   3   4]\n",
            " [  5  29 339   1  19   7]\n",
            " [  0   4   4 386   1   5]\n",
            " [  0  11  18   0 364   7]\n",
            " [  8   4   4   1   2 381]]\n",
            "classification report\n",
            "              precision    recall  f1-score   support\n",
            "\n",
            "           0       0.96      0.91      0.93       400\n",
            "           1       0.89      0.95      0.92       400\n",
            "           2       0.90      0.85      0.87       400\n",
            "           3       0.99      0.96      0.98       400\n",
            "           4       0.93      0.91      0.92       400\n",
            "           5       0.87      0.95      0.91       400\n",
            "\n",
            "    accuracy                           0.92      2400\n",
            "   macro avg       0.92      0.92      0.92      2400\n",
            "weighted avg       0.92      0.92      0.92      2400\n",
            "\n"
          ]
        }
      ]
    },
    {
      "cell_type": "code",
      "source": [
        "import seaborn as sns\n",
        "f,ax = plt.subplots(figsize=(8, 8))\n",
        "sns.heatmap(cm, annot=True, linewidths=0.01,cmap=\"Oranges\",linecolor=\"gray\", fmt= '.1f',ax=ax)\n",
        "plt.xlabel(\"Predicted Label\")\n",
        "plt.ylabel(\"True Label\")\n",
        "plt.title(\"Confusion Matrix\")\n",
        "plt.show()"
      ],
      "metadata": {
        "id": "e9A1s01oiOJ9"
      },
      "execution_count": 81,
      "outputs": []
    },
    {
      "cell_type": "code",
      "source": [],
      "metadata": {
        "id": "JJdzGv07iOD4"
      },
      "execution_count": 81,
      "outputs": []
    },
    {
      "cell_type": "code",
      "source": [
        "resnet = ResNet50(input_shape=IMAGE_SIZE + [3], weights='imagenet', include_top=False)"
      ],
      "metadata": {
        "id": "VGNje19gSVYW",
        "colab": {
          "base_uri": "https://localhost:8080/"
        },
        "outputId": "ec9d7d8f-f7c8-440d-b0ba-1fe7436fce35"
      },
      "execution_count": 82,
      "outputs": [
        {
          "output_type": "stream",
          "name": "stdout",
          "text": [
            "Downloading data from https://storage.googleapis.com/tensorflow/keras-applications/resnet/resnet50_weights_tf_dim_ordering_tf_kernels_notop.h5\n",
            "94765736/94765736 [==============================] - 5s 0us/step\n"
          ]
        }
      ]
    },
    {
      "cell_type": "code",
      "source": [
        "for layer in resnet.layers:\n",
        "  layer.trainable = False"
      ],
      "metadata": {
        "id": "C3FZNvdaSVVv"
      },
      "execution_count": 83,
      "outputs": []
    },
    {
      "cell_type": "code",
      "source": [
        "x = Flatten()(resnet.output)"
      ],
      "metadata": {
        "id": "mINnzRIJSVSa"
      },
      "execution_count": 84,
      "outputs": []
    },
    {
      "cell_type": "code",
      "source": [
        "prediction = Dense(len(folders), activation='softmax')(x)"
      ],
      "metadata": {
        "id": "ahcpLbmUSVD5"
      },
      "execution_count": 85,
      "outputs": []
    },
    {
      "cell_type": "code",
      "source": [
        "resnet_model = Model(inputs=resnet.input, outputs=prediction)\n",
        "\n",
        "resnet_model.summary()"
      ],
      "metadata": {
        "id": "yWz4FgycSU_g",
        "colab": {
          "base_uri": "https://localhost:8080/"
        },
        "outputId": "8079606c-df2f-49fa-f692-a706301b7ede"
      },
      "execution_count": 86,
      "outputs": [
        {
          "output_type": "stream",
          "name": "stdout",
          "text": [
            "Model: \"model_2\"\n",
            "__________________________________________________________________________________________________\n",
            " Layer (type)                   Output Shape         Param #     Connected to                     \n",
            "==================================================================================================\n",
            " input_4 (InputLayer)           [(None, 224, 224, 3  0           []                               \n",
            "                                )]                                                                \n",
            "                                                                                                  \n",
            " conv1_pad (ZeroPadding2D)      (None, 230, 230, 3)  0           ['input_4[0][0]']                \n",
            "                                                                                                  \n",
            " conv1_conv (Conv2D)            (None, 112, 112, 64  9472        ['conv1_pad[0][0]']              \n",
            "                                )                                                                 \n",
            "                                                                                                  \n",
            " conv1_bn (BatchNormalization)  (None, 112, 112, 64  256         ['conv1_conv[0][0]']             \n",
            "                                )                                                                 \n",
            "                                                                                                  \n",
            " conv1_relu (Activation)        (None, 112, 112, 64  0           ['conv1_bn[0][0]']               \n",
            "                                )                                                                 \n",
            "                                                                                                  \n",
            " pool1_pad (ZeroPadding2D)      (None, 114, 114, 64  0           ['conv1_relu[0][0]']             \n",
            "                                )                                                                 \n",
            "                                                                                                  \n",
            " pool1_pool (MaxPooling2D)      (None, 56, 56, 64)   0           ['pool1_pad[0][0]']              \n",
            "                                                                                                  \n",
            " conv2_block1_1_conv (Conv2D)   (None, 56, 56, 64)   4160        ['pool1_pool[0][0]']             \n",
            "                                                                                                  \n",
            " conv2_block1_1_bn (BatchNormal  (None, 56, 56, 64)  256         ['conv2_block1_1_conv[0][0]']    \n",
            " ization)                                                                                         \n",
            "                                                                                                  \n",
            " conv2_block1_1_relu (Activatio  (None, 56, 56, 64)  0           ['conv2_block1_1_bn[0][0]']      \n",
            " n)                                                                                               \n",
            "                                                                                                  \n",
            " conv2_block1_2_conv (Conv2D)   (None, 56, 56, 64)   36928       ['conv2_block1_1_relu[0][0]']    \n",
            "                                                                                                  \n",
            " conv2_block1_2_bn (BatchNormal  (None, 56, 56, 64)  256         ['conv2_block1_2_conv[0][0]']    \n",
            " ization)                                                                                         \n",
            "                                                                                                  \n",
            " conv2_block1_2_relu (Activatio  (None, 56, 56, 64)  0           ['conv2_block1_2_bn[0][0]']      \n",
            " n)                                                                                               \n",
            "                                                                                                  \n",
            " conv2_block1_0_conv (Conv2D)   (None, 56, 56, 256)  16640       ['pool1_pool[0][0]']             \n",
            "                                                                                                  \n",
            " conv2_block1_3_conv (Conv2D)   (None, 56, 56, 256)  16640       ['conv2_block1_2_relu[0][0]']    \n",
            "                                                                                                  \n",
            " conv2_block1_0_bn (BatchNormal  (None, 56, 56, 256)  1024       ['conv2_block1_0_conv[0][0]']    \n",
            " ization)                                                                                         \n",
            "                                                                                                  \n",
            " conv2_block1_3_bn (BatchNormal  (None, 56, 56, 256)  1024       ['conv2_block1_3_conv[0][0]']    \n",
            " ization)                                                                                         \n",
            "                                                                                                  \n",
            " conv2_block1_add (Add)         (None, 56, 56, 256)  0           ['conv2_block1_0_bn[0][0]',      \n",
            "                                                                  'conv2_block1_3_bn[0][0]']      \n",
            "                                                                                                  \n",
            " conv2_block1_out (Activation)  (None, 56, 56, 256)  0           ['conv2_block1_add[0][0]']       \n",
            "                                                                                                  \n",
            " conv2_block2_1_conv (Conv2D)   (None, 56, 56, 64)   16448       ['conv2_block1_out[0][0]']       \n",
            "                                                                                                  \n",
            " conv2_block2_1_bn (BatchNormal  (None, 56, 56, 64)  256         ['conv2_block2_1_conv[0][0]']    \n",
            " ization)                                                                                         \n",
            "                                                                                                  \n",
            " conv2_block2_1_relu (Activatio  (None, 56, 56, 64)  0           ['conv2_block2_1_bn[0][0]']      \n",
            " n)                                                                                               \n",
            "                                                                                                  \n",
            " conv2_block2_2_conv (Conv2D)   (None, 56, 56, 64)   36928       ['conv2_block2_1_relu[0][0]']    \n",
            "                                                                                                  \n",
            " conv2_block2_2_bn (BatchNormal  (None, 56, 56, 64)  256         ['conv2_block2_2_conv[0][0]']    \n",
            " ization)                                                                                         \n",
            "                                                                                                  \n",
            " conv2_block2_2_relu (Activatio  (None, 56, 56, 64)  0           ['conv2_block2_2_bn[0][0]']      \n",
            " n)                                                                                               \n",
            "                                                                                                  \n",
            " conv2_block2_3_conv (Conv2D)   (None, 56, 56, 256)  16640       ['conv2_block2_2_relu[0][0]']    \n",
            "                                                                                                  \n",
            " conv2_block2_3_bn (BatchNormal  (None, 56, 56, 256)  1024       ['conv2_block2_3_conv[0][0]']    \n",
            " ization)                                                                                         \n",
            "                                                                                                  \n",
            " conv2_block2_add (Add)         (None, 56, 56, 256)  0           ['conv2_block1_out[0][0]',       \n",
            "                                                                  'conv2_block2_3_bn[0][0]']      \n",
            "                                                                                                  \n",
            " conv2_block2_out (Activation)  (None, 56, 56, 256)  0           ['conv2_block2_add[0][0]']       \n",
            "                                                                                                  \n",
            " conv2_block3_1_conv (Conv2D)   (None, 56, 56, 64)   16448       ['conv2_block2_out[0][0]']       \n",
            "                                                                                                  \n",
            " conv2_block3_1_bn (BatchNormal  (None, 56, 56, 64)  256         ['conv2_block3_1_conv[0][0]']    \n",
            " ization)                                                                                         \n",
            "                                                                                                  \n",
            " conv2_block3_1_relu (Activatio  (None, 56, 56, 64)  0           ['conv2_block3_1_bn[0][0]']      \n",
            " n)                                                                                               \n",
            "                                                                                                  \n",
            " conv2_block3_2_conv (Conv2D)   (None, 56, 56, 64)   36928       ['conv2_block3_1_relu[0][0]']    \n",
            "                                                                                                  \n",
            " conv2_block3_2_bn (BatchNormal  (None, 56, 56, 64)  256         ['conv2_block3_2_conv[0][0]']    \n",
            " ization)                                                                                         \n",
            "                                                                                                  \n",
            " conv2_block3_2_relu (Activatio  (None, 56, 56, 64)  0           ['conv2_block3_2_bn[0][0]']      \n",
            " n)                                                                                               \n",
            "                                                                                                  \n",
            " conv2_block3_3_conv (Conv2D)   (None, 56, 56, 256)  16640       ['conv2_block3_2_relu[0][0]']    \n",
            "                                                                                                  \n",
            " conv2_block3_3_bn (BatchNormal  (None, 56, 56, 256)  1024       ['conv2_block3_3_conv[0][0]']    \n",
            " ization)                                                                                         \n",
            "                                                                                                  \n",
            " conv2_block3_add (Add)         (None, 56, 56, 256)  0           ['conv2_block2_out[0][0]',       \n",
            "                                                                  'conv2_block3_3_bn[0][0]']      \n",
            "                                                                                                  \n",
            " conv2_block3_out (Activation)  (None, 56, 56, 256)  0           ['conv2_block3_add[0][0]']       \n",
            "                                                                                                  \n",
            " conv3_block1_1_conv (Conv2D)   (None, 28, 28, 128)  32896       ['conv2_block3_out[0][0]']       \n",
            "                                                                                                  \n",
            " conv3_block1_1_bn (BatchNormal  (None, 28, 28, 128)  512        ['conv3_block1_1_conv[0][0]']    \n",
            " ization)                                                                                         \n",
            "                                                                                                  \n",
            " conv3_block1_1_relu (Activatio  (None, 28, 28, 128)  0          ['conv3_block1_1_bn[0][0]']      \n",
            " n)                                                                                               \n",
            "                                                                                                  \n",
            " conv3_block1_2_conv (Conv2D)   (None, 28, 28, 128)  147584      ['conv3_block1_1_relu[0][0]']    \n",
            "                                                                                                  \n",
            " conv3_block1_2_bn (BatchNormal  (None, 28, 28, 128)  512        ['conv3_block1_2_conv[0][0]']    \n",
            " ization)                                                                                         \n",
            "                                                                                                  \n",
            " conv3_block1_2_relu (Activatio  (None, 28, 28, 128)  0          ['conv3_block1_2_bn[0][0]']      \n",
            " n)                                                                                               \n",
            "                                                                                                  \n",
            " conv3_block1_0_conv (Conv2D)   (None, 28, 28, 512)  131584      ['conv2_block3_out[0][0]']       \n",
            "                                                                                                  \n",
            " conv3_block1_3_conv (Conv2D)   (None, 28, 28, 512)  66048       ['conv3_block1_2_relu[0][0]']    \n",
            "                                                                                                  \n",
            " conv3_block1_0_bn (BatchNormal  (None, 28, 28, 512)  2048       ['conv3_block1_0_conv[0][0]']    \n",
            " ization)                                                                                         \n",
            "                                                                                                  \n",
            " conv3_block1_3_bn (BatchNormal  (None, 28, 28, 512)  2048       ['conv3_block1_3_conv[0][0]']    \n",
            " ization)                                                                                         \n",
            "                                                                                                  \n",
            " conv3_block1_add (Add)         (None, 28, 28, 512)  0           ['conv3_block1_0_bn[0][0]',      \n",
            "                                                                  'conv3_block1_3_bn[0][0]']      \n",
            "                                                                                                  \n",
            " conv3_block1_out (Activation)  (None, 28, 28, 512)  0           ['conv3_block1_add[0][0]']       \n",
            "                                                                                                  \n",
            " conv3_block2_1_conv (Conv2D)   (None, 28, 28, 128)  65664       ['conv3_block1_out[0][0]']       \n",
            "                                                                                                  \n",
            " conv3_block2_1_bn (BatchNormal  (None, 28, 28, 128)  512        ['conv3_block2_1_conv[0][0]']    \n",
            " ization)                                                                                         \n",
            "                                                                                                  \n",
            " conv3_block2_1_relu (Activatio  (None, 28, 28, 128)  0          ['conv3_block2_1_bn[0][0]']      \n",
            " n)                                                                                               \n",
            "                                                                                                  \n",
            " conv3_block2_2_conv (Conv2D)   (None, 28, 28, 128)  147584      ['conv3_block2_1_relu[0][0]']    \n",
            "                                                                                                  \n",
            " conv3_block2_2_bn (BatchNormal  (None, 28, 28, 128)  512        ['conv3_block2_2_conv[0][0]']    \n",
            " ization)                                                                                         \n",
            "                                                                                                  \n",
            " conv3_block2_2_relu (Activatio  (None, 28, 28, 128)  0          ['conv3_block2_2_bn[0][0]']      \n",
            " n)                                                                                               \n",
            "                                                                                                  \n",
            " conv3_block2_3_conv (Conv2D)   (None, 28, 28, 512)  66048       ['conv3_block2_2_relu[0][0]']    \n",
            "                                                                                                  \n",
            " conv3_block2_3_bn (BatchNormal  (None, 28, 28, 512)  2048       ['conv3_block2_3_conv[0][0]']    \n",
            " ization)                                                                                         \n",
            "                                                                                                  \n",
            " conv3_block2_add (Add)         (None, 28, 28, 512)  0           ['conv3_block1_out[0][0]',       \n",
            "                                                                  'conv3_block2_3_bn[0][0]']      \n",
            "                                                                                                  \n",
            " conv3_block2_out (Activation)  (None, 28, 28, 512)  0           ['conv3_block2_add[0][0]']       \n",
            "                                                                                                  \n",
            " conv3_block3_1_conv (Conv2D)   (None, 28, 28, 128)  65664       ['conv3_block2_out[0][0]']       \n",
            "                                                                                                  \n",
            " conv3_block3_1_bn (BatchNormal  (None, 28, 28, 128)  512        ['conv3_block3_1_conv[0][0]']    \n",
            " ization)                                                                                         \n",
            "                                                                                                  \n",
            " conv3_block3_1_relu (Activatio  (None, 28, 28, 128)  0          ['conv3_block3_1_bn[0][0]']      \n",
            " n)                                                                                               \n",
            "                                                                                                  \n",
            " conv3_block3_2_conv (Conv2D)   (None, 28, 28, 128)  147584      ['conv3_block3_1_relu[0][0]']    \n",
            "                                                                                                  \n",
            " conv3_block3_2_bn (BatchNormal  (None, 28, 28, 128)  512        ['conv3_block3_2_conv[0][0]']    \n",
            " ization)                                                                                         \n",
            "                                                                                                  \n",
            " conv3_block3_2_relu (Activatio  (None, 28, 28, 128)  0          ['conv3_block3_2_bn[0][0]']      \n",
            " n)                                                                                               \n",
            "                                                                                                  \n",
            " conv3_block3_3_conv (Conv2D)   (None, 28, 28, 512)  66048       ['conv3_block3_2_relu[0][0]']    \n",
            "                                                                                                  \n",
            " conv3_block3_3_bn (BatchNormal  (None, 28, 28, 512)  2048       ['conv3_block3_3_conv[0][0]']    \n",
            " ization)                                                                                         \n",
            "                                                                                                  \n",
            " conv3_block3_add (Add)         (None, 28, 28, 512)  0           ['conv3_block2_out[0][0]',       \n",
            "                                                                  'conv3_block3_3_bn[0][0]']      \n",
            "                                                                                                  \n",
            " conv3_block3_out (Activation)  (None, 28, 28, 512)  0           ['conv3_block3_add[0][0]']       \n",
            "                                                                                                  \n",
            " conv3_block4_1_conv (Conv2D)   (None, 28, 28, 128)  65664       ['conv3_block3_out[0][0]']       \n",
            "                                                                                                  \n",
            " conv3_block4_1_bn (BatchNormal  (None, 28, 28, 128)  512        ['conv3_block4_1_conv[0][0]']    \n",
            " ization)                                                                                         \n",
            "                                                                                                  \n",
            " conv3_block4_1_relu (Activatio  (None, 28, 28, 128)  0          ['conv3_block4_1_bn[0][0]']      \n",
            " n)                                                                                               \n",
            "                                                                                                  \n",
            " conv3_block4_2_conv (Conv2D)   (None, 28, 28, 128)  147584      ['conv3_block4_1_relu[0][0]']    \n",
            "                                                                                                  \n",
            " conv3_block4_2_bn (BatchNormal  (None, 28, 28, 128)  512        ['conv3_block4_2_conv[0][0]']    \n",
            " ization)                                                                                         \n",
            "                                                                                                  \n",
            " conv3_block4_2_relu (Activatio  (None, 28, 28, 128)  0          ['conv3_block4_2_bn[0][0]']      \n",
            " n)                                                                                               \n",
            "                                                                                                  \n",
            " conv3_block4_3_conv (Conv2D)   (None, 28, 28, 512)  66048       ['conv3_block4_2_relu[0][0]']    \n",
            "                                                                                                  \n",
            " conv3_block4_3_bn (BatchNormal  (None, 28, 28, 512)  2048       ['conv3_block4_3_conv[0][0]']    \n",
            " ization)                                                                                         \n",
            "                                                                                                  \n",
            " conv3_block4_add (Add)         (None, 28, 28, 512)  0           ['conv3_block3_out[0][0]',       \n",
            "                                                                  'conv3_block4_3_bn[0][0]']      \n",
            "                                                                                                  \n",
            " conv3_block4_out (Activation)  (None, 28, 28, 512)  0           ['conv3_block4_add[0][0]']       \n",
            "                                                                                                  \n",
            " conv4_block1_1_conv (Conv2D)   (None, 14, 14, 256)  131328      ['conv3_block4_out[0][0]']       \n",
            "                                                                                                  \n",
            " conv4_block1_1_bn (BatchNormal  (None, 14, 14, 256)  1024       ['conv4_block1_1_conv[0][0]']    \n",
            " ization)                                                                                         \n",
            "                                                                                                  \n",
            " conv4_block1_1_relu (Activatio  (None, 14, 14, 256)  0          ['conv4_block1_1_bn[0][0]']      \n",
            " n)                                                                                               \n",
            "                                                                                                  \n",
            " conv4_block1_2_conv (Conv2D)   (None, 14, 14, 256)  590080      ['conv4_block1_1_relu[0][0]']    \n",
            "                                                                                                  \n",
            " conv4_block1_2_bn (BatchNormal  (None, 14, 14, 256)  1024       ['conv4_block1_2_conv[0][0]']    \n",
            " ization)                                                                                         \n",
            "                                                                                                  \n",
            " conv4_block1_2_relu (Activatio  (None, 14, 14, 256)  0          ['conv4_block1_2_bn[0][0]']      \n",
            " n)                                                                                               \n",
            "                                                                                                  \n",
            " conv4_block1_0_conv (Conv2D)   (None, 14, 14, 1024  525312      ['conv3_block4_out[0][0]']       \n",
            "                                )                                                                 \n",
            "                                                                                                  \n",
            " conv4_block1_3_conv (Conv2D)   (None, 14, 14, 1024  263168      ['conv4_block1_2_relu[0][0]']    \n",
            "                                )                                                                 \n",
            "                                                                                                  \n",
            " conv4_block1_0_bn (BatchNormal  (None, 14, 14, 1024  4096       ['conv4_block1_0_conv[0][0]']    \n",
            " ization)                       )                                                                 \n",
            "                                                                                                  \n",
            " conv4_block1_3_bn (BatchNormal  (None, 14, 14, 1024  4096       ['conv4_block1_3_conv[0][0]']    \n",
            " ization)                       )                                                                 \n",
            "                                                                                                  \n",
            " conv4_block1_add (Add)         (None, 14, 14, 1024  0           ['conv4_block1_0_bn[0][0]',      \n",
            "                                )                                 'conv4_block1_3_bn[0][0]']      \n",
            "                                                                                                  \n",
            " conv4_block1_out (Activation)  (None, 14, 14, 1024  0           ['conv4_block1_add[0][0]']       \n",
            "                                )                                                                 \n",
            "                                                                                                  \n",
            " conv4_block2_1_conv (Conv2D)   (None, 14, 14, 256)  262400      ['conv4_block1_out[0][0]']       \n",
            "                                                                                                  \n",
            " conv4_block2_1_bn (BatchNormal  (None, 14, 14, 256)  1024       ['conv4_block2_1_conv[0][0]']    \n",
            " ization)                                                                                         \n",
            "                                                                                                  \n",
            " conv4_block2_1_relu (Activatio  (None, 14, 14, 256)  0          ['conv4_block2_1_bn[0][0]']      \n",
            " n)                                                                                               \n",
            "                                                                                                  \n",
            " conv4_block2_2_conv (Conv2D)   (None, 14, 14, 256)  590080      ['conv4_block2_1_relu[0][0]']    \n",
            "                                                                                                  \n",
            " conv4_block2_2_bn (BatchNormal  (None, 14, 14, 256)  1024       ['conv4_block2_2_conv[0][0]']    \n",
            " ization)                                                                                         \n",
            "                                                                                                  \n",
            " conv4_block2_2_relu (Activatio  (None, 14, 14, 256)  0          ['conv4_block2_2_bn[0][0]']      \n",
            " n)                                                                                               \n",
            "                                                                                                  \n",
            " conv4_block2_3_conv (Conv2D)   (None, 14, 14, 1024  263168      ['conv4_block2_2_relu[0][0]']    \n",
            "                                )                                                                 \n",
            "                                                                                                  \n",
            " conv4_block2_3_bn (BatchNormal  (None, 14, 14, 1024  4096       ['conv4_block2_3_conv[0][0]']    \n",
            " ization)                       )                                                                 \n",
            "                                                                                                  \n",
            " conv4_block2_add (Add)         (None, 14, 14, 1024  0           ['conv4_block1_out[0][0]',       \n",
            "                                )                                 'conv4_block2_3_bn[0][0]']      \n",
            "                                                                                                  \n",
            " conv4_block2_out (Activation)  (None, 14, 14, 1024  0           ['conv4_block2_add[0][0]']       \n",
            "                                )                                                                 \n",
            "                                                                                                  \n",
            " conv4_block3_1_conv (Conv2D)   (None, 14, 14, 256)  262400      ['conv4_block2_out[0][0]']       \n",
            "                                                                                                  \n",
            " conv4_block3_1_bn (BatchNormal  (None, 14, 14, 256)  1024       ['conv4_block3_1_conv[0][0]']    \n",
            " ization)                                                                                         \n",
            "                                                                                                  \n",
            " conv4_block3_1_relu (Activatio  (None, 14, 14, 256)  0          ['conv4_block3_1_bn[0][0]']      \n",
            " n)                                                                                               \n",
            "                                                                                                  \n",
            " conv4_block3_2_conv (Conv2D)   (None, 14, 14, 256)  590080      ['conv4_block3_1_relu[0][0]']    \n",
            "                                                                                                  \n",
            " conv4_block3_2_bn (BatchNormal  (None, 14, 14, 256)  1024       ['conv4_block3_2_conv[0][0]']    \n",
            " ization)                                                                                         \n",
            "                                                                                                  \n",
            " conv4_block3_2_relu (Activatio  (None, 14, 14, 256)  0          ['conv4_block3_2_bn[0][0]']      \n",
            " n)                                                                                               \n",
            "                                                                                                  \n",
            " conv4_block3_3_conv (Conv2D)   (None, 14, 14, 1024  263168      ['conv4_block3_2_relu[0][0]']    \n",
            "                                )                                                                 \n",
            "                                                                                                  \n",
            " conv4_block3_3_bn (BatchNormal  (None, 14, 14, 1024  4096       ['conv4_block3_3_conv[0][0]']    \n",
            " ization)                       )                                                                 \n",
            "                                                                                                  \n",
            " conv4_block3_add (Add)         (None, 14, 14, 1024  0           ['conv4_block2_out[0][0]',       \n",
            "                                )                                 'conv4_block3_3_bn[0][0]']      \n",
            "                                                                                                  \n",
            " conv4_block3_out (Activation)  (None, 14, 14, 1024  0           ['conv4_block3_add[0][0]']       \n",
            "                                )                                                                 \n",
            "                                                                                                  \n",
            " conv4_block4_1_conv (Conv2D)   (None, 14, 14, 256)  262400      ['conv4_block3_out[0][0]']       \n",
            "                                                                                                  \n",
            " conv4_block4_1_bn (BatchNormal  (None, 14, 14, 256)  1024       ['conv4_block4_1_conv[0][0]']    \n",
            " ization)                                                                                         \n",
            "                                                                                                  \n",
            " conv4_block4_1_relu (Activatio  (None, 14, 14, 256)  0          ['conv4_block4_1_bn[0][0]']      \n",
            " n)                                                                                               \n",
            "                                                                                                  \n",
            " conv4_block4_2_conv (Conv2D)   (None, 14, 14, 256)  590080      ['conv4_block4_1_relu[0][0]']    \n",
            "                                                                                                  \n",
            " conv4_block4_2_bn (BatchNormal  (None, 14, 14, 256)  1024       ['conv4_block4_2_conv[0][0]']    \n",
            " ization)                                                                                         \n",
            "                                                                                                  \n",
            " conv4_block4_2_relu (Activatio  (None, 14, 14, 256)  0          ['conv4_block4_2_bn[0][0]']      \n",
            " n)                                                                                               \n",
            "                                                                                                  \n",
            " conv4_block4_3_conv (Conv2D)   (None, 14, 14, 1024  263168      ['conv4_block4_2_relu[0][0]']    \n",
            "                                )                                                                 \n",
            "                                                                                                  \n",
            " conv4_block4_3_bn (BatchNormal  (None, 14, 14, 1024  4096       ['conv4_block4_3_conv[0][0]']    \n",
            " ization)                       )                                                                 \n",
            "                                                                                                  \n",
            " conv4_block4_add (Add)         (None, 14, 14, 1024  0           ['conv4_block3_out[0][0]',       \n",
            "                                )                                 'conv4_block4_3_bn[0][0]']      \n",
            "                                                                                                  \n",
            " conv4_block4_out (Activation)  (None, 14, 14, 1024  0           ['conv4_block4_add[0][0]']       \n",
            "                                )                                                                 \n",
            "                                                                                                  \n",
            " conv4_block5_1_conv (Conv2D)   (None, 14, 14, 256)  262400      ['conv4_block4_out[0][0]']       \n",
            "                                                                                                  \n",
            " conv4_block5_1_bn (BatchNormal  (None, 14, 14, 256)  1024       ['conv4_block5_1_conv[0][0]']    \n",
            " ization)                                                                                         \n",
            "                                                                                                  \n",
            " conv4_block5_1_relu (Activatio  (None, 14, 14, 256)  0          ['conv4_block5_1_bn[0][0]']      \n",
            " n)                                                                                               \n",
            "                                                                                                  \n",
            " conv4_block5_2_conv (Conv2D)   (None, 14, 14, 256)  590080      ['conv4_block5_1_relu[0][0]']    \n",
            "                                                                                                  \n",
            " conv4_block5_2_bn (BatchNormal  (None, 14, 14, 256)  1024       ['conv4_block5_2_conv[0][0]']    \n",
            " ization)                                                                                         \n",
            "                                                                                                  \n",
            " conv4_block5_2_relu (Activatio  (None, 14, 14, 256)  0          ['conv4_block5_2_bn[0][0]']      \n",
            " n)                                                                                               \n",
            "                                                                                                  \n",
            " conv4_block5_3_conv (Conv2D)   (None, 14, 14, 1024  263168      ['conv4_block5_2_relu[0][0]']    \n",
            "                                )                                                                 \n",
            "                                                                                                  \n",
            " conv4_block5_3_bn (BatchNormal  (None, 14, 14, 1024  4096       ['conv4_block5_3_conv[0][0]']    \n",
            " ization)                       )                                                                 \n",
            "                                                                                                  \n",
            " conv4_block5_add (Add)         (None, 14, 14, 1024  0           ['conv4_block4_out[0][0]',       \n",
            "                                )                                 'conv4_block5_3_bn[0][0]']      \n",
            "                                                                                                  \n",
            " conv4_block5_out (Activation)  (None, 14, 14, 1024  0           ['conv4_block5_add[0][0]']       \n",
            "                                )                                                                 \n",
            "                                                                                                  \n",
            " conv4_block6_1_conv (Conv2D)   (None, 14, 14, 256)  262400      ['conv4_block5_out[0][0]']       \n",
            "                                                                                                  \n",
            " conv4_block6_1_bn (BatchNormal  (None, 14, 14, 256)  1024       ['conv4_block6_1_conv[0][0]']    \n",
            " ization)                                                                                         \n",
            "                                                                                                  \n",
            " conv4_block6_1_relu (Activatio  (None, 14, 14, 256)  0          ['conv4_block6_1_bn[0][0]']      \n",
            " n)                                                                                               \n",
            "                                                                                                  \n",
            " conv4_block6_2_conv (Conv2D)   (None, 14, 14, 256)  590080      ['conv4_block6_1_relu[0][0]']    \n",
            "                                                                                                  \n",
            " conv4_block6_2_bn (BatchNormal  (None, 14, 14, 256)  1024       ['conv4_block6_2_conv[0][0]']    \n",
            " ization)                                                                                         \n",
            "                                                                                                  \n",
            " conv4_block6_2_relu (Activatio  (None, 14, 14, 256)  0          ['conv4_block6_2_bn[0][0]']      \n",
            " n)                                                                                               \n",
            "                                                                                                  \n",
            " conv4_block6_3_conv (Conv2D)   (None, 14, 14, 1024  263168      ['conv4_block6_2_relu[0][0]']    \n",
            "                                )                                                                 \n",
            "                                                                                                  \n",
            " conv4_block6_3_bn (BatchNormal  (None, 14, 14, 1024  4096       ['conv4_block6_3_conv[0][0]']    \n",
            " ization)                       )                                                                 \n",
            "                                                                                                  \n",
            " conv4_block6_add (Add)         (None, 14, 14, 1024  0           ['conv4_block5_out[0][0]',       \n",
            "                                )                                 'conv4_block6_3_bn[0][0]']      \n",
            "                                                                                                  \n",
            " conv4_block6_out (Activation)  (None, 14, 14, 1024  0           ['conv4_block6_add[0][0]']       \n",
            "                                )                                                                 \n",
            "                                                                                                  \n",
            " conv5_block1_1_conv (Conv2D)   (None, 7, 7, 512)    524800      ['conv4_block6_out[0][0]']       \n",
            "                                                                                                  \n",
            " conv5_block1_1_bn (BatchNormal  (None, 7, 7, 512)   2048        ['conv5_block1_1_conv[0][0]']    \n",
            " ization)                                                                                         \n",
            "                                                                                                  \n",
            " conv5_block1_1_relu (Activatio  (None, 7, 7, 512)   0           ['conv5_block1_1_bn[0][0]']      \n",
            " n)                                                                                               \n",
            "                                                                                                  \n",
            " conv5_block1_2_conv (Conv2D)   (None, 7, 7, 512)    2359808     ['conv5_block1_1_relu[0][0]']    \n",
            "                                                                                                  \n",
            " conv5_block1_2_bn (BatchNormal  (None, 7, 7, 512)   2048        ['conv5_block1_2_conv[0][0]']    \n",
            " ization)                                                                                         \n",
            "                                                                                                  \n",
            " conv5_block1_2_relu (Activatio  (None, 7, 7, 512)   0           ['conv5_block1_2_bn[0][0]']      \n",
            " n)                                                                                               \n",
            "                                                                                                  \n",
            " conv5_block1_0_conv (Conv2D)   (None, 7, 7, 2048)   2099200     ['conv4_block6_out[0][0]']       \n",
            "                                                                                                  \n",
            " conv5_block1_3_conv (Conv2D)   (None, 7, 7, 2048)   1050624     ['conv5_block1_2_relu[0][0]']    \n",
            "                                                                                                  \n",
            " conv5_block1_0_bn (BatchNormal  (None, 7, 7, 2048)  8192        ['conv5_block1_0_conv[0][0]']    \n",
            " ization)                                                                                         \n",
            "                                                                                                  \n",
            " conv5_block1_3_bn (BatchNormal  (None, 7, 7, 2048)  8192        ['conv5_block1_3_conv[0][0]']    \n",
            " ization)                                                                                         \n",
            "                                                                                                  \n",
            " conv5_block1_add (Add)         (None, 7, 7, 2048)   0           ['conv5_block1_0_bn[0][0]',      \n",
            "                                                                  'conv5_block1_3_bn[0][0]']      \n",
            "                                                                                                  \n",
            " conv5_block1_out (Activation)  (None, 7, 7, 2048)   0           ['conv5_block1_add[0][0]']       \n",
            "                                                                                                  \n",
            " conv5_block2_1_conv (Conv2D)   (None, 7, 7, 512)    1049088     ['conv5_block1_out[0][0]']       \n",
            "                                                                                                  \n",
            " conv5_block2_1_bn (BatchNormal  (None, 7, 7, 512)   2048        ['conv5_block2_1_conv[0][0]']    \n",
            " ization)                                                                                         \n",
            "                                                                                                  \n",
            " conv5_block2_1_relu (Activatio  (None, 7, 7, 512)   0           ['conv5_block2_1_bn[0][0]']      \n",
            " n)                                                                                               \n",
            "                                                                                                  \n",
            " conv5_block2_2_conv (Conv2D)   (None, 7, 7, 512)    2359808     ['conv5_block2_1_relu[0][0]']    \n",
            "                                                                                                  \n",
            " conv5_block2_2_bn (BatchNormal  (None, 7, 7, 512)   2048        ['conv5_block2_2_conv[0][0]']    \n",
            " ization)                                                                                         \n",
            "                                                                                                  \n",
            " conv5_block2_2_relu (Activatio  (None, 7, 7, 512)   0           ['conv5_block2_2_bn[0][0]']      \n",
            " n)                                                                                               \n",
            "                                                                                                  \n",
            " conv5_block2_3_conv (Conv2D)   (None, 7, 7, 2048)   1050624     ['conv5_block2_2_relu[0][0]']    \n",
            "                                                                                                  \n",
            " conv5_block2_3_bn (BatchNormal  (None, 7, 7, 2048)  8192        ['conv5_block2_3_conv[0][0]']    \n",
            " ization)                                                                                         \n",
            "                                                                                                  \n",
            " conv5_block2_add (Add)         (None, 7, 7, 2048)   0           ['conv5_block1_out[0][0]',       \n",
            "                                                                  'conv5_block2_3_bn[0][0]']      \n",
            "                                                                                                  \n",
            " conv5_block2_out (Activation)  (None, 7, 7, 2048)   0           ['conv5_block2_add[0][0]']       \n",
            "                                                                                                  \n",
            " conv5_block3_1_conv (Conv2D)   (None, 7, 7, 512)    1049088     ['conv5_block2_out[0][0]']       \n",
            "                                                                                                  \n",
            " conv5_block3_1_bn (BatchNormal  (None, 7, 7, 512)   2048        ['conv5_block3_1_conv[0][0]']    \n",
            " ization)                                                                                         \n",
            "                                                                                                  \n",
            " conv5_block3_1_relu (Activatio  (None, 7, 7, 512)   0           ['conv5_block3_1_bn[0][0]']      \n",
            " n)                                                                                               \n",
            "                                                                                                  \n",
            " conv5_block3_2_conv (Conv2D)   (None, 7, 7, 512)    2359808     ['conv5_block3_1_relu[0][0]']    \n",
            "                                                                                                  \n",
            " conv5_block3_2_bn (BatchNormal  (None, 7, 7, 512)   2048        ['conv5_block3_2_conv[0][0]']    \n",
            " ization)                                                                                         \n",
            "                                                                                                  \n",
            " conv5_block3_2_relu (Activatio  (None, 7, 7, 512)   0           ['conv5_block3_2_bn[0][0]']      \n",
            " n)                                                                                               \n",
            "                                                                                                  \n",
            " conv5_block3_3_conv (Conv2D)   (None, 7, 7, 2048)   1050624     ['conv5_block3_2_relu[0][0]']    \n",
            "                                                                                                  \n",
            " conv5_block3_3_bn (BatchNormal  (None, 7, 7, 2048)  8192        ['conv5_block3_3_conv[0][0]']    \n",
            " ization)                                                                                         \n",
            "                                                                                                  \n",
            " conv5_block3_add (Add)         (None, 7, 7, 2048)   0           ['conv5_block2_out[0][0]',       \n",
            "                                                                  'conv5_block3_3_bn[0][0]']      \n",
            "                                                                                                  \n",
            " conv5_block3_out (Activation)  (None, 7, 7, 2048)   0           ['conv5_block3_add[0][0]']       \n",
            "                                                                                                  \n",
            " flatten_2 (Flatten)            (None, 100352)       0           ['conv5_block3_out[0][0]']       \n",
            "                                                                                                  \n",
            " dense_2 (Dense)                (None, 6)            602118      ['flatten_2[0][0]']              \n",
            "                                                                                                  \n",
            "==================================================================================================\n",
            "Total params: 24,189,830\n",
            "Trainable params: 602,118\n",
            "Non-trainable params: 23,587,712\n",
            "__________________________________________________________________________________________________\n"
          ]
        }
      ]
    },
    {
      "cell_type": "code",
      "source": [
        "import keras\n",
        "checkpoint = keras.callbacks.ModelCheckpoint(\n",
        "    filepath='best_model4.h5',\n",
        "    save_weights_only=False,\n",
        "    monitor='val_accuracy',\n",
        "    mode='max',\n",
        "    save_best_only=True,\n",
        "    verbose=1)"
      ],
      "metadata": {
        "id": "TSjWPfqcSU62"
      },
      "execution_count": 87,
      "outputs": []
    },
    {
      "cell_type": "code",
      "source": [
        "resnet_model.compile(\n",
        "    optimizer='adam',\n",
        "    loss='categorical_crossentropy',\n",
        "    metrics=['accuracy']\n",
        ")"
      ],
      "metadata": {
        "id": "ejY6vFv3SUz7"
      },
      "execution_count": 88,
      "outputs": []
    },
    {
      "cell_type": "code",
      "source": [
        "result=resnet_model.fit(\n",
        "    train_generator,\n",
        "    validation_data=val_generator,\n",
        "    epochs=25,\n",
        "    callbacks=[checkpoint]\n",
        ")"
      ],
      "metadata": {
        "id": "RE-2WEyLSUti",
        "colab": {
          "base_uri": "https://localhost:8080/"
        },
        "outputId": "3cac5b86-06e0-4692-b98a-1b1f190d329d"
      },
      "execution_count": 89,
      "outputs": [
        {
          "output_type": "stream",
          "name": "stdout",
          "text": [
            "Epoch 1/25\n",
            "225/225 [==============================] - ETA: 0s - loss: 1.4140 - accuracy: 0.6253\n",
            "Epoch 1: val_accuracy improved from -inf to 0.75000, saving model to best_model4.h5\n",
            "225/225 [==============================] - 43s 168ms/step - loss: 1.4140 - accuracy: 0.6253 - val_loss: 0.6888 - val_accuracy: 0.7500\n",
            "Epoch 2/25\n",
            "225/225 [==============================] - ETA: 0s - loss: 0.6246 - accuracy: 0.7811\n",
            "Epoch 2: val_accuracy improved from 0.75000 to 0.77667, saving model to best_model4.h5\n",
            "225/225 [==============================] - 35s 156ms/step - loss: 0.6246 - accuracy: 0.7811 - val_loss: 0.6333 - val_accuracy: 0.7767\n",
            "Epoch 3/25\n",
            "225/225 [==============================] - ETA: 0s - loss: 0.6658 - accuracy: 0.7887\n",
            "Epoch 3: val_accuracy improved from 0.77667 to 0.77833, saving model to best_model4.h5\n",
            "225/225 [==============================] - 35s 156ms/step - loss: 0.6658 - accuracy: 0.7887 - val_loss: 0.6645 - val_accuracy: 0.7783\n",
            "Epoch 4/25\n",
            "225/225 [==============================] - ETA: 0s - loss: 0.6168 - accuracy: 0.8071\n",
            "Epoch 4: val_accuracy improved from 0.77833 to 0.82042, saving model to best_model4.h5\n",
            "225/225 [==============================] - 37s 163ms/step - loss: 0.6168 - accuracy: 0.8071 - val_loss: 0.5414 - val_accuracy: 0.8204\n",
            "Epoch 5/25\n",
            "225/225 [==============================] - ETA: 0s - loss: 0.6165 - accuracy: 0.8208\n",
            "Epoch 5: val_accuracy improved from 0.82042 to 0.82917, saving model to best_model4.h5\n",
            "225/225 [==============================] - 34s 152ms/step - loss: 0.6165 - accuracy: 0.8208 - val_loss: 0.5031 - val_accuracy: 0.8292\n",
            "Epoch 6/25\n",
            "225/225 [==============================] - ETA: 0s - loss: 0.5428 - accuracy: 0.8333\n",
            "Epoch 6: val_accuracy improved from 0.82917 to 0.83792, saving model to best_model4.h5\n",
            "225/225 [==============================] - 36s 158ms/step - loss: 0.5428 - accuracy: 0.8333 - val_loss: 0.4923 - val_accuracy: 0.8379\n",
            "Epoch 7/25\n",
            "225/225 [==============================] - ETA: 0s - loss: 0.5161 - accuracy: 0.8426\n",
            "Epoch 7: val_accuracy improved from 0.83792 to 0.84417, saving model to best_model4.h5\n",
            "225/225 [==============================] - 34s 152ms/step - loss: 0.5161 - accuracy: 0.8426 - val_loss: 0.5346 - val_accuracy: 0.8442\n",
            "Epoch 8/25\n",
            "225/225 [==============================] - ETA: 0s - loss: 0.4234 - accuracy: 0.8636\n",
            "Epoch 8: val_accuracy did not improve from 0.84417\n",
            "225/225 [==============================] - 34s 152ms/step - loss: 0.4234 - accuracy: 0.8636 - val_loss: 0.7285 - val_accuracy: 0.7987\n",
            "Epoch 9/25\n",
            "225/225 [==============================] - ETA: 0s - loss: 0.5003 - accuracy: 0.8494\n",
            "Epoch 9: val_accuracy improved from 0.84417 to 0.87792, saving model to best_model4.h5\n",
            "225/225 [==============================] - 35s 154ms/step - loss: 0.5003 - accuracy: 0.8494 - val_loss: 0.4177 - val_accuracy: 0.8779\n",
            "Epoch 10/25\n",
            "225/225 [==============================] - ETA: 0s - loss: 0.4084 - accuracy: 0.8746\n",
            "Epoch 10: val_accuracy did not improve from 0.87792\n",
            "225/225 [==============================] - 35s 153ms/step - loss: 0.4084 - accuracy: 0.8746 - val_loss: 0.5004 - val_accuracy: 0.8583\n",
            "Epoch 11/25\n",
            "225/225 [==============================] - ETA: 0s - loss: 0.3224 - accuracy: 0.8947\n",
            "Epoch 11: val_accuracy did not improve from 0.87792\n",
            "225/225 [==============================] - 34s 150ms/step - loss: 0.3224 - accuracy: 0.8947 - val_loss: 0.4147 - val_accuracy: 0.8729\n",
            "Epoch 12/25\n",
            "225/225 [==============================] - ETA: 0s - loss: 0.3457 - accuracy: 0.8942\n",
            "Epoch 12: val_accuracy improved from 0.87792 to 0.88000, saving model to best_model4.h5\n",
            "225/225 [==============================] - 35s 154ms/step - loss: 0.3457 - accuracy: 0.8942 - val_loss: 0.3842 - val_accuracy: 0.8800\n",
            "Epoch 13/25\n",
            "225/225 [==============================] - ETA: 0s - loss: 0.3798 - accuracy: 0.8851\n",
            "Epoch 13: val_accuracy did not improve from 0.88000\n",
            "225/225 [==============================] - 34s 149ms/step - loss: 0.3798 - accuracy: 0.8851 - val_loss: 0.6359 - val_accuracy: 0.8396\n",
            "Epoch 14/25\n",
            "225/225 [==============================] - ETA: 0s - loss: 0.4117 - accuracy: 0.8807\n",
            "Epoch 14: val_accuracy improved from 0.88000 to 0.90042, saving model to best_model4.h5\n",
            "225/225 [==============================] - 35s 154ms/step - loss: 0.4117 - accuracy: 0.8807 - val_loss: 0.3443 - val_accuracy: 0.9004\n",
            "Epoch 15/25\n",
            "225/225 [==============================] - ETA: 0s - loss: 0.2962 - accuracy: 0.9050\n",
            "Epoch 15: val_accuracy did not improve from 0.90042\n",
            "225/225 [==============================] - 35s 154ms/step - loss: 0.2962 - accuracy: 0.9050 - val_loss: 0.5608 - val_accuracy: 0.8462\n",
            "Epoch 16/25\n",
            "225/225 [==============================] - ETA: 0s - loss: 0.3399 - accuracy: 0.8963\n",
            "Epoch 16: val_accuracy did not improve from 0.90042\n",
            "225/225 [==============================] - 35s 153ms/step - loss: 0.3399 - accuracy: 0.8963 - val_loss: 0.4265 - val_accuracy: 0.8879\n",
            "Epoch 17/25\n",
            "225/225 [==============================] - ETA: 0s - loss: 0.3040 - accuracy: 0.9057\n",
            "Epoch 17: val_accuracy did not improve from 0.90042\n",
            "225/225 [==============================] - 34s 150ms/step - loss: 0.3040 - accuracy: 0.9057 - val_loss: 1.3758 - val_accuracy: 0.7454\n",
            "Epoch 18/25\n",
            "225/225 [==============================] - ETA: 0s - loss: 0.5429 - accuracy: 0.8719\n",
            "Epoch 18: val_accuracy did not improve from 0.90042\n",
            "225/225 [==============================] - 34s 152ms/step - loss: 0.5429 - accuracy: 0.8719 - val_loss: 0.5740 - val_accuracy: 0.8571\n",
            "Epoch 19/25\n",
            "225/225 [==============================] - ETA: 0s - loss: 0.3087 - accuracy: 0.9067\n",
            "Epoch 19: val_accuracy did not improve from 0.90042\n",
            "225/225 [==============================] - 34s 152ms/step - loss: 0.3087 - accuracy: 0.9067 - val_loss: 0.5580 - val_accuracy: 0.8604\n",
            "Epoch 20/25\n",
            "225/225 [==============================] - ETA: 0s - loss: 0.3317 - accuracy: 0.9043\n",
            "Epoch 20: val_accuracy did not improve from 0.90042\n",
            "225/225 [==============================] - 34s 151ms/step - loss: 0.3317 - accuracy: 0.9043 - val_loss: 0.8158 - val_accuracy: 0.8037\n",
            "Epoch 21/25\n",
            "225/225 [==============================] - ETA: 0s - loss: 0.2731 - accuracy: 0.9192\n",
            "Epoch 21: val_accuracy improved from 0.90042 to 0.90125, saving model to best_model4.h5\n",
            "225/225 [==============================] - 36s 162ms/step - loss: 0.2731 - accuracy: 0.9192 - val_loss: 0.3363 - val_accuracy: 0.9013\n",
            "Epoch 22/25\n",
            "225/225 [==============================] - ETA: 0s - loss: 0.2800 - accuracy: 0.9168\n",
            "Epoch 22: val_accuracy did not improve from 0.90125\n",
            "225/225 [==============================] - 34s 149ms/step - loss: 0.2800 - accuracy: 0.9168 - val_loss: 0.5165 - val_accuracy: 0.8692\n",
            "Epoch 23/25\n",
            "225/225 [==============================] - ETA: 0s - loss: 0.2689 - accuracy: 0.9176\n",
            "Epoch 23: val_accuracy did not improve from 0.90125\n",
            "225/225 [==============================] - 34s 152ms/step - loss: 0.2689 - accuracy: 0.9176 - val_loss: 0.7830 - val_accuracy: 0.8288\n",
            "Epoch 24/25\n",
            "225/225 [==============================] - ETA: 0s - loss: 0.3122 - accuracy: 0.9142\n",
            "Epoch 24: val_accuracy did not improve from 0.90125\n",
            "225/225 [==============================] - 36s 162ms/step - loss: 0.3122 - accuracy: 0.9142 - val_loss: 0.7610 - val_accuracy: 0.8433\n",
            "Epoch 25/25\n",
            "225/225 [==============================] - ETA: 0s - loss: 0.2736 - accuracy: 0.9215\n",
            "Epoch 25: val_accuracy improved from 0.90125 to 0.91708, saving model to best_model4.h5\n",
            "225/225 [==============================] - 34s 152ms/step - loss: 0.2736 - accuracy: 0.9215 - val_loss: 0.3467 - val_accuracy: 0.9171\n"
          ]
        }
      ]
    },
    {
      "cell_type": "code",
      "source": [
        "resnet_model.save('best2.h5')"
      ],
      "metadata": {
        "id": "rP7UlQGySUqK"
      },
      "execution_count": 90,
      "outputs": []
    },
    {
      "cell_type": "code",
      "source": [
        "from keras.models import load_model\n",
        "best_model5=load_model('/content/best_model4.h5')\n",
        "results5 = best_model5.evaluate(test_generator, verbose=0)\n",
        "\n",
        "print(\"    Test Loss: {:.5f}\".format(results5[0]))\n",
        "print(\"Test Accuracy: {:.2f}%\".format(results5[1] * 100))"
      ],
      "metadata": {
        "id": "lXlV5bNbSUm0",
        "colab": {
          "base_uri": "https://localhost:8080/"
        },
        "outputId": "08061f81-2549-4176-ac87-4c5735c9109d"
      },
      "execution_count": 91,
      "outputs": [
        {
          "output_type": "stream",
          "name": "stdout",
          "text": [
            "    Test Loss: 0.52688\n",
            "Test Accuracy: 88.79%\n"
          ]
        }
      ]
    },
    {
      "cell_type": "code",
      "source": [
        "from keras.models import load_model\n",
        "best_model6=load_model('/content/best2.h5')\n",
        "results6 = best_model4.evaluate(test_generator, verbose=0)\n",
        "\n",
        "print(\"    Test Loss: {:.5f}\".format(results6[0]))\n",
        "print(\"Test Accuracy: {:.2f}%\".format(results6[1] * 100))"
      ],
      "metadata": {
        "id": "3iwnZnUxSUc0",
        "colab": {
          "base_uri": "https://localhost:8080/"
        },
        "outputId": "a6c594f3-1293-4e8b-aebe-bbe99c23c08f"
      },
      "execution_count": 92,
      "outputs": [
        {
          "output_type": "stream",
          "name": "stdout",
          "text": [
            "    Test Loss: 0.35953\n",
            "Test Accuracy: 92.21%\n"
          ]
        }
      ]
    },
    {
      "cell_type": "code",
      "source": [
        "import matplotlib.pyplot as plt\n",
        "\n",
        "plt.plot(result.history['loss'])\n",
        "plt.plot(result.history['val_loss'])\n",
        "plt.legend(['Training', 'Validation'])\n",
        "plt.title('Training and Validation losses')\n",
        "plt.xlabel('epoch')\n",
        "plt.ylabel('loss')"
      ],
      "metadata": {
        "id": "80-DBUt6SUXD",
        "colab": {
          "base_uri": "https://localhost:8080/",
          "height": 313
        },
        "outputId": "fd382fcb-8b34-4026-bc26-0dc5c6982f46"
      },
      "execution_count": 93,
      "outputs": [
        {
          "output_type": "execute_result",
          "data": {
            "text/plain": [
              "Text(0, 0.5, 'loss')"
            ]
          },
          "metadata": {},
          "execution_count": 93
        },
        {
          "output_type": "display_data",
          "data": {
            "text/plain": [
              "<Figure size 432x288 with 1 Axes>"
            ],
            "image/png": "[encoded data removed]"
          },
          "metadata": {
            "needs_background": "light"
          }
        }
      ]
    },
    {
      "cell_type": "code",
      "source": [
        "\n",
        "\n",
        "plt.plot(result.history['accuracy'])\n",
        "plt.plot(result.history['val_accuracy'])\n",
        "plt.legend(['Training', 'Validation'])\n",
        "plt.title('Training and Validation accuracy')\n",
        "plt.xlabel('epoch')\n",
        "plt.ylabel('accuracy')\n",
        "     \n"
      ],
      "metadata": {
        "id": "wYETPs7YSVk9",
        "colab": {
          "base_uri": "https://localhost:8080/",
          "height": 313
        },
        "outputId": "34e2c58f-256a-443a-f104-8096b8bbf313"
      },
      "execution_count": 94,
      "outputs": [
        {
          "output_type": "execute_result",
          "data": {
            "text/plain": [
              "Text(0, 0.5, 'accuracy')"
            ]
          },
          "metadata": {},
          "execution_count": 94
        },
        {
          "output_type": "display_data",
          "data": {
            "text/plain": [
              "<Figure size 432x288 with 1 Axes>"
            ],
            "image/png": "[encoded data removed]"
          },
          "metadata": {
            "needs_background": "light"
          }
        }
      ]
    },
    {
      "cell_type": "code",
      "source": [
        "y_pred3 = best_model5.predict(test_generator)\n",
        "y_pred3"
      ],
      "metadata": {
        "id": "UzqWc-EcSUT7",
        "colab": {
          "base_uri": "https://localhost:8080/"
        },
        "outputId": "477e8831-eb1d-43a8-cca4-e4e0204604fe"
      },
      "execution_count": 95,
      "outputs": [
        {
          "output_type": "stream",
          "name": "stdout",
          "text": [
            "75/75 [==============================] - 10s 117ms/step\n"
          ]
        },
        {
          "output_type": "execute_result",
          "data": {
            "text/plain": [
              "array([[9.9999416e-01, 1.3732901e-07, 5.5896539e-06, 4.1350773e-11,\n",
              "        8.4402814e-09, 7.8114105e-08],\n",
              "       [8.0412635e-13, 4.6623028e-10, 1.2133565e-10, 1.9874605e-14,\n",
              "        1.0000000e+00, 2.0190496e-08],\n",
              "       [9.9955314e-01, 1.4725393e-05, 4.1882848e-04, 4.3235981e-11,\n",
              "        1.3247150e-05, 9.7503232e-09],\n",
              "       ...,\n",
              "       [2.9039086e-08, 3.2843899e-02, 9.6715075e-01, 5.1063522e-09,\n",
              "        5.2798609e-06, 1.2355883e-10],\n",
              "       [4.5487849e-18, 1.3906420e-10, 2.3844349e-09, 3.1783415e-07,\n",
              "        1.8387514e-11, 9.9999964e-01],\n",
              "       [2.3792363e-05, 4.1331705e-03, 9.9584007e-01, 5.5270800e-07,\n",
              "        2.3255614e-06, 2.5780431e-10]], dtype=float32)"
            ]
          },
          "metadata": {},
          "execution_count": 95
        }
      ]
    },
    {
      "cell_type": "code",
      "source": [
        "y_pred3 = np.argmax(y_pred3, axis=1)\n",
        "y_pred3"
      ],
      "metadata": {
        "id": "AV2WjauxSUQW",
        "colab": {
          "base_uri": "https://localhost:8080/"
        },
        "outputId": "0adaf5da-f21e-45ca-aad1-355b757bc665"
      },
      "execution_count": 96,
      "outputs": [
        {
          "output_type": "execute_result",
          "data": {
            "text/plain": [
              "array([0, 4, 0, ..., 2, 5, 2])"
            ]
          },
          "metadata": {},
          "execution_count": 96
        }
      ]
    },
    {
      "cell_type": "code",
      "source": [
        "from sklearn.metrics import confusion_matrix, classification_report\n",
        "\n",
        "\n",
        "cm = confusion_matrix(test_generator.labels, y_pred3)\n",
        "print(cm)\n",
        "print('classification report')\n",
        "print( classification_report(test_generator.labels, y_pred3))"
      ],
      "metadata": {
        "id": "IumpW9naSUHh",
        "colab": {
          "base_uri": "https://localhost:8080/"
        },
        "outputId": "afb083bf-ab83-4bfd-9d15-c59d9498355b"
      },
      "execution_count": 97,
      "outputs": [
        {
          "output_type": "stream",
          "name": "stdout",
          "text": [
            "[[375   1   5   0   0  19]\n",
            " [  0 379  14   1   4   2]\n",
            " [  9  61 313   3   9   5]\n",
            " [  0   7   1 389   2   1]\n",
            " [  5  29  37   2 318   9]\n",
            " [ 12  14   5  10   2 357]]\n",
            "classification report\n",
            "              precision    recall  f1-score   support\n",
            "\n",
            "           0       0.94      0.94      0.94       400\n",
            "           1       0.77      0.95      0.85       400\n",
            "           2       0.83      0.78      0.81       400\n",
            "           3       0.96      0.97      0.97       400\n",
            "           4       0.95      0.80      0.87       400\n",
            "           5       0.91      0.89      0.90       400\n",
            "\n",
            "    accuracy                           0.89      2400\n",
            "   macro avg       0.89      0.89      0.89      2400\n",
            "weighted avg       0.89      0.89      0.89      2400\n",
            "\n"
          ]
        }
      ]
    },
    {
      "cell_type": "code",
      "source": [
        "import seaborn as sns\n",
        "f,ax = plt.subplots(figsize=(8, 8))\n",
        "sns.heatmap(cm, annot=True, linewidths=0.01,cmap=\"Oranges\",linecolor=\"gray\", fmt= '.1f',ax=ax)\n",
        "plt.xlabel(\"Predicted Label\")\n",
        "plt.ylabel(\"True Label\")\n",
        "plt.title(\"Confusion Matrix\")\n",
        "plt.show()"
      ],
      "metadata": {
        "id": "0SFkkWv5SUEZ",
        "colab": {
          "base_uri": "https://localhost:8080/",
          "height": 513
        },
        "outputId": "58090324-4e5c-420a-add7-8dfa310325c4"
      },
      "execution_count": 98,
      "outputs": [
        {
          "output_type": "display_data",
          "data": {
            "text/plain": [
              "<Figure size 576x576 with 2 Axes>"
            ],
            "image/png": "[encoded data removed]"
          },
          "metadata": {
            "needs_background": "light"
          }
        }
      ]
    },
    {
      "cell_type": "code",
      "source": [
        "plt.plot(history.history['accuracy'])\n",
        "plt.plot(history.history['val_accuracy'])\n",
        "plt.legend(['Training', 'Validation'])\n",
        "plt.title('Training and Validation accuracy')\n",
        "plt.xlabel('epoch')\n",
        "plt.ylabel('accuracy')"
      ],
      "metadata": {
        "id": "3QOt6_l4SUBN",
        "colab": {
          "base_uri": "https://localhost:8080/",
          "height": 313
        },
        "outputId": "be24dc39-30c9-4806-f41e-ffe3f8ff80a0"
      },
      "execution_count": 99,
      "outputs": [
        {
          "output_type": "execute_result",
          "data": {
            "text/plain": [
              "Text(0, 0.5, 'accuracy')"
            ]
          },
          "metadata": {},
          "execution_count": 99
        },
        {
          "output_type": "display_data",
          "data": {
            "text/plain": [
              "<Figure size 432x288 with 1 Axes>"
            ],
            "image/png": "[encoded data removed]"
          },
          "metadata": {
            "needs_background": "light"
          }
        }
      ]
    },
    {
      "cell_type": "code",
      "source": [
        "from sklearn.metrics import confusion_matrix, classification_report\n",
        "\n",
        "\n",
        "cm = confusion_matrix(test_generator.labels, y_pred3)\n",
        "print(cm)\n",
        "print('classification report')\n",
        "print( classification_report(test_generator.labels, y_pred3))"
      ],
      "metadata": {
        "id": "JJfR9biJST96",
        "colab": {
          "base_uri": "https://localhost:8080/"
        },
        "outputId": "e5b45e29-2eeb-42d6-bbbd-f3794fda0aaf"
      },
      "execution_count": 100,
      "outputs": [
        {
          "output_type": "stream",
          "name": "stdout",
          "text": [
            "[[375   1   5   0   0  19]\n",
            " [  0 379  14   1   4   2]\n",
            " [  9  61 313   3   9   5]\n",
            " [  0   7   1 389   2   1]\n",
            " [  5  29  37   2 318   9]\n",
            " [ 12  14   5  10   2 357]]\n",
            "classification report\n",
            "              precision    recall  f1-score   support\n",
            "\n",
            "           0       0.94      0.94      0.94       400\n",
            "           1       0.77      0.95      0.85       400\n",
            "           2       0.83      0.78      0.81       400\n",
            "           3       0.96      0.97      0.97       400\n",
            "           4       0.95      0.80      0.87       400\n",
            "           5       0.91      0.89      0.90       400\n",
            "\n",
            "    accuracy                           0.89      2400\n",
            "   macro avg       0.89      0.89      0.89      2400\n",
            "weighted avg       0.89      0.89      0.89      2400\n",
            "\n"
          ]
        }
      ]
    },
    {
      "cell_type": "code",
      "source": [
        "\n",
        "\n",
        "class_map = dict([(v, k) for k, v in train_generator.class_indices.items()])\n",
        "print(class_map)\n",
        "     \n"
      ],
      "metadata": {
        "id": "GAAcdzBDZfBs",
        "colab": {
          "base_uri": "https://localhost:8080/"
        },
        "outputId": "f1433a86-21ac-4299-9808-5b3cce1acbcb"
      },
      "execution_count": 101,
      "outputs": [
        {
          "output_type": "stream",
          "name": "stdout",
          "text": [
            "{0: 'F-resample', 1: 'M', 2: 'N', 3: 'Q', 4: 'S', 5: 'V'}\n"
          ]
        }
      ]
    },
    {
      "cell_type": "code",
      "source": [
        "from tensorflow.keras.preprocessing import image\n",
        "test_image_path = '/content/ECG_Image_data/test/N/10015.jpg'\n",
        "\n",
        "def generate_predictions(test_image_path, actual_label):\n",
        "    \n",
        "    # 1. Load and preprocess the image\n",
        "    test_img = image.load_img(test_image_path, target_size=(224, 224))\n",
        "    test_img_arr = image.img_to_array(test_img)/255.0\n",
        "    test_img_input = test_img_arr.reshape((1, test_img_arr.shape[0], test_img_arr.shape[1], test_img_arr.shape[2]))\n",
        "\n",
        "    # 2. Make Predictions\n",
        "    predicted_label = np.argmax(best_model5.predict(test_img_input))\n",
        "    predicted_beat = class_map[predicted_label]\n",
        "    plt.figure(figsize=(4, 4))\n",
        "    plt.imshow(test_img_arr)\n",
        "    plt.title(\"Predicted Label: {}, Actual Label: {}\".format(predicted_beat, actual_label))\n",
        "    plt.grid()\n",
        "    plt.axis('off')\n",
        "    plt.show()\n",
        "\n",
        "# call the function\n",
        "generate_predictions(test_image_path, actual_label='N')"
      ],
      "metadata": {
        "id": "9QxMp3JiZe-l",
        "colab": {
          "base_uri": "https://localhost:8080/",
          "height": 282
        },
        "outputId": "dd2b2797-8ce6-42b2-d508-3a4189e9714f"
      },
      "execution_count": 102,
      "outputs": [
        {
          "output_type": "stream",
          "name": "stdout",
          "text": [
            "1/1 [==============================] - 1s 1s/step\n"
          ]
        },
        {
          "output_type": "display_data",
          "data": {
            "text/plain": [
              "<Figure size 288x288 with 1 Axes>"
            ],
            "image/png": "[encoded data removed]"
          },
          "metadata": {
            "needs_background": "light"
          }
        }
      ]
    },
    {
      "cell_type": "code",
      "source": [],
      "metadata": {
        "id": "KKZHLE5k1EkF"
      },
      "execution_count": 102,
      "outputs": []
    },
    {
      "cell_type": "code",
      "source": [
        "model3=load_model('/content/best_model4.h5')"
      ],
      "metadata": {
        "id": "t9iGlgpO1iVX"
      },
      "execution_count": 103,
      "outputs": []
    },
    {
      "cell_type": "code",
      "source": [
        "model3=Model(inputs=model3.inputs,outputs=model3.outputs,name='resnet50')"
      ],
      "metadata": {
        "id": "ANHxZ1Pm1Ef6"
      },
      "execution_count": 104,
      "outputs": []
    },
    {
      "cell_type": "code",
      "source": [
        "models=[model1,model2,model3]"
      ],
      "metadata": {
        "id": "npuLcFknyDwM"
      },
      "execution_count": 130,
      "outputs": []
    },
    {
      "cell_type": "code",
      "source": [
        "model_input=Input(shape=(224,224,3))"
      ],
      "metadata": {
        "id": "vz8gIL4myDY5"
      },
      "execution_count": 131,
      "outputs": []
    },
    {
      "cell_type": "code",
      "source": [
        "model_outputs=[model(model_input) for model in models]"
      ],
      "metadata": {
        "id": "SrSebJMOz7Ch"
      },
      "execution_count": 132,
      "outputs": []
    },
    {
      "cell_type": "code",
      "source": [
        "ensemble_output=Average()(model_outputs)"
      ],
      "metadata": {
        "id": "4usyM6g7z65V"
      },
      "execution_count": 133,
      "outputs": []
    },
    {
      "cell_type": "code",
      "source": [
        "ensemble_model=Model(inputs=model_input,outputs=ensemble_output,name='ensemble')"
      ],
      "metadata": {
        "id": "QZSb6NNSz61z"
      },
      "execution_count": 134,
      "outputs": []
    },
    {
      "cell_type": "code",
      "source": [
        "import keras\n",
        "checkpoint = keras.callbacks.ModelCheckpoint(\n",
        "    filepath='best_model5.h5',\n",
        "    save_weights_only=False,\n",
        "    monitor='val_accuracy',\n",
        "    mode='max',\n",
        "    save_best_only=True,\n",
        "    verbose=1)"
      ],
      "metadata": {
        "id": "Kr0SnoE9z6s_"
      },
      "execution_count": 136,
      "outputs": []
    },
    {
      "cell_type": "code",
      "source": [
        "ensemble_model.compile(optimizer='adam',loss='categorical_crossentropy',metrics=['accuracy'])"
      ],
      "metadata": {
        "id": "DYnpN7swz6mI"
      },
      "execution_count": 137,
      "outputs": []
    },
    {
      "cell_type": "code",
      "source": [
        "history=ensemble_model.fit(train_generator,\n",
        "    validation_data=val_generator,\n",
        "    epochs=25,\n",
        "    steps_per_epoch=len(train_generator),\n",
        "    validation_steps=len(val_generator),\n",
        "    callbacks=[checkpoint])"
      ],
      "metadata": {
        "colab": {
          "base_uri": "https://localhost:8080/"
        },
        "id": "_fpOwtKA3JX8",
        "outputId": "c7c3eac0-5279-4b4d-a2f0-8cdf63f20462"
      },
      "execution_count": 138,
      "outputs": [
        {
          "output_type": "stream",
          "name": "stdout",
          "text": [
            "Epoch 1/25\n",
            "225/225 [==============================] - ETA: 0s - loss: 0.2296 - accuracy: 0.9858\n",
            "Epoch 1: val_accuracy improved from -inf to 0.93625, saving model to best_model5.h5\n",
            "225/225 [==============================] - 124s 529ms/step - loss: 0.2296 - accuracy: 0.9858 - val_loss: 0.3753 - val_accuracy: 0.9362\n",
            "Epoch 2/25\n",
            "225/225 [==============================] - ETA: 0s - loss: 0.2405 - accuracy: 0.9907\n",
            "Epoch 2: val_accuracy improved from 0.93625 to 0.93667, saving model to best_model5.h5\n",
            "225/225 [==============================] - 128s 570ms/step - loss: 0.2405 - accuracy: 0.9907 - val_loss: 0.3611 - val_accuracy: 0.9367\n",
            "Epoch 3/25\n",
            "225/225 [==============================] - ETA: 0s - loss: 0.2316 - accuracy: 0.9924\n",
            "Epoch 3: val_accuracy improved from 0.93667 to 0.94208, saving model to best_model5.h5\n",
            "225/225 [==============================] - 117s 521ms/step - loss: 0.2316 - accuracy: 0.9924 - val_loss: 0.3635 - val_accuracy: 0.9421\n",
            "Epoch 4/25\n",
            "225/225 [==============================] - ETA: 0s - loss: 0.2783 - accuracy: 0.9914\n",
            "Epoch 4: val_accuracy did not improve from 0.94208\n",
            "225/225 [==============================] - 114s 508ms/step - loss: 0.2783 - accuracy: 0.9914 - val_loss: 0.5196 - val_accuracy: 0.9337\n",
            "Epoch 5/25\n",
            "225/225 [==============================] - ETA: 0s - loss: 0.3765 - accuracy: 0.9865\n",
            "Epoch 5: val_accuracy did not improve from 0.94208\n",
            "225/225 [==============================] - 115s 511ms/step - loss: 0.3765 - accuracy: 0.9865 - val_loss: 0.5877 - val_accuracy: 0.9146\n",
            "Epoch 6/25\n",
            "225/225 [==============================] - ETA: 0s - loss: 0.3731 - accuracy: 0.9876\n",
            "Epoch 6: val_accuracy did not improve from 0.94208\n",
            "225/225 [==============================] - 127s 565ms/step - loss: 0.3731 - accuracy: 0.9876 - val_loss: 0.5534 - val_accuracy: 0.9175\n",
            "Epoch 7/25\n",
            "225/225 [==============================] - ETA: 0s - loss: 0.3568 - accuracy: 0.9954\n",
            "Epoch 7: val_accuracy improved from 0.94208 to 0.94500, saving model to best_model5.h5\n",
            "225/225 [==============================] - 128s 571ms/step - loss: 0.3568 - accuracy: 0.9954 - val_loss: 0.5084 - val_accuracy: 0.9450\n",
            "Epoch 8/25\n",
            "225/225 [==============================] - ETA: 0s - loss: 0.3716 - accuracy: 0.9876\n",
            "Epoch 8: val_accuracy did not improve from 0.94500\n",
            "225/225 [==============================] - 115s 512ms/step - loss: 0.3716 - accuracy: 0.9876 - val_loss: 0.5104 - val_accuracy: 0.9388\n",
            "Epoch 9/25\n",
            "225/225 [==============================] - ETA: 0s - loss: 0.3750 - accuracy: 0.9889\n",
            "Epoch 9: val_accuracy did not improve from 0.94500\n",
            "225/225 [==============================] - 115s 509ms/step - loss: 0.3750 - accuracy: 0.9889 - val_loss: 0.5339 - val_accuracy: 0.9333\n",
            "Epoch 10/25\n",
            "225/225 [==============================] - ETA: 0s - loss: 0.3667 - accuracy: 0.9900\n",
            "Epoch 10: val_accuracy did not improve from 0.94500\n",
            "225/225 [==============================] - 114s 508ms/step - loss: 0.3667 - accuracy: 0.9900 - val_loss: 0.5213 - val_accuracy: 0.9408\n",
            "Epoch 11/25\n",
            "225/225 [==============================] - ETA: 0s - loss: 0.3661 - accuracy: 0.9894\n",
            "Epoch 11: val_accuracy did not improve from 0.94500\n",
            "225/225 [==============================] - 114s 507ms/step - loss: 0.3661 - accuracy: 0.9894 - val_loss: 0.5430 - val_accuracy: 0.9337\n",
            "Epoch 12/25\n",
            "225/225 [==============================] - ETA: 0s - loss: 0.3574 - accuracy: 0.9937\n",
            "Epoch 12: val_accuracy did not improve from 0.94500\n",
            "225/225 [==============================] - 127s 563ms/step - loss: 0.3574 - accuracy: 0.9937 - val_loss: 0.5107 - val_accuracy: 0.9392\n",
            "Epoch 13/25\n",
            "225/225 [==============================] - ETA: 0s - loss: 0.3549 - accuracy: 0.9950\n",
            "Epoch 13: val_accuracy did not improve from 0.94500\n",
            "225/225 [==============================] - 115s 510ms/step - loss: 0.3549 - accuracy: 0.9950 - val_loss: 0.5034 - val_accuracy: 0.9446\n",
            "Epoch 14/25\n",
            "225/225 [==============================] - ETA: 0s - loss: 0.3644 - accuracy: 0.9906\n",
            "Epoch 14: val_accuracy did not improve from 0.94500\n",
            "225/225 [==============================] - 114s 507ms/step - loss: 0.3644 - accuracy: 0.9906 - val_loss: 0.5074 - val_accuracy: 0.9404\n",
            "Epoch 15/25\n",
            "225/225 [==============================] - ETA: 0s - loss: 0.3616 - accuracy: 0.9926\n",
            "Epoch 15: val_accuracy did not improve from 0.94500\n",
            "225/225 [==============================] - 127s 565ms/step - loss: 0.3616 - accuracy: 0.9926 - val_loss: 0.5146 - val_accuracy: 0.9446\n",
            "Epoch 16/25\n",
            "225/225 [==============================] - ETA: 0s - loss: 0.3527 - accuracy: 0.9958\n",
            "Epoch 16: val_accuracy improved from 0.94500 to 0.94667, saving model to best_model5.h5\n",
            "225/225 [==============================] - 116s 515ms/step - loss: 0.3527 - accuracy: 0.9958 - val_loss: 0.5103 - val_accuracy: 0.9467\n",
            "Epoch 17/25\n",
            "225/225 [==============================] - ETA: 0s - loss: 0.3547 - accuracy: 0.9953\n",
            "Epoch 17: val_accuracy did not improve from 0.94667\n",
            "225/225 [==============================] - 127s 564ms/step - loss: 0.3547 - accuracy: 0.9953 - val_loss: 0.6088 - val_accuracy: 0.9079\n",
            "Epoch 18/25\n",
            "225/225 [==============================] - ETA: 0s - loss: 0.3710 - accuracy: 0.9860\n",
            "Epoch 18: val_accuracy did not improve from 0.94667\n",
            "225/225 [==============================] - 127s 566ms/step - loss: 0.3710 - accuracy: 0.9860 - val_loss: 0.5122 - val_accuracy: 0.9413\n",
            "Epoch 19/25\n",
            "225/225 [==============================] - ETA: 0s - loss: 0.3483 - accuracy: 0.9964\n",
            "Epoch 19: val_accuracy did not improve from 0.94667\n",
            "225/225 [==============================] - 127s 566ms/step - loss: 0.3483 - accuracy: 0.9964 - val_loss: 0.4988 - val_accuracy: 0.9458\n",
            "Epoch 20/25\n",
            "225/225 [==============================] - ETA: 0s - loss: 0.3505 - accuracy: 0.9958\n",
            "Epoch 20: val_accuracy did not improve from 0.94667\n",
            "225/225 [==============================] - 115s 511ms/step - loss: 0.3505 - accuracy: 0.9958 - val_loss: 0.5202 - val_accuracy: 0.9379\n",
            "Epoch 21/25\n",
            "225/225 [==============================] - ETA: 0s - loss: 0.3554 - accuracy: 0.9957\n",
            "Epoch 21: val_accuracy did not improve from 0.94667\n",
            "225/225 [==============================] - 115s 512ms/step - loss: 0.3554 - accuracy: 0.9957 - val_loss: 0.6012 - val_accuracy: 0.9067\n",
            "Epoch 22/25\n",
            "225/225 [==============================] - ETA: 0s - loss: 0.3568 - accuracy: 0.9936\n",
            "Epoch 22: val_accuracy did not improve from 0.94667\n",
            "225/225 [==============================] - 114s 508ms/step - loss: 0.3568 - accuracy: 0.9936 - val_loss: 0.5029 - val_accuracy: 0.9450\n",
            "Epoch 23/25\n",
            "225/225 [==============================] - ETA: 0s - loss: 0.3696 - accuracy: 0.9887\n",
            "Epoch 23: val_accuracy did not improve from 0.94667\n",
            "225/225 [==============================] - 115s 510ms/step - loss: 0.3696 - accuracy: 0.9887 - val_loss: 0.5055 - val_accuracy: 0.9438\n",
            "Epoch 24/25\n",
            "225/225 [==============================] - ETA: 0s - loss: 0.3478 - accuracy: 0.9969\n",
            "Epoch 24: val_accuracy did not improve from 0.94667\n",
            "225/225 [==============================] - 115s 511ms/step - loss: 0.3478 - accuracy: 0.9969 - val_loss: 0.5280 - val_accuracy: 0.9396\n",
            "Epoch 25/25\n",
            "225/225 [==============================] - ETA: 0s - loss: 0.3527 - accuracy: 0.9957\n",
            "Epoch 25: val_accuracy did not improve from 0.94667\n",
            "225/225 [==============================] - 127s 564ms/step - loss: 0.3527 - accuracy: 0.9957 - val_loss: 0.5193 - val_accuracy: 0.9429\n"
          ]
        }
      ]
    },
    {
      "cell_type": "code",
      "source": [
        "from keras.models import load_model\n",
        "results7 = ensemble_model.evaluate(test_generator, verbose=0)\n",
        "\n",
        "print(\"    Test Loss: {:.5f}\".format(results7[0]))\n",
        "print(\"Test Accuracy: {:.2f}%\".format(results7[1] * 100))"
      ],
      "metadata": {
        "colab": {
          "base_uri": "https://localhost:8080/"
        },
        "id": "vs-0DIL43W1L",
        "outputId": "c849c3a7-78ec-420a-d77d-a87440c4776d"
      },
      "execution_count": 139,
      "outputs": [
        {
          "output_type": "stream",
          "name": "stdout",
          "text": [
            "    Test Loss: 0.72383\n",
            "Test Accuracy: 90.96%\n"
          ]
        }
      ]
    },
    {
      "cell_type": "code",
      "source": [
        "from keras.models import load_model\n",
        "best_model6=load_model('/content/best_model5.h5')\n",
        "results8 = best_model6.evaluate(test_generator, verbose=0)\n",
        "\n",
        "print(\"    Test Loss: {:.5f}\".format(results8[0]))\n",
        "print(\"Test Accuracy: {:.2f}%\".format(results8[1] * 100))"
      ],
      "metadata": {
        "colab": {
          "base_uri": "https://localhost:8080/"
        },
        "id": "28DDiIZV3cGe",
        "outputId": "1185a9c4-71ac-4cf3-e10d-a49a4d9882c3"
      },
      "execution_count": 140,
      "outputs": [
        {
          "output_type": "stream",
          "name": "stdout",
          "text": [
            "    Test Loss: 0.65101\n",
            "Test Accuracy: 91.79%\n"
          ]
        }
      ]
    },
    {
      "cell_type": "code",
      "source": [
        "import matplotlib.pyplot as plt\n",
        "\n",
        "plt.plot(history.history['loss'])\n",
        "plt.plot(history.history['val_loss'])\n",
        "plt.legend(['Training', 'Validation'])\n",
        "plt.title('Training and Validation losses')\n",
        "plt.xlabel('epoch')\n",
        "plt.ylabel('loss')"
      ],
      "metadata": {
        "colab": {
          "base_uri": "https://localhost:8080/",
          "height": 313
        },
        "id": "mCC6WJcn3b_g",
        "outputId": "22e197a0-790b-41ef-bd7d-c36dd4625384"
      },
      "execution_count": 141,
      "outputs": [
        {
          "output_type": "execute_result",
          "data": {
            "text/plain": [
              "Text(0, 0.5, 'loss')"
            ]
          },
          "metadata": {},
          "execution_count": 141
        },
        {
          "output_type": "display_data",
          "data": {
            "text/plain": [
              "<Figure size 432x288 with 1 Axes>"
            ],
            "image/png": "[encoded data removed]"
          },
          "metadata": {
            "needs_background": "light"
          }
        }
      ]
    },
    {
      "cell_type": "code",
      "source": [
        "plt.plot(history.history['accuracy'])\n",
        "plt.plot(history.history['val_accuracy'])\n",
        "plt.legend(['Training', 'Validation'])\n",
        "plt.title('Training and Validation accuracy')\n",
        "plt.xlabel('epoch')\n",
        "plt.ylabel('accuracy')"
      ],
      "metadata": {
        "colab": {
          "base_uri": "https://localhost:8080/",
          "height": 313
        },
        "id": "1a4rBcFY3b2l",
        "outputId": "1619da36-4390-442a-bf23-c36a35a1906b"
      },
      "execution_count": 142,
      "outputs": [
        {
          "output_type": "execute_result",
          "data": {
            "text/plain": [
              "Text(0, 0.5, 'accuracy')"
            ]
          },
          "metadata": {},
          "execution_count": 142
        },
        {
          "output_type": "display_data",
          "data": {
            "text/plain": [
              "<Figure size 432x288 with 1 Axes>"
            ],
            "image/png": "[encoded data removed]"
          },
          "metadata": {
            "needs_background": "light"
          }
        }
      ]
    },
    {
      "cell_type": "code",
      "source": [
        "y_pred4 = best_model6.predict(test_generator)\n",
        "y_pred4"
      ],
      "metadata": {
        "colab": {
          "base_uri": "https://localhost:8080/"
        },
        "id": "7hAyaTfG33g1",
        "outputId": "f9ced884-b026-41ba-943c-80a97a08c035"
      },
      "execution_count": 143,
      "outputs": [
        {
          "output_type": "stream",
          "name": "stdout",
          "text": [
            "75/75 [==============================] - 31s 367ms/step\n"
          ]
        },
        {
          "output_type": "execute_result",
          "data": {
            "text/plain": [
              "array([[6.6661716e-01, 3.3829483e-07, 4.6530764e-05, 4.3139683e-11,\n",
              "        6.6694031e-07, 3.3333537e-01],\n",
              "       [1.5387564e-15, 1.0309947e-12, 9.2053253e-13, 1.8179217e-16,\n",
              "        6.6666669e-01, 3.3333334e-01],\n",
              "       [6.6216511e-01, 4.2700346e-08, 3.7842756e-03, 7.6637617e-14,\n",
              "        7.1721594e-04, 3.3333334e-01],\n",
              "       ...,\n",
              "       [1.4982298e-08, 1.3974230e-03, 6.6523612e-01, 9.1252471e-11,\n",
              "        3.3174234e-05, 3.3333334e-01],\n",
              "       [4.8146335e-15, 5.7402125e-13, 7.6420577e-07, 2.3816375e-01,\n",
              "        1.4015389e-11, 7.6183558e-01],\n",
              "       [5.5217110e-06, 5.6288682e-04, 6.6192865e-01, 2.9736373e-07,\n",
              "        4.1693533e-03, 3.3333334e-01]], dtype=float32)"
            ]
          },
          "metadata": {},
          "execution_count": 143
        }
      ]
    },
    {
      "cell_type": "code",
      "source": [
        "y_pred4 = np.argmax(y_pred4, axis=1)\n",
        "y_pred4"
      ],
      "metadata": {
        "colab": {
          "base_uri": "https://localhost:8080/"
        },
        "id": "62_UO84033Y9",
        "outputId": "6b21bddf-8689-4a5a-e8fe-94f40eab995b"
      },
      "execution_count": 144,
      "outputs": [
        {
          "output_type": "execute_result",
          "data": {
            "text/plain": [
              "array([0, 4, 0, ..., 2, 5, 2])"
            ]
          },
          "metadata": {},
          "execution_count": 144
        }
      ]
    },
    {
      "cell_type": "code",
      "source": [
        "from sklearn.metrics import confusion_matrix, classification_report\n",
        "\n",
        "\n",
        "cm = confusion_matrix(test_generator.labels, y_pred4)\n",
        "print(cm)\n",
        "print('classification report')\n",
        "print( classification_report(test_generator.labels, y_pred4))"
      ],
      "metadata": {
        "colab": {
          "base_uri": "https://localhost:8080/"
        },
        "id": "xMeXPmv433Qf",
        "outputId": "f4bcc510-ec10-4eaa-9bd3-4268ba752280"
      },
      "execution_count": 145,
      "outputs": [
        {
          "output_type": "stream",
          "name": "stdout",
          "text": [
            "[[375   0   5   0   0  20]\n",
            " [  1 385   4   4   2   4]\n",
            " [  5  30 330   0  24  11]\n",
            " [  0   3   3 387   1   6]\n",
            " [  0  11  17   2 355  15]\n",
            " [ 10   4   4   5   6 371]]\n",
            "classification report\n",
            "              precision    recall  f1-score   support\n",
            "\n",
            "           0       0.96      0.94      0.95       400\n",
            "           1       0.89      0.96      0.92       400\n",
            "           2       0.91      0.82      0.87       400\n",
            "           3       0.97      0.97      0.97       400\n",
            "           4       0.91      0.89      0.90       400\n",
            "           5       0.87      0.93      0.90       400\n",
            "\n",
            "    accuracy                           0.92      2400\n",
            "   macro avg       0.92      0.92      0.92      2400\n",
            "weighted avg       0.92      0.92      0.92      2400\n",
            "\n"
          ]
        }
      ]
    },
    {
      "cell_type": "code",
      "source": [
        "import seaborn as sns\n",
        "f,ax = plt.subplots(figsize=(8, 8))\n",
        "sns.heatmap(cm, annot=True, linewidths=0.01,cmap=\"Oranges\",linecolor=\"gray\", fmt= '.1f',ax=ax)\n",
        "plt.xlabel(\"Predicted Label\")\n",
        "plt.ylabel(\"True Label\")\n",
        "plt.title(\"Confusion Matrix\")\n",
        "plt.show()"
      ],
      "metadata": {
        "colab": {
          "base_uri": "https://localhost:8080/",
          "height": 513
        },
        "id": "qOF1cTWxURoR",
        "outputId": "0df55071-5b7b-4693-ea0f-0228ecb0d245"
      },
      "execution_count": 148,
      "outputs": [
        {
          "output_type": "display_data",
          "data": {
            "text/plain": [
              "<Figure size 576x576 with 2 Axes>"
            ],
            "image/png": "[encoded data removed]"
          },
          "metadata": {
            "needs_background": "light"
          }
        }
      ]
    },
    {
      "cell_type": "code",
      "source": [
        "from sklearn.metrics import roc_curve, auc\n",
        "import matplotlib.pyplot as plt\n",
        "\n",
        "model_paths = ['best_model1.h5', 'best_model2.h5', 'best_model3.h5','best_model4.h5','best_model5.h5']"
      ],
      "metadata": {
        "id": "_NEWuX2917k4"
      },
      "execution_count": 155,
      "outputs": []
    },
    {
      "cell_type": "code",
      "source": [
        "'''for model_path in model_paths:\n",
        "    # Load the model\n",
        "    model = load_model(model_path)\n",
        "\n",
        "    # Make predictions on the test data\n",
        "    y_pred = model.predict_generator(test_generator, verbose=1)\n",
        "\n",
        "    # Calculate the ROC curve and AUC\n",
        "    fpr, tpr, thresholds = roc_curve(test_generator.labels, y_pred)\n",
        "    roc_auc = auc(fpr, tpr)\n",
        "\n",
        "    # Plot the ROC curve\n",
        "    plt.plot(fpr, tpr, label='{} (AUC = {:.2f})'.format(model_path, roc_auc))\n",
        "\n",
        "# Add labels and a legend to the plot\n",
        "plt.xlabel('False Positive Rate')\n",
        "plt.ylabel('True Positive Rate')\n",
        "plt.title('Receiver Operating Characteristic')\n",
        "plt.legend()\n",
        "\n",
        "# Show the plot\n",
        "plt.show()'''\n",
        "fpr = dict()\n",
        "tpr = dict()\n",
        "roc_auc = dict()\n",
        "for i in range(test_generator.labels):\n",
        "    fpr[i], tpr[i], _ = roc_curve(test_generator.classes == i, y_pred[:, i])\n",
        "    roc_auc[i] = auc(fpr[i], tpr[i])\n",
        "# Plot the ROC curve for each class\n",
        "plt.figure()\n",
        "colors = ['darkorange', 'green', 'blue', 'red', 'purple'] # add more colors as needed\n",
        "for i, color in zip(range(test_generator.num_classes), colors):\n",
        "    plt.plot(fpr[i], tpr[i], color=color,\n",
        "             label='{} (AUC = {:.2f})'.format(test_generator.class_indices[i], roc_auc[i]))\n",
        "\n",
        "# Add labels and a legend to the plot\n",
        "plt.xlabel('False Positive Rate')\n",
        "plt.ylabel('True Positive Rate')\n",
        "plt.title('Receiver Operating Characteristic')\n",
        "plt.legend()\n",
        "\n",
        "# Show the plot\n",
        "plt.show()"
      ],
      "metadata": {
        "id": "-MzavKi617h-",
        "colab": {
          "base_uri": "https://localhost:8080/",
          "height": 241
        },
        "outputId": "4734f736-e7e5-426a-bb8d-1af407ca20f2"
      },
      "execution_count": 157,
      "outputs": [
        {
          "output_type": "error",
          "ename": "TypeError",
          "evalue": "ignored",
          "traceback": [
            "\u001b[0;31m---------------------------------------------------------------------------\u001b[0m",
            "\u001b[0;31mTypeError\u001b[0m                                 Traceback (most recent call last)",
            "\u001b[0;32m<ipython-input-157-98874134a041>\u001b[0m in \u001b[0;36m<module>\u001b[0;34m\u001b[0m\n\u001b[1;32m     24\u001b[0m \u001b[0mtpr\u001b[0m \u001b[0;34m=\u001b[0m \u001b[0mdict\u001b[0m\u001b[0;34m(\u001b[0m\u001b[0;34m)\u001b[0m\u001b[0;34m\u001b[0m\u001b[0;34m\u001b[0m\u001b[0m\n\u001b[1;32m     25\u001b[0m \u001b[0mroc_auc\u001b[0m \u001b[0;34m=\u001b[0m \u001b[0mdict\u001b[0m\u001b[0;34m(\u001b[0m\u001b[0;34m)\u001b[0m\u001b[0;34m\u001b[0m\u001b[0;34m\u001b[0m\u001b[0m\n\u001b[0;32m---> 26\u001b[0;31m \u001b[0;32mfor\u001b[0m \u001b[0mi\u001b[0m \u001b[0;32min\u001b[0m \u001b[0mrange\u001b[0m\u001b[0;34m(\u001b[0m\u001b[0mtest_generator\u001b[0m\u001b[0;34m.\u001b[0m\u001b[0mlabels\u001b[0m\u001b[0;34m)\u001b[0m\u001b[0;34m:\u001b[0m\u001b[0;34m\u001b[0m\u001b[0;34m\u001b[0m\u001b[0m\n\u001b[0m\u001b[1;32m     27\u001b[0m     \u001b[0mfpr\u001b[0m\u001b[0;34m[\u001b[0m\u001b[0mi\u001b[0m\u001b[0;34m]\u001b[0m\u001b[0;34m,\u001b[0m \u001b[0mtpr\u001b[0m\u001b[0;34m[\u001b[0m\u001b[0mi\u001b[0m\u001b[0;34m]\u001b[0m\u001b[0;34m,\u001b[0m \u001b[0m_\u001b[0m \u001b[0;34m=\u001b[0m \u001b[0mroc_curve\u001b[0m\u001b[0;34m(\u001b[0m\u001b[0mtest_generator\u001b[0m\u001b[0;34m.\u001b[0m\u001b[0mclasses\u001b[0m \u001b[0;34m==\u001b[0m \u001b[0mi\u001b[0m\u001b[0;34m,\u001b[0m \u001b[0my_pred\u001b[0m\u001b[0;34m[\u001b[0m\u001b[0;34m:\u001b[0m\u001b[0;34m,\u001b[0m \u001b[0mi\u001b[0m\u001b[0;34m]\u001b[0m\u001b[0;34m)\u001b[0m\u001b[0;34m\u001b[0m\u001b[0;34m\u001b[0m\u001b[0m\n\u001b[1;32m     28\u001b[0m     \u001b[0mroc_auc\u001b[0m\u001b[0;34m[\u001b[0m\u001b[0mi\u001b[0m\u001b[0;34m]\u001b[0m \u001b[0;34m=\u001b[0m \u001b[0mauc\u001b[0m\u001b[0;34m(\u001b[0m\u001b[0mfpr\u001b[0m\u001b[0;34m[\u001b[0m\u001b[0mi\u001b[0m\u001b[0;34m]\u001b[0m\u001b[0;34m,\u001b[0m \u001b[0mtpr\u001b[0m\u001b[0;34m[\u001b[0m\u001b[0mi\u001b[0m\u001b[0;34m]\u001b[0m\u001b[0;34m)\u001b[0m\u001b[0;34m\u001b[0m\u001b[0;34m\u001b[0m\u001b[0m\n",
            "\u001b[0;31mTypeError\u001b[0m: 'list' object cannot be interpreted as an integer"
          ]
        }
      ]
    },
    {
      "cell_type": "code",
      "source": [],
      "metadata": {
        "id": "uiDuEm6FXmda"
      },
      "execution_count": null,
      "outputs": []
    },
    {
      "cell_type": "code",
      "source": [],
      "metadata": {
        "id": "gGNeIJgCXmTz"
      },
      "execution_count": null,
      "outputs": []
    },
    {
      "cell_type": "code",
      "source": [],
      "metadata": {
        "id": "oBftmGzAXmLL"
      },
      "execution_count": null,
      "outputs": []
    },
    {
      "cell_type": "code",
      "source": [],
      "metadata": {
        "id": "QSsn2NtNXmHJ"
      },
      "execution_count": null,
      "outputs": []
    },
    {
      "cell_type": "code",
      "source": [],
      "metadata": {
        "id": "IiB7clBoXmB1"
      },
      "execution_count": null,
      "outputs": []
    },
    {
      "cell_type": "code",
      "source": [],
      "metadata": {
        "id": "l-K8xEi9Xl8z"
      },
      "execution_count": null,
      "outputs": []
    },
    {
      "cell_type": "code",
      "source": [
        "#model3=Model(inputs=model3.inputs,outputs=model3.outputs,name='CNN')"
      ],
      "metadata": {
        "id": "R-ey36CVZ2gF"
      },
      "execution_count": null,
      "outputs": []
    },
    {
      "cell_type": "code",
      "source": [
        "#models=[model1,model3]"
      ],
      "metadata": {
        "id": "iOKGiZe6M3H9"
      },
      "execution_count": null,
      "outputs": []
    },
    {
      "cell_type": "code",
      "source": [
        "#preds=[model.predict(test_generator) for model in models]"
      ],
      "metadata": {
        "id": "KrRQhOFpN9aw"
      },
      "execution_count": null,
      "outputs": []
    },
    {
      "cell_type": "code",
      "source": [
        "#preds=np.array(preds)"
      ],
      "metadata": {
        "id": "b0GynN2kOCJ5"
      },
      "execution_count": null,
      "outputs": []
    },
    {
      "cell_type": "code",
      "source": [
        "#summed=np.sum(preds,axis=0)"
      ],
      "metadata": {
        "id": "OWMjk_3sOL3B"
      },
      "execution_count": null,
      "outputs": []
    },
    {
      "cell_type": "code",
      "source": [
        "#ensemble_prediction=np.argmax(summed,axis=1)"
      ],
      "metadata": {
        "id": "hgJQavpdOLzW"
      },
      "execution_count": null,
      "outputs": []
    },
    {
      "cell_type": "code",
      "source": [
        "#from sklearn.metrics import accuracy_score\n",
        "#ensemble_accuracy=accuracy_score(test_generator.labels,ensemble_prediction)"
      ],
      "metadata": {
        "id": "LGERYde5OPyn"
      },
      "execution_count": null,
      "outputs": []
    },
    {
      "cell_type": "code",
      "source": [
        "#print(ensemble_accuracy)"
      ],
      "metadata": {
        "id": "GeGkBXXTORoj"
      },
      "execution_count": null,
      "outputs": []
    },
    {
      "cell_type": "code",
      "source": [
        "#print(classification_report(test_generator.labels,ensemble_prediction))"
      ],
      "metadata": {
        "id": "kX6l97R1ORlQ"
      },
      "execution_count": null,
      "outputs": []
    },
    {
      "cell_type": "code",
      "source": [],
      "metadata": {
        "id": "ERcGwij7Om05"
      },
      "execution_count": null,
      "outputs": []
    }
  ]
}