{
  "nbformat": 4,
  "nbformat_minor": 0,
  "metadata": {
    "colab": {
      "provenance": [],
      "include_colab_link": true
    },
    "kernelspec": {
      "name": "python3",
      "display_name": "Python 3"
    },
    "language_info": {
      "name": "python"
    },
    "accelerator": "GPU",
    "gpuClass": "standard"
  },
  "cells": [
    {
      "cell_type": "markdown",
      "metadata": {
        "id": "view-in-github",
        "colab_type": "text"
      },
      "source": [
        "<a href=\"https://colab.research.google.com/github/Anik85/Anik85/blob/main/vgg19_1_final.ipynb\" target=\"_parent\"><img src=\"https://colab.research.google.com/assets/colab-badge.svg\" alt=\"Open In Colab\"/></a>"
      ]
    },
    {
      "cell_type": "code",
      "execution_count": 1,
      "metadata": {
        "id": "-rl1goyWKiT8"
      },
      "outputs": [],
      "source": [
        "!mkdir -p ~/.kaggle\n",
        "!cp kaggle.json ~/.kaggle/"
      ]
    },
    {
      "cell_type": "code",
      "source": [
        "!kaggle datasets download -d mohamedeldakrory8/ecg-heart-categorization-dataset-image-version"
      ],
      "metadata": {
        "colab": {
          "base_uri": "https://localhost:8080/"
        },
        "id": "OKsRAw7WKmO4",
        "outputId": "36657144-8a79-46a3-e70e-d8d70dd0ecfc"
      },
      "execution_count": 2,
      "outputs": [
        {
          "output_type": "stream",
          "name": "stdout",
          "text": [
            "Warning: Your Kaggle API key is readable by other users on this system! To fix this, you can run 'chmod 600 /root/.kaggle/kaggle.json'\n",
            "Downloading ecg-heart-categorization-dataset-image-version.zip to /content\n",
            " 97% 472M/486M [00:03<00:00, 146MB/s]\n",
            "100% 486M/486M [00:03<00:00, 140MB/s]\n"
          ]
        }
      ]
    },
    {
      "cell_type": "code",
      "source": [
        "import zipfile\n",
        "zip_ref=zipfile.ZipFile('/content/ecg-heart-categorization-dataset-image-version.zip','r')\n",
        "zip_ref.extractall('/content')\n",
        "zip_ref.close()"
      ],
      "metadata": {
        "id": "xo5qkBPTKmL3"
      },
      "execution_count": 3,
      "outputs": []
    },
    {
      "cell_type": "code",
      "source": [
        "!rm /content/ECG_Image_data/train/F/*\n",
        "!rmdir /content/ECG_Image_data/train/F"
      ],
      "metadata": {
        "id": "tLwRAKe3KmKF"
      },
      "execution_count": 11,
      "outputs": []
    },
    {
      "cell_type": "code",
      "source": [
        "!rm /content/ECG_Image_data/test/F/*\n",
        "!rmdir /content/ECG_Image_data/test/F"
      ],
      "metadata": {
        "id": "AIOTzAM-KmHX"
      },
      "execution_count": 12,
      "outputs": []
    },
    {
      "cell_type": "code",
      "source": [
        "import numpy as np\n",
        "import pandas as pd\n",
        "from pathlib import Path\n",
        "import os.path\n",
        "import matplotlib.pyplot as plt\n",
        "import tensorflow as tf\n",
        "from tensorflow.keras.models import Sequential\n",
        "from tensorflow.keras.layers import Convolution2D\n",
        "from tensorflow.keras.layers import MaxPooling2D\n",
        "from tensorflow.keras.layers import Flatten\n",
        "from tensorflow.keras.layers import Dense\n",
        "from tensorflow.keras.layers import Dropout, Activation , BatchNormalization\n",
        "from tensorflow.keras.preprocessing.image import ImageDataGenerator\n",
        "from tensorflow.keras.layers import Dense, Conv2D, MaxPool2D , Flatten\n",
        "from tensorflow.keras.losses import categorical_crossentropy\n",
        "from tensorflow.keras.optimizers import Adam\n",
        "from tensorflow.keras.losses import CategoricalCrossentropy\n",
        "from tensorflow.keras.regularizers import l2\n",
        "from tensorflow.keras.callbacks import ReduceLROnPlateau, EarlyStopping\n",
        "from keras.models import Model\n",
        "from keras.applications.vgg19 import VGG19, preprocess_input\n",
        "from tensorflow.keras.applications.resnet50 import ResNet50, preprocess_input\n",
        "from keras.applications.vgg16 import preprocess_input,VGG16\n",
        "from glob import glob"
      ],
      "metadata": {
        "id": "fmj6RbYGKmFK"
      },
      "execution_count": 13,
      "outputs": []
    },
    {
      "cell_type": "code",
      "source": [
        "train_dir = Path('/content/ECG_Image_data/train')\n",
        "test_dir = Path('/content/ECG_Image_data/test')"
      ],
      "metadata": {
        "id": "_woAePtVKl-q"
      },
      "execution_count": 14,
      "outputs": []
    },
    {
      "cell_type": "code",
      "source": [
        "filepaths = list(train_dir.glob(r'**/*.jpg'))\n",
        "labels = list(map(lambda x: os.path.split(os.path.split(x)[0])[1], filepaths))\n",
        "\n",
        "\n",
        "filepaths = pd.Series(filepaths, name='Filepath').astype(str)\n",
        "labels = pd.Series(labels, name='Label')\n",
        "\n",
        "dataframe = pd.concat([filepaths , labels] , axis=1)\n",
        "dataframe"
      ],
      "metadata": {
        "colab": {
          "base_uri": "https://localhost:8080/",
          "height": 424
        },
        "id": "H0TY8GuzKl8W",
        "outputId": "3296acfa-49de-439b-f669-f56af616f984"
      },
      "execution_count": 15,
      "outputs": [
        {
          "output_type": "execute_result",
          "data": {
            "text/plain": [
              "                                        Filepath Label\n",
              "0       /content/ECG_Image_data/train/N/1846.jpg     N\n",
              "1      /content/ECG_Image_data/train/N/22590.jpg     N\n",
              "2      /content/ECG_Image_data/train/N/29074.jpg     N\n",
              "3      /content/ECG_Image_data/train/N/16572.jpg     N\n",
              "4      /content/ECG_Image_data/train/N/72132.jpg     N\n",
              "...                                          ...   ...\n",
              "97131   /content/ECG_Image_data/train/V/3904.jpg     V\n",
              "97132    /content/ECG_Image_data/train/V/280.jpg     V\n",
              "97133   /content/ECG_Image_data/train/V/3312.jpg     V\n",
              "97134   /content/ECG_Image_data/train/V/3437.jpg     V\n",
              "97135   /content/ECG_Image_data/train/V/1408.jpg     V\n",
              "\n",
              "[97136 rows x 2 columns]"
            ],
            "text/html": [
              "\n",
              "  <div id=\"df-7649d3c9-b07c-427a-8dfe-8661b756f9c1\">\n",
              "    <div class=\"colab-df-container\">\n",
              "      <div>\n",
              "<style scoped>\n",
              "    .dataframe tbody tr th:only-of-type {\n",
              "        vertical-align: middle;\n",
              "    }\n",
              "\n",
              "    .dataframe tbody tr th {\n",
              "        vertical-align: top;\n",
              "    }\n",
              "\n",
              "    .dataframe thead th {\n",
              "        text-align: right;\n",
              "    }\n",
              "</style>\n",
              "<table border=\"1\" class=\"dataframe\">\n",
              "  <thead>\n",
              "    <tr style=\"text-align: right;\">\n",
              "      <th></th>\n",
              "      <th>Filepath</th>\n",
              "      <th>Label</th>\n",
              "    </tr>\n",
              "  </thead>\n",
              "  <tbody>\n",
              "    <tr>\n",
              "      <th>0</th>\n",
              "      <td>/content/ECG_Image_data/train/N/1846.jpg</td>\n",
              "      <td>N</td>\n",
              "    </tr>\n",
              "    <tr>\n",
              "      <th>1</th>\n",
              "      <td>/content/ECG_Image_data/train/N/22590.jpg</td>\n",
              "      <td>N</td>\n",
              "    </tr>\n",
              "    <tr>\n",
              "      <th>2</th>\n",
              "      <td>/content/ECG_Image_data/train/N/29074.jpg</td>\n",
              "      <td>N</td>\n",
              "    </tr>\n",
              "    <tr>\n",
              "      <th>3</th>\n",
              "      <td>/content/ECG_Image_data/train/N/16572.jpg</td>\n",
              "      <td>N</td>\n",
              "    </tr>\n",
              "    <tr>\n",
              "      <th>4</th>\n",
              "      <td>/content/ECG_Image_data/train/N/72132.jpg</td>\n",
              "      <td>N</td>\n",
              "    </tr>\n",
              "    <tr>\n",
              "      <th>...</th>\n",
              "      <td>...</td>\n",
              "      <td>...</td>\n",
              "    </tr>\n",
              "    <tr>\n",
              "      <th>97131</th>\n",
              "      <td>/content/ECG_Image_data/train/V/3904.jpg</td>\n",
              "      <td>V</td>\n",
              "    </tr>\n",
              "    <tr>\n",
              "      <th>97132</th>\n",
              "      <td>/content/ECG_Image_data/train/V/280.jpg</td>\n",
              "      <td>V</td>\n",
              "    </tr>\n",
              "    <tr>\n",
              "      <th>97133</th>\n",
              "      <td>/content/ECG_Image_data/train/V/3312.jpg</td>\n",
              "      <td>V</td>\n",
              "    </tr>\n",
              "    <tr>\n",
              "      <th>97134</th>\n",
              "      <td>/content/ECG_Image_data/train/V/3437.jpg</td>\n",
              "      <td>V</td>\n",
              "    </tr>\n",
              "    <tr>\n",
              "      <th>97135</th>\n",
              "      <td>/content/ECG_Image_data/train/V/1408.jpg</td>\n",
              "      <td>V</td>\n",
              "    </tr>\n",
              "  </tbody>\n",
              "</table>\n",
              "<p>97136 rows × 2 columns</p>\n",
              "</div>\n",
              "      <button class=\"colab-df-convert\" onclick=\"convertToInteractive('df-7649d3c9-b07c-427a-8dfe-8661b756f9c1')\"\n",
              "              title=\"Convert this dataframe to an interactive table.\"\n",
              "              style=\"display:none;\">\n",
              "        \n",
              "  <svg xmlns=\"http://www.w3.org/2000/svg\" height=\"24px\"viewBox=\"0 0 24 24\"\n",
              "       width=\"24px\">\n",
              "    <path d=\"M0 0h24v24H0V0z\" fill=\"none\"/>\n",
              "    <path d=\"M18.56 5.44l.94 2.06.94-2.06 2.06-.94-2.06-.94-.94-2.06-.94 2.06-2.06.94zm-11 1L8.5 8.5l.94-2.06 2.06-.94-2.06-.94L8.5 2.5l-.94 2.06-2.06.94zm10 10l.94 2.06.94-2.06 2.06-.94-2.06-.94-.94-2.06-.94 2.06-2.06.94z\"/><path d=\"M17.41 7.96l-1.37-1.37c-.4-.4-.92-.59-1.43-.59-.52 0-1.04.2-1.43.59L10.3 9.45l-7.72 7.72c-.78.78-.78 2.05 0 2.83L4 21.41c.39.39.9.59 1.41.59.51 0 1.02-.2 1.41-.59l7.78-7.78 2.81-2.81c.8-.78.8-2.07 0-2.86zM5.41 20L4 18.59l7.72-7.72 1.47 1.35L5.41 20z\"/>\n",
              "  </svg>\n",
              "      </button>\n",
              "      \n",
              "  <style>\n",
              "    .colab-df-container {\n",
              "      display:flex;\n",
              "      flex-wrap:wrap;\n",
              "      gap: 12px;\n",
              "    }\n",
              "\n",
              "    .colab-df-convert {\n",
              "      background-color: #E8F0FE;\n",
              "      border: none;\n",
              "      border-radius: 50%;\n",
              "      cursor: pointer;\n",
              "      display: none;\n",
              "      fill: #1967D2;\n",
              "      height: 32px;\n",
              "      padding: 0 0 0 0;\n",
              "      width: 32px;\n",
              "    }\n",
              "\n",
              "    .colab-df-convert:hover {\n",
              "      background-color: #E2EBFA;\n",
              "      box-shadow: 0px 1px 2px rgba(60, 64, 67, 0.3), 0px 1px 3px 1px rgba(60, 64, 67, 0.15);\n",
              "      fill: #174EA6;\n",
              "    }\n",
              "\n",
              "    [theme=dark] .colab-df-convert {\n",
              "      background-color: #3B4455;\n",
              "      fill: #D2E3FC;\n",
              "    }\n",
              "\n",
              "    [theme=dark] .colab-df-convert:hover {\n",
              "      background-color: #434B5C;\n",
              "      box-shadow: 0px 1px 3px 1px rgba(0, 0, 0, 0.15);\n",
              "      filter: drop-shadow(0px 1px 2px rgba(0, 0, 0, 0.3));\n",
              "      fill: #FFFFFF;\n",
              "    }\n",
              "  </style>\n",
              "\n",
              "      <script>\n",
              "        const buttonEl =\n",
              "          document.querySelector('#df-7649d3c9-b07c-427a-8dfe-8661b756f9c1 button.colab-df-convert');\n",
              "        buttonEl.style.display =\n",
              "          google.colab.kernel.accessAllowed ? 'block' : 'none';\n",
              "\n",
              "        async function convertToInteractive(key) {\n",
              "          const element = document.querySelector('#df-7649d3c9-b07c-427a-8dfe-8661b756f9c1');\n",
              "          const dataTable =\n",
              "            await google.colab.kernel.invokeFunction('convertToInteractive',\n",
              "                                                     [key], {});\n",
              "          if (!dataTable) return;\n",
              "\n",
              "          const docLinkHtml = 'Like what you see? Visit the ' +\n",
              "            '<a target=\"_blank\" href=https://colab.research.google.com/notebooks/data_table.ipynb>data table notebook</a>'\n",
              "            + ' to learn more about interactive tables.';\n",
              "          element.innerHTML = '';\n",
              "          dataTable['output_type'] = 'display_data';\n",
              "          await google.colab.output.renderOutput(dataTable, element);\n",
              "          const docLink = document.createElement('div');\n",
              "          docLink.innerHTML = docLinkHtml;\n",
              "          element.appendChild(docLink);\n",
              "        }\n",
              "      </script>\n",
              "    </div>\n",
              "  </div>\n",
              "  "
            ]
          },
          "metadata": {},
          "execution_count": 15
        }
      ]
    },
    {
      "cell_type": "code",
      "source": [
        "dataframe['Label'].value_counts()"
      ],
      "metadata": {
        "colab": {
          "base_uri": "https://localhost:8080/"
        },
        "id": "EQ-Xi1qwKl6c",
        "outputId": "ca4efb51-1417-4ab9-9608-f440a7afa652"
      },
      "execution_count": 16,
      "outputs": [
        {
          "output_type": "execute_result",
          "data": {
            "text/plain": [
              "N    72471\n",
              "M     8000\n",
              "Q     6431\n",
              "V     5788\n",
              "F     2223\n",
              "S     2223\n",
              "Name: Label, dtype: int64"
            ]
          },
          "metadata": {},
          "execution_count": 16
        }
      ]
    },
    {
      "cell_type": "code",
      "source": [
        "train_samples = []\n",
        "for category in dataframe['Label'].unique():\n",
        "    train_category = dataframe.query(\"Label == @category\")\n",
        "    train_samples.append(train_category.sample(1600, random_state=1))\n",
        "\n",
        "dataframe_train = pd.concat(train_samples, axis=0).sample(frac=1.0, random_state=1).reset_index(drop=True)\n",
        "dataframe_train['Label'].value_counts()"
      ],
      "metadata": {
        "colab": {
          "base_uri": "https://localhost:8080/"
        },
        "id": "BCAkWb3zKl1x",
        "outputId": "d5d0e574-333f-4441-af0e-5d90cbd736f1"
      },
      "execution_count": 17,
      "outputs": [
        {
          "output_type": "execute_result",
          "data": {
            "text/plain": [
              "V    1600\n",
              "N    1600\n",
              "Q    1600\n",
              "F    1600\n",
              "M    1600\n",
              "S    1600\n",
              "Name: Label, dtype: int64"
            ]
          },
          "metadata": {},
          "execution_count": 17
        }
      ]
    },
    {
      "cell_type": "code",
      "source": [
        "dataframe_train"
      ],
      "metadata": {
        "colab": {
          "base_uri": "https://localhost:8080/",
          "height": 424
        },
        "id": "TmI929ifKlxX",
        "outputId": "9d0c9924-fb89-49f2-998c-4a2623781c62"
      },
      "execution_count": 18,
      "outputs": [
        {
          "output_type": "execute_result",
          "data": {
            "text/plain": [
              "                                       Filepath Label\n",
              "0      /content/ECG_Image_data/train/V/1897.jpg     V\n",
              "1     /content/ECG_Image_data/train/N/10200.jpg     N\n",
              "2      /content/ECG_Image_data/train/Q/2375.jpg     Q\n",
              "3      /content/ECG_Image_data/train/V/3403.jpg     V\n",
              "4     /content/ECG_Image_data/train/N/30554.jpg     N\n",
              "...                                         ...   ...\n",
              "9595    /content/ECG_Image_data/train/F/185.jpg     F\n",
              "9596   /content/ECG_Image_data/train/M/1392.jpg     M\n",
              "9597  /content/ECG_Image_data/train/N/14108.jpg     N\n",
              "9598   /content/ECG_Image_data/train/Q/1590.jpg     Q\n",
              "9599  /content/ECG_Image_data/train/N/65338.jpg     N\n",
              "\n",
              "[9600 rows x 2 columns]"
            ],
            "text/html": [
              "\n",
              "  <div id=\"df-2c013519-6f0a-4050-a7bf-37d26b8f0a43\">\n",
              "    <div class=\"colab-df-container\">\n",
              "      <div>\n",
              "<style scoped>\n",
              "    .dataframe tbody tr th:only-of-type {\n",
              "        vertical-align: middle;\n",
              "    }\n",
              "\n",
              "    .dataframe tbody tr th {\n",
              "        vertical-align: top;\n",
              "    }\n",
              "\n",
              "    .dataframe thead th {\n",
              "        text-align: right;\n",
              "    }\n",
              "</style>\n",
              "<table border=\"1\" class=\"dataframe\">\n",
              "  <thead>\n",
              "    <tr style=\"text-align: right;\">\n",
              "      <th></th>\n",
              "      <th>Filepath</th>\n",
              "      <th>Label</th>\n",
              "    </tr>\n",
              "  </thead>\n",
              "  <tbody>\n",
              "    <tr>\n",
              "      <th>0</th>\n",
              "      <td>/content/ECG_Image_data/train/V/1897.jpg</td>\n",
              "      <td>V</td>\n",
              "    </tr>\n",
              "    <tr>\n",
              "      <th>1</th>\n",
              "      <td>/content/ECG_Image_data/train/N/10200.jpg</td>\n",
              "      <td>N</td>\n",
              "    </tr>\n",
              "    <tr>\n",
              "      <th>2</th>\n",
              "      <td>/content/ECG_Image_data/train/Q/2375.jpg</td>\n",
              "      <td>Q</td>\n",
              "    </tr>\n",
              "    <tr>\n",
              "      <th>3</th>\n",
              "      <td>/content/ECG_Image_data/train/V/3403.jpg</td>\n",
              "      <td>V</td>\n",
              "    </tr>\n",
              "    <tr>\n",
              "      <th>4</th>\n",
              "      <td>/content/ECG_Image_data/train/N/30554.jpg</td>\n",
              "      <td>N</td>\n",
              "    </tr>\n",
              "    <tr>\n",
              "      <th>...</th>\n",
              "      <td>...</td>\n",
              "      <td>...</td>\n",
              "    </tr>\n",
              "    <tr>\n",
              "      <th>9595</th>\n",
              "      <td>/content/ECG_Image_data/train/F/185.jpg</td>\n",
              "      <td>F</td>\n",
              "    </tr>\n",
              "    <tr>\n",
              "      <th>9596</th>\n",
              "      <td>/content/ECG_Image_data/train/M/1392.jpg</td>\n",
              "      <td>M</td>\n",
              "    </tr>\n",
              "    <tr>\n",
              "      <th>9597</th>\n",
              "      <td>/content/ECG_Image_data/train/N/14108.jpg</td>\n",
              "      <td>N</td>\n",
              "    </tr>\n",
              "    <tr>\n",
              "      <th>9598</th>\n",
              "      <td>/content/ECG_Image_data/train/Q/1590.jpg</td>\n",
              "      <td>Q</td>\n",
              "    </tr>\n",
              "    <tr>\n",
              "      <th>9599</th>\n",
              "      <td>/content/ECG_Image_data/train/N/65338.jpg</td>\n",
              "      <td>N</td>\n",
              "    </tr>\n",
              "  </tbody>\n",
              "</table>\n",
              "<p>9600 rows × 2 columns</p>\n",
              "</div>\n",
              "      <button class=\"colab-df-convert\" onclick=\"convertToInteractive('df-2c013519-6f0a-4050-a7bf-37d26b8f0a43')\"\n",
              "              title=\"Convert this dataframe to an interactive table.\"\n",
              "              style=\"display:none;\">\n",
              "        \n",
              "  <svg xmlns=\"http://www.w3.org/2000/svg\" height=\"24px\"viewBox=\"0 0 24 24\"\n",
              "       width=\"24px\">\n",
              "    <path d=\"M0 0h24v24H0V0z\" fill=\"none\"/>\n",
              "    <path d=\"M18.56 5.44l.94 2.06.94-2.06 2.06-.94-2.06-.94-.94-2.06-.94 2.06-2.06.94zm-11 1L8.5 8.5l.94-2.06 2.06-.94-2.06-.94L8.5 2.5l-.94 2.06-2.06.94zm10 10l.94 2.06.94-2.06 2.06-.94-2.06-.94-.94-2.06-.94 2.06-2.06.94z\"/><path d=\"M17.41 7.96l-1.37-1.37c-.4-.4-.92-.59-1.43-.59-.52 0-1.04.2-1.43.59L10.3 9.45l-7.72 7.72c-.78.78-.78 2.05 0 2.83L4 21.41c.39.39.9.59 1.41.59.51 0 1.02-.2 1.41-.59l7.78-7.78 2.81-2.81c.8-.78.8-2.07 0-2.86zM5.41 20L4 18.59l7.72-7.72 1.47 1.35L5.41 20z\"/>\n",
              "  </svg>\n",
              "      </button>\n",
              "      \n",
              "  <style>\n",
              "    .colab-df-container {\n",
              "      display:flex;\n",
              "      flex-wrap:wrap;\n",
              "      gap: 12px;\n",
              "    }\n",
              "\n",
              "    .colab-df-convert {\n",
              "      background-color: #E8F0FE;\n",
              "      border: none;\n",
              "      border-radius: 50%;\n",
              "      cursor: pointer;\n",
              "      display: none;\n",
              "      fill: #1967D2;\n",
              "      height: 32px;\n",
              "      padding: 0 0 0 0;\n",
              "      width: 32px;\n",
              "    }\n",
              "\n",
              "    .colab-df-convert:hover {\n",
              "      background-color: #E2EBFA;\n",
              "      box-shadow: 0px 1px 2px rgba(60, 64, 67, 0.3), 0px 1px 3px 1px rgba(60, 64, 67, 0.15);\n",
              "      fill: #174EA6;\n",
              "    }\n",
              "\n",
              "    [theme=dark] .colab-df-convert {\n",
              "      background-color: #3B4455;\n",
              "      fill: #D2E3FC;\n",
              "    }\n",
              "\n",
              "    [theme=dark] .colab-df-convert:hover {\n",
              "      background-color: #434B5C;\n",
              "      box-shadow: 0px 1px 3px 1px rgba(0, 0, 0, 0.15);\n",
              "      filter: drop-shadow(0px 1px 2px rgba(0, 0, 0, 0.3));\n",
              "      fill: #FFFFFF;\n",
              "    }\n",
              "  </style>\n",
              "\n",
              "      <script>\n",
              "        const buttonEl =\n",
              "          document.querySelector('#df-2c013519-6f0a-4050-a7bf-37d26b8f0a43 button.colab-df-convert');\n",
              "        buttonEl.style.display =\n",
              "          google.colab.kernel.accessAllowed ? 'block' : 'none';\n",
              "\n",
              "        async function convertToInteractive(key) {\n",
              "          const element = document.querySelector('#df-2c013519-6f0a-4050-a7bf-37d26b8f0a43');\n",
              "          const dataTable =\n",
              "            await google.colab.kernel.invokeFunction('convertToInteractive',\n",
              "                                                     [key], {});\n",
              "          if (!dataTable) return;\n",
              "\n",
              "          const docLinkHtml = 'Like what you see? Visit the ' +\n",
              "            '<a target=\"_blank\" href=https://colab.research.google.com/notebooks/data_table.ipynb>data table notebook</a>'\n",
              "            + ' to learn more about interactive tables.';\n",
              "          element.innerHTML = '';\n",
              "          dataTable['output_type'] = 'display_data';\n",
              "          await google.colab.output.renderOutput(dataTable, element);\n",
              "          const docLink = document.createElement('div');\n",
              "          docLink.innerHTML = docLinkHtml;\n",
              "          element.appendChild(docLink);\n",
              "        }\n",
              "      </script>\n",
              "    </div>\n",
              "  </div>\n",
              "  "
            ]
          },
          "metadata": {},
          "execution_count": 18
        }
      ]
    },
    {
      "cell_type": "code",
      "source": [
        "filepaths = list(test_dir.glob(r'**/*.jpg'))\n",
        "labels = list(map(lambda x: os.path.split(os.path.split(x)[0])[1], filepaths))\n",
        "\n",
        "filepaths = pd.Series(filepaths, name='Filepath').astype(str)\n",
        "labels = pd.Series(labels, name='Label')\n",
        "\n",
        "dataframe_test = pd.concat([filepaths , labels] , axis=1)\n",
        "dataframe_test"
      ],
      "metadata": {
        "id": "wHJw87NlKlwI"
      },
      "execution_count": null,
      "outputs": []
    },
    {
      "cell_type": "code",
      "source": [
        "dataframe_test['Label'].value_counts()"
      ],
      "metadata": {
        "colab": {
          "base_uri": "https://localhost:8080/"
        },
        "id": "bU-Y7BZGKluK",
        "outputId": "98151527-bd37-46b6-9c75-738f964d4601"
      },
      "execution_count": 21,
      "outputs": [
        {
          "output_type": "execute_result",
          "data": {
            "text/plain": [
              "N    18118\n",
              "M     2506\n",
              "Q     1608\n",
              "V     1448\n",
              "F      556\n",
              "S      556\n",
              "Name: Label, dtype: int64"
            ]
          },
          "metadata": {},
          "execution_count": 21
        }
      ]
    },
    {
      "cell_type": "code",
      "source": [
        "test_samples = []\n",
        "for category in dataframe_test['Label'].unique():\n",
        "    test_category = dataframe_test.query(\"Label == @category\")\n",
        "    test_samples.append(test_category.sample(500, random_state=1))\n",
        "\n",
        "dataframe_test = pd.concat(test_samples, axis=0).sample(frac=1.0, random_state=1).reset_index(drop=True)\n",
        "dataframe_test['Label'].value_counts()"
      ],
      "metadata": {
        "colab": {
          "base_uri": "https://localhost:8080/"
        },
        "id": "pu79tvqDKlrk",
        "outputId": "3327075a-a463-4280-c0d6-2c00c829e9d6"
      },
      "execution_count": 22,
      "outputs": [
        {
          "output_type": "execute_result",
          "data": {
            "text/plain": [
              "Q    500\n",
              "M    500\n",
              "S    500\n",
              "N    500\n",
              "V    500\n",
              "F    500\n",
              "Name: Label, dtype: int64"
            ]
          },
          "metadata": {},
          "execution_count": 22
        }
      ]
    },
    {
      "cell_type": "code",
      "source": [
        "dataframe_test"
      ],
      "metadata": {
        "colab": {
          "base_uri": "https://localhost:8080/",
          "height": 424
        },
        "id": "I2oJhenlKlpx",
        "outputId": "cc1f9707-e383-4d25-d656-60486124e62d"
      },
      "execution_count": 23,
      "outputs": [
        {
          "output_type": "execute_result",
          "data": {
            "text/plain": [
              "                                     Filepath Label\n",
              "0      /content/ECG_Image_data/test/Q/653.jpg     Q\n",
              "1      /content/ECG_Image_data/test/M/434.jpg     M\n",
              "2      /content/ECG_Image_data/test/S/439.jpg     S\n",
              "3     /content/ECG_Image_data/test/Q/1070.jpg     Q\n",
              "4      /content/ECG_Image_data/test/S/368.jpg     S\n",
              "...                                       ...   ...\n",
              "2995  /content/ECG_Image_data/test/V/1299.jpg     V\n",
              "2996   /content/ECG_Image_data/test/F/461.jpg     F\n",
              "2997    /content/ECG_Image_data/test/S/45.jpg     S\n",
              "2998  /content/ECG_Image_data/test/N/4600.jpg     N\n",
              "2999    /content/ECG_Image_data/test/S/65.jpg     S\n",
              "\n",
              "[3000 rows x 2 columns]"
            ],
            "text/html": [
              "\n",
              "  <div id=\"df-15b538bf-937e-4f56-a249-d352b3045012\">\n",
              "    <div class=\"colab-df-container\">\n",
              "      <div>\n",
              "<style scoped>\n",
              "    .dataframe tbody tr th:only-of-type {\n",
              "        vertical-align: middle;\n",
              "    }\n",
              "\n",
              "    .dataframe tbody tr th {\n",
              "        vertical-align: top;\n",
              "    }\n",
              "\n",
              "    .dataframe thead th {\n",
              "        text-align: right;\n",
              "    }\n",
              "</style>\n",
              "<table border=\"1\" class=\"dataframe\">\n",
              "  <thead>\n",
              "    <tr style=\"text-align: right;\">\n",
              "      <th></th>\n",
              "      <th>Filepath</th>\n",
              "      <th>Label</th>\n",
              "    </tr>\n",
              "  </thead>\n",
              "  <tbody>\n",
              "    <tr>\n",
              "      <th>0</th>\n",
              "      <td>/content/ECG_Image_data/test/Q/653.jpg</td>\n",
              "      <td>Q</td>\n",
              "    </tr>\n",
              "    <tr>\n",
              "      <th>1</th>\n",
              "      <td>/content/ECG_Image_data/test/M/434.jpg</td>\n",
              "      <td>M</td>\n",
              "    </tr>\n",
              "    <tr>\n",
              "      <th>2</th>\n",
              "      <td>/content/ECG_Image_data/test/S/439.jpg</td>\n",
              "      <td>S</td>\n",
              "    </tr>\n",
              "    <tr>\n",
              "      <th>3</th>\n",
              "      <td>/content/ECG_Image_data/test/Q/1070.jpg</td>\n",
              "      <td>Q</td>\n",
              "    </tr>\n",
              "    <tr>\n",
              "      <th>4</th>\n",
              "      <td>/content/ECG_Image_data/test/S/368.jpg</td>\n",
              "      <td>S</td>\n",
              "    </tr>\n",
              "    <tr>\n",
              "      <th>...</th>\n",
              "      <td>...</td>\n",
              "      <td>...</td>\n",
              "    </tr>\n",
              "    <tr>\n",
              "      <th>2995</th>\n",
              "      <td>/content/ECG_Image_data/test/V/1299.jpg</td>\n",
              "      <td>V</td>\n",
              "    </tr>\n",
              "    <tr>\n",
              "      <th>2996</th>\n",
              "      <td>/content/ECG_Image_data/test/F/461.jpg</td>\n",
              "      <td>F</td>\n",
              "    </tr>\n",
              "    <tr>\n",
              "      <th>2997</th>\n",
              "      <td>/content/ECG_Image_data/test/S/45.jpg</td>\n",
              "      <td>S</td>\n",
              "    </tr>\n",
              "    <tr>\n",
              "      <th>2998</th>\n",
              "      <td>/content/ECG_Image_data/test/N/4600.jpg</td>\n",
              "      <td>N</td>\n",
              "    </tr>\n",
              "    <tr>\n",
              "      <th>2999</th>\n",
              "      <td>/content/ECG_Image_data/test/S/65.jpg</td>\n",
              "      <td>S</td>\n",
              "    </tr>\n",
              "  </tbody>\n",
              "</table>\n",
              "<p>3000 rows × 2 columns</p>\n",
              "</div>\n",
              "      <button class=\"colab-df-convert\" onclick=\"convertToInteractive('df-15b538bf-937e-4f56-a249-d352b3045012')\"\n",
              "              title=\"Convert this dataframe to an interactive table.\"\n",
              "              style=\"display:none;\">\n",
              "        \n",
              "  <svg xmlns=\"http://www.w3.org/2000/svg\" height=\"24px\"viewBox=\"0 0 24 24\"\n",
              "       width=\"24px\">\n",
              "    <path d=\"M0 0h24v24H0V0z\" fill=\"none\"/>\n",
              "    <path d=\"M18.56 5.44l.94 2.06.94-2.06 2.06-.94-2.06-.94-.94-2.06-.94 2.06-2.06.94zm-11 1L8.5 8.5l.94-2.06 2.06-.94-2.06-.94L8.5 2.5l-.94 2.06-2.06.94zm10 10l.94 2.06.94-2.06 2.06-.94-2.06-.94-.94-2.06-.94 2.06-2.06.94z\"/><path d=\"M17.41 7.96l-1.37-1.37c-.4-.4-.92-.59-1.43-.59-.52 0-1.04.2-1.43.59L10.3 9.45l-7.72 7.72c-.78.78-.78 2.05 0 2.83L4 21.41c.39.39.9.59 1.41.59.51 0 1.02-.2 1.41-.59l7.78-7.78 2.81-2.81c.8-.78.8-2.07 0-2.86zM5.41 20L4 18.59l7.72-7.72 1.47 1.35L5.41 20z\"/>\n",
              "  </svg>\n",
              "      </button>\n",
              "      \n",
              "  <style>\n",
              "    .colab-df-container {\n",
              "      display:flex;\n",
              "      flex-wrap:wrap;\n",
              "      gap: 12px;\n",
              "    }\n",
              "\n",
              "    .colab-df-convert {\n",
              "      background-color: #E8F0FE;\n",
              "      border: none;\n",
              "      border-radius: 50%;\n",
              "      cursor: pointer;\n",
              "      display: none;\n",
              "      fill: #1967D2;\n",
              "      height: 32px;\n",
              "      padding: 0 0 0 0;\n",
              "      width: 32px;\n",
              "    }\n",
              "\n",
              "    .colab-df-convert:hover {\n",
              "      background-color: #E2EBFA;\n",
              "      box-shadow: 0px 1px 2px rgba(60, 64, 67, 0.3), 0px 1px 3px 1px rgba(60, 64, 67, 0.15);\n",
              "      fill: #174EA6;\n",
              "    }\n",
              "\n",
              "    [theme=dark] .colab-df-convert {\n",
              "      background-color: #3B4455;\n",
              "      fill: #D2E3FC;\n",
              "    }\n",
              "\n",
              "    [theme=dark] .colab-df-convert:hover {\n",
              "      background-color: #434B5C;\n",
              "      box-shadow: 0px 1px 3px 1px rgba(0, 0, 0, 0.15);\n",
              "      filter: drop-shadow(0px 1px 2px rgba(0, 0, 0, 0.3));\n",
              "      fill: #FFFFFF;\n",
              "    }\n",
              "  </style>\n",
              "\n",
              "      <script>\n",
              "        const buttonEl =\n",
              "          document.querySelector('#df-15b538bf-937e-4f56-a249-d352b3045012 button.colab-df-convert');\n",
              "        buttonEl.style.display =\n",
              "          google.colab.kernel.accessAllowed ? 'block' : 'none';\n",
              "\n",
              "        async function convertToInteractive(key) {\n",
              "          const element = document.querySelector('#df-15b538bf-937e-4f56-a249-d352b3045012');\n",
              "          const dataTable =\n",
              "            await google.colab.kernel.invokeFunction('convertToInteractive',\n",
              "                                                     [key], {});\n",
              "          if (!dataTable) return;\n",
              "\n",
              "          const docLinkHtml = 'Like what you see? Visit the ' +\n",
              "            '<a target=\"_blank\" href=https://colab.research.google.com/notebooks/data_table.ipynb>data table notebook</a>'\n",
              "            + ' to learn more about interactive tables.';\n",
              "          element.innerHTML = '';\n",
              "          dataTable['output_type'] = 'display_data';\n",
              "          await google.colab.output.renderOutput(dataTable, element);\n",
              "          const docLink = document.createElement('div');\n",
              "          docLink.innerHTML = docLinkHtml;\n",
              "          element.appendChild(docLink);\n",
              "        }\n",
              "      </script>\n",
              "    </div>\n",
              "  </div>\n",
              "  "
            ]
          },
          "metadata": {},
          "execution_count": 23
        }
      ]
    },
    {
      "cell_type": "code",
      "source": [
        "from keras.utils import img_to_array,load_img\n",
        "img = load_img(dataframe_test['Filepath'].values[1])\n",
        "plt.imshow(img)\n",
        "plt.axis(\"on\")\n",
        "plt.show()"
      ],
      "metadata": {
        "colab": {
          "base_uri": "https://localhost:8080/",
          "height": 269
        },
        "id": "SYq6-elcKlnm",
        "outputId": "62031eff-8c53-462c-ad3e-325a8ff05f9b"
      },
      "execution_count": 24,
      "outputs": [
        {
          "output_type": "display_data",
          "data": {
            "text/plain": [
              "<Figure size 432x288 with 1 Axes>"
            ],
            "image/png": "[encoded data removed]"
          },
          "metadata": {
            "needs_background": "light"
          }
        }
      ]
    },
    {
      "cell_type": "code",
      "source": [
        "array_image = img_to_array(img)\n",
        "print(array_image.shape)"
      ],
      "metadata": {
        "colab": {
          "base_uri": "https://localhost:8080/"
        },
        "id": "X7fm1GuqKllq",
        "outputId": "1cbf9a44-5608-4d98-c41d-70d4d7bc0539"
      },
      "execution_count": 25,
      "outputs": [
        {
          "output_type": "stream",
          "name": "stdout",
          "text": [
            "(288, 432, 3)\n"
          ]
        }
      ]
    },
    {
      "cell_type": "code",
      "source": [
        "train_datagen = tf.keras.preprocessing.image.ImageDataGenerator(\n",
        "    #preprocessing_function=tf.keras.applications.vgg16.preprocess_input,\n",
        "    rescale=1./255,\n",
        "    #shear_range = 0.2,\n",
        "    #horizontal_flip=True,\n",
        "    #zoom_range = 0.2,\n",
        "    validation_split=0.25\n",
        "  \n",
        ")\n",
        "\n",
        "test_datagen = tf.keras.preprocessing.image.ImageDataGenerator(\n",
        "    #preprocessing_function=tf.keras.applications.vgg16.preprocess_input,\n",
        "    rescale=1./255\n",
        ")"
      ],
      "metadata": {
        "id": "22TL99zFKljO"
      },
      "execution_count": 26,
      "outputs": []
    },
    {
      "cell_type": "code",
      "source": [
        "train_generator = train_datagen.flow_from_dataframe(\n",
        "    dataframe=dataframe_train,\n",
        "    x_col='Filepath',\n",
        "    y_col='Label',\n",
        "    target_size=(224, 224),\n",
        "    color_mode='rgb',\n",
        "    class_mode='categorical',\n",
        "    batch_size=32,\n",
        "    shuffle=True,\n",
        "    seed=42,\n",
        "    subset='training'\n",
        ")\n",
        "\n",
        "val_generator = train_datagen.flow_from_dataframe(\n",
        "    dataframe=dataframe_train,\n",
        "    x_col='Filepath',\n",
        "    y_col='Label',\n",
        "    target_size=(224, 224),\n",
        "    color_mode='rgb',\n",
        "    class_mode='categorical',\n",
        "    batch_size=32,\n",
        "    shuffle=True,\n",
        "    seed=42,\n",
        "    subset='validation'\n",
        ")\n",
        "test_generator = test_datagen.flow_from_dataframe(\n",
        "    dataframe=dataframe_test,\n",
        "    x_col='Filepath',\n",
        "    y_col='Label',\n",
        "    target_size=(224, 224),\n",
        "    color_mode='rgb',\n",
        "    class_mode='categorical',\n",
        "    batch_size=32,\n",
        "    shuffle=False\n",
        ")"
      ],
      "metadata": {
        "colab": {
          "base_uri": "https://localhost:8080/"
        },
        "id": "cN4-rgx0KlhY",
        "outputId": "3fcfa630-8fbb-4126-8b11-784d0976dd6c"
      },
      "execution_count": 27,
      "outputs": [
        {
          "output_type": "stream",
          "name": "stdout",
          "text": [
            "Found 7200 validated image filenames belonging to 6 classes.\n",
            "Found 2400 validated image filenames belonging to 6 classes.\n",
            "Found 3000 validated image filenames belonging to 6 classes.\n"
          ]
        }
      ]
    },
    {
      "cell_type": "code",
      "source": [
        "test_generator.class_indices"
      ],
      "metadata": {
        "colab": {
          "base_uri": "https://localhost:8080/"
        },
        "id": "URJj_qmUKlfj",
        "outputId": "8f3176cf-ee4a-45fa-cdab-87e07414acff"
      },
      "execution_count": 28,
      "outputs": [
        {
          "output_type": "execute_result",
          "data": {
            "text/plain": [
              "{'F': 0, 'M': 1, 'N': 2, 'Q': 3, 'S': 4, 'V': 5}"
            ]
          },
          "metadata": {},
          "execution_count": 28
        }
      ]
    },
    {
      "cell_type": "code",
      "source": [
        "plt.imshow(test_generator[0][0][3])"
      ],
      "metadata": {
        "colab": {
          "base_uri": "https://localhost:8080/",
          "height": 287
        },
        "id": "8uGTHXz7KlcD",
        "outputId": "c4a36d4f-db39-4c2c-a7c8-f9d9a0f3bc8a"
      },
      "execution_count": 29,
      "outputs": [
        {
          "output_type": "execute_result",
          "data": {
            "text/plain": [
              "<matplotlib.image.AxesImage at 0x7fa3811aaee0>"
            ]
          },
          "metadata": {},
          "execution_count": 29
        },
        {
          "output_type": "display_data",
          "data": {
            "text/plain": [
              "<Figure size 432x288 with 1 Axes>"
            ],
            "image/png": "[encoded data removed]"
          },
          "metadata": {
            "needs_background": "light"
          }
        }
      ]
    },
    {
      "cell_type": "code",
      "source": [
        "folders=glob('/content/ECG_Image_data/test/*')\n",
        "folders"
      ],
      "metadata": {
        "colab": {
          "base_uri": "https://localhost:8080/"
        },
        "id": "HJxFBH43KlaD",
        "outputId": "823c8b64-7c23-4c62-e21e-6f2e600bbfb9"
      },
      "execution_count": 30,
      "outputs": [
        {
          "output_type": "execute_result",
          "data": {
            "text/plain": [
              "['/content/ECG_Image_data/test/N',\n",
              " '/content/ECG_Image_data/test/F',\n",
              " '/content/ECG_Image_data/test/S',\n",
              " '/content/ECG_Image_data/test/Q',\n",
              " '/content/ECG_Image_data/test/M',\n",
              " '/content/ECG_Image_data/test/V']"
            ]
          },
          "metadata": {},
          "execution_count": 30
        }
      ]
    },
    {
      "cell_type": "code",
      "source": [
        "IMAGE_SIZE = [224, 224]\n",
        "vgg = VGG19(input_shape=IMAGE_SIZE + [3], weights='imagenet', include_top=False)"
      ],
      "metadata": {
        "colab": {
          "base_uri": "https://localhost:8080/"
        },
        "id": "JXiVmULEKlYO",
        "outputId": "ce9b609d-6cad-4e65-a73b-5c1267bc101d"
      },
      "execution_count": 31,
      "outputs": [
        {
          "output_type": "stream",
          "name": "stdout",
          "text": [
            "Downloading data from https://storage.googleapis.com/tensorflow/keras-applications/vgg19/vgg19_weights_tf_dim_ordering_tf_kernels_notop.h5\n",
            "80134624/80134624 [==============================] - 0s 0us/step\n"
          ]
        }
      ]
    },
    {
      "cell_type": "code",
      "source": [
        "for layer in vgg.layers:\n",
        "  layer.trainable = False"
      ],
      "metadata": {
        "id": "opu1CHgGKlWg"
      },
      "execution_count": 32,
      "outputs": []
    },
    {
      "cell_type": "code",
      "source": [
        "x = Flatten()(vgg.output)"
      ],
      "metadata": {
        "id": "yokXpjEmKlUp"
      },
      "execution_count": 33,
      "outputs": []
    },
    {
      "cell_type": "code",
      "source": [
        "prediction = Dense(len(folders), activation='softmax')(x)"
      ],
      "metadata": {
        "id": "07EWRdZYKlSo"
      },
      "execution_count": 34,
      "outputs": []
    },
    {
      "cell_type": "code",
      "source": [
        "vgg_model = Model(inputs=vgg.input, outputs=prediction)\n",
        "\n",
        "vgg_model.summary()"
      ],
      "metadata": {
        "colab": {
          "base_uri": "https://localhost:8080/"
        },
        "id": "qoBwIhSDKlRB",
        "outputId": "a93da595-a995-4ada-8288-d19023754046"
      },
      "execution_count": 35,
      "outputs": [
        {
          "output_type": "stream",
          "name": "stdout",
          "text": [
            "Model: \"model\"\n",
            "_________________________________________________________________\n",
            " Layer (type)                Output Shape              Param #   \n",
            "=================================================================\n",
            " input_1 (InputLayer)        [(None, 224, 224, 3)]     0         \n",
            "                                                                 \n",
            " block1_conv1 (Conv2D)       (None, 224, 224, 64)      1792      \n",
            "                                                                 \n",
            " block1_conv2 (Conv2D)       (None, 224, 224, 64)      36928     \n",
            "                                                                 \n",
            " block1_pool (MaxPooling2D)  (None, 112, 112, 64)      0         \n",
            "                                                                 \n",
            " block2_conv1 (Conv2D)       (None, 112, 112, 128)     73856     \n",
            "                                                                 \n",
            " block2_conv2 (Conv2D)       (None, 112, 112, 128)     147584    \n",
            "                                                                 \n",
            " block2_pool (MaxPooling2D)  (None, 56, 56, 128)       0         \n",
            "                                                                 \n",
            " block3_conv1 (Conv2D)       (None, 56, 56, 256)       295168    \n",
            "                                                                 \n",
            " block3_conv2 (Conv2D)       (None, 56, 56, 256)       590080    \n",
            "                                                                 \n",
            " block3_conv3 (Conv2D)       (None, 56, 56, 256)       590080    \n",
            "                                                                 \n",
            " block3_conv4 (Conv2D)       (None, 56, 56, 256)       590080    \n",
            "                                                                 \n",
            " block3_pool (MaxPooling2D)  (None, 28, 28, 256)       0         \n",
            "                                                                 \n",
            " block4_conv1 (Conv2D)       (None, 28, 28, 512)       1180160   \n",
            "                                                                 \n",
            " block4_conv2 (Conv2D)       (None, 28, 28, 512)       2359808   \n",
            "                                                                 \n",
            " block4_conv3 (Conv2D)       (None, 28, 28, 512)       2359808   \n",
            "                                                                 \n",
            " block4_conv4 (Conv2D)       (None, 28, 28, 512)       2359808   \n",
            "                                                                 \n",
            " block4_pool (MaxPooling2D)  (None, 14, 14, 512)       0         \n",
            "                                                                 \n",
            " block5_conv1 (Conv2D)       (None, 14, 14, 512)       2359808   \n",
            "                                                                 \n",
            " block5_conv2 (Conv2D)       (None, 14, 14, 512)       2359808   \n",
            "                                                                 \n",
            " block5_conv3 (Conv2D)       (None, 14, 14, 512)       2359808   \n",
            "                                                                 \n",
            " block5_conv4 (Conv2D)       (None, 14, 14, 512)       2359808   \n",
            "                                                                 \n",
            " block5_pool (MaxPooling2D)  (None, 7, 7, 512)         0         \n",
            "                                                                 \n",
            " flatten (Flatten)           (None, 25088)             0         \n",
            "                                                                 \n",
            " dense (Dense)               (None, 6)                 150534    \n",
            "                                                                 \n",
            "=================================================================\n",
            "Total params: 20,174,918\n",
            "Trainable params: 150,534\n",
            "Non-trainable params: 20,024,384\n",
            "_________________________________________________________________\n"
          ]
        }
      ]
    },
    {
      "cell_type": "code",
      "source": [
        "import keras\n",
        "checkpoint = keras.callbacks.ModelCheckpoint(\n",
        "    filepath='best_model.h5',\n",
        "    save_weights_only=False,\n",
        "    monitor='val_accuracy',\n",
        "    mode='max',\n",
        "    save_best_only=True,\n",
        "    verbose=1)\n",
        "rp = keras.callbacks.ReduceLROnPlateau(\n",
        "        monitor=\"val_accuracy\",\n",
        "        factor=0.2,\n",
        "        patience=3,\n",
        "        verbose=1,\n",
        "        mode=\"max\",\n",
        "        min_lr=0.00001,\n",
        "     )"
      ],
      "metadata": {
        "id": "SDb7oaEcKlPO"
      },
      "execution_count": 39,
      "outputs": []
    },
    {
      "cell_type": "code",
      "source": [
        "vgg_model.compile(\n",
        "    optimizer='adam',\n",
        "    loss='categorical_crossentropy',\n",
        "    metrics=['accuracy']\n",
        ")"
      ],
      "metadata": {
        "id": "m5J2jZ8hKlNY"
      },
      "execution_count": 40,
      "outputs": []
    },
    {
      "cell_type": "code",
      "source": [
        "result=vgg_model.fit(\n",
        "    train_generator,\n",
        "    validation_data=val_generator,\n",
        "    epochs=25,\n",
        "    steps_per_epoch=len(train_generator),\n",
        "    validation_steps=len(val_generator),\n",
        "    callbacks=[checkpoint,rp]\n",
        ")"
      ],
      "metadata": {
        "colab": {
          "base_uri": "https://localhost:8080/"
        },
        "id": "rVrzLRkjKlL3",
        "outputId": "61f4032e-ec42-41a4-ff59-818a6f8e1100"
      },
      "execution_count": 41,
      "outputs": [
        {
          "output_type": "stream",
          "name": "stdout",
          "text": [
            "Epoch 1/25\n",
            "225/225 [==============================] - ETA: 0s - loss: 0.4441 - accuracy: 0.8450\n",
            "Epoch 1: val_accuracy improved from -inf to 0.85583, saving model to best_model.h5\n",
            "225/225 [==============================] - 55s 239ms/step - loss: 0.4441 - accuracy: 0.8450 - val_loss: 0.3903 - val_accuracy: 0.8558 - lr: 0.0010\n",
            "Epoch 2/25\n",
            "225/225 [==============================] - ETA: 0s - loss: 0.3521 - accuracy: 0.8742\n",
            "Epoch 2: val_accuracy did not improve from 0.85583\n",
            "225/225 [==============================] - 54s 239ms/step - loss: 0.3521 - accuracy: 0.8742 - val_loss: 0.4354 - val_accuracy: 0.8308 - lr: 0.0010\n",
            "Epoch 3/25\n",
            "225/225 [==============================] - ETA: 0s - loss: 0.3136 - accuracy: 0.8883\n",
            "Epoch 3: val_accuracy did not improve from 0.85583\n",
            "225/225 [==============================] - 54s 239ms/step - loss: 0.3136 - accuracy: 0.8883 - val_loss: 0.4058 - val_accuracy: 0.8408 - lr: 0.0010\n",
            "Epoch 4/25\n",
            "225/225 [==============================] - ETA: 0s - loss: 0.2709 - accuracy: 0.9042\n",
            "Epoch 4: val_accuracy improved from 0.85583 to 0.88000, saving model to best_model.h5\n",
            "225/225 [==============================] - 54s 239ms/step - loss: 0.2709 - accuracy: 0.9042 - val_loss: 0.3195 - val_accuracy: 0.8800 - lr: 0.0010\n",
            "Epoch 5/25\n",
            "225/225 [==============================] - ETA: 0s - loss: 0.2249 - accuracy: 0.9239\n",
            "Epoch 5: val_accuracy improved from 0.88000 to 0.90042, saving model to best_model.h5\n",
            "225/225 [==============================] - 54s 239ms/step - loss: 0.2249 - accuracy: 0.9239 - val_loss: 0.2782 - val_accuracy: 0.9004 - lr: 0.0010\n",
            "Epoch 6/25\n",
            "225/225 [==============================] - ETA: 0s - loss: 0.2205 - accuracy: 0.9201\n",
            "Epoch 6: val_accuracy did not improve from 0.90042\n",
            "225/225 [==============================] - 54s 241ms/step - loss: 0.2205 - accuracy: 0.9201 - val_loss: 0.3869 - val_accuracy: 0.8708 - lr: 0.0010\n",
            "Epoch 7/25\n",
            "225/225 [==============================] - ETA: 0s - loss: 0.1944 - accuracy: 0.9328\n",
            "Epoch 7: val_accuracy did not improve from 0.90042\n",
            "225/225 [==============================] - 54s 240ms/step - loss: 0.1944 - accuracy: 0.9328 - val_loss: 0.3285 - val_accuracy: 0.8858 - lr: 0.0010\n",
            "Epoch 8/25\n",
            "225/225 [==============================] - ETA: 0s - loss: 0.1976 - accuracy: 0.9276\n",
            "Epoch 8: val_accuracy did not improve from 0.90042\n",
            "\n",
            "Epoch 8: ReduceLROnPlateau reducing learning rate to 0.00020000000949949026.\n",
            "225/225 [==============================] - 54s 240ms/step - loss: 0.1976 - accuracy: 0.9276 - val_loss: 0.3005 - val_accuracy: 0.8967 - lr: 0.0010\n",
            "Epoch 9/25\n",
            "225/225 [==============================] - ETA: 0s - loss: 0.1104 - accuracy: 0.9683\n",
            "Epoch 9: val_accuracy improved from 0.90042 to 0.91375, saving model to best_model.h5\n",
            "225/225 [==============================] - 54s 242ms/step - loss: 0.1104 - accuracy: 0.9683 - val_loss: 0.2430 - val_accuracy: 0.9137 - lr: 2.0000e-04\n",
            "Epoch 10/25\n",
            "225/225 [==============================] - ETA: 0s - loss: 0.1047 - accuracy: 0.9685\n",
            "Epoch 10: val_accuracy did not improve from 0.91375\n",
            "225/225 [==============================] - 54s 241ms/step - loss: 0.1047 - accuracy: 0.9685 - val_loss: 0.2483 - val_accuracy: 0.9133 - lr: 2.0000e-04\n",
            "Epoch 11/25\n",
            "225/225 [==============================] - ETA: 0s - loss: 0.1013 - accuracy: 0.9732\n",
            "Epoch 11: val_accuracy improved from 0.91375 to 0.91417, saving model to best_model.h5\n",
            "225/225 [==============================] - 54s 241ms/step - loss: 0.1013 - accuracy: 0.9732 - val_loss: 0.2400 - val_accuracy: 0.9142 - lr: 2.0000e-04\n",
            "Epoch 12/25\n",
            "225/225 [==============================] - ETA: 0s - loss: 0.0993 - accuracy: 0.9733\n",
            "Epoch 12: val_accuracy did not improve from 0.91417\n",
            "225/225 [==============================] - 54s 240ms/step - loss: 0.0993 - accuracy: 0.9733 - val_loss: 0.2401 - val_accuracy: 0.9133 - lr: 2.0000e-04\n",
            "Epoch 13/25\n",
            "225/225 [==============================] - ETA: 0s - loss: 0.0994 - accuracy: 0.9742\n",
            "Epoch 13: val_accuracy did not improve from 0.91417\n",
            "225/225 [==============================] - 54s 240ms/step - loss: 0.0994 - accuracy: 0.9742 - val_loss: 0.2348 - val_accuracy: 0.9142 - lr: 2.0000e-04\n",
            "Epoch 14/25\n",
            "225/225 [==============================] - ETA: 0s - loss: 0.0948 - accuracy: 0.9753\n",
            "Epoch 14: val_accuracy improved from 0.91417 to 0.91667, saving model to best_model.h5\n",
            "225/225 [==============================] - 54s 241ms/step - loss: 0.0948 - accuracy: 0.9753 - val_loss: 0.2421 - val_accuracy: 0.9167 - lr: 2.0000e-04\n",
            "Epoch 15/25\n",
            "225/225 [==============================] - ETA: 0s - loss: 0.0935 - accuracy: 0.9750\n",
            "Epoch 15: val_accuracy did not improve from 0.91667\n",
            "225/225 [==============================] - 54s 241ms/step - loss: 0.0935 - accuracy: 0.9750 - val_loss: 0.2544 - val_accuracy: 0.9150 - lr: 2.0000e-04\n",
            "Epoch 16/25\n",
            "225/225 [==============================] - ETA: 0s - loss: 0.0929 - accuracy: 0.9767\n",
            "Epoch 16: val_accuracy did not improve from 0.91667\n",
            "225/225 [==============================] - 54s 240ms/step - loss: 0.0929 - accuracy: 0.9767 - val_loss: 0.2516 - val_accuracy: 0.9100 - lr: 2.0000e-04\n",
            "Epoch 17/25\n",
            "225/225 [==============================] - ETA: 0s - loss: 0.0943 - accuracy: 0.9739\n",
            "Epoch 17: val_accuracy did not improve from 0.91667\n",
            "\n",
            "Epoch 17: ReduceLROnPlateau reducing learning rate to 4.0000001899898055e-05.\n",
            "225/225 [==============================] - 54s 240ms/step - loss: 0.0943 - accuracy: 0.9739 - val_loss: 0.2373 - val_accuracy: 0.9167 - lr: 2.0000e-04\n",
            "Epoch 18/25\n",
            "225/225 [==============================] - ETA: 0s - loss: 0.0818 - accuracy: 0.9815\n",
            "Epoch 18: val_accuracy improved from 0.91667 to 0.91875, saving model to best_model.h5\n",
            "225/225 [==============================] - 54s 240ms/step - loss: 0.0818 - accuracy: 0.9815 - val_loss: 0.2279 - val_accuracy: 0.9187 - lr: 4.0000e-05\n",
            "Epoch 19/25\n",
            "225/225 [==============================] - ETA: 0s - loss: 0.0807 - accuracy: 0.9818\n",
            "Epoch 19: val_accuracy did not improve from 0.91875\n",
            "225/225 [==============================] - 54s 239ms/step - loss: 0.0807 - accuracy: 0.9818 - val_loss: 0.2338 - val_accuracy: 0.9154 - lr: 4.0000e-05\n",
            "Epoch 20/25\n",
            "225/225 [==============================] - ETA: 0s - loss: 0.0810 - accuracy: 0.9807\n",
            "Epoch 20: val_accuracy improved from 0.91875 to 0.91917, saving model to best_model.h5\n",
            "225/225 [==============================] - 54s 242ms/step - loss: 0.0810 - accuracy: 0.9807 - val_loss: 0.2278 - val_accuracy: 0.9192 - lr: 4.0000e-05\n",
            "Epoch 21/25\n",
            "225/225 [==============================] - ETA: 0s - loss: 0.0806 - accuracy: 0.9821\n",
            "Epoch 21: val_accuracy improved from 0.91917 to 0.92000, saving model to best_model.h5\n",
            "225/225 [==============================] - 55s 242ms/step - loss: 0.0806 - accuracy: 0.9821 - val_loss: 0.2286 - val_accuracy: 0.9200 - lr: 4.0000e-05\n",
            "Epoch 22/25\n",
            "225/225 [==============================] - ETA: 0s - loss: 0.0798 - accuracy: 0.9825\n",
            "Epoch 22: val_accuracy did not improve from 0.92000\n",
            "225/225 [==============================] - 53s 237ms/step - loss: 0.0798 - accuracy: 0.9825 - val_loss: 0.2318 - val_accuracy: 0.9171 - lr: 4.0000e-05\n",
            "Epoch 23/25\n",
            "225/225 [==============================] - ETA: 0s - loss: 0.0788 - accuracy: 0.9842\n",
            "Epoch 23: val_accuracy did not improve from 0.92000\n",
            "225/225 [==============================] - 54s 241ms/step - loss: 0.0788 - accuracy: 0.9842 - val_loss: 0.2262 - val_accuracy: 0.9196 - lr: 4.0000e-05\n",
            "Epoch 24/25\n",
            "225/225 [==============================] - ETA: 0s - loss: 0.0795 - accuracy: 0.9831\n",
            "Epoch 24: val_accuracy did not improve from 0.92000\n",
            "\n",
            "Epoch 24: ReduceLROnPlateau reducing learning rate to 1e-05.\n",
            "225/225 [==============================] - 54s 239ms/step - loss: 0.0795 - accuracy: 0.9831 - val_loss: 0.2272 - val_accuracy: 0.9183 - lr: 4.0000e-05\n",
            "Epoch 25/25\n",
            "225/225 [==============================] - ETA: 0s - loss: 0.0769 - accuracy: 0.9840\n",
            "Epoch 25: val_accuracy did not improve from 0.92000\n",
            "225/225 [==============================] - 54s 239ms/step - loss: 0.0769 - accuracy: 0.9840 - val_loss: 0.2272 - val_accuracy: 0.9200 - lr: 1.0000e-05\n"
          ]
        }
      ]
    },
    {
      "cell_type": "code",
      "source": [
        "vgg_model.save('best.h5')"
      ],
      "metadata": {
        "id": "vdbywbVFKlJl"
      },
      "execution_count": 42,
      "outputs": []
    },
    {
      "cell_type": "code",
      "source": [
        "from keras.models import load_model\n",
        "best_model1=load_model('/content/best.h5')\n",
        "results1 = best_model1.evaluate(test_generator, verbose=0)\n",
        "\n",
        "print(\"    Test Loss: {:.5f}\".format(results1[0]))\n",
        "print(\"Test Accuracy: {:.2f}%\".format(results1[1] * 100))"
      ],
      "metadata": {
        "id": "PSf_hM3tKlFp",
        "colab": {
          "base_uri": "https://localhost:8080/"
        },
        "outputId": "b1fa6ca5-1823-4d2c-a518-01eb2c9e95c2"
      },
      "execution_count": 43,
      "outputs": [
        {
          "output_type": "stream",
          "name": "stdout",
          "text": [
            "    Test Loss: 0.30760\n",
            "Test Accuracy: 90.60%\n"
          ]
        }
      ]
    },
    {
      "cell_type": "code",
      "source": [
        "from keras.models import load_model\n",
        "best_model=load_model('/content/best_model.h5')\n",
        "results = best_model.evaluate(test_generator, verbose=0)\n",
        "\n",
        "print(\"    Test Loss: {:.5f}\".format(results[0]))\n",
        "print(\"Test Accuracy: {:.2f}%\".format(results[1] * 100))"
      ],
      "metadata": {
        "id": "Zy8gDr2fKkzn",
        "colab": {
          "base_uri": "https://localhost:8080/"
        },
        "outputId": "f4fcd7d6-e1a3-4382-8f30-3319f752167b"
      },
      "execution_count": 44,
      "outputs": [
        {
          "output_type": "stream",
          "name": "stdout",
          "text": [
            "    Test Loss: 0.31342\n",
            "Test Accuracy: 90.67%\n"
          ]
        }
      ]
    },
    {
      "cell_type": "code",
      "source": [
        "import matplotlib.pyplot as plt\n",
        "\n",
        "plt.plot(result.history['loss'])\n",
        "plt.plot(result.history['val_loss'])\n",
        "plt.legend(['Training', 'Validation'])\n",
        "plt.title('Training and Validation losses')\n",
        "plt.xlabel('epoch')\n",
        "plt.ylabel('loss')"
      ],
      "metadata": {
        "id": "G2mJ5IPfKkw2",
        "colab": {
          "base_uri": "https://localhost:8080/",
          "height": 313
        },
        "outputId": "13bd7d4d-d78f-47e0-a775-f7c5ae102b87"
      },
      "execution_count": 45,
      "outputs": [
        {
          "output_type": "execute_result",
          "data": {
            "text/plain": [
              "Text(0, 0.5, 'loss')"
            ]
          },
          "metadata": {},
          "execution_count": 45
        },
        {
          "output_type": "display_data",
          "data": {
            "text/plain": [
              "<Figure size 432x288 with 1 Axes>"
            ],
            "image/png": "[encoded data removed]"
          },
          "metadata": {
            "needs_background": "light"
          }
        }
      ]
    },
    {
      "cell_type": "code",
      "source": [
        "plt.plot(result.history['accuracy'])\n",
        "plt.plot(result.history['val_accuracy'])\n",
        "plt.legend(['Training', 'Validation'])\n",
        "plt.title('Training and Validation accuracy')\n",
        "plt.xlabel('epoch')\n",
        "plt.ylabel('accuracy')"
      ],
      "metadata": {
        "id": "aW8dSj2ZKkuP",
        "colab": {
          "base_uri": "https://localhost:8080/",
          "height": 313
        },
        "outputId": "6c59acec-871e-4402-8a67-2ab6cf0be809"
      },
      "execution_count": 46,
      "outputs": [
        {
          "output_type": "execute_result",
          "data": {
            "text/plain": [
              "Text(0, 0.5, 'accuracy')"
            ]
          },
          "metadata": {},
          "execution_count": 46
        },
        {
          "output_type": "display_data",
          "data": {
            "text/plain": [
              "<Figure size 432x288 with 1 Axes>"
            ],
            "image/png": "[encoded data removed]"
          },
          "metadata": {
            "needs_background": "light"
          }
        }
      ]
    },
    {
      "cell_type": "code",
      "source": [
        "y_pred = best_model1.predict(test_generator)\n",
        "y_pred"
      ],
      "metadata": {
        "id": "UZOS1EENKkZ9",
        "colab": {
          "base_uri": "https://localhost:8080/"
        },
        "outputId": "1f203733-f6ef-4692-eaa4-fbc5fadf7dfa"
      },
      "execution_count": 47,
      "outputs": [
        {
          "output_type": "stream",
          "name": "stdout",
          "text": [
            "94/94 [==============================] - 16s 173ms/step\n"
          ]
        },
        {
          "output_type": "execute_result",
          "data": {
            "text/plain": [
              "array([[1.3691161e-04, 7.9603546e-04, 6.7235250e-04, 9.9354386e-01,\n",
              "        5.6994247e-04, 4.2808349e-03],\n",
              "       [1.0236566e-03, 9.3412608e-01, 2.8423872e-03, 3.5555870e-04,\n",
              "        4.7944933e-03, 5.6857787e-02],\n",
              "       [4.5585420e-08, 8.0300234e-03, 8.6681382e-04, 1.2589767e-07,\n",
              "        9.9110293e-01, 7.9877893e-08],\n",
              "       ...,\n",
              "       [1.6012369e-07, 2.5968811e-05, 2.1960986e-04, 3.6520122e-09,\n",
              "        9.9956185e-01, 1.9245167e-04],\n",
              "       [2.2220977e-06, 1.9426137e-01, 8.0371684e-01, 1.4397602e-04,\n",
              "        9.6002273e-04, 9.1555476e-04],\n",
              "       [1.6544195e-08, 8.6651416e-06, 2.4906272e-04, 1.4515726e-09,\n",
              "        9.9967778e-01, 6.4503853e-05]], dtype=float32)"
            ]
          },
          "metadata": {},
          "execution_count": 47
        }
      ]
    },
    {
      "cell_type": "code",
      "source": [
        "y_pred = np.argmax(y_pred, axis=1)\n",
        "y_pred"
      ],
      "metadata": {
        "id": "odEuxLQkKkXa",
        "colab": {
          "base_uri": "https://localhost:8080/"
        },
        "outputId": "f8528da5-668e-4b00-8bab-9aa419b9d438"
      },
      "execution_count": 48,
      "outputs": [
        {
          "output_type": "execute_result",
          "data": {
            "text/plain": [
              "array([3, 1, 4, ..., 4, 2, 4])"
            ]
          },
          "metadata": {},
          "execution_count": 48
        }
      ]
    },
    {
      "cell_type": "code",
      "source": [
        "from sklearn.metrics import confusion_matrix, classification_report\n",
        "\n",
        "\n",
        "cm = confusion_matrix(test_generator.labels, y_pred)\n",
        "print(cm)\n",
        "print('classification report')\n",
        "print( classification_report(test_generator.labels, y_pred))"
      ],
      "metadata": {
        "id": "_OhStVzvKkWA",
        "colab": {
          "base_uri": "https://localhost:8080/"
        },
        "outputId": "e2520625-4e7c-4668-81a0-6851efb4d58a"
      },
      "execution_count": 49,
      "outputs": [
        {
          "output_type": "stream",
          "name": "stdout",
          "text": [
            "[[457   3  15   0   5  20]\n",
            " [  5 445  41   1   3   5]\n",
            " [  9  25 431   4  24   7]\n",
            " [  1   1   1 491   1   5]\n",
            " [  7  11  42   0 428  12]\n",
            " [ 10   5   6   3  10 466]]\n",
            "classification report\n",
            "              precision    recall  f1-score   support\n",
            "\n",
            "           0       0.93      0.91      0.92       500\n",
            "           1       0.91      0.89      0.90       500\n",
            "           2       0.80      0.86      0.83       500\n",
            "           3       0.98      0.98      0.98       500\n",
            "           4       0.91      0.86      0.88       500\n",
            "           5       0.90      0.93      0.92       500\n",
            "\n",
            "    accuracy                           0.91      3000\n",
            "   macro avg       0.91      0.91      0.91      3000\n",
            "weighted avg       0.91      0.91      0.91      3000\n",
            "\n"
          ]
        }
      ]
    },
    {
      "cell_type": "code",
      "source": [
        "import seaborn as sns\n",
        "f,ax = plt.subplots(figsize=(8, 8))\n",
        "sns.heatmap(cm, annot=True, linewidths=0.01,cmap=\"Oranges\",linecolor=\"gray\", fmt= '.1f',ax=ax)\n",
        "plt.xlabel(\"Predicted Label\")\n",
        "plt.ylabel(\"True Label\")\n",
        "plt.title(\"Confusion Matrix\")\n",
        "plt.show()"
      ],
      "metadata": {
        "id": "hfXAcVzCKkRv",
        "colab": {
          "base_uri": "https://localhost:8080/",
          "height": 513
        },
        "outputId": "b0859f58-4581-40cb-b22e-2866659faa82"
      },
      "execution_count": 50,
      "outputs": [
        {
          "output_type": "display_data",
          "data": {
            "text/plain": [
              "<Figure size 576x576 with 2 Axes>"
            ],
            "image/png": "[encoded data removed]"
          },
          "metadata": {
            "needs_background": "light"
          }
        }
      ]
    },
    {
      "cell_type": "code",
      "source": [
        "class_map = dict([(v, k) for k, v in train_generator.class_indices.items()])\n",
        "print(class_map)"
      ],
      "metadata": {
        "id": "xGFESb_AKkOU",
        "colab": {
          "base_uri": "https://localhost:8080/"
        },
        "outputId": "78b6f0e0-5378-4fa2-a81b-2685e2c4bc8e"
      },
      "execution_count": 51,
      "outputs": [
        {
          "output_type": "stream",
          "name": "stdout",
          "text": [
            "{0: 'F', 1: 'M', 2: 'N', 3: 'Q', 4: 'S', 5: 'V'}\n"
          ]
        }
      ]
    },
    {
      "cell_type": "code",
      "source": [
        "from tensorflow.keras.models import load_model\n",
        "from tensorflow.keras.preprocessing import image\n",
        "test_image_path = '/content/ECG_Image_data/test/S/115.jpg'\n",
        "\n",
        "def generate_predictions(test_image_path, actual_label):\n",
        "    \n",
        "    # 1. Load and preprocess the image\n",
        "    test_img = image.load_img(test_image_path, target_size=(224, 224))\n",
        "    test_img_arr = image.img_to_array(test_img)/255.0\n",
        "    test_img_input = test_img_arr.reshape((1, test_img_arr.shape[0], test_img_arr.shape[1], test_img_arr.shape[2]))\n",
        "\n",
        "    # 2. Make Predictions\n",
        "    predicted_label = np.argmax(best_model1.predict(test_img_input))\n",
        "    predicted_beat = class_map[predicted_label]\n",
        "    plt.figure(figsize=(4, 4))\n",
        "    plt.imshow(test_img_arr)\n",
        "    plt.title(\"Predicted Label: {}, Actual Label: {}\".format(predicted_beat, actual_label))\n",
        "    plt.grid()\n",
        "    plt.axis('off')\n",
        "    plt.show()\n",
        "\n",
        "# call the function\n",
        "generate_predictions(test_image_path, actual_label='S')"
      ],
      "metadata": {
        "id": "9blBn-XHKkMm",
        "colab": {
          "base_uri": "https://localhost:8080/",
          "height": 282
        },
        "outputId": "983978aa-666d-455c-e57c-ed09d39785d4"
      },
      "execution_count": 52,
      "outputs": [
        {
          "output_type": "stream",
          "name": "stdout",
          "text": [
            "1/1 [==============================] - 1s 737ms/step\n"
          ]
        },
        {
          "output_type": "display_data",
          "data": {
            "text/plain": [
              "<Figure size 288x288 with 1 Axes>"
            ],
            "image/png": "[encoded data removed]"
          },
          "metadata": {
            "needs_background": "light"
          }
        }
      ]
    },
    {
      "cell_type": "code",
      "source": [],
      "metadata": {
        "id": "Drm6tBIYKkJG"
      },
      "execution_count": null,
      "outputs": []
    }
  ]
}