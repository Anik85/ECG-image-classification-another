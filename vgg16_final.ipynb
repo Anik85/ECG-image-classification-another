{
  "nbformat": 4,
  "nbformat_minor": 0,
  "metadata": {
    "colab": {
      "provenance": [],
      "include_colab_link": true
    },
    "kernelspec": {
      "name": "python3",
      "display_name": "Python 3"
    },
    "language_info": {
      "name": "python"
    },
    "accelerator": "GPU",
    "gpuClass": "standard"
  },
  "cells": [
    {
      "cell_type": "markdown",
      "metadata": {
        "id": "view-in-github",
        "colab_type": "text"
      },
      "source": [
        "<a href=\"https://colab.research.google.com/github/Anik85/Anik85/blob/main/vgg16_final.ipynb\" target=\"_parent\"><img src=\"https://colab.research.google.com/assets/colab-badge.svg\" alt=\"Open In Colab\"/></a>"
      ]
    },
    {
      "cell_type": "code",
      "execution_count": 1,
      "metadata": {
        "id": "-rl1goyWKiT8"
      },
      "outputs": [],
      "source": [
        "!mkdir -p ~/.kaggle\n",
        "!cp kaggle.json ~/.kaggle/"
      ]
    },
    {
      "cell_type": "code",
      "source": [
        "!kaggle datasets download -d mohamedeldakrory8/ecg-heart-categorization-dataset-image-version"
      ],
      "metadata": {
        "colab": {
          "base_uri": "https://localhost:8080/"
        },
        "id": "OKsRAw7WKmO4",
        "outputId": "a7c8b30e-336c-4216-8850-22aaa9a60a47"
      },
      "execution_count": 2,
      "outputs": [
        {
          "output_type": "stream",
          "name": "stdout",
          "text": [
            "Warning: Your Kaggle API key is readable by other users on this system! To fix this, you can run 'chmod 600 /root/.kaggle/kaggle.json'\n",
            "Downloading ecg-heart-categorization-dataset-image-version.zip to /content\n",
            "100% 485M/486M [00:29<00:00, 23.3MB/s]\n",
            "100% 486M/486M [00:29<00:00, 17.1MB/s]\n"
          ]
        }
      ]
    },
    {
      "cell_type": "code",
      "source": [
        "import zipfile\n",
        "zip_ref=zipfile.ZipFile('/content/ecg-heart-categorization-dataset-image-version.zip','r')\n",
        "zip_ref.extractall('/content')\n",
        "zip_ref.close()"
      ],
      "metadata": {
        "id": "xo5qkBPTKmL3"
      },
      "execution_count": 3,
      "outputs": []
    },
    {
      "cell_type": "code",
      "source": [
        "!rm /content/ECG_Image_data/train/F/*\n",
        "!rmdir /content/ECG_Image_data/train/F"
      ],
      "metadata": {
        "id": "tLwRAKe3KmKF"
      },
      "execution_count": 11,
      "outputs": []
    },
    {
      "cell_type": "code",
      "source": [
        "!rm /content/ECG_Image_data/test/F/*\n",
        "!rmdir /content/ECG_Image_data/test/F"
      ],
      "metadata": {
        "id": "AIOTzAM-KmHX"
      },
      "execution_count": 12,
      "outputs": []
    },
    {
      "cell_type": "code",
      "source": [
        "import numpy as np\n",
        "import pandas as pd\n",
        "from pathlib import Path\n",
        "import os.path\n",
        "import matplotlib.pyplot as plt\n",
        "import tensorflow as tf\n",
        "from tensorflow.keras.models import Sequential\n",
        "from tensorflow.keras.layers import Convolution2D\n",
        "from tensorflow.keras.layers import MaxPooling2D\n",
        "from tensorflow.keras.layers import Flatten\n",
        "from tensorflow.keras.layers import Dense\n",
        "from tensorflow.keras.layers import Dropout, Activation , BatchNormalization\n",
        "from tensorflow.keras.preprocessing.image import ImageDataGenerator\n",
        "from tensorflow.keras.layers import Dense, Conv2D, MaxPool2D , Flatten\n",
        "from tensorflow.keras.losses import categorical_crossentropy\n",
        "from tensorflow.keras.optimizers import Adam\n",
        "from tensorflow.keras.losses import CategoricalCrossentropy\n",
        "from tensorflow.keras.regularizers import l2\n",
        "from tensorflow.keras.callbacks import ReduceLROnPlateau, EarlyStopping\n",
        "from keras.models import Model\n",
        "from keras.applications.vgg19 import VGG19, preprocess_input\n",
        "from tensorflow.keras.applications.resnet50 import ResNet50, preprocess_input\n",
        "from keras.applications.vgg16 import preprocess_input,VGG16\n",
        "from glob import glob"
      ],
      "metadata": {
        "id": "fmj6RbYGKmFK"
      },
      "execution_count": 27,
      "outputs": []
    },
    {
      "cell_type": "code",
      "source": [
        "train_dir = Path('/content/ECG_Image_data/train')\n",
        "test_dir = Path('/content/ECG_Image_data/test')"
      ],
      "metadata": {
        "id": "_woAePtVKl-q"
      },
      "execution_count": 28,
      "outputs": []
    },
    {
      "cell_type": "code",
      "source": [
        "filepaths = list(train_dir.glob(r'**/*.jpg'))\n",
        "labels = list(map(lambda x: os.path.split(os.path.split(x)[0])[1], filepaths))\n",
        "\n",
        "\n",
        "filepaths = pd.Series(filepaths, name='Filepath').astype(str)\n",
        "labels = pd.Series(labels, name='Label')\n",
        "\n",
        "dataframe = pd.concat([filepaths , labels] , axis=1)\n",
        "dataframe"
      ],
      "metadata": {
        "colab": {
          "base_uri": "https://localhost:8080/",
          "height": 424
        },
        "id": "H0TY8GuzKl8W",
        "outputId": "ee67d115-1019-4e0f-c21a-3542577855f5"
      },
      "execution_count": 29,
      "outputs": [
        {
          "output_type": "execute_result",
          "data": {
            "text/plain": [
              "                                        Filepath Label\n",
              "0       /content/ECG_Image_data/train/N/1846.jpg     N\n",
              "1      /content/ECG_Image_data/train/N/22590.jpg     N\n",
              "2      /content/ECG_Image_data/train/N/29074.jpg     N\n",
              "3      /content/ECG_Image_data/train/N/16572.jpg     N\n",
              "4      /content/ECG_Image_data/train/N/72132.jpg     N\n",
              "...                                          ...   ...\n",
              "97131   /content/ECG_Image_data/train/V/3904.jpg     V\n",
              "97132    /content/ECG_Image_data/train/V/280.jpg     V\n",
              "97133   /content/ECG_Image_data/train/V/3312.jpg     V\n",
              "97134   /content/ECG_Image_data/train/V/3437.jpg     V\n",
              "97135   /content/ECG_Image_data/train/V/1408.jpg     V\n",
              "\n",
              "[97136 rows x 2 columns]"
            ],
            "text/html": [
              "\n",
              "  <div id=\"df-d0926a0d-120e-477f-9e0f-69402c976ebf\">\n",
              "    <div class=\"colab-df-container\">\n",
              "      <div>\n",
              "<style scoped>\n",
              "    .dataframe tbody tr th:only-of-type {\n",
              "        vertical-align: middle;\n",
              "    }\n",
              "\n",
              "    .dataframe tbody tr th {\n",
              "        vertical-align: top;\n",
              "    }\n",
              "\n",
              "    .dataframe thead th {\n",
              "        text-align: right;\n",
              "    }\n",
              "</style>\n",
              "<table border=\"1\" class=\"dataframe\">\n",
              "  <thead>\n",
              "    <tr style=\"text-align: right;\">\n",
              "      <th></th>\n",
              "      <th>Filepath</th>\n",
              "      <th>Label</th>\n",
              "    </tr>\n",
              "  </thead>\n",
              "  <tbody>\n",
              "    <tr>\n",
              "      <th>0</th>\n",
              "      <td>/content/ECG_Image_data/train/N/1846.jpg</td>\n",
              "      <td>N</td>\n",
              "    </tr>\n",
              "    <tr>\n",
              "      <th>1</th>\n",
              "      <td>/content/ECG_Image_data/train/N/22590.jpg</td>\n",
              "      <td>N</td>\n",
              "    </tr>\n",
              "    <tr>\n",
              "      <th>2</th>\n",
              "      <td>/content/ECG_Image_data/train/N/29074.jpg</td>\n",
              "      <td>N</td>\n",
              "    </tr>\n",
              "    <tr>\n",
              "      <th>3</th>\n",
              "      <td>/content/ECG_Image_data/train/N/16572.jpg</td>\n",
              "      <td>N</td>\n",
              "    </tr>\n",
              "    <tr>\n",
              "      <th>4</th>\n",
              "      <td>/content/ECG_Image_data/train/N/72132.jpg</td>\n",
              "      <td>N</td>\n",
              "    </tr>\n",
              "    <tr>\n",
              "      <th>...</th>\n",
              "      <td>...</td>\n",
              "      <td>...</td>\n",
              "    </tr>\n",
              "    <tr>\n",
              "      <th>97131</th>\n",
              "      <td>/content/ECG_Image_data/train/V/3904.jpg</td>\n",
              "      <td>V</td>\n",
              "    </tr>\n",
              "    <tr>\n",
              "      <th>97132</th>\n",
              "      <td>/content/ECG_Image_data/train/V/280.jpg</td>\n",
              "      <td>V</td>\n",
              "    </tr>\n",
              "    <tr>\n",
              "      <th>97133</th>\n",
              "      <td>/content/ECG_Image_data/train/V/3312.jpg</td>\n",
              "      <td>V</td>\n",
              "    </tr>\n",
              "    <tr>\n",
              "      <th>97134</th>\n",
              "      <td>/content/ECG_Image_data/train/V/3437.jpg</td>\n",
              "      <td>V</td>\n",
              "    </tr>\n",
              "    <tr>\n",
              "      <th>97135</th>\n",
              "      <td>/content/ECG_Image_data/train/V/1408.jpg</td>\n",
              "      <td>V</td>\n",
              "    </tr>\n",
              "  </tbody>\n",
              "</table>\n",
              "<p>97136 rows × 2 columns</p>\n",
              "</div>\n",
              "      <button class=\"colab-df-convert\" onclick=\"convertToInteractive('df-d0926a0d-120e-477f-9e0f-69402c976ebf')\"\n",
              "              title=\"Convert this dataframe to an interactive table.\"\n",
              "              style=\"display:none;\">\n",
              "        \n",
              "  <svg xmlns=\"http://www.w3.org/2000/svg\" height=\"24px\"viewBox=\"0 0 24 24\"\n",
              "       width=\"24px\">\n",
              "    <path d=\"M0 0h24v24H0V0z\" fill=\"none\"/>\n",
              "    <path d=\"M18.56 5.44l.94 2.06.94-2.06 2.06-.94-2.06-.94-.94-2.06-.94 2.06-2.06.94zm-11 1L8.5 8.5l.94-2.06 2.06-.94-2.06-.94L8.5 2.5l-.94 2.06-2.06.94zm10 10l.94 2.06.94-2.06 2.06-.94-2.06-.94-.94-2.06-.94 2.06-2.06.94z\"/><path d=\"M17.41 7.96l-1.37-1.37c-.4-.4-.92-.59-1.43-.59-.52 0-1.04.2-1.43.59L10.3 9.45l-7.72 7.72c-.78.78-.78 2.05 0 2.83L4 21.41c.39.39.9.59 1.41.59.51 0 1.02-.2 1.41-.59l7.78-7.78 2.81-2.81c.8-.78.8-2.07 0-2.86zM5.41 20L4 18.59l7.72-7.72 1.47 1.35L5.41 20z\"/>\n",
              "  </svg>\n",
              "      </button>\n",
              "      \n",
              "  <style>\n",
              "    .colab-df-container {\n",
              "      display:flex;\n",
              "      flex-wrap:wrap;\n",
              "      gap: 12px;\n",
              "    }\n",
              "\n",
              "    .colab-df-convert {\n",
              "      background-color: #E8F0FE;\n",
              "      border: none;\n",
              "      border-radius: 50%;\n",
              "      cursor: pointer;\n",
              "      display: none;\n",
              "      fill: #1967D2;\n",
              "      height: 32px;\n",
              "      padding: 0 0 0 0;\n",
              "      width: 32px;\n",
              "    }\n",
              "\n",
              "    .colab-df-convert:hover {\n",
              "      background-color: #E2EBFA;\n",
              "      box-shadow: 0px 1px 2px rgba(60, 64, 67, 0.3), 0px 1px 3px 1px rgba(60, 64, 67, 0.15);\n",
              "      fill: #174EA6;\n",
              "    }\n",
              "\n",
              "    [theme=dark] .colab-df-convert {\n",
              "      background-color: #3B4455;\n",
              "      fill: #D2E3FC;\n",
              "    }\n",
              "\n",
              "    [theme=dark] .colab-df-convert:hover {\n",
              "      background-color: #434B5C;\n",
              "      box-shadow: 0px 1px 3px 1px rgba(0, 0, 0, 0.15);\n",
              "      filter: drop-shadow(0px 1px 2px rgba(0, 0, 0, 0.3));\n",
              "      fill: #FFFFFF;\n",
              "    }\n",
              "  </style>\n",
              "\n",
              "      <script>\n",
              "        const buttonEl =\n",
              "          document.querySelector('#df-d0926a0d-120e-477f-9e0f-69402c976ebf button.colab-df-convert');\n",
              "        buttonEl.style.display =\n",
              "          google.colab.kernel.accessAllowed ? 'block' : 'none';\n",
              "\n",
              "        async function convertToInteractive(key) {\n",
              "          const element = document.querySelector('#df-d0926a0d-120e-477f-9e0f-69402c976ebf');\n",
              "          const dataTable =\n",
              "            await google.colab.kernel.invokeFunction('convertToInteractive',\n",
              "                                                     [key], {});\n",
              "          if (!dataTable) return;\n",
              "\n",
              "          const docLinkHtml = 'Like what you see? Visit the ' +\n",
              "            '<a target=\"_blank\" href=https://colab.research.google.com/notebooks/data_table.ipynb>data table notebook</a>'\n",
              "            + ' to learn more about interactive tables.';\n",
              "          element.innerHTML = '';\n",
              "          dataTable['output_type'] = 'display_data';\n",
              "          await google.colab.output.renderOutput(dataTable, element);\n",
              "          const docLink = document.createElement('div');\n",
              "          docLink.innerHTML = docLinkHtml;\n",
              "          element.appendChild(docLink);\n",
              "        }\n",
              "      </script>\n",
              "    </div>\n",
              "  </div>\n",
              "  "
            ]
          },
          "metadata": {},
          "execution_count": 29
        }
      ]
    },
    {
      "cell_type": "code",
      "source": [
        "dataframe['Label'].value_counts()"
      ],
      "metadata": {
        "colab": {
          "base_uri": "https://localhost:8080/"
        },
        "id": "EQ-Xi1qwKl6c",
        "outputId": "438f8366-5525-4b29-833b-72a2ba4b1019"
      },
      "execution_count": 30,
      "outputs": [
        {
          "output_type": "execute_result",
          "data": {
            "text/plain": [
              "N    72471\n",
              "M     8000\n",
              "Q     6431\n",
              "V     5788\n",
              "F     2223\n",
              "S     2223\n",
              "Name: Label, dtype: int64"
            ]
          },
          "metadata": {},
          "execution_count": 30
        }
      ]
    },
    {
      "cell_type": "code",
      "source": [
        "train_samples = []\n",
        "for category in dataframe['Label'].unique():\n",
        "    train_category = dataframe.query(\"Label == @category\")\n",
        "    train_samples.append(train_category.sample(1600, random_state=1))\n",
        "\n",
        "dataframe_train = pd.concat(train_samples, axis=0).sample(frac=1.0, random_state=1).reset_index(drop=True)\n",
        "dataframe_train['Label'].value_counts()"
      ],
      "metadata": {
        "colab": {
          "base_uri": "https://localhost:8080/"
        },
        "id": "BCAkWb3zKl1x",
        "outputId": "595db606-f568-4ec1-a065-3edac1a7ff8b"
      },
      "execution_count": 31,
      "outputs": [
        {
          "output_type": "execute_result",
          "data": {
            "text/plain": [
              "V    1600\n",
              "N    1600\n",
              "Q    1600\n",
              "F    1600\n",
              "M    1600\n",
              "S    1600\n",
              "Name: Label, dtype: int64"
            ]
          },
          "metadata": {},
          "execution_count": 31
        }
      ]
    },
    {
      "cell_type": "code",
      "source": [
        "dataframe_train"
      ],
      "metadata": {
        "colab": {
          "base_uri": "https://localhost:8080/",
          "height": 424
        },
        "id": "TmI929ifKlxX",
        "outputId": "6a4bff39-9ae6-4b98-99a6-fb9194f773cf"
      },
      "execution_count": 32,
      "outputs": [
        {
          "output_type": "execute_result",
          "data": {
            "text/plain": [
              "                                       Filepath Label\n",
              "0      /content/ECG_Image_data/train/V/1897.jpg     V\n",
              "1     /content/ECG_Image_data/train/N/10200.jpg     N\n",
              "2      /content/ECG_Image_data/train/Q/2375.jpg     Q\n",
              "3      /content/ECG_Image_data/train/V/3403.jpg     V\n",
              "4     /content/ECG_Image_data/train/N/30554.jpg     N\n",
              "...                                         ...   ...\n",
              "9595    /content/ECG_Image_data/train/F/185.jpg     F\n",
              "9596   /content/ECG_Image_data/train/M/1392.jpg     M\n",
              "9597  /content/ECG_Image_data/train/N/14108.jpg     N\n",
              "9598   /content/ECG_Image_data/train/Q/1590.jpg     Q\n",
              "9599  /content/ECG_Image_data/train/N/65338.jpg     N\n",
              "\n",
              "[9600 rows x 2 columns]"
            ],
            "text/html": [
              "\n",
              "  <div id=\"df-56b3a3e9-f7c1-47e2-95ec-6665818df87a\">\n",
              "    <div class=\"colab-df-container\">\n",
              "      <div>\n",
              "<style scoped>\n",
              "    .dataframe tbody tr th:only-of-type {\n",
              "        vertical-align: middle;\n",
              "    }\n",
              "\n",
              "    .dataframe tbody tr th {\n",
              "        vertical-align: top;\n",
              "    }\n",
              "\n",
              "    .dataframe thead th {\n",
              "        text-align: right;\n",
              "    }\n",
              "</style>\n",
              "<table border=\"1\" class=\"dataframe\">\n",
              "  <thead>\n",
              "    <tr style=\"text-align: right;\">\n",
              "      <th></th>\n",
              "      <th>Filepath</th>\n",
              "      <th>Label</th>\n",
              "    </tr>\n",
              "  </thead>\n",
              "  <tbody>\n",
              "    <tr>\n",
              "      <th>0</th>\n",
              "      <td>/content/ECG_Image_data/train/V/1897.jpg</td>\n",
              "      <td>V</td>\n",
              "    </tr>\n",
              "    <tr>\n",
              "      <th>1</th>\n",
              "      <td>/content/ECG_Image_data/train/N/10200.jpg</td>\n",
              "      <td>N</td>\n",
              "    </tr>\n",
              "    <tr>\n",
              "      <th>2</th>\n",
              "      <td>/content/ECG_Image_data/train/Q/2375.jpg</td>\n",
              "      <td>Q</td>\n",
              "    </tr>\n",
              "    <tr>\n",
              "      <th>3</th>\n",
              "      <td>/content/ECG_Image_data/train/V/3403.jpg</td>\n",
              "      <td>V</td>\n",
              "    </tr>\n",
              "    <tr>\n",
              "      <th>4</th>\n",
              "      <td>/content/ECG_Image_data/train/N/30554.jpg</td>\n",
              "      <td>N</td>\n",
              "    </tr>\n",
              "    <tr>\n",
              "      <th>...</th>\n",
              "      <td>...</td>\n",
              "      <td>...</td>\n",
              "    </tr>\n",
              "    <tr>\n",
              "      <th>9595</th>\n",
              "      <td>/content/ECG_Image_data/train/F/185.jpg</td>\n",
              "      <td>F</td>\n",
              "    </tr>\n",
              "    <tr>\n",
              "      <th>9596</th>\n",
              "      <td>/content/ECG_Image_data/train/M/1392.jpg</td>\n",
              "      <td>M</td>\n",
              "    </tr>\n",
              "    <tr>\n",
              "      <th>9597</th>\n",
              "      <td>/content/ECG_Image_data/train/N/14108.jpg</td>\n",
              "      <td>N</td>\n",
              "    </tr>\n",
              "    <tr>\n",
              "      <th>9598</th>\n",
              "      <td>/content/ECG_Image_data/train/Q/1590.jpg</td>\n",
              "      <td>Q</td>\n",
              "    </tr>\n",
              "    <tr>\n",
              "      <th>9599</th>\n",
              "      <td>/content/ECG_Image_data/train/N/65338.jpg</td>\n",
              "      <td>N</td>\n",
              "    </tr>\n",
              "  </tbody>\n",
              "</table>\n",
              "<p>9600 rows × 2 columns</p>\n",
              "</div>\n",
              "      <button class=\"colab-df-convert\" onclick=\"convertToInteractive('df-56b3a3e9-f7c1-47e2-95ec-6665818df87a')\"\n",
              "              title=\"Convert this dataframe to an interactive table.\"\n",
              "              style=\"display:none;\">\n",
              "        \n",
              "  <svg xmlns=\"http://www.w3.org/2000/svg\" height=\"24px\"viewBox=\"0 0 24 24\"\n",
              "       width=\"24px\">\n",
              "    <path d=\"M0 0h24v24H0V0z\" fill=\"none\"/>\n",
              "    <path d=\"M18.56 5.44l.94 2.06.94-2.06 2.06-.94-2.06-.94-.94-2.06-.94 2.06-2.06.94zm-11 1L8.5 8.5l.94-2.06 2.06-.94-2.06-.94L8.5 2.5l-.94 2.06-2.06.94zm10 10l.94 2.06.94-2.06 2.06-.94-2.06-.94-.94-2.06-.94 2.06-2.06.94z\"/><path d=\"M17.41 7.96l-1.37-1.37c-.4-.4-.92-.59-1.43-.59-.52 0-1.04.2-1.43.59L10.3 9.45l-7.72 7.72c-.78.78-.78 2.05 0 2.83L4 21.41c.39.39.9.59 1.41.59.51 0 1.02-.2 1.41-.59l7.78-7.78 2.81-2.81c.8-.78.8-2.07 0-2.86zM5.41 20L4 18.59l7.72-7.72 1.47 1.35L5.41 20z\"/>\n",
              "  </svg>\n",
              "      </button>\n",
              "      \n",
              "  <style>\n",
              "    .colab-df-container {\n",
              "      display:flex;\n",
              "      flex-wrap:wrap;\n",
              "      gap: 12px;\n",
              "    }\n",
              "\n",
              "    .colab-df-convert {\n",
              "      background-color: #E8F0FE;\n",
              "      border: none;\n",
              "      border-radius: 50%;\n",
              "      cursor: pointer;\n",
              "      display: none;\n",
              "      fill: #1967D2;\n",
              "      height: 32px;\n",
              "      padding: 0 0 0 0;\n",
              "      width: 32px;\n",
              "    }\n",
              "\n",
              "    .colab-df-convert:hover {\n",
              "      background-color: #E2EBFA;\n",
              "      box-shadow: 0px 1px 2px rgba(60, 64, 67, 0.3), 0px 1px 3px 1px rgba(60, 64, 67, 0.15);\n",
              "      fill: #174EA6;\n",
              "    }\n",
              "\n",
              "    [theme=dark] .colab-df-convert {\n",
              "      background-color: #3B4455;\n",
              "      fill: #D2E3FC;\n",
              "    }\n",
              "\n",
              "    [theme=dark] .colab-df-convert:hover {\n",
              "      background-color: #434B5C;\n",
              "      box-shadow: 0px 1px 3px 1px rgba(0, 0, 0, 0.15);\n",
              "      filter: drop-shadow(0px 1px 2px rgba(0, 0, 0, 0.3));\n",
              "      fill: #FFFFFF;\n",
              "    }\n",
              "  </style>\n",
              "\n",
              "      <script>\n",
              "        const buttonEl =\n",
              "          document.querySelector('#df-56b3a3e9-f7c1-47e2-95ec-6665818df87a button.colab-df-convert');\n",
              "        buttonEl.style.display =\n",
              "          google.colab.kernel.accessAllowed ? 'block' : 'none';\n",
              "\n",
              "        async function convertToInteractive(key) {\n",
              "          const element = document.querySelector('#df-56b3a3e9-f7c1-47e2-95ec-6665818df87a');\n",
              "          const dataTable =\n",
              "            await google.colab.kernel.invokeFunction('convertToInteractive',\n",
              "                                                     [key], {});\n",
              "          if (!dataTable) return;\n",
              "\n",
              "          const docLinkHtml = 'Like what you see? Visit the ' +\n",
              "            '<a target=\"_blank\" href=https://colab.research.google.com/notebooks/data_table.ipynb>data table notebook</a>'\n",
              "            + ' to learn more about interactive tables.';\n",
              "          element.innerHTML = '';\n",
              "          dataTable['output_type'] = 'display_data';\n",
              "          await google.colab.output.renderOutput(dataTable, element);\n",
              "          const docLink = document.createElement('div');\n",
              "          docLink.innerHTML = docLinkHtml;\n",
              "          element.appendChild(docLink);\n",
              "        }\n",
              "      </script>\n",
              "    </div>\n",
              "  </div>\n",
              "  "
            ]
          },
          "metadata": {},
          "execution_count": 32
        }
      ]
    },
    {
      "cell_type": "code",
      "source": [
        "filepaths = list(test_dir.glob(r'**/*.jpg'))\n",
        "labels = list(map(lambda x: os.path.split(os.path.split(x)[0])[1], filepaths))\n",
        "\n",
        "filepaths = pd.Series(filepaths, name='Filepath').astype(str)\n",
        "labels = pd.Series(labels, name='Label')\n",
        "\n",
        "dataframe_test = pd.concat([filepaths , labels] , axis=1)\n",
        "dataframe_test"
      ],
      "metadata": {
        "colab": {
          "base_uri": "https://localhost:8080/",
          "height": 424
        },
        "id": "wHJw87NlKlwI",
        "outputId": "79db518f-323d-465d-ba4f-ab91fbc8399a"
      },
      "execution_count": 33,
      "outputs": [
        {
          "output_type": "execute_result",
          "data": {
            "text/plain": [
              "                                       Filepath Label\n",
              "0       /content/ECG_Image_data/test/N/1846.jpg     N\n",
              "1      /content/ECG_Image_data/test/N/16572.jpg     N\n",
              "2      /content/ECG_Image_data/test/N/13080.jpg     N\n",
              "3      /content/ECG_Image_data/test/N/10148.jpg     N\n",
              "4       /content/ECG_Image_data/test/N/9186.jpg     N\n",
              "...                                         ...   ...\n",
              "24787    /content/ECG_Image_data/test/V/286.jpg     V\n",
              "24788    /content/ECG_Image_data/test/V/712.jpg     V\n",
              "24789    /content/ECG_Image_data/test/V/433.jpg     V\n",
              "24790    /content/ECG_Image_data/test/V/280.jpg     V\n",
              "24791   /content/ECG_Image_data/test/V/1408.jpg     V\n",
              "\n",
              "[24792 rows x 2 columns]"
            ],
            "text/html": [
              "\n",
              "  <div id=\"df-df5fa45e-1d40-46be-9f32-f6dc9ba7252b\">\n",
              "    <div class=\"colab-df-container\">\n",
              "      <div>\n",
              "<style scoped>\n",
              "    .dataframe tbody tr th:only-of-type {\n",
              "        vertical-align: middle;\n",
              "    }\n",
              "\n",
              "    .dataframe tbody tr th {\n",
              "        vertical-align: top;\n",
              "    }\n",
              "\n",
              "    .dataframe thead th {\n",
              "        text-align: right;\n",
              "    }\n",
              "</style>\n",
              "<table border=\"1\" class=\"dataframe\">\n",
              "  <thead>\n",
              "    <tr style=\"text-align: right;\">\n",
              "      <th></th>\n",
              "      <th>Filepath</th>\n",
              "      <th>Label</th>\n",
              "    </tr>\n",
              "  </thead>\n",
              "  <tbody>\n",
              "    <tr>\n",
              "      <th>0</th>\n",
              "      <td>/content/ECG_Image_data/test/N/1846.jpg</td>\n",
              "      <td>N</td>\n",
              "    </tr>\n",
              "    <tr>\n",
              "      <th>1</th>\n",
              "      <td>/content/ECG_Image_data/test/N/16572.jpg</td>\n",
              "      <td>N</td>\n",
              "    </tr>\n",
              "    <tr>\n",
              "      <th>2</th>\n",
              "      <td>/content/ECG_Image_data/test/N/13080.jpg</td>\n",
              "      <td>N</td>\n",
              "    </tr>\n",
              "    <tr>\n",
              "      <th>3</th>\n",
              "      <td>/content/ECG_Image_data/test/N/10148.jpg</td>\n",
              "      <td>N</td>\n",
              "    </tr>\n",
              "    <tr>\n",
              "      <th>4</th>\n",
              "      <td>/content/ECG_Image_data/test/N/9186.jpg</td>\n",
              "      <td>N</td>\n",
              "    </tr>\n",
              "    <tr>\n",
              "      <th>...</th>\n",
              "      <td>...</td>\n",
              "      <td>...</td>\n",
              "    </tr>\n",
              "    <tr>\n",
              "      <th>24787</th>\n",
              "      <td>/content/ECG_Image_data/test/V/286.jpg</td>\n",
              "      <td>V</td>\n",
              "    </tr>\n",
              "    <tr>\n",
              "      <th>24788</th>\n",
              "      <td>/content/ECG_Image_data/test/V/712.jpg</td>\n",
              "      <td>V</td>\n",
              "    </tr>\n",
              "    <tr>\n",
              "      <th>24789</th>\n",
              "      <td>/content/ECG_Image_data/test/V/433.jpg</td>\n",
              "      <td>V</td>\n",
              "    </tr>\n",
              "    <tr>\n",
              "      <th>24790</th>\n",
              "      <td>/content/ECG_Image_data/test/V/280.jpg</td>\n",
              "      <td>V</td>\n",
              "    </tr>\n",
              "    <tr>\n",
              "      <th>24791</th>\n",
              "      <td>/content/ECG_Image_data/test/V/1408.jpg</td>\n",
              "      <td>V</td>\n",
              "    </tr>\n",
              "  </tbody>\n",
              "</table>\n",
              "<p>24792 rows × 2 columns</p>\n",
              "</div>\n",
              "      <button class=\"colab-df-convert\" onclick=\"convertToInteractive('df-df5fa45e-1d40-46be-9f32-f6dc9ba7252b')\"\n",
              "              title=\"Convert this dataframe to an interactive table.\"\n",
              "              style=\"display:none;\">\n",
              "        \n",
              "  <svg xmlns=\"http://www.w3.org/2000/svg\" height=\"24px\"viewBox=\"0 0 24 24\"\n",
              "       width=\"24px\">\n",
              "    <path d=\"M0 0h24v24H0V0z\" fill=\"none\"/>\n",
              "    <path d=\"M18.56 5.44l.94 2.06.94-2.06 2.06-.94-2.06-.94-.94-2.06-.94 2.06-2.06.94zm-11 1L8.5 8.5l.94-2.06 2.06-.94-2.06-.94L8.5 2.5l-.94 2.06-2.06.94zm10 10l.94 2.06.94-2.06 2.06-.94-2.06-.94-.94-2.06-.94 2.06-2.06.94z\"/><path d=\"M17.41 7.96l-1.37-1.37c-.4-.4-.92-.59-1.43-.59-.52 0-1.04.2-1.43.59L10.3 9.45l-7.72 7.72c-.78.78-.78 2.05 0 2.83L4 21.41c.39.39.9.59 1.41.59.51 0 1.02-.2 1.41-.59l7.78-7.78 2.81-2.81c.8-.78.8-2.07 0-2.86zM5.41 20L4 18.59l7.72-7.72 1.47 1.35L5.41 20z\"/>\n",
              "  </svg>\n",
              "      </button>\n",
              "      \n",
              "  <style>\n",
              "    .colab-df-container {\n",
              "      display:flex;\n",
              "      flex-wrap:wrap;\n",
              "      gap: 12px;\n",
              "    }\n",
              "\n",
              "    .colab-df-convert {\n",
              "      background-color: #E8F0FE;\n",
              "      border: none;\n",
              "      border-radius: 50%;\n",
              "      cursor: pointer;\n",
              "      display: none;\n",
              "      fill: #1967D2;\n",
              "      height: 32px;\n",
              "      padding: 0 0 0 0;\n",
              "      width: 32px;\n",
              "    }\n",
              "\n",
              "    .colab-df-convert:hover {\n",
              "      background-color: #E2EBFA;\n",
              "      box-shadow: 0px 1px 2px rgba(60, 64, 67, 0.3), 0px 1px 3px 1px rgba(60, 64, 67, 0.15);\n",
              "      fill: #174EA6;\n",
              "    }\n",
              "\n",
              "    [theme=dark] .colab-df-convert {\n",
              "      background-color: #3B4455;\n",
              "      fill: #D2E3FC;\n",
              "    }\n",
              "\n",
              "    [theme=dark] .colab-df-convert:hover {\n",
              "      background-color: #434B5C;\n",
              "      box-shadow: 0px 1px 3px 1px rgba(0, 0, 0, 0.15);\n",
              "      filter: drop-shadow(0px 1px 2px rgba(0, 0, 0, 0.3));\n",
              "      fill: #FFFFFF;\n",
              "    }\n",
              "  </style>\n",
              "\n",
              "      <script>\n",
              "        const buttonEl =\n",
              "          document.querySelector('#df-df5fa45e-1d40-46be-9f32-f6dc9ba7252b button.colab-df-convert');\n",
              "        buttonEl.style.display =\n",
              "          google.colab.kernel.accessAllowed ? 'block' : 'none';\n",
              "\n",
              "        async function convertToInteractive(key) {\n",
              "          const element = document.querySelector('#df-df5fa45e-1d40-46be-9f32-f6dc9ba7252b');\n",
              "          const dataTable =\n",
              "            await google.colab.kernel.invokeFunction('convertToInteractive',\n",
              "                                                     [key], {});\n",
              "          if (!dataTable) return;\n",
              "\n",
              "          const docLinkHtml = 'Like what you see? Visit the ' +\n",
              "            '<a target=\"_blank\" href=https://colab.research.google.com/notebooks/data_table.ipynb>data table notebook</a>'\n",
              "            + ' to learn more about interactive tables.';\n",
              "          element.innerHTML = '';\n",
              "          dataTable['output_type'] = 'display_data';\n",
              "          await google.colab.output.renderOutput(dataTable, element);\n",
              "          const docLink = document.createElement('div');\n",
              "          docLink.innerHTML = docLinkHtml;\n",
              "          element.appendChild(docLink);\n",
              "        }\n",
              "      </script>\n",
              "    </div>\n",
              "  </div>\n",
              "  "
            ]
          },
          "metadata": {},
          "execution_count": 33
        }
      ]
    },
    {
      "cell_type": "code",
      "source": [
        "dataframe_test['Label'].value_counts()"
      ],
      "metadata": {
        "colab": {
          "base_uri": "https://localhost:8080/"
        },
        "id": "bU-Y7BZGKluK",
        "outputId": "35ee3041-cf6d-4b72-caba-8bfb5f53ace7"
      },
      "execution_count": 34,
      "outputs": [
        {
          "output_type": "execute_result",
          "data": {
            "text/plain": [
              "N    18118\n",
              "M     2506\n",
              "Q     1608\n",
              "V     1448\n",
              "F      556\n",
              "S      556\n",
              "Name: Label, dtype: int64"
            ]
          },
          "metadata": {},
          "execution_count": 34
        }
      ]
    },
    {
      "cell_type": "code",
      "source": [
        "test_samples = []\n",
        "for category in dataframe_test['Label'].unique():\n",
        "    test_category = dataframe_test.query(\"Label == @category\")\n",
        "    test_samples.append(test_category.sample(400, random_state=1))\n",
        "\n",
        "dataframe_test = pd.concat(test_samples, axis=0).sample(frac=1.0, random_state=1).reset_index(drop=True)\n",
        "dataframe_test['Label'].value_counts()"
      ],
      "metadata": {
        "colab": {
          "base_uri": "https://localhost:8080/"
        },
        "id": "pu79tvqDKlrk",
        "outputId": "1ff337fa-df84-4725-b4d6-ac172953abec"
      },
      "execution_count": 38,
      "outputs": [
        {
          "output_type": "execute_result",
          "data": {
            "text/plain": [
              "S    400\n",
              "F    400\n",
              "M    400\n",
              "V    400\n",
              "Q    400\n",
              "N    400\n",
              "Name: Label, dtype: int64"
            ]
          },
          "metadata": {},
          "execution_count": 38
        }
      ]
    },
    {
      "cell_type": "code",
      "source": [
        "dataframe_test"
      ],
      "metadata": {
        "colab": {
          "base_uri": "https://localhost:8080/",
          "height": 424
        },
        "id": "I2oJhenlKlpx",
        "outputId": "c56f6597-5066-4f82-a98f-ece8e10b110b"
      },
      "execution_count": 37,
      "outputs": [
        {
          "output_type": "execute_result",
          "data": {
            "text/plain": [
              "                                     Filepath Label\n",
              "0      /content/ECG_Image_data/test/Q/267.jpg     Q\n",
              "1      /content/ECG_Image_data/test/F/140.jpg     F\n",
              "2     /content/ECG_Image_data/test/Q/1210.jpg     Q\n",
              "3     /content/ECG_Image_data/test/V/1256.jpg     V\n",
              "4      /content/ECG_Image_data/test/S/463.jpg     S\n",
              "...                                       ...   ...\n",
              "2395   /content/ECG_Image_data/test/S/341.jpg     S\n",
              "2396   /content/ECG_Image_data/test/S/185.jpg     S\n",
              "2397   /content/ECG_Image_data/test/S/464.jpg     S\n",
              "2398  /content/ECG_Image_data/test/N/4600.jpg     N\n",
              "2399    /content/ECG_Image_data/test/S/11.jpg     S\n",
              "\n",
              "[2400 rows x 2 columns]"
            ],
            "text/html": [
              "\n",
              "  <div id=\"df-c0c84937-938f-423d-b994-0dbd7ffa6e74\">\n",
              "    <div class=\"colab-df-container\">\n",
              "      <div>\n",
              "<style scoped>\n",
              "    .dataframe tbody tr th:only-of-type {\n",
              "        vertical-align: middle;\n",
              "    }\n",
              "\n",
              "    .dataframe tbody tr th {\n",
              "        vertical-align: top;\n",
              "    }\n",
              "\n",
              "    .dataframe thead th {\n",
              "        text-align: right;\n",
              "    }\n",
              "</style>\n",
              "<table border=\"1\" class=\"dataframe\">\n",
              "  <thead>\n",
              "    <tr style=\"text-align: right;\">\n",
              "      <th></th>\n",
              "      <th>Filepath</th>\n",
              "      <th>Label</th>\n",
              "    </tr>\n",
              "  </thead>\n",
              "  <tbody>\n",
              "    <tr>\n",
              "      <th>0</th>\n",
              "      <td>/content/ECG_Image_data/test/Q/267.jpg</td>\n",
              "      <td>Q</td>\n",
              "    </tr>\n",
              "    <tr>\n",
              "      <th>1</th>\n",
              "      <td>/content/ECG_Image_data/test/F/140.jpg</td>\n",
              "      <td>F</td>\n",
              "    </tr>\n",
              "    <tr>\n",
              "      <th>2</th>\n",
              "      <td>/content/ECG_Image_data/test/Q/1210.jpg</td>\n",
              "      <td>Q</td>\n",
              "    </tr>\n",
              "    <tr>\n",
              "      <th>3</th>\n",
              "      <td>/content/ECG_Image_data/test/V/1256.jpg</td>\n",
              "      <td>V</td>\n",
              "    </tr>\n",
              "    <tr>\n",
              "      <th>4</th>\n",
              "      <td>/content/ECG_Image_data/test/S/463.jpg</td>\n",
              "      <td>S</td>\n",
              "    </tr>\n",
              "    <tr>\n",
              "      <th>...</th>\n",
              "      <td>...</td>\n",
              "      <td>...</td>\n",
              "    </tr>\n",
              "    <tr>\n",
              "      <th>2395</th>\n",
              "      <td>/content/ECG_Image_data/test/S/341.jpg</td>\n",
              "      <td>S</td>\n",
              "    </tr>\n",
              "    <tr>\n",
              "      <th>2396</th>\n",
              "      <td>/content/ECG_Image_data/test/S/185.jpg</td>\n",
              "      <td>S</td>\n",
              "    </tr>\n",
              "    <tr>\n",
              "      <th>2397</th>\n",
              "      <td>/content/ECG_Image_data/test/S/464.jpg</td>\n",
              "      <td>S</td>\n",
              "    </tr>\n",
              "    <tr>\n",
              "      <th>2398</th>\n",
              "      <td>/content/ECG_Image_data/test/N/4600.jpg</td>\n",
              "      <td>N</td>\n",
              "    </tr>\n",
              "    <tr>\n",
              "      <th>2399</th>\n",
              "      <td>/content/ECG_Image_data/test/S/11.jpg</td>\n",
              "      <td>S</td>\n",
              "    </tr>\n",
              "  </tbody>\n",
              "</table>\n",
              "<p>2400 rows × 2 columns</p>\n",
              "</div>\n",
              "      <button class=\"colab-df-convert\" onclick=\"convertToInteractive('df-c0c84937-938f-423d-b994-0dbd7ffa6e74')\"\n",
              "              title=\"Convert this dataframe to an interactive table.\"\n",
              "              style=\"display:none;\">\n",
              "        \n",
              "  <svg xmlns=\"http://www.w3.org/2000/svg\" height=\"24px\"viewBox=\"0 0 24 24\"\n",
              "       width=\"24px\">\n",
              "    <path d=\"M0 0h24v24H0V0z\" fill=\"none\"/>\n",
              "    <path d=\"M18.56 5.44l.94 2.06.94-2.06 2.06-.94-2.06-.94-.94-2.06-.94 2.06-2.06.94zm-11 1L8.5 8.5l.94-2.06 2.06-.94-2.06-.94L8.5 2.5l-.94 2.06-2.06.94zm10 10l.94 2.06.94-2.06 2.06-.94-2.06-.94-.94-2.06-.94 2.06-2.06.94z\"/><path d=\"M17.41 7.96l-1.37-1.37c-.4-.4-.92-.59-1.43-.59-.52 0-1.04.2-1.43.59L10.3 9.45l-7.72 7.72c-.78.78-.78 2.05 0 2.83L4 21.41c.39.39.9.59 1.41.59.51 0 1.02-.2 1.41-.59l7.78-7.78 2.81-2.81c.8-.78.8-2.07 0-2.86zM5.41 20L4 18.59l7.72-7.72 1.47 1.35L5.41 20z\"/>\n",
              "  </svg>\n",
              "      </button>\n",
              "      \n",
              "  <style>\n",
              "    .colab-df-container {\n",
              "      display:flex;\n",
              "      flex-wrap:wrap;\n",
              "      gap: 12px;\n",
              "    }\n",
              "\n",
              "    .colab-df-convert {\n",
              "      background-color: #E8F0FE;\n",
              "      border: none;\n",
              "      border-radius: 50%;\n",
              "      cursor: pointer;\n",
              "      display: none;\n",
              "      fill: #1967D2;\n",
              "      height: 32px;\n",
              "      padding: 0 0 0 0;\n",
              "      width: 32px;\n",
              "    }\n",
              "\n",
              "    .colab-df-convert:hover {\n",
              "      background-color: #E2EBFA;\n",
              "      box-shadow: 0px 1px 2px rgba(60, 64, 67, 0.3), 0px 1px 3px 1px rgba(60, 64, 67, 0.15);\n",
              "      fill: #174EA6;\n",
              "    }\n",
              "\n",
              "    [theme=dark] .colab-df-convert {\n",
              "      background-color: #3B4455;\n",
              "      fill: #D2E3FC;\n",
              "    }\n",
              "\n",
              "    [theme=dark] .colab-df-convert:hover {\n",
              "      background-color: #434B5C;\n",
              "      box-shadow: 0px 1px 3px 1px rgba(0, 0, 0, 0.15);\n",
              "      filter: drop-shadow(0px 1px 2px rgba(0, 0, 0, 0.3));\n",
              "      fill: #FFFFFF;\n",
              "    }\n",
              "  </style>\n",
              "\n",
              "      <script>\n",
              "        const buttonEl =\n",
              "          document.querySelector('#df-c0c84937-938f-423d-b994-0dbd7ffa6e74 button.colab-df-convert');\n",
              "        buttonEl.style.display =\n",
              "          google.colab.kernel.accessAllowed ? 'block' : 'none';\n",
              "\n",
              "        async function convertToInteractive(key) {\n",
              "          const element = document.querySelector('#df-c0c84937-938f-423d-b994-0dbd7ffa6e74');\n",
              "          const dataTable =\n",
              "            await google.colab.kernel.invokeFunction('convertToInteractive',\n",
              "                                                     [key], {});\n",
              "          if (!dataTable) return;\n",
              "\n",
              "          const docLinkHtml = 'Like what you see? Visit the ' +\n",
              "            '<a target=\"_blank\" href=https://colab.research.google.com/notebooks/data_table.ipynb>data table notebook</a>'\n",
              "            + ' to learn more about interactive tables.';\n",
              "          element.innerHTML = '';\n",
              "          dataTable['output_type'] = 'display_data';\n",
              "          await google.colab.output.renderOutput(dataTable, element);\n",
              "          const docLink = document.createElement('div');\n",
              "          docLink.innerHTML = docLinkHtml;\n",
              "          element.appendChild(docLink);\n",
              "        }\n",
              "      </script>\n",
              "    </div>\n",
              "  </div>\n",
              "  "
            ]
          },
          "metadata": {},
          "execution_count": 37
        }
      ]
    },
    {
      "cell_type": "code",
      "source": [
        "from keras.utils import img_to_array,load_img\n",
        "img = load_img(dataframe_test['Filepath'].values[1])\n",
        "plt.imshow(img)\n",
        "plt.axis(\"on\")\n",
        "plt.show()"
      ],
      "metadata": {
        "colab": {
          "base_uri": "https://localhost:8080/",
          "height": 269
        },
        "id": "SYq6-elcKlnm",
        "outputId": "02ee4620-19bb-4316-c70f-ff9bd8abc588"
      },
      "execution_count": 39,
      "outputs": [
        {
          "output_type": "display_data",
          "data": {
            "text/plain": [
              "<Figure size 432x288 with 1 Axes>"
            ],
            "image/png": "[encoded data removed]"
          },
          "metadata": {
            "needs_background": "light"
          }
        }
      ]
    },
    {
      "cell_type": "code",
      "source": [
        "array_image = img_to_array(img)\n",
        "print(array_image.shape)"
      ],
      "metadata": {
        "colab": {
          "base_uri": "https://localhost:8080/"
        },
        "id": "X7fm1GuqKllq",
        "outputId": "cf9fe8e2-f654-479a-a83e-e182275870c5"
      },
      "execution_count": 40,
      "outputs": [
        {
          "output_type": "stream",
          "name": "stdout",
          "text": [
            "(288, 432, 3)\n"
          ]
        }
      ]
    },
    {
      "cell_type": "code",
      "source": [
        "train_datagen = tf.keras.preprocessing.image.ImageDataGenerator(\n",
        "    #preprocessing_function=tf.keras.applications.vgg16.preprocess_input,\n",
        "    rescale=1./255,\n",
        "    #shear_range = 0.2,\n",
        "    #horizontal_flip=True,\n",
        "    #zoom_range = 0.2,\n",
        "    validation_split=0.25\n",
        "  \n",
        ")\n",
        "\n",
        "test_datagen = tf.keras.preprocessing.image.ImageDataGenerator(\n",
        "    #preprocessing_function=tf.keras.applications.vgg16.preprocess_input,\n",
        "    rescale=1./255\n",
        ")"
      ],
      "metadata": {
        "id": "22TL99zFKljO"
      },
      "execution_count": 41,
      "outputs": []
    },
    {
      "cell_type": "code",
      "source": [
        "train_generator = train_datagen.flow_from_dataframe(\n",
        "    dataframe=dataframe_train,\n",
        "    x_col='Filepath',\n",
        "    y_col='Label',\n",
        "    target_size=(224, 224),\n",
        "    color_mode='rgb',\n",
        "    class_mode='categorical',\n",
        "    batch_size=32,\n",
        "    shuffle=True,\n",
        "    seed=42,\n",
        "    subset='training'\n",
        ")\n",
        "\n",
        "val_generator = train_datagen.flow_from_dataframe(\n",
        "    dataframe=dataframe_train,\n",
        "    x_col='Filepath',\n",
        "    y_col='Label',\n",
        "    target_size=(224, 224),\n",
        "    color_mode='rgb',\n",
        "    class_mode='categorical',\n",
        "    batch_size=32,\n",
        "    shuffle=True,\n",
        "    seed=42,\n",
        "    subset='validation'\n",
        ")\n",
        "test_generator = test_datagen.flow_from_dataframe(\n",
        "    dataframe=dataframe_test,\n",
        "    x_col='Filepath',\n",
        "    y_col='Label',\n",
        "    target_size=(224, 224),\n",
        "    color_mode='rgb',\n",
        "    class_mode='categorical',\n",
        "    batch_size=32,\n",
        "    shuffle=False\n",
        ")"
      ],
      "metadata": {
        "colab": {
          "base_uri": "https://localhost:8080/"
        },
        "id": "cN4-rgx0KlhY",
        "outputId": "9b113289-aa91-498e-df60-7040711215fa"
      },
      "execution_count": 42,
      "outputs": [
        {
          "output_type": "stream",
          "name": "stdout",
          "text": [
            "Found 7200 validated image filenames belonging to 6 classes.\n",
            "Found 2400 validated image filenames belonging to 6 classes.\n",
            "Found 2400 validated image filenames belonging to 6 classes.\n"
          ]
        }
      ]
    },
    {
      "cell_type": "code",
      "source": [
        "test_generator.class_indices"
      ],
      "metadata": {
        "colab": {
          "base_uri": "https://localhost:8080/"
        },
        "id": "URJj_qmUKlfj",
        "outputId": "a16106b8-9a8e-440b-ce74-99dcd97c897c"
      },
      "execution_count": 43,
      "outputs": [
        {
          "output_type": "execute_result",
          "data": {
            "text/plain": [
              "{'F': 0, 'M': 1, 'N': 2, 'Q': 3, 'S': 4, 'V': 5}"
            ]
          },
          "metadata": {},
          "execution_count": 43
        }
      ]
    },
    {
      "cell_type": "code",
      "source": [
        "plt.imshow(test_generator[0][0][3])"
      ],
      "metadata": {
        "colab": {
          "base_uri": "https://localhost:8080/",
          "height": 287
        },
        "id": "8uGTHXz7KlcD",
        "outputId": "e1b7bca0-4d34-4151-a0cc-2a3a13263f80"
      },
      "execution_count": 44,
      "outputs": [
        {
          "output_type": "execute_result",
          "data": {
            "text/plain": [
              "<matplotlib.image.AxesImage at 0x7ffa24672d90>"
            ]
          },
          "metadata": {},
          "execution_count": 44
        },
        {
          "output_type": "display_data",
          "data": {
            "text/plain": [
              "<Figure size 432x288 with 1 Axes>"
            ],
            "image/png": "[encoded data removed]"
          },
          "metadata": {
            "needs_background": "light"
          }
        }
      ]
    },
    {
      "cell_type": "code",
      "source": [
        "folders=glob('/content/ECG_Image_data/test/*')\n",
        "folders"
      ],
      "metadata": {
        "colab": {
          "base_uri": "https://localhost:8080/"
        },
        "id": "HJxFBH43KlaD",
        "outputId": "924f9313-2a63-4d71-8824-238588bdf85b"
      },
      "execution_count": 45,
      "outputs": [
        {
          "output_type": "execute_result",
          "data": {
            "text/plain": [
              "['/content/ECG_Image_data/test/N',\n",
              " '/content/ECG_Image_data/test/F',\n",
              " '/content/ECG_Image_data/test/S',\n",
              " '/content/ECG_Image_data/test/Q',\n",
              " '/content/ECG_Image_data/test/M',\n",
              " '/content/ECG_Image_data/test/V']"
            ]
          },
          "metadata": {},
          "execution_count": 45
        }
      ]
    },
    {
      "cell_type": "code",
      "source": [
        "IMAGE_SIZE = [224, 224]\n",
        "vgg = VGG16(input_shape=IMAGE_SIZE + [3], weights='imagenet', include_top=False)"
      ],
      "metadata": {
        "colab": {
          "base_uri": "https://localhost:8080/"
        },
        "id": "JXiVmULEKlYO",
        "outputId": "07c2789d-0be1-4bba-ba30-06065c14afa2"
      },
      "execution_count": 46,
      "outputs": [
        {
          "output_type": "stream",
          "name": "stdout",
          "text": [
            "Downloading data from https://storage.googleapis.com/tensorflow/keras-applications/vgg16/vgg16_weights_tf_dim_ordering_tf_kernels_notop.h5\n",
            "58889256/58889256 [==============================] - 3s 0us/step\n"
          ]
        }
      ]
    },
    {
      "cell_type": "code",
      "source": [
        "for layer in vgg.layers:\n",
        "  layer.trainable = False"
      ],
      "metadata": {
        "id": "opu1CHgGKlWg"
      },
      "execution_count": 47,
      "outputs": []
    },
    {
      "cell_type": "code",
      "source": [
        "x = Flatten()(vgg.output)"
      ],
      "metadata": {
        "id": "yokXpjEmKlUp"
      },
      "execution_count": 48,
      "outputs": []
    },
    {
      "cell_type": "code",
      "source": [
        "prediction = Dense(len(folders), activation='softmax')(x)"
      ],
      "metadata": {
        "id": "07EWRdZYKlSo"
      },
      "execution_count": 49,
      "outputs": []
    },
    {
      "cell_type": "code",
      "source": [
        "vgg_model = Model(inputs=vgg.input, outputs=prediction)\n",
        "\n",
        "vgg_model.summary()"
      ],
      "metadata": {
        "colab": {
          "base_uri": "https://localhost:8080/"
        },
        "id": "qoBwIhSDKlRB",
        "outputId": "3492acc9-dc18-4590-9728-8fd5abda50de"
      },
      "execution_count": 50,
      "outputs": [
        {
          "output_type": "stream",
          "name": "stdout",
          "text": [
            "Model: \"model\"\n",
            "_________________________________________________________________\n",
            " Layer (type)                Output Shape              Param #   \n",
            "=================================================================\n",
            " input_1 (InputLayer)        [(None, 224, 224, 3)]     0         \n",
            "                                                                 \n",
            " block1_conv1 (Conv2D)       (None, 224, 224, 64)      1792      \n",
            "                                                                 \n",
            " block1_conv2 (Conv2D)       (None, 224, 224, 64)      36928     \n",
            "                                                                 \n",
            " block1_pool (MaxPooling2D)  (None, 112, 112, 64)      0         \n",
            "                                                                 \n",
            " block2_conv1 (Conv2D)       (None, 112, 112, 128)     73856     \n",
            "                                                                 \n",
            " block2_conv2 (Conv2D)       (None, 112, 112, 128)     147584    \n",
            "                                                                 \n",
            " block2_pool (MaxPooling2D)  (None, 56, 56, 128)       0         \n",
            "                                                                 \n",
            " block3_conv1 (Conv2D)       (None, 56, 56, 256)       295168    \n",
            "                                                                 \n",
            " block3_conv2 (Conv2D)       (None, 56, 56, 256)       590080    \n",
            "                                                                 \n",
            " block3_conv3 (Conv2D)       (None, 56, 56, 256)       590080    \n",
            "                                                                 \n",
            " block3_pool (MaxPooling2D)  (None, 28, 28, 256)       0         \n",
            "                                                                 \n",
            " block4_conv1 (Conv2D)       (None, 28, 28, 512)       1180160   \n",
            "                                                                 \n",
            " block4_conv2 (Conv2D)       (None, 28, 28, 512)       2359808   \n",
            "                                                                 \n",
            " block4_conv3 (Conv2D)       (None, 28, 28, 512)       2359808   \n",
            "                                                                 \n",
            " block4_pool (MaxPooling2D)  (None, 14, 14, 512)       0         \n",
            "                                                                 \n",
            " block5_conv1 (Conv2D)       (None, 14, 14, 512)       2359808   \n",
            "                                                                 \n",
            " block5_conv2 (Conv2D)       (None, 14, 14, 512)       2359808   \n",
            "                                                                 \n",
            " block5_conv3 (Conv2D)       (None, 14, 14, 512)       2359808   \n",
            "                                                                 \n",
            " block5_pool (MaxPooling2D)  (None, 7, 7, 512)         0         \n",
            "                                                                 \n",
            " flatten (Flatten)           (None, 25088)             0         \n",
            "                                                                 \n",
            " dense (Dense)               (None, 6)                 150534    \n",
            "                                                                 \n",
            "=================================================================\n",
            "Total params: 14,865,222\n",
            "Trainable params: 150,534\n",
            "Non-trainable params: 14,714,688\n",
            "_________________________________________________________________\n"
          ]
        }
      ]
    },
    {
      "cell_type": "code",
      "source": [
        "import keras\n",
        "checkpoint = keras.callbacks.ModelCheckpoint(\n",
        "    filepath='best_model.h5',\n",
        "    save_weights_only=False,\n",
        "    monitor='val_accuracy',\n",
        "    mode='max',\n",
        "    save_best_only=True,\n",
        "    verbose=1)"
      ],
      "metadata": {
        "id": "SDb7oaEcKlPO"
      },
      "execution_count": 51,
      "outputs": []
    },
    {
      "cell_type": "code",
      "source": [
        "vgg_model.compile(\n",
        "    optimizer='adam',\n",
        "    loss='categorical_crossentropy',\n",
        "    metrics=['accuracy']\n",
        ")"
      ],
      "metadata": {
        "id": "m5J2jZ8hKlNY"
      },
      "execution_count": 52,
      "outputs": []
    },
    {
      "cell_type": "code",
      "source": [
        "result=vgg_model.fit(\n",
        "    train_generator,\n",
        "    validation_data=val_generator,\n",
        "    epochs=30,\n",
        "    steps_per_epoch=len(train_generator),\n",
        "    validation_steps=len(val_generator),\n",
        "    callbacks=[checkpoint]\n",
        ")"
      ],
      "metadata": {
        "colab": {
          "base_uri": "https://localhost:8080/"
        },
        "id": "rVrzLRkjKlL3",
        "outputId": "86c3f8a7-bbdc-4b47-858c-bbabb865515e"
      },
      "execution_count": 53,
      "outputs": [
        {
          "output_type": "stream",
          "name": "stdout",
          "text": [
            "Epoch 1/30\n",
            "225/225 [==============================] - ETA: 0s - loss: 0.6950 - accuracy: 0.7501\n",
            "Epoch 1: val_accuracy improved from -inf to 0.79083, saving model to best_model.h5\n",
            "225/225 [==============================] - 54s 195ms/step - loss: 0.6950 - accuracy: 0.7501 - val_loss: 0.5573 - val_accuracy: 0.7908\n",
            "Epoch 2/30\n",
            "225/225 [==============================] - ETA: 0s - loss: 0.4000 - accuracy: 0.8633\n",
            "Epoch 2: val_accuracy improved from 0.79083 to 0.86625, saving model to best_model.h5\n",
            "225/225 [==============================] - 46s 204ms/step - loss: 0.4000 - accuracy: 0.8633 - val_loss: 0.3828 - val_accuracy: 0.8662\n",
            "Epoch 3/30\n",
            "225/225 [==============================] - ETA: 0s - loss: 0.3285 - accuracy: 0.8835\n",
            "Epoch 3: val_accuracy did not improve from 0.86625\n",
            "225/225 [==============================] - 47s 208ms/step - loss: 0.3285 - accuracy: 0.8835 - val_loss: 0.3989 - val_accuracy: 0.8517\n",
            "Epoch 4/30\n",
            "225/225 [==============================] - ETA: 0s - loss: 0.2970 - accuracy: 0.8910\n",
            "Epoch 4: val_accuracy did not improve from 0.86625\n",
            "225/225 [==============================] - 46s 202ms/step - loss: 0.2970 - accuracy: 0.8910 - val_loss: 0.4224 - val_accuracy: 0.8504\n",
            "Epoch 5/30\n",
            "225/225 [==============================] - ETA: 0s - loss: 0.2350 - accuracy: 0.9168\n",
            "Epoch 5: val_accuracy improved from 0.86625 to 0.87750, saving model to best_model.h5\n",
            "225/225 [==============================] - 46s 205ms/step - loss: 0.2350 - accuracy: 0.9168 - val_loss: 0.3402 - val_accuracy: 0.8775\n",
            "Epoch 6/30\n",
            "225/225 [==============================] - ETA: 0s - loss: 0.2117 - accuracy: 0.9239\n",
            "Epoch 6: val_accuracy improved from 0.87750 to 0.87792, saving model to best_model.h5\n",
            "225/225 [==============================] - 47s 208ms/step - loss: 0.2117 - accuracy: 0.9239 - val_loss: 0.3271 - val_accuracy: 0.8779\n",
            "Epoch 7/30\n",
            "225/225 [==============================] - ETA: 0s - loss: 0.1662 - accuracy: 0.9439\n",
            "Epoch 7: val_accuracy improved from 0.87792 to 0.88708, saving model to best_model.h5\n",
            "225/225 [==============================] - 46s 203ms/step - loss: 0.1662 - accuracy: 0.9439 - val_loss: 0.3114 - val_accuracy: 0.8871\n",
            "Epoch 8/30\n",
            "225/225 [==============================] - ETA: 0s - loss: 0.1600 - accuracy: 0.9464\n",
            "Epoch 8: val_accuracy improved from 0.88708 to 0.89750, saving model to best_model.h5\n",
            "225/225 [==============================] - 46s 205ms/step - loss: 0.1600 - accuracy: 0.9464 - val_loss: 0.2936 - val_accuracy: 0.8975\n",
            "Epoch 9/30\n",
            "225/225 [==============================] - ETA: 0s - loss: 0.1636 - accuracy: 0.9424\n",
            "Epoch 9: val_accuracy did not improve from 0.89750\n",
            "225/225 [==============================] - 46s 203ms/step - loss: 0.1636 - accuracy: 0.9424 - val_loss: 0.3074 - val_accuracy: 0.8913\n",
            "Epoch 10/30\n",
            "225/225 [==============================] - ETA: 0s - loss: 0.1307 - accuracy: 0.9546\n",
            "Epoch 10: val_accuracy improved from 0.89750 to 0.90458, saving model to best_model.h5\n",
            "225/225 [==============================] - 46s 204ms/step - loss: 0.1307 - accuracy: 0.9546 - val_loss: 0.2797 - val_accuracy: 0.9046\n",
            "Epoch 11/30\n",
            "225/225 [==============================] - ETA: 0s - loss: 0.1303 - accuracy: 0.9554\n",
            "Epoch 11: val_accuracy did not improve from 0.90458\n",
            "225/225 [==============================] - 46s 204ms/step - loss: 0.1303 - accuracy: 0.9554 - val_loss: 0.3603 - val_accuracy: 0.8671\n",
            "Epoch 12/30\n",
            "225/225 [==============================] - ETA: 0s - loss: 0.1247 - accuracy: 0.9560\n",
            "Epoch 12: val_accuracy did not improve from 0.90458\n",
            "225/225 [==============================] - 46s 203ms/step - loss: 0.1247 - accuracy: 0.9560 - val_loss: 0.2838 - val_accuracy: 0.9025\n",
            "Epoch 13/30\n",
            "225/225 [==============================] - ETA: 0s - loss: 0.1093 - accuracy: 0.9625\n",
            "Epoch 13: val_accuracy improved from 0.90458 to 0.91000, saving model to best_model.h5\n",
            "225/225 [==============================] - 46s 205ms/step - loss: 0.1093 - accuracy: 0.9625 - val_loss: 0.2446 - val_accuracy: 0.9100\n",
            "Epoch 14/30\n",
            "225/225 [==============================] - ETA: 0s - loss: 0.1096 - accuracy: 0.9624\n",
            "Epoch 14: val_accuracy did not improve from 0.91000\n",
            "225/225 [==============================] - 46s 204ms/step - loss: 0.1096 - accuracy: 0.9624 - val_loss: 0.2684 - val_accuracy: 0.9033\n",
            "Epoch 15/30\n",
            "225/225 [==============================] - ETA: 0s - loss: 0.1099 - accuracy: 0.9624\n",
            "Epoch 15: val_accuracy did not improve from 0.91000\n",
            "225/225 [==============================] - 46s 203ms/step - loss: 0.1099 - accuracy: 0.9624 - val_loss: 0.2936 - val_accuracy: 0.9004\n",
            "Epoch 16/30\n",
            "225/225 [==============================] - ETA: 0s - loss: 0.0938 - accuracy: 0.9683\n",
            "Epoch 16: val_accuracy did not improve from 0.91000\n",
            "225/225 [==============================] - 46s 204ms/step - loss: 0.0938 - accuracy: 0.9683 - val_loss: 0.2543 - val_accuracy: 0.9062\n",
            "Epoch 17/30\n",
            "225/225 [==============================] - ETA: 0s - loss: 0.0955 - accuracy: 0.9697\n",
            "Epoch 17: val_accuracy did not improve from 0.91000\n",
            "225/225 [==============================] - 46s 204ms/step - loss: 0.0955 - accuracy: 0.9697 - val_loss: 0.3266 - val_accuracy: 0.8913\n",
            "Epoch 18/30\n",
            "225/225 [==============================] - ETA: 0s - loss: 0.0885 - accuracy: 0.9722\n",
            "Epoch 18: val_accuracy did not improve from 0.91000\n",
            "225/225 [==============================] - 46s 203ms/step - loss: 0.0885 - accuracy: 0.9722 - val_loss: 0.3216 - val_accuracy: 0.8946\n",
            "Epoch 19/30\n",
            "225/225 [==============================] - ETA: 0s - loss: 0.0776 - accuracy: 0.9742\n",
            "Epoch 19: val_accuracy did not improve from 0.91000\n",
            "225/225 [==============================] - 47s 207ms/step - loss: 0.0776 - accuracy: 0.9742 - val_loss: 0.2661 - val_accuracy: 0.9071\n",
            "Epoch 20/30\n",
            "225/225 [==============================] - ETA: 0s - loss: 0.0789 - accuracy: 0.9750\n",
            "Epoch 20: val_accuracy did not improve from 0.91000\n",
            "225/225 [==============================] - 45s 202ms/step - loss: 0.0789 - accuracy: 0.9750 - val_loss: 0.3871 - val_accuracy: 0.8858\n",
            "Epoch 21/30\n",
            "225/225 [==============================] - ETA: 0s - loss: 0.0774 - accuracy: 0.9737\n",
            "Epoch 21: val_accuracy improved from 0.91000 to 0.91750, saving model to best_model.h5\n",
            "225/225 [==============================] - 46s 206ms/step - loss: 0.0774 - accuracy: 0.9737 - val_loss: 0.2463 - val_accuracy: 0.9175\n",
            "Epoch 22/30\n",
            "225/225 [==============================] - ETA: 0s - loss: 0.0880 - accuracy: 0.9675\n",
            "Epoch 22: val_accuracy improved from 0.91750 to 0.91917, saving model to best_model.h5\n",
            "225/225 [==============================] - 46s 204ms/step - loss: 0.0880 - accuracy: 0.9675 - val_loss: 0.2481 - val_accuracy: 0.9192\n",
            "Epoch 23/30\n",
            "225/225 [==============================] - ETA: 0s - loss: 0.0562 - accuracy: 0.9819\n",
            "Epoch 23: val_accuracy did not improve from 0.91917\n",
            "225/225 [==============================] - 47s 208ms/step - loss: 0.0562 - accuracy: 0.9819 - val_loss: 0.3268 - val_accuracy: 0.9025\n",
            "Epoch 24/30\n",
            "225/225 [==============================] - ETA: 0s - loss: 0.0612 - accuracy: 0.9807\n",
            "Epoch 24: val_accuracy did not improve from 0.91917\n",
            "225/225 [==============================] - 46s 203ms/step - loss: 0.0612 - accuracy: 0.9807 - val_loss: 0.2824 - val_accuracy: 0.9158\n",
            "Epoch 25/30\n",
            "225/225 [==============================] - ETA: 0s - loss: 0.0663 - accuracy: 0.9781\n",
            "Epoch 25: val_accuracy improved from 0.91917 to 0.92375, saving model to best_model.h5\n",
            "225/225 [==============================] - 46s 204ms/step - loss: 0.0663 - accuracy: 0.9781 - val_loss: 0.2380 - val_accuracy: 0.9237\n",
            "Epoch 26/30\n",
            "225/225 [==============================] - ETA: 0s - loss: 0.0795 - accuracy: 0.9721\n",
            "Epoch 26: val_accuracy did not improve from 0.92375\n",
            "225/225 [==============================] - 46s 204ms/step - loss: 0.0795 - accuracy: 0.9721 - val_loss: 0.3089 - val_accuracy: 0.9087\n",
            "Epoch 27/30\n",
            "225/225 [==============================] - ETA: 0s - loss: 0.0514 - accuracy: 0.9832\n",
            "Epoch 27: val_accuracy did not improve from 0.92375\n",
            "225/225 [==============================] - 46s 203ms/step - loss: 0.0514 - accuracy: 0.9832 - val_loss: 0.2688 - val_accuracy: 0.9162\n",
            "Epoch 28/30\n",
            "225/225 [==============================] - ETA: 0s - loss: 0.0519 - accuracy: 0.9835\n",
            "Epoch 28: val_accuracy did not improve from 0.92375\n",
            "225/225 [==============================] - 46s 204ms/step - loss: 0.0519 - accuracy: 0.9835 - val_loss: 0.3224 - val_accuracy: 0.9083\n",
            "Epoch 29/30\n",
            "225/225 [==============================] - ETA: 0s - loss: 0.0405 - accuracy: 0.9907\n",
            "Epoch 29: val_accuracy did not improve from 0.92375\n",
            "225/225 [==============================] - 46s 203ms/step - loss: 0.0405 - accuracy: 0.9907 - val_loss: 0.3304 - val_accuracy: 0.8983\n",
            "Epoch 30/30\n",
            "225/225 [==============================] - ETA: 0s - loss: 0.0464 - accuracy: 0.9860\n",
            "Epoch 30: val_accuracy did not improve from 0.92375\n",
            "225/225 [==============================] - 46s 204ms/step - loss: 0.0464 - accuracy: 0.9860 - val_loss: 0.2840 - val_accuracy: 0.9158\n"
          ]
        }
      ]
    },
    {
      "cell_type": "code",
      "source": [
        "vgg_model.save('best.h5')"
      ],
      "metadata": {
        "id": "vdbywbVFKlJl"
      },
      "execution_count": 54,
      "outputs": []
    },
    {
      "cell_type": "code",
      "source": [
        "from keras.models import load_model\n",
        "best_model1=load_model('/content/best.h5')\n",
        "results1 = best_model1.evaluate(test_generator, verbose=0)\n",
        "\n",
        "print(\"    Test Loss: {:.5f}\".format(results1[0]))\n",
        "print(\"Test Accuracy: {:.2f}%\".format(results1[1] * 100))"
      ],
      "metadata": {
        "id": "PSf_hM3tKlFp",
        "colab": {
          "base_uri": "https://localhost:8080/"
        },
        "outputId": "4819eca8-2ace-49ff-9c48-14650b277efc"
      },
      "execution_count": 55,
      "outputs": [
        {
          "output_type": "stream",
          "name": "stdout",
          "text": [
            "    Test Loss: 0.39895\n",
            "Test Accuracy: 90.54%\n"
          ]
        }
      ]
    },
    {
      "cell_type": "code",
      "source": [
        "from keras.models import load_model\n",
        "best_model=load_model('/content/best_model.h5')\n",
        "results = best_model.evaluate(test_generator, verbose=0)\n",
        "\n",
        "print(\"    Test Loss: {:.5f}\".format(results[0]))\n",
        "print(\"Test Accuracy: {:.2f}%\".format(results[1] * 100))"
      ],
      "metadata": {
        "id": "Zy8gDr2fKkzn",
        "colab": {
          "base_uri": "https://localhost:8080/"
        },
        "outputId": "13252320-af97-47e9-f0bc-966b80a6e61e"
      },
      "execution_count": 56,
      "outputs": [
        {
          "output_type": "stream",
          "name": "stdout",
          "text": [
            "    Test Loss: 0.34835\n",
            "Test Accuracy: 91.17%\n"
          ]
        }
      ]
    },
    {
      "cell_type": "code",
      "source": [
        "import matplotlib.pyplot as plt\n",
        "\n",
        "plt.plot(result.history['loss'])\n",
        "plt.plot(result.history['val_loss'])\n",
        "plt.legend(['Training', 'Validation'])\n",
        "plt.title('Training and Validation losses')\n",
        "plt.xlabel('epoch')\n",
        "plt.ylabel('loss')"
      ],
      "metadata": {
        "id": "G2mJ5IPfKkw2",
        "colab": {
          "base_uri": "https://localhost:8080/",
          "height": 313
        },
        "outputId": "85c65494-f9bf-4eac-ec3f-e5d1b931c8c6"
      },
      "execution_count": 57,
      "outputs": [
        {
          "output_type": "execute_result",
          "data": {
            "text/plain": [
              "Text(0, 0.5, 'loss')"
            ]
          },
          "metadata": {},
          "execution_count": 57
        },
        {
          "output_type": "display_data",
          "data": {
            "text/plain": [
              "<Figure size 432x288 with 1 Axes>"
            ],
            "image/png": "[encoded data removed]"
          },
          "metadata": {
            "needs_background": "light"
          }
        }
      ]
    },
    {
      "cell_type": "code",
      "source": [
        "plt.plot(result.history['accuracy'])\n",
        "plt.plot(result.history['val_accuracy'])\n",
        "plt.legend(['Training', 'Validation'])\n",
        "plt.title('Training and Validation accuracy')\n",
        "plt.xlabel('epoch')\n",
        "plt.ylabel('accuracy')"
      ],
      "metadata": {
        "id": "aW8dSj2ZKkuP",
        "colab": {
          "base_uri": "https://localhost:8080/",
          "height": 313
        },
        "outputId": "e29ff812-d435-482b-dcc1-d29b9d16633c"
      },
      "execution_count": 58,
      "outputs": [
        {
          "output_type": "execute_result",
          "data": {
            "text/plain": [
              "Text(0, 0.5, 'accuracy')"
            ]
          },
          "metadata": {},
          "execution_count": 58
        },
        {
          "output_type": "display_data",
          "data": {
            "text/plain": [
              "<Figure size 432x288 with 1 Axes>"
            ],
            "image/png": "[encoded data removed]"
          },
          "metadata": {
            "needs_background": "light"
          }
        }
      ]
    },
    {
      "cell_type": "code",
      "source": [
        "y_pred = best_model.predict(test_generator)\n",
        "y_pred"
      ],
      "metadata": {
        "id": "UZOS1EENKkZ9",
        "colab": {
          "base_uri": "https://localhost:8080/"
        },
        "outputId": "9aa876bf-0bc2-4469-8af7-4bc35c2a3322"
      },
      "execution_count": 65,
      "outputs": [
        {
          "output_type": "stream",
          "name": "stdout",
          "text": [
            "75/75 [==============================] - 12s 155ms/step\n"
          ]
        },
        {
          "output_type": "execute_result",
          "data": {
            "text/plain": [
              "array([[6.73970226e-06, 1.37648472e-04, 5.79472668e-02, 5.29567339e-03,\n",
              "        9.36489582e-01, 1.23173188e-04],\n",
              "       [9.97949660e-01, 1.93373162e-05, 1.39216206e-03, 4.16823559e-06,\n",
              "        4.72546933e-04, 1.62157536e-04],\n",
              "       [5.81835405e-12, 6.21139698e-05, 3.66779193e-02, 7.91140337e-07,\n",
              "        9.62315381e-01, 9.43723076e-04],\n",
              "       ...,\n",
              "       [6.62282691e-04, 4.23325233e-08, 3.79216472e-05, 3.07834569e-07,\n",
              "        2.53406743e-05, 9.99274075e-01],\n",
              "       [1.16971515e-14, 6.50526345e-13, 1.85484286e-08, 9.99998569e-01,\n",
              "        4.29408642e-09, 1.40976522e-06],\n",
              "       [2.80179790e-09, 2.33972560e-06, 1.80827726e-06, 2.94062885e-10,\n",
              "        5.30950820e-06, 9.99990463e-01]], dtype=float32)"
            ]
          },
          "metadata": {},
          "execution_count": 65
        }
      ]
    },
    {
      "cell_type": "code",
      "source": [
        "y_pred = np.argmax(y_pred, axis=1)\n",
        "y_pred"
      ],
      "metadata": {
        "id": "odEuxLQkKkXa",
        "colab": {
          "base_uri": "https://localhost:8080/"
        },
        "outputId": "dae79200-433f-4d17-bb47-74b42295eb78"
      },
      "execution_count": 66,
      "outputs": [
        {
          "output_type": "execute_result",
          "data": {
            "text/plain": [
              "array([4, 0, 4, ..., 5, 3, 5])"
            ]
          },
          "metadata": {},
          "execution_count": 66
        }
      ]
    },
    {
      "cell_type": "code",
      "source": [
        "from sklearn.metrics import confusion_matrix, classification_report\n",
        "\n",
        "\n",
        "cm = confusion_matrix(test_generator.labels, y_pred)\n",
        "print(cm)\n",
        "print('classification report')\n",
        "print( classification_report(test_generator.labels, y_pred))"
      ],
      "metadata": {
        "id": "_OhStVzvKkWA",
        "colab": {
          "base_uri": "https://localhost:8080/"
        },
        "outputId": "dc97111a-65d1-4e65-d216-50c6c089a4a1"
      },
      "execution_count": 67,
      "outputs": [
        {
          "output_type": "stream",
          "name": "stdout",
          "text": [
            "[[355   6   5   0   4  30]\n",
            " [  1 368  20   2   4   5]\n",
            " [  4  24 336   1  23  12]\n",
            " [  1   0   0 394   3   2]\n",
            " [  1   8  23   1 359   8]\n",
            " [  6   5   0   2  11 376]]\n",
            "classification report\n",
            "              precision    recall  f1-score   support\n",
            "\n",
            "           0       0.96      0.89      0.92       400\n",
            "           1       0.90      0.92      0.91       400\n",
            "           2       0.88      0.84      0.86       400\n",
            "           3       0.98      0.98      0.98       400\n",
            "           4       0.89      0.90      0.89       400\n",
            "           5       0.87      0.94      0.90       400\n",
            "\n",
            "    accuracy                           0.91      2400\n",
            "   macro avg       0.91      0.91      0.91      2400\n",
            "weighted avg       0.91      0.91      0.91      2400\n",
            "\n"
          ]
        }
      ]
    },
    {
      "cell_type": "code",
      "source": [
        "import seaborn as sns\n",
        "f,ax = plt.subplots(figsize=(8, 8))\n",
        "sns.heatmap(cm, annot=True, linewidths=0.01,cmap=\"Oranges\",linecolor=\"gray\", fmt= '.1f',ax=ax)\n",
        "plt.xlabel(\"Predicted Label\")\n",
        "plt.ylabel(\"True Label\")\n",
        "plt.title(\"Confusion Matrix\")\n",
        "plt.show()"
      ],
      "metadata": {
        "id": "hfXAcVzCKkRv",
        "colab": {
          "base_uri": "https://localhost:8080/",
          "height": 513
        },
        "outputId": "52afa76b-9178-41dc-cf93-83f24d91444e"
      },
      "execution_count": 68,
      "outputs": [
        {
          "output_type": "display_data",
          "data": {
            "text/plain": [
              "<Figure size 576x576 with 2 Axes>"
            ],
            "image/png": "[encoded data removed]"
          },
          "metadata": {
            "needs_background": "light"
          }
        }
      ]
    },
    {
      "cell_type": "code",
      "source": [
        "class_map = dict([(v, k) for k, v in train_generator.class_indices.items()])\n",
        "print(class_map)"
      ],
      "metadata": {
        "id": "xGFESb_AKkOU",
        "colab": {
          "base_uri": "https://localhost:8080/"
        },
        "outputId": "82bb9cd7-eb6f-4c30-b8a3-2d5fd03c0127"
      },
      "execution_count": 69,
      "outputs": [
        {
          "output_type": "stream",
          "name": "stdout",
          "text": [
            "{0: 'F', 1: 'M', 2: 'N', 3: 'Q', 4: 'S', 5: 'V'}\n"
          ]
        }
      ]
    },
    {
      "cell_type": "code",
      "source": [
        "from tensorflow.keras.models import load_model\n",
        "from tensorflow.keras.preprocessing import image\n",
        "test_image_path = '/content/ECG_Image_data/test/S/115.jpg'\n",
        "\n",
        "def generate_predictions(test_image_path, actual_label):\n",
        "    \n",
        "    # 1. Load and preprocess the image\n",
        "    test_img = image.load_img(test_image_path, target_size=(224, 224))\n",
        "    test_img_arr = image.img_to_array(test_img)/255.0\n",
        "    test_img_input = test_img_arr.reshape((1, test_img_arr.shape[0], test_img_arr.shape[1], test_img_arr.shape[2]))\n",
        "\n",
        "    # 2. Make Predictions\n",
        "    predicted_label = np.argmax(best_model1.predict(test_img_input))\n",
        "    predicted_beat = class_map[predicted_label]\n",
        "    plt.figure(figsize=(4, 4))\n",
        "    plt.imshow(test_img_arr)\n",
        "    plt.title(\"Predicted Label: {}, Actual Label: {}\".format(predicted_beat, actual_label))\n",
        "    plt.grid()\n",
        "    plt.axis('off')\n",
        "    plt.show()\n",
        "\n",
        "# call the function\n",
        "generate_predictions(test_image_path, actual_label='S')"
      ],
      "metadata": {
        "id": "9blBn-XHKkMm",
        "colab": {
          "base_uri": "https://localhost:8080/",
          "height": 282
        },
        "outputId": "55c43314-eafb-47bd-b95f-478d9d2de0c3"
      },
      "execution_count": 70,
      "outputs": [
        {
          "output_type": "stream",
          "name": "stdout",
          "text": [
            "1/1 [==============================] - 0s 19ms/step\n"
          ]
        },
        {
          "output_type": "display_data",
          "data": {
            "text/plain": [
              "<Figure size 288x288 with 1 Axes>"
            ],
            "image/png": "[encoded data removed]"
          },
          "metadata": {
            "needs_background": "light"
          }
        }
      ]
    }
  ]
}